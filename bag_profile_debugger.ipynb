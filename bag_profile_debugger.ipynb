{
 "cells": [
  {
   "cell_type": "code",
   "execution_count": 1,
   "metadata": {},
   "outputs": [],
   "source": [
    "import matplotlib.pyplot as plt\n",
    "import numpy as np\n",
    "import pandas as pd\n",
    "from tqdm.notebook import tqdm\n",
    "\n",
    "from data_loader import data_label_split\n",
    "from data_loader import generate_data_set\n",
    "from data_loader import dmso_taxol_ProfileBag\n",
    "from data_loader import Xy_standardization\n",
    "from set_experiment import mini_noise_signal_cv\n",
    "from set_experiment import train\n",
    "from set_experiment import test\n",
    "\n",
    "from model import SmallDeepSet\n",
    "from model import FullDeepSet\n",
    "from model import profile_AttSet\n",
    "\n",
    "from sklearn.linear_model import LogisticRegression\n",
    "from sklearn.model_selection import cross_validate\n",
    "from sklearn.model_selection import StratifiedKFold\n",
    "from sklearn import datasets\n",
    "from sklearn.preprocessing import LabelEncoder\n",
    "from sklearn.metrics import confusion_matrix\n",
    "from sklearn.ensemble import RandomForestClassifier\n",
    "from sklearn.preprocessing import normalize\n",
    "\n",
    "import torch\n",
    "import torch.utils.data as D \n",
    "import torch.nn as nn\n",
    "from torch.autograd import Variable\n",
    "import torch.optim as optim\n",
    "import torch.nn.functional as F"
   ]
  },
  {
   "cell_type": "code",
   "execution_count": null,
   "metadata": {},
   "outputs": [],
   "source": [
    "mini_data = pd.read_csv(\"mini_moa_data_drop_NA.csv\",index_col=0)"
   ]
  },
  {
   "cell_type": "code",
   "execution_count": null,
   "metadata": {},
   "outputs": [],
   "source": [
    "sf_drop_NA_data = mini_data[[\"compound\", \"concentration\",\n",
    "                                \"moa\", \"row ID\", \"Iteration (#2)\", \"COND\",\n",
    "                               \"AreaShape_Area_Nuclei\", \"AreaShape_Compactness_Nuclei\"]]\n",
    "bagData = dmso_taxol_ProfileBag(mini_data, 60, 100, 10, 0.5, \"taxol\", \"DMSO\", 8,0.5)\n",
    "dataloader = D.DataLoader(bagData, batch_size=1, shuffle=True)"
   ]
  },
  {
   "cell_type": "code",
   "execution_count": null,
   "metadata": {},
   "outputs": [],
   "source": [
    "# X,y = data_label_split(mini_data)\n",
    "# data = pd.concat([pd.DataFrame(normalize(X), columns = X.columns), y], axis=1, sort = False )\n",
    "\n",
    "# data = Xy_standardization(mini_data)\n"
   ]
  },
  {
   "cell_type": "code",
   "execution_count": 5,
   "metadata": {},
   "outputs": [],
   "source": [
    "x = iter(dataloader).next()[0]#.shape"
   ]
  },
  {
   "cell_type": "code",
   "execution_count": 176,
   "metadata": {},
   "outputs": [],
   "source": [
    "y_prob, y_hat = model(x.float().cuda())"
   ]
  },
  {
   "cell_type": "markdown",
   "metadata": {},
   "source": [
    "# Deep Set Model"
   ]
  },
  {
   "cell_type": "code",
   "execution_count": 5,
   "metadata": {},
   "outputs": [],
   "source": [
    "# full_deepset = SmallDeepSet().cuda()\n",
    "# optimizer = optim.Adam(full_deepset.parameters(), lr=0.0005, betas=(0.9, 0.999), weight_decay=10e-5)"
   ]
  },
  {
   "cell_type": "code",
   "execution_count": 6,
   "metadata": {},
   "outputs": [],
   "source": [
    "start = 90\n",
    "end = 91\n",
    "data = mini_data\n",
    "num_bag = 100\n",
    "bag_size_mean = 100\n",
    "bag_size_std = 10\n",
    "treatment = \"taxol\"\n",
    "control = \"DMSO\"\n",
    "# model = FullDeepSet(\"mean\").cuda()\n",
    "# optimizer = optimizer\n",
    "splits = 3\n",
    "epochs = 20"
   ]
  },
  {
   "cell_type": "code",
   "execution_count": 11,
   "metadata": {},
   "outputs": [],
   "source": [
    "model = profile_AttSet(481).cuda()"
   ]
  },
  {
   "cell_type": "code",
   "execution_count": 8,
   "metadata": {},
   "outputs": [
    {
     "name": "stdout",
     "output_type": "stream",
     "text": [
      "41,594 total parameters.\n",
      "41,594 training parameters.\n"
     ]
    }
   ],
   "source": [
    "total_params = sum(p.numel() for p in model.parameters())\n",
    "print(f'{total_params:,} total parameters.')\n",
    "total_trainable_params = sum(\n",
    "    p.numel() for p in model.parameters() if p.requires_grad)\n",
    "print(f'{total_trainable_params:,} training parameters.')\n",
    "\n"
   ]
  },
  {
   "cell_type": "code",
   "execution_count": 85,
   "metadata": {},
   "outputs": [
    {
     "name": "stdout",
     "output_type": "stream",
     "text": [
      "139,905 total parameters.\n",
      "139,905 training parameters.\n"
     ]
    }
   ],
   "source": [
    "total_params = sum(p.numel() for p in model.parameters())\n",
    "print(f'{total_params:,} total parameters.')\n",
    "total_trainable_params = sum(\n",
    "    p.numel() for p in model.parameters() if p.requires_grad)\n",
    "print(f'{total_trainable_params:,} training parameters.')\n"
   ]
  },
  {
   "cell_type": "code",
   "execution_count": 12,
   "metadata": {},
   "outputs": [],
   "source": [
    "optimizer = optim.Adam(model.parameters(), lr=0.001, betas=(0.9, 0.999), weight_decay=10e-5)"
   ]
  },
  {
   "cell_type": "code",
   "execution_count": 13,
   "metadata": {},
   "outputs": [
    {
     "name": "stderr",
     "output_type": "stream",
     "text": [
      "training at different percent:   0%|          | 0/1 [00:00<?, ?it/s]\n",
      "3 fold cross validation: 0it [00:00, ?it/s]\u001b[A"
     ]
    },
    {
     "name": "stdout",
     "output_type": "stream",
     "text": [
      "Epoch: 0, Loss: 0.0771, Train error: 0.0095\n",
      "Epoch: 10, Loss: 0.0000, Train error: 0.0000\n",
      "At 0th fold testing: "
     ]
    },
    {
     "name": "stderr",
     "output_type": "stream",
     "text": [
      "\n",
      "3 fold cross validation: 1it [04:21, 261.11s/it]\u001b[A"
     ]
    },
    {
     "name": "stdout",
     "output_type": "stream",
     "text": [
      "Control accuracy:1.000, Treat accuracy:1.000, overally accuray:1.000\n",
      "Epoch: 0, Loss: 0.0000, Train error: 0.0000\n",
      "Epoch: 10, Loss: 0.0000, Train error: 0.0000\n",
      "At 1th fold testing: "
     ]
    },
    {
     "name": "stderr",
     "output_type": "stream",
     "text": [
      "\n",
      "3 fold cross validation: 2it [18:13, 432.46s/it]\u001b[A"
     ]
    },
    {
     "name": "stdout",
     "output_type": "stream",
     "text": [
      "Control accuracy:1.000, Treat accuracy:1.000, overally accuray:1.000\n",
      "Epoch: 0, Loss: 0.0000, Train error: 0.0000\n",
      "Epoch: 10, Loss: 0.0000, Train error: 0.0000\n",
      "At 2th fold testing: "
     ]
    },
    {
     "name": "stderr",
     "output_type": "stream",
     "text": [
      "\n",
      "3 fold cross validation: 3it [33:55, 678.47s/it]\u001b[A\n",
      "training at different percent:   0%|          | 0/1 [33:55<?, ?it/s]"
     ]
    },
    {
     "name": "stdout",
     "output_type": "stream",
     "text": [
      "Control accuracy:1.000, Treat accuracy:1.000, overally accuray:1.000\n"
     ]
    },
    {
     "name": "stderr",
     "output_type": "stream",
     "text": [
      "\n"
     ]
    }
   ],
   "source": [
    "results = mini_noise_signal_cv(start, end, data, num_bag,\n",
    "                               bag_size_mean, bag_size_std, treatment, control, 8,model, optimizer, splits, epochs)\n"
   ]
  },
  {
   "cell_type": "code",
   "execution_count": 246,
   "metadata": {},
   "outputs": [],
   "source": [
    "acc_control, acc_treat, pred_score_control, pred_score_treat = test(sf_deepset, dataloader)"
   ]
  },
  {
   "cell_type": "code",
   "execution_count": 253,
   "metadata": {},
   "outputs": [],
   "source": [
    "(mean_control_accuracy, std_control_accuracy, \n",
    "            mean_treat_accuracy, std_treat_accuracy, \n",
    "            mean_pred_score_control, std_pred_score_control,\n",
    "            mean_pred_score_treatment, std_pred_score_treatment) = sf_results"
   ]
  },
  {
   "cell_type": "code",
   "execution_count": 163,
   "metadata": {},
   "outputs": [
    {
     "data": {
      "text/html": [
       "<div>\n",
       "<style scoped>\n",
       "    .dataframe tbody tr th:only-of-type {\n",
       "        vertical-align: middle;\n",
       "    }\n",
       "\n",
       "    .dataframe tbody tr th {\n",
       "        vertical-align: top;\n",
       "    }\n",
       "\n",
       "    .dataframe thead th {\n",
       "        text-align: right;\n",
       "    }\n",
       "</style>\n",
       "<table border=\"1\" class=\"dataframe\">\n",
       "  <thead>\n",
       "    <tr style=\"text-align: right;\">\n",
       "      <th></th>\n",
       "      <th>mean_accuracy</th>\n",
       "      <th>std_accuracy</th>\n",
       "      <th>mean_control_accuracy</th>\n",
       "      <th>std_control_accuracy</th>\n",
       "      <th>mean_treat_accuracy</th>\n",
       "      <th>std_treat_accuracy</th>\n",
       "      <th>mean_pred_score_control</th>\n",
       "      <th>std_pred_score_control</th>\n",
       "      <th>mean_pred_score_treatment</th>\n",
       "      <th>std_pred_score_treatment</th>\n",
       "    </tr>\n",
       "  </thead>\n",
       "  <tbody>\n",
       "    <tr>\n",
       "      <th>0.05</th>\n",
       "      <td>0.5</td>\n",
       "      <td>0.500000</td>\n",
       "      <td>0.6</td>\n",
       "      <td>0.489898</td>\n",
       "      <td>0.4</td>\n",
       "      <td>0.489898</td>\n",
       "      <td>4.000000e-01</td>\n",
       "      <td>4.898979e-01</td>\n",
       "      <td>0.400000</td>\n",
       "      <td>4.898979e-01</td>\n",
       "    </tr>\n",
       "    <tr>\n",
       "      <th>0.10</th>\n",
       "      <td>0.5</td>\n",
       "      <td>0.500000</td>\n",
       "      <td>0.6</td>\n",
       "      <td>0.489898</td>\n",
       "      <td>0.4</td>\n",
       "      <td>0.489898</td>\n",
       "      <td>4.000000e-01</td>\n",
       "      <td>4.898979e-01</td>\n",
       "      <td>0.400000</td>\n",
       "      <td>4.898979e-01</td>\n",
       "    </tr>\n",
       "    <tr>\n",
       "      <th>0.15</th>\n",
       "      <td>0.5</td>\n",
       "      <td>0.500000</td>\n",
       "      <td>0.0</td>\n",
       "      <td>0.000000</td>\n",
       "      <td>1.0</td>\n",
       "      <td>0.000000</td>\n",
       "      <td>1.000000e+00</td>\n",
       "      <td>0.000000e+00</td>\n",
       "      <td>1.000000</td>\n",
       "      <td>0.000000e+00</td>\n",
       "    </tr>\n",
       "    <tr>\n",
       "      <th>0.20</th>\n",
       "      <td>0.8</td>\n",
       "      <td>0.400000</td>\n",
       "      <td>0.6</td>\n",
       "      <td>0.489898</td>\n",
       "      <td>1.0</td>\n",
       "      <td>0.000000</td>\n",
       "      <td>4.000000e-01</td>\n",
       "      <td>4.898979e-01</td>\n",
       "      <td>0.999897</td>\n",
       "      <td>1.587992e-03</td>\n",
       "    </tr>\n",
       "    <tr>\n",
       "      <th>0.25</th>\n",
       "      <td>1.0</td>\n",
       "      <td>0.000000</td>\n",
       "      <td>1.0</td>\n",
       "      <td>0.000000</td>\n",
       "      <td>1.0</td>\n",
       "      <td>0.000000</td>\n",
       "      <td>8.230050e-12</td>\n",
       "      <td>6.948790e-11</td>\n",
       "      <td>1.000000</td>\n",
       "      <td>0.000000e+00</td>\n",
       "    </tr>\n",
       "    <tr>\n",
       "      <th>0.30</th>\n",
       "      <td>1.0</td>\n",
       "      <td>0.000000</td>\n",
       "      <td>1.0</td>\n",
       "      <td>0.000000</td>\n",
       "      <td>1.0</td>\n",
       "      <td>0.000000</td>\n",
       "      <td>7.043163e-07</td>\n",
       "      <td>1.088598e-05</td>\n",
       "      <td>1.000000</td>\n",
       "      <td>0.000000e+00</td>\n",
       "    </tr>\n",
       "    <tr>\n",
       "      <th>0.35</th>\n",
       "      <td>1.0</td>\n",
       "      <td>0.000000</td>\n",
       "      <td>1.0</td>\n",
       "      <td>0.000000</td>\n",
       "      <td>1.0</td>\n",
       "      <td>0.000000</td>\n",
       "      <td>5.917253e-21</td>\n",
       "      <td>9.135044e-20</td>\n",
       "      <td>1.000000</td>\n",
       "      <td>0.000000e+00</td>\n",
       "    </tr>\n",
       "    <tr>\n",
       "      <th>0.40</th>\n",
       "      <td>0.7</td>\n",
       "      <td>0.458258</td>\n",
       "      <td>0.4</td>\n",
       "      <td>0.489898</td>\n",
       "      <td>1.0</td>\n",
       "      <td>0.000000</td>\n",
       "      <td>6.000000e-01</td>\n",
       "      <td>4.898979e-01</td>\n",
       "      <td>1.000000</td>\n",
       "      <td>0.000000e+00</td>\n",
       "    </tr>\n",
       "    <tr>\n",
       "      <th>0.45</th>\n",
       "      <td>1.0</td>\n",
       "      <td>0.000000</td>\n",
       "      <td>1.0</td>\n",
       "      <td>0.000000</td>\n",
       "      <td>1.0</td>\n",
       "      <td>0.000000</td>\n",
       "      <td>2.141690e-16</td>\n",
       "      <td>3.009280e-15</td>\n",
       "      <td>1.000000</td>\n",
       "      <td>0.000000e+00</td>\n",
       "    </tr>\n",
       "    <tr>\n",
       "      <th>0.50</th>\n",
       "      <td>1.0</td>\n",
       "      <td>0.000000</td>\n",
       "      <td>1.0</td>\n",
       "      <td>0.000000</td>\n",
       "      <td>1.0</td>\n",
       "      <td>0.000000</td>\n",
       "      <td>0.000000e+00</td>\n",
       "      <td>0.000000e+00</td>\n",
       "      <td>1.000000</td>\n",
       "      <td>0.000000e+00</td>\n",
       "    </tr>\n",
       "    <tr>\n",
       "      <th>0.55</th>\n",
       "      <td>1.0</td>\n",
       "      <td>0.000000</td>\n",
       "      <td>1.0</td>\n",
       "      <td>0.000000</td>\n",
       "      <td>1.0</td>\n",
       "      <td>0.000000</td>\n",
       "      <td>2.194839e-16</td>\n",
       "      <td>3.272069e-15</td>\n",
       "      <td>1.000000</td>\n",
       "      <td>0.000000e+00</td>\n",
       "    </tr>\n",
       "    <tr>\n",
       "      <th>0.60</th>\n",
       "      <td>1.0</td>\n",
       "      <td>0.000000</td>\n",
       "      <td>1.0</td>\n",
       "      <td>0.000000</td>\n",
       "      <td>1.0</td>\n",
       "      <td>0.000000</td>\n",
       "      <td>1.576037e-12</td>\n",
       "      <td>1.816092e-11</td>\n",
       "      <td>1.000000</td>\n",
       "      <td>0.000000e+00</td>\n",
       "    </tr>\n",
       "    <tr>\n",
       "      <th>0.65</th>\n",
       "      <td>1.0</td>\n",
       "      <td>0.000000</td>\n",
       "      <td>1.0</td>\n",
       "      <td>0.000000</td>\n",
       "      <td>1.0</td>\n",
       "      <td>0.000000</td>\n",
       "      <td>3.712921e-16</td>\n",
       "      <td>3.769280e-15</td>\n",
       "      <td>1.000000</td>\n",
       "      <td>0.000000e+00</td>\n",
       "    </tr>\n",
       "    <tr>\n",
       "      <th>0.70</th>\n",
       "      <td>1.0</td>\n",
       "      <td>0.000000</td>\n",
       "      <td>1.0</td>\n",
       "      <td>0.000000</td>\n",
       "      <td>1.0</td>\n",
       "      <td>0.000000</td>\n",
       "      <td>4.010367e-16</td>\n",
       "      <td>3.898945e-15</td>\n",
       "      <td>1.000000</td>\n",
       "      <td>0.000000e+00</td>\n",
       "    </tr>\n",
       "    <tr>\n",
       "      <th>0.75</th>\n",
       "      <td>1.0</td>\n",
       "      <td>0.000000</td>\n",
       "      <td>1.0</td>\n",
       "      <td>0.000000</td>\n",
       "      <td>1.0</td>\n",
       "      <td>0.000000</td>\n",
       "      <td>1.961429e-09</td>\n",
       "      <td>1.196651e-08</td>\n",
       "      <td>1.000000</td>\n",
       "      <td>0.000000e+00</td>\n",
       "    </tr>\n",
       "    <tr>\n",
       "      <th>0.80</th>\n",
       "      <td>1.0</td>\n",
       "      <td>0.000000</td>\n",
       "      <td>1.0</td>\n",
       "      <td>0.000000</td>\n",
       "      <td>1.0</td>\n",
       "      <td>0.000000</td>\n",
       "      <td>2.045314e-14</td>\n",
       "      <td>2.363158e-13</td>\n",
       "      <td>1.000000</td>\n",
       "      <td>0.000000e+00</td>\n",
       "    </tr>\n",
       "    <tr>\n",
       "      <th>0.85</th>\n",
       "      <td>1.0</td>\n",
       "      <td>0.000000</td>\n",
       "      <td>1.0</td>\n",
       "      <td>0.000000</td>\n",
       "      <td>1.0</td>\n",
       "      <td>0.000000</td>\n",
       "      <td>7.597913e-10</td>\n",
       "      <td>5.705087e-09</td>\n",
       "      <td>1.000000</td>\n",
       "      <td>0.000000e+00</td>\n",
       "    </tr>\n",
       "    <tr>\n",
       "      <th>0.90</th>\n",
       "      <td>1.0</td>\n",
       "      <td>0.000000</td>\n",
       "      <td>1.0</td>\n",
       "      <td>0.000000</td>\n",
       "      <td>1.0</td>\n",
       "      <td>0.000000</td>\n",
       "      <td>1.179681e-10</td>\n",
       "      <td>1.227545e-09</td>\n",
       "      <td>1.000000</td>\n",
       "      <td>0.000000e+00</td>\n",
       "    </tr>\n",
       "    <tr>\n",
       "      <th>0.95</th>\n",
       "      <td>1.0</td>\n",
       "      <td>0.000000</td>\n",
       "      <td>1.0</td>\n",
       "      <td>0.000000</td>\n",
       "      <td>1.0</td>\n",
       "      <td>0.000000</td>\n",
       "      <td>7.976590e-08</td>\n",
       "      <td>3.888303e-07</td>\n",
       "      <td>1.000000</td>\n",
       "      <td>4.119661e-08</td>\n",
       "    </tr>\n",
       "  </tbody>\n",
       "</table>\n",
       "</div>"
      ],
      "text/plain": [
       "      mean_accuracy  std_accuracy  mean_control_accuracy  \\\n",
       "0.05            0.5      0.500000                    0.6   \n",
       "0.10            0.5      0.500000                    0.6   \n",
       "0.15            0.5      0.500000                    0.0   \n",
       "0.20            0.8      0.400000                    0.6   \n",
       "0.25            1.0      0.000000                    1.0   \n",
       "0.30            1.0      0.000000                    1.0   \n",
       "0.35            1.0      0.000000                    1.0   \n",
       "0.40            0.7      0.458258                    0.4   \n",
       "0.45            1.0      0.000000                    1.0   \n",
       "0.50            1.0      0.000000                    1.0   \n",
       "0.55            1.0      0.000000                    1.0   \n",
       "0.60            1.0      0.000000                    1.0   \n",
       "0.65            1.0      0.000000                    1.0   \n",
       "0.70            1.0      0.000000                    1.0   \n",
       "0.75            1.0      0.000000                    1.0   \n",
       "0.80            1.0      0.000000                    1.0   \n",
       "0.85            1.0      0.000000                    1.0   \n",
       "0.90            1.0      0.000000                    1.0   \n",
       "0.95            1.0      0.000000                    1.0   \n",
       "\n",
       "      std_control_accuracy  mean_treat_accuracy  std_treat_accuracy  \\\n",
       "0.05              0.489898                  0.4            0.489898   \n",
       "0.10              0.489898                  0.4            0.489898   \n",
       "0.15              0.000000                  1.0            0.000000   \n",
       "0.20              0.489898                  1.0            0.000000   \n",
       "0.25              0.000000                  1.0            0.000000   \n",
       "0.30              0.000000                  1.0            0.000000   \n",
       "0.35              0.000000                  1.0            0.000000   \n",
       "0.40              0.489898                  1.0            0.000000   \n",
       "0.45              0.000000                  1.0            0.000000   \n",
       "0.50              0.000000                  1.0            0.000000   \n",
       "0.55              0.000000                  1.0            0.000000   \n",
       "0.60              0.000000                  1.0            0.000000   \n",
       "0.65              0.000000                  1.0            0.000000   \n",
       "0.70              0.000000                  1.0            0.000000   \n",
       "0.75              0.000000                  1.0            0.000000   \n",
       "0.80              0.000000                  1.0            0.000000   \n",
       "0.85              0.000000                  1.0            0.000000   \n",
       "0.90              0.000000                  1.0            0.000000   \n",
       "0.95              0.000000                  1.0            0.000000   \n",
       "\n",
       "      mean_pred_score_control  std_pred_score_control  \\\n",
       "0.05             4.000000e-01            4.898979e-01   \n",
       "0.10             4.000000e-01            4.898979e-01   \n",
       "0.15             1.000000e+00            0.000000e+00   \n",
       "0.20             4.000000e-01            4.898979e-01   \n",
       "0.25             8.230050e-12            6.948790e-11   \n",
       "0.30             7.043163e-07            1.088598e-05   \n",
       "0.35             5.917253e-21            9.135044e-20   \n",
       "0.40             6.000000e-01            4.898979e-01   \n",
       "0.45             2.141690e-16            3.009280e-15   \n",
       "0.50             0.000000e+00            0.000000e+00   \n",
       "0.55             2.194839e-16            3.272069e-15   \n",
       "0.60             1.576037e-12            1.816092e-11   \n",
       "0.65             3.712921e-16            3.769280e-15   \n",
       "0.70             4.010367e-16            3.898945e-15   \n",
       "0.75             1.961429e-09            1.196651e-08   \n",
       "0.80             2.045314e-14            2.363158e-13   \n",
       "0.85             7.597913e-10            5.705087e-09   \n",
       "0.90             1.179681e-10            1.227545e-09   \n",
       "0.95             7.976590e-08            3.888303e-07   \n",
       "\n",
       "      mean_pred_score_treatment  std_pred_score_treatment  \n",
       "0.05                   0.400000              4.898979e-01  \n",
       "0.10                   0.400000              4.898979e-01  \n",
       "0.15                   1.000000              0.000000e+00  \n",
       "0.20                   0.999897              1.587992e-03  \n",
       "0.25                   1.000000              0.000000e+00  \n",
       "0.30                   1.000000              0.000000e+00  \n",
       "0.35                   1.000000              0.000000e+00  \n",
       "0.40                   1.000000              0.000000e+00  \n",
       "0.45                   1.000000              0.000000e+00  \n",
       "0.50                   1.000000              0.000000e+00  \n",
       "0.55                   1.000000              0.000000e+00  \n",
       "0.60                   1.000000              0.000000e+00  \n",
       "0.65                   1.000000              0.000000e+00  \n",
       "0.70                   1.000000              0.000000e+00  \n",
       "0.75                   1.000000              0.000000e+00  \n",
       "0.80                   1.000000              0.000000e+00  \n",
       "0.85                   1.000000              0.000000e+00  \n",
       "0.90                   1.000000              0.000000e+00  \n",
       "0.95                   1.000000              4.119661e-08  "
      ]
     },
     "execution_count": 163,
     "metadata": {},
     "output_type": "execute_result"
    }
   ],
   "source": [
    "table = pd.read_csv(path + \"deepset_sum0.5_bags60*8_bagsize100_feature481.csv\", index_col=0)\n",
    "table = table.sort_index()\n",
    "table"
   ]
  },
  {
   "cell_type": "markdown",
   "metadata": {},
   "source": [
    "# Plot"
   ]
  },
  {
   "cell_type": "code",
   "execution_count": 117,
   "metadata": {},
   "outputs": [],
   "source": [
    "path = \"./result_Nov14/\"\n",
    "file_name = \"RandomForestClassifier_sample50000_feature481.csv\""
   ]
  },
  {
   "cell_type": "code",
   "execution_count": 114,
   "metadata": {},
   "outputs": [],
   "source": [
    "table_list = [\"RandomForestClassifier_sample50000_feature481.csv\",\n",
    "              \"MLPClassifier_sample50000_feature481.csv\",\n",
    "             \"KNeighborsClassifier_sample50000_feature481.csv\",\n",
    "             \"LogisticRegression_sample50000_feature481.csv\"]"
   ]
  },
  {
   "cell_type": "code",
   "execution_count": 155,
   "metadata": {},
   "outputs": [],
   "source": [
    "set_list = [\"deepset_max0.5_bags60*8_bagsize100_feature481.csv\",\n",
    "           \"deepset_mean0.5_bags60*8_bagsize100_feature481.csv\",\n",
    "           \"deepset_sum0.5_bags60*8_bagsize100_feature481.csv\",\n",
    "           \"deepset_att0.5_bags60*8_bagsize100_feature481.csv\"]"
   ]
  },
  {
   "cell_type": "code",
   "execution_count": 162,
   "metadata": {
    "collapsed": true,
    "jupyter": {
     "outputs_hidden": true
    }
   },
   "outputs": [
    {
     "name": "stderr",
     "output_type": "stream",
     "text": [
      "/root/miniconda3/lib/python3.7/site-packages/ipykernel_launcher.py:10: MatplotlibDeprecationWarning: Adding an axes using the same arguments as a previous axes currently reuses the earlier instance.  In a future version, a new instance will always be created and returned.  Meanwhile, this warning can be suppressed, and the future behavior ensured, by passing a unique label to each axes instance.\n",
      "  # Remove the CWD from sys.path while we load stuff.\n",
      "/root/miniconda3/lib/python3.7/site-packages/ipykernel_launcher.py:17: MatplotlibDeprecationWarning: Adding an axes using the same arguments as a previous axes currently reuses the earlier instance.  In a future version, a new instance will always be created and returned.  Meanwhile, this warning can be suppressed, and the future behavior ensured, by passing a unique label to each axes instance.\n",
      "/root/miniconda3/lib/python3.7/site-packages/ipykernel_launcher.py:10: MatplotlibDeprecationWarning: Adding an axes using the same arguments as a previous axes currently reuses the earlier instance.  In a future version, a new instance will always be created and returned.  Meanwhile, this warning can be suppressed, and the future behavior ensured, by passing a unique label to each axes instance.\n",
      "  # Remove the CWD from sys.path while we load stuff.\n",
      "/root/miniconda3/lib/python3.7/site-packages/ipykernel_launcher.py:17: MatplotlibDeprecationWarning: Adding an axes using the same arguments as a previous axes currently reuses the earlier instance.  In a future version, a new instance will always be created and returned.  Meanwhile, this warning can be suppressed, and the future behavior ensured, by passing a unique label to each axes instance.\n",
      "/root/miniconda3/lib/python3.7/site-packages/ipykernel_launcher.py:10: MatplotlibDeprecationWarning: Adding an axes using the same arguments as a previous axes currently reuses the earlier instance.  In a future version, a new instance will always be created and returned.  Meanwhile, this warning can be suppressed, and the future behavior ensured, by passing a unique label to each axes instance.\n",
      "  # Remove the CWD from sys.path while we load stuff.\n",
      "/root/miniconda3/lib/python3.7/site-packages/ipykernel_launcher.py:17: MatplotlibDeprecationWarning: Adding an axes using the same arguments as a previous axes currently reuses the earlier instance.  In a future version, a new instance will always be created and returned.  Meanwhile, this warning can be suppressed, and the future behavior ensured, by passing a unique label to each axes instance.\n"
     ]
    },
    {
     "data": {
      "image/png": "[encoded data removed]",
      "text/plain": [
       "<Figure size 1008x360 with 2 Axes>"
      ]
     },
     "metadata": {
      "needs_background": "light"
     },
     "output_type": "display_data"
    }
   ],
   "source": [
    "\n",
    "produce_setfig(path,set_list,\"set.png\")"
   ]
  },
  {
   "cell_type": "code",
   "execution_count": 161,
   "metadata": {},
   "outputs": [],
   "source": [
    "def produce_setfig(path, table_list, save_name):\n",
    "    plt.figure(figsize=(14, 5))\n",
    "    for i in table_list:\n",
    "        table = pd.read_csv(path + i, index_col=0)\n",
    "        table = table.sort_index()\n",
    "        model_name = \"_\".join(i.split(\"_\")[0:1])\n",
    "        pool = \"_\".join(i.split(\"_\")[1:2]).split(\"0\")[0]\n",
    "        number_bag = \"_\".join(i.split(\"_\")[2:3])+\"*100\"\n",
    "        feature_size = 481 \n",
    "        ax = plt.subplot(1,2,1)\n",
    "        plt.plot([i/100 for i in range(5,96,5)], table[\"mean_accuracy\"], '-',label = model_name +\" \"+ pool)\n",
    "        plt.fill_between([i/100 for i in range(5,96,5)], \n",
    "                     (table[\"mean_accuracy\"])-table[\"std_accuracy\"], table[\"mean_accuracy\"]+table[\"std_accuracy\"], alpha=0.2)\n",
    "        ax.legend()\n",
    "        ax.set_title(\"Accuracy score of traditional models, %s cells, %s features\"%(number_bag, feature_size))\n",
    "\n",
    "        ax = plt.subplot(1,2,2)\n",
    "        z_score = 1-3*(table[\"std_pred_score_treatment\"]+table[\"std_pred_score_control\"])/(np.abs(table[\"mean_pred_score_treatment\"]-table[\"mean_pred_score_control\"]))\n",
    "        plt.plot([i/100 for i in range(5,96,5)], z_score, '-', label = model_name +\" \"+ pool)\n",
    "        ax.set_title(\"Z' score of Set models, %s cells, %s features\"%(number_bag, feature_size))\n",
    "        ax.legend()\n",
    "    plt.savefig(save_name)"
   ]
  },
  {
   "cell_type": "code",
   "execution_count": 127,
   "metadata": {},
   "outputs": [],
   "source": [
    "def produce_fig(path, table_list, save_name):\n",
    "    plt.figure(figsize=(14, 5))\n",
    "    for i in table_list:\n",
    "        table = pd.read_csv(path + i, index_col=0)\n",
    "        table = table.sort_index()\n",
    "        model_name = \"_\".join(i.split(\"_\")[0:1])\n",
    "        number_cell = \"_\".join(i.split(\"_\")[1:2])[6:11]\n",
    "        feature_size = 481 \n",
    "        ax = plt.subplot(1,2,1)\n",
    "        plt.plot([i/100 for i in range(5,96,5)], table[\"mean_accuracy\"], '-',label = model_name)\n",
    "        plt.fill_between([i/100 for i in range(5,96,5)], \n",
    "                     (table[\"mean_accuracy\"])-table[\"std_accuracy\"], table[\"mean_accuracy\"]+table[\"std_accuracy\"], alpha=0.2)\n",
    "        ax.legend()\n",
    "\n",
    "        ax.set_title(\"Accuracy score of traditional models, %s cells, %s features\"%(number_cell, feature_size))\n",
    "\n",
    "        ax = plt.subplot(1,2,2)\n",
    "        z_score = 1-3*(table[\"std_pred_score_treatment\"]+table[\"std_pred_score_control\"])/(np.abs(table[\"mean_pred_score_treatment\"]-table[\"mean_pred_score_control\"]))\n",
    "        plt.plot([i/100 for i in range(5,96,5)], z_score, '-', label = model_name)\n",
    "        ax.set_title(\"Z' score of traditional models, %s cells, %s features\"%(number_cell, feature_size))\n",
    "        ax.legend()\n",
    "    plt.savefig(save_name)"
   ]
  },
  {
   "cell_type": "code",
   "execution_count": 4,
   "metadata": {},
   "outputs": [],
   "source": [
    "def plot_ds_acc(path, file_name):\n",
    "    table = pd.read_csv(path + file_name, index_col=0)\n",
    "    table = table.sort_index()\n",
    "    z_score = 1-3*(table[\"std_pred_score_treatment\"]+table[\"std_pred_score_control\"])/(np.abs(table[\"mean_pred_score_treatment\"]-table[\"mean_pred_score_control\"]))\n",
    "\n",
    "    model_name = \"_\".join(file_name.split(\"_\")[0:2])\n",
    "    feature_size = 481\n",
    "\n",
    "    plt.figure(figsize=(14, 5))\n",
    "    ax = plt.subplot(1,2,1)\n",
    "    plt.plot([i/100 for i in range(5,96,5)], table[\"mean_accuracy\"], '-')\n",
    "    plt.fill_between([i/100 for i in range(5,96,5)], \n",
    "                     (table[\"mean_accuracy\"])-table[\"std_accuracy\"], table[\"mean_accuracy\"]+table[\"std_accuracy\"], alpha=0.2)\n",
    "    ax.set_title(\"Accuracy score of %s, %s cells, %s features\"%(model_name, 100, feature_size))\n",
    "\n",
    "    ax = plt.subplot(1,2,2)\n",
    "    plt.plot([i/100 for i in range(5,96,5)], z_score, '-')\n",
    "    ax.set_title(\"Z_score of %s, %s cells, %s features\"%(model_name, 100, feature_size))\n",
    "\n",
    "    plt.savefig(\"%s_sample%s_feature%s.png\" %(model_name, 10000, feature_size))"
   ]
  },
  {
   "cell_type": "code",
   "execution_count": 5,
   "metadata": {
    "collapsed": true,
    "jupyter": {
     "outputs_hidden": true
    }
   },
   "outputs": [
    {
     "ename": "KeyError",
     "evalue": "'mean_accuracy'",
     "output_type": "error",
     "traceback": [
      "\u001b[0;31m---------------------------------------------------------------------------\u001b[0m",
      "\u001b[0;31mKeyError\u001b[0m                                  Traceback (most recent call last)",
      "\u001b[0;32m~/miniconda3/lib/python3.7/site-packages/pandas/core/indexes/base.py\u001b[0m in \u001b[0;36mget_loc\u001b[0;34m(self, key, method, tolerance)\u001b[0m\n\u001b[1;32m   2645\u001b[0m             \u001b[0;32mtry\u001b[0m\u001b[0;34m:\u001b[0m\u001b[0;34m\u001b[0m\u001b[0;34m\u001b[0m\u001b[0m\n\u001b[0;32m-> 2646\u001b[0;31m                 \u001b[0;32mreturn\u001b[0m \u001b[0mself\u001b[0m\u001b[0;34m.\u001b[0m\u001b[0m_engine\u001b[0m\u001b[0;34m.\u001b[0m\u001b[0mget_loc\u001b[0m\u001b[0;34m(\u001b[0m\u001b[0mkey\u001b[0m\u001b[0;34m)\u001b[0m\u001b[0;34m\u001b[0m\u001b[0;34m\u001b[0m\u001b[0m\n\u001b[0m\u001b[1;32m   2647\u001b[0m             \u001b[0;32mexcept\u001b[0m \u001b[0mKeyError\u001b[0m\u001b[0;34m:\u001b[0m\u001b[0;34m\u001b[0m\u001b[0;34m\u001b[0m\u001b[0m\n",
      "\u001b[0;32mpandas/_libs/index.pyx\u001b[0m in \u001b[0;36mpandas._libs.index.IndexEngine.get_loc\u001b[0;34m()\u001b[0m\n",
      "\u001b[0;32mpandas/_libs/index.pyx\u001b[0m in \u001b[0;36mpandas._libs.index.IndexEngine.get_loc\u001b[0;34m()\u001b[0m\n",
      "\u001b[0;32mpandas/_libs/hashtable_class_helper.pxi\u001b[0m in \u001b[0;36mpandas._libs.hashtable.PyObjectHashTable.get_item\u001b[0;34m()\u001b[0m\n",
      "\u001b[0;32mpandas/_libs/hashtable_class_helper.pxi\u001b[0m in \u001b[0;36mpandas._libs.hashtable.PyObjectHashTable.get_item\u001b[0;34m()\u001b[0m\n",
      "\u001b[0;31mKeyError\u001b[0m: 'mean_accuracy'",
      "\nDuring handling of the above exception, another exception occurred:\n",
      "\u001b[0;31mKeyError\u001b[0m                                  Traceback (most recent call last)",
      "\u001b[0;32m<ipython-input-5-5f7691195af2>\u001b[0m in \u001b[0;36m<module>\u001b[0;34m\u001b[0m\n\u001b[1;32m      2\u001b[0m \u001b[0mfile_name\u001b[0m \u001b[0;34m=\u001b[0m \u001b[0;34m\"RandomForestClassifier_sample500_feature481.csv\"\u001b[0m\u001b[0;34m\u001b[0m\u001b[0;34m\u001b[0m\u001b[0m\n\u001b[1;32m      3\u001b[0m \u001b[0;34m\u001b[0m\u001b[0m\n\u001b[0;32m----> 4\u001b[0;31m \u001b[0mplot_ds_acc\u001b[0m\u001b[0;34m(\u001b[0m\u001b[0mpath\u001b[0m\u001b[0;34m,\u001b[0m\u001b[0mfile_name\u001b[0m\u001b[0;34m)\u001b[0m\u001b[0;34m\u001b[0m\u001b[0;34m\u001b[0m\u001b[0m\n\u001b[0m",
      "\u001b[0;32m<ipython-input-4-8b948c6febff>\u001b[0m in \u001b[0;36mplot_ds_acc\u001b[0;34m(path, file_name)\u001b[0m\n\u001b[1;32m      9\u001b[0m     \u001b[0mplt\u001b[0m\u001b[0;34m.\u001b[0m\u001b[0mfigure\u001b[0m\u001b[0;34m(\u001b[0m\u001b[0mfigsize\u001b[0m\u001b[0;34m=\u001b[0m\u001b[0;34m(\u001b[0m\u001b[0;36m14\u001b[0m\u001b[0;34m,\u001b[0m \u001b[0;36m5\u001b[0m\u001b[0;34m)\u001b[0m\u001b[0;34m)\u001b[0m\u001b[0;34m\u001b[0m\u001b[0;34m\u001b[0m\u001b[0m\n\u001b[1;32m     10\u001b[0m     \u001b[0max\u001b[0m \u001b[0;34m=\u001b[0m \u001b[0mplt\u001b[0m\u001b[0;34m.\u001b[0m\u001b[0msubplot\u001b[0m\u001b[0;34m(\u001b[0m\u001b[0;36m1\u001b[0m\u001b[0;34m,\u001b[0m\u001b[0;36m2\u001b[0m\u001b[0;34m,\u001b[0m\u001b[0;36m1\u001b[0m\u001b[0;34m)\u001b[0m\u001b[0;34m\u001b[0m\u001b[0;34m\u001b[0m\u001b[0m\n\u001b[0;32m---> 11\u001b[0;31m     \u001b[0mplt\u001b[0m\u001b[0;34m.\u001b[0m\u001b[0mplot\u001b[0m\u001b[0;34m(\u001b[0m\u001b[0;34m[\u001b[0m\u001b[0mi\u001b[0m\u001b[0;34m/\u001b[0m\u001b[0;36m100\u001b[0m \u001b[0;32mfor\u001b[0m \u001b[0mi\u001b[0m \u001b[0;32min\u001b[0m \u001b[0mrange\u001b[0m\u001b[0;34m(\u001b[0m\u001b[0;36m5\u001b[0m\u001b[0;34m,\u001b[0m\u001b[0;36m96\u001b[0m\u001b[0;34m,\u001b[0m\u001b[0;36m5\u001b[0m\u001b[0;34m)\u001b[0m\u001b[0;34m]\u001b[0m\u001b[0;34m,\u001b[0m \u001b[0mtable\u001b[0m\u001b[0;34m[\u001b[0m\u001b[0;34m\"mean_accuracy\"\u001b[0m\u001b[0;34m]\u001b[0m\u001b[0;34m,\u001b[0m \u001b[0;34m'-'\u001b[0m\u001b[0;34m)\u001b[0m\u001b[0;34m\u001b[0m\u001b[0;34m\u001b[0m\u001b[0m\n\u001b[0m\u001b[1;32m     12\u001b[0m     plt.fill_between([i/100 for i in range(5,96,5)], \n\u001b[1;32m     13\u001b[0m                      (table[\"mean_accuracy\"])-table[\"std_accuracy\"], table[\"mean_accuracy\"]+table[\"std_accuracy\"], alpha=0.2)\n",
      "\u001b[0;32m~/miniconda3/lib/python3.7/site-packages/pandas/core/frame.py\u001b[0m in \u001b[0;36m__getitem__\u001b[0;34m(self, key)\u001b[0m\n\u001b[1;32m   2798\u001b[0m             \u001b[0;32mif\u001b[0m \u001b[0mself\u001b[0m\u001b[0;34m.\u001b[0m\u001b[0mcolumns\u001b[0m\u001b[0;34m.\u001b[0m\u001b[0mnlevels\u001b[0m \u001b[0;34m>\u001b[0m \u001b[0;36m1\u001b[0m\u001b[0;34m:\u001b[0m\u001b[0;34m\u001b[0m\u001b[0;34m\u001b[0m\u001b[0m\n\u001b[1;32m   2799\u001b[0m                 \u001b[0;32mreturn\u001b[0m \u001b[0mself\u001b[0m\u001b[0;34m.\u001b[0m\u001b[0m_getitem_multilevel\u001b[0m\u001b[0;34m(\u001b[0m\u001b[0mkey\u001b[0m\u001b[0;34m)\u001b[0m\u001b[0;34m\u001b[0m\u001b[0;34m\u001b[0m\u001b[0m\n\u001b[0;32m-> 2800\u001b[0;31m             \u001b[0mindexer\u001b[0m \u001b[0;34m=\u001b[0m \u001b[0mself\u001b[0m\u001b[0;34m.\u001b[0m\u001b[0mcolumns\u001b[0m\u001b[0;34m.\u001b[0m\u001b[0mget_loc\u001b[0m\u001b[0;34m(\u001b[0m\u001b[0mkey\u001b[0m\u001b[0;34m)\u001b[0m\u001b[0;34m\u001b[0m\u001b[0;34m\u001b[0m\u001b[0m\n\u001b[0m\u001b[1;32m   2801\u001b[0m             \u001b[0;32mif\u001b[0m \u001b[0mis_integer\u001b[0m\u001b[0;34m(\u001b[0m\u001b[0mindexer\u001b[0m\u001b[0;34m)\u001b[0m\u001b[0;34m:\u001b[0m\u001b[0;34m\u001b[0m\u001b[0;34m\u001b[0m\u001b[0m\n\u001b[1;32m   2802\u001b[0m                 \u001b[0mindexer\u001b[0m \u001b[0;34m=\u001b[0m \u001b[0;34m[\u001b[0m\u001b[0mindexer\u001b[0m\u001b[0;34m]\u001b[0m\u001b[0;34m\u001b[0m\u001b[0;34m\u001b[0m\u001b[0m\n",
      "\u001b[0;32m~/miniconda3/lib/python3.7/site-packages/pandas/core/indexes/base.py\u001b[0m in \u001b[0;36mget_loc\u001b[0;34m(self, key, method, tolerance)\u001b[0m\n\u001b[1;32m   2646\u001b[0m                 \u001b[0;32mreturn\u001b[0m \u001b[0mself\u001b[0m\u001b[0;34m.\u001b[0m\u001b[0m_engine\u001b[0m\u001b[0;34m.\u001b[0m\u001b[0mget_loc\u001b[0m\u001b[0;34m(\u001b[0m\u001b[0mkey\u001b[0m\u001b[0;34m)\u001b[0m\u001b[0;34m\u001b[0m\u001b[0;34m\u001b[0m\u001b[0m\n\u001b[1;32m   2647\u001b[0m             \u001b[0;32mexcept\u001b[0m \u001b[0mKeyError\u001b[0m\u001b[0;34m:\u001b[0m\u001b[0;34m\u001b[0m\u001b[0;34m\u001b[0m\u001b[0m\n\u001b[0;32m-> 2648\u001b[0;31m                 \u001b[0;32mreturn\u001b[0m \u001b[0mself\u001b[0m\u001b[0;34m.\u001b[0m\u001b[0m_engine\u001b[0m\u001b[0;34m.\u001b[0m\u001b[0mget_loc\u001b[0m\u001b[0;34m(\u001b[0m\u001b[0mself\u001b[0m\u001b[0;34m.\u001b[0m\u001b[0m_maybe_cast_indexer\u001b[0m\u001b[0;34m(\u001b[0m\u001b[0mkey\u001b[0m\u001b[0;34m)\u001b[0m\u001b[0;34m)\u001b[0m\u001b[0;34m\u001b[0m\u001b[0;34m\u001b[0m\u001b[0m\n\u001b[0m\u001b[1;32m   2649\u001b[0m         \u001b[0mindexer\u001b[0m \u001b[0;34m=\u001b[0m \u001b[0mself\u001b[0m\u001b[0;34m.\u001b[0m\u001b[0mget_indexer\u001b[0m\u001b[0;34m(\u001b[0m\u001b[0;34m[\u001b[0m\u001b[0mkey\u001b[0m\u001b[0;34m]\u001b[0m\u001b[0;34m,\u001b[0m \u001b[0mmethod\u001b[0m\u001b[0;34m=\u001b[0m\u001b[0mmethod\u001b[0m\u001b[0;34m,\u001b[0m \u001b[0mtolerance\u001b[0m\u001b[0;34m=\u001b[0m\u001b[0mtolerance\u001b[0m\u001b[0;34m)\u001b[0m\u001b[0;34m\u001b[0m\u001b[0;34m\u001b[0m\u001b[0m\n\u001b[1;32m   2650\u001b[0m         \u001b[0;32mif\u001b[0m \u001b[0mindexer\u001b[0m\u001b[0;34m.\u001b[0m\u001b[0mndim\u001b[0m \u001b[0;34m>\u001b[0m \u001b[0;36m1\u001b[0m \u001b[0;32mor\u001b[0m \u001b[0mindexer\u001b[0m\u001b[0;34m.\u001b[0m\u001b[0msize\u001b[0m \u001b[0;34m>\u001b[0m \u001b[0;36m1\u001b[0m\u001b[0;34m:\u001b[0m\u001b[0;34m\u001b[0m\u001b[0;34m\u001b[0m\u001b[0m\n",
      "\u001b[0;32mpandas/_libs/index.pyx\u001b[0m in \u001b[0;36mpandas._libs.index.IndexEngine.get_loc\u001b[0;34m()\u001b[0m\n",
      "\u001b[0;32mpandas/_libs/index.pyx\u001b[0m in \u001b[0;36mpandas._libs.index.IndexEngine.get_loc\u001b[0;34m()\u001b[0m\n",
      "\u001b[0;32mpandas/_libs/hashtable_class_helper.pxi\u001b[0m in \u001b[0;36mpandas._libs.hashtable.PyObjectHashTable.get_item\u001b[0;34m()\u001b[0m\n",
      "\u001b[0;32mpandas/_libs/hashtable_class_helper.pxi\u001b[0m in \u001b[0;36mpandas._libs.hashtable.PyObjectHashTable.get_item\u001b[0;34m()\u001b[0m\n",
      "\u001b[0;31mKeyError\u001b[0m: 'mean_accuracy'"
     ]
    },
    {
     "data": {
      "image/png": "[encoded data removed]",
      "text/plain": [
       "<Figure size 1008x360 with 1 Axes>"
      ]
     },
     "metadata": {
      "needs_background": "light"
     },
     "output_type": "display_data"
    }
   ],
   "source": [
    "path = \"./\"\n",
    "file_name = \"RandomForestClassifier_sample500_feature481.csv\"\n",
    "\n",
    "plot_ds_acc(path,file_name)"
   ]
  },
  {
   "cell_type": "code",
   "execution_count": 12,
   "metadata": {},
   "outputs": [
    {
     "data": {
      "image/png": "[encoded data removed]",
      "text/plain": [
       "<Figure size 1008x360 with 2 Axes>"
      ]
     },
     "metadata": {
      "needs_background": "light"
     },
     "output_type": "display_data"
    }
   ],
   "source": [
    "path = \"./deepset_result_Nov1/\"\n",
    "file_name = \"deepset_sum0.5_bags100_bagsize100_feature481.csv\"\n",
    "\n",
    "plot_ds_acc(path,file_name)"
   ]
  },
  {
   "cell_type": "markdown",
   "metadata": {},
   "source": [
    "# AttentionSet Model"
   ]
  },
  {
   "cell_type": "code",
   "execution_count": 3,
   "metadata": {},
   "outputs": [],
   "source": [
    "start = 90\n",
    "end = 91\n",
    "# data = mini_data\n",
    "num_bag = 100\n",
    "bag_size_mean = 200\n",
    "bag_size_std = 10\n",
    "treatment = \"taxol\"\n",
    "control = \"DMSO\"\n",
    "model = profile_AttSet(481).cuda()#FullDeepSet(\"mean\").cuda()\n",
    "# optimizer = optimizer\n",
    "splits = 3\n",
    "epochs = 20"
   ]
  },
  {
   "cell_type": "code",
   "execution_count": 8,
   "metadata": {},
   "outputs": [],
   "source": [
    "optimizer = optim.Adam(model.parameters(), lr=0.001, betas=(0.9, 0.999), weight_decay=10e-5)"
   ]
  },
  {
   "cell_type": "code",
   "execution_count": null,
   "metadata": {},
   "outputs": [],
   "source": [
    "model"
   ]
  },
  {
   "cell_type": "code",
   "execution_count": 9,
   "metadata": {
    "collapsed": true,
    "jupyter": {
     "outputs_hidden": true
    }
   },
   "outputs": [
    {
     "name": "stderr",
     "output_type": "stream",
     "text": [
      "training at different percent:   0%|          | 0/1 [00:00<?, ?it/s]\n",
      "3 fold cross validation: 0it [00:00, ?it/s]\u001b[A"
     ]
    },
    {
     "name": "stdout",
     "output_type": "stream",
     "text": [
      "Epoch: 0, Loss: 0.6145, Train error: 0.3030\n",
      "Epoch: 1, Loss: 0.1944, Train error: 0.0455\n",
      "Epoch: 2, Loss: 0.0228, Train error: 0.0000\n",
      "Epoch: 3, Loss: 0.0078, Train error: 0.0000\n",
      "Epoch: 4, Loss: 0.0030, Train error: 0.0000\n",
      "Epoch: 5, Loss: 0.0013, Train error: 0.0000\n",
      "Epoch: 6, Loss: 0.0008, Train error: 0.0000\n",
      "Epoch: 7, Loss: 0.0005, Train error: 0.0000\n",
      "Epoch: 8, Loss: 0.0005, Train error: 0.0000\n",
      "Epoch: 9, Loss: 0.0004, Train error: 0.0000\n",
      "Epoch: 10, Loss: 0.0003, Train error: 0.0000\n",
      "Epoch: 11, Loss: 0.0003, Train error: 0.0000\n",
      "Epoch: 12, Loss: 0.0003, Train error: 0.0000\n",
      "Epoch: 13, Loss: 0.0003, Train error: 0.0000\n",
      "Epoch: 14, Loss: 0.0003, Train error: 0.0000\n",
      "Epoch: 15, Loss: 0.0003, Train error: 0.0000\n",
      "Epoch: 16, Loss: 0.0003, Train error: 0.0000\n",
      "Epoch: 17, Loss: 0.0003, Train error: 0.0000\n",
      "Epoch: 18, Loss: 0.0003, Train error: 0.0000\n",
      "Epoch: 19, Loss: 0.0002, Train error: 0.0000\n"
     ]
    },
    {
     "name": "stderr",
     "output_type": "stream",
     "text": [
      "\n",
      "3 fold cross validation: 1it [00:16, 16.51s/it]\u001b[A"
     ]
    },
    {
     "name": "stdout",
     "output_type": "stream",
     "text": [
      "Epoch: 0, Loss: 0.0002, Train error: 0.0000\n",
      "Epoch: 1, Loss: 0.0002, Train error: 0.0000\n",
      "Epoch: 2, Loss: 0.0002, Train error: 0.0000\n",
      "Epoch: 3, Loss: 0.0002, Train error: 0.0000\n",
      "Epoch: 4, Loss: 0.0002, Train error: 0.0000\n",
      "Epoch: 5, Loss: 0.0003, Train error: 0.0000\n",
      "Epoch: 6, Loss: 0.0002, Train error: 0.0000\n",
      "Epoch: 7, Loss: 0.0002, Train error: 0.0000\n",
      "Epoch: 8, Loss: 0.0003, Train error: 0.0000\n",
      "Epoch: 9, Loss: 0.0003, Train error: 0.0000\n",
      "Epoch: 10, Loss: 0.0002, Train error: 0.0000\n",
      "Epoch: 11, Loss: 0.0003, Train error: 0.0000\n",
      "Epoch: 12, Loss: 0.0002, Train error: 0.0000\n",
      "Epoch: 13, Loss: 0.0003, Train error: 0.0000\n",
      "Epoch: 14, Loss: 0.0002, Train error: 0.0000\n",
      "Epoch: 15, Loss: 0.0003, Train error: 0.0000\n",
      "Epoch: 16, Loss: 0.0002, Train error: 0.0000\n",
      "Epoch: 17, Loss: 0.0003, Train error: 0.0000\n",
      "Epoch: 18, Loss: 0.0003, Train error: 0.0000\n",
      "Epoch: 19, Loss: 0.0003, Train error: 0.0000\n"
     ]
    },
    {
     "name": "stderr",
     "output_type": "stream",
     "text": [
      "\n",
      "3 fold cross validation: 2it [00:33, 16.58s/it]\u001b[A"
     ]
    },
    {
     "name": "stdout",
     "output_type": "stream",
     "text": [
      "Epoch: 0, Loss: 0.0002, Train error: 0.0000\n",
      "Epoch: 1, Loss: 0.0002, Train error: 0.0000\n",
      "Epoch: 2, Loss: 0.0003, Train error: 0.0000\n",
      "Epoch: 3, Loss: 0.0002, Train error: 0.0000\n",
      "Epoch: 4, Loss: 0.0003, Train error: 0.0000\n",
      "Epoch: 5, Loss: 0.0002, Train error: 0.0000\n",
      "Epoch: 6, Loss: 0.0002, Train error: 0.0000\n",
      "Epoch: 7, Loss: 0.0002, Train error: 0.0000\n",
      "Epoch: 8, Loss: 0.0002, Train error: 0.0000\n",
      "Epoch: 9, Loss: 0.0002, Train error: 0.0000\n",
      "Epoch: 10, Loss: 0.0002, Train error: 0.0000\n",
      "Epoch: 11, Loss: 0.0002, Train error: 0.0000\n",
      "Epoch: 12, Loss: 0.0002, Train error: 0.0000\n",
      "Epoch: 13, Loss: 0.0002, Train error: 0.0000\n",
      "Epoch: 14, Loss: 0.0002, Train error: 0.0000\n",
      "Epoch: 15, Loss: 0.0003, Train error: 0.0000\n",
      "Epoch: 16, Loss: 0.0002, Train error: 0.0000\n",
      "Epoch: 17, Loss: 0.0002, Train error: 0.0000\n",
      "Epoch: 18, Loss: 0.0002, Train error: 0.0000\n",
      "Epoch: 19, Loss: 0.0002, Train error: 0.0000\n"
     ]
    },
    {
     "name": "stderr",
     "output_type": "stream",
     "text": [
      "\n",
      "3 fold cross validation: 3it [00:48, 16.07s/it]\u001b[A\n",
      "training at different percent:   0%|          | 0/1 [00:48<?, ?it/s]\n"
     ]
    }
   ],
   "source": [
    "results = mini_noise_signal_cv(start, end, data, num_bag,\n",
    "                               bag_size_mean, bag_size_std, \n",
    "                               treatment, control, model, \n",
    "                               optimizer, splits, epochs)"
   ]
  },
  {
   "cell_type": "code",
   "execution_count": 165,
   "metadata": {},
   "outputs": [],
   "source": [
    "profile_model_attset = profile_AttSet(2)"
   ]
  },
  {
   "cell_type": "code",
   "execution_count": 9,
   "metadata": {},
   "outputs": [
    {
     "data": {
      "application/vnd.jupyter.widget-view+json": {
       "model_id": "bdec3ed618ca4b479f8c229de11c22bf",
       "version_major": 2,
       "version_minor": 0
      },
      "text/plain": [
       "HBox(children=(FloatProgress(value=0.0, description='training at different percent', max=1.0, style=ProgressSt…"
      ]
     },
     "metadata": {},
     "output_type": "display_data"
    },
    {
     "data": {
      "application/vnd.jupyter.widget-view+json": {
       "model_id": "38e68ea98637429fa108e4079290fe1e",
       "version_major": 2,
       "version_minor": 0
      },
      "text/plain": [
       "HBox(children=(FloatProgress(value=1.0, bar_style='info', description='3 fold cross validation', max=1.0, styl…"
      ]
     },
     "metadata": {},
     "output_type": "display_data"
    },
    {
     "name": "stdout",
     "output_type": "stream",
     "text": [
      "Control accuracy:0.000, Treat accuracy:1.000, overally accuray:0.485\n",
      "Control accuracy:0.000, Treat accuracy:1.000, overally accuray:0.485\n",
      "Control accuracy:0.000, Treat accuracy:1.000, overally accuray:0.485\n",
      "\n",
      "\n"
     ]
    }
   ],
   "source": [
    "dic = {}\n",
    "# Set different percentage of treatment v.s. control \n",
    "for j in tqdm(range(start, end, 5), desc = \"training at different percent\"):\n",
    "    X, y = data_label_split(data)\n",
    "    y = y[\"compound\"]\n",
    "\n",
    "    acc_control_list = []\n",
    "    acc_treat_list = []\n",
    "    pred_score_control_list = []\n",
    "    pred_score_treat_list = []\n",
    "    # Stratified K fold \n",
    "    skf = StratifiedKFold(n_splits = splits)\n",
    "    for i, (train_index, test_index) in tqdm(enumerate(skf.split(X, y)), desc=\"%d fold cross validation\"%splits):\n",
    "        X_train, X_test = X.iloc[train_index], X.iloc[test_index]\n",
    "        y_train, y_test = y.iloc[train_index], y.iloc[test_index]  \n",
    "        X_train = pd.concat([X_train, y_train], axis=1, sort=False)\n",
    "        X_test = pd.concat([X_test, y_test], axis=1, sort=False)\n",
    "\n",
    "        # Redefine dataloader and train model at each fold\n",
    "        train_dataset = dmso_taxol_ProfileBag(X_train, int(num_bag*(splits-1)/splits), bag_size_mean, bag_size_std, j/100, treatment, control, 0.5)\n",
    "        valida_dataset = dmso_taxol_ProfileBag(X_test, int(num_bag/splits), bag_size_mean, bag_size_std, j/100, treatment, control, 0.5)\n",
    "        train_loader = D.DataLoader(train_dataset, batch_size=1, shuffle=True)\n",
    "        valida_loader = D.DataLoader(valida_dataset, batch_size=1, shuffle=True)\n",
    "        acc_control, acc_treat, pred_score_control, pred_score_treat = test(model, valida_loader)\n",
    "        "
   ]
  },
  {
   "cell_type": "code",
   "execution_count": 25,
   "metadata": {
    "collapsed": true,
    "jupyter": {
     "outputs_hidden": true
    }
   },
   "outputs": [
    {
     "name": "stdout",
     "output_type": "stream",
     "text": [
      "0.8979591836734694\n",
      "0.8994708994708994\n",
      "0.8985507246376812\n",
      "0.8990384615384616\n",
      "0.8970588235294118\n",
      "0.9\n",
      "0.9\n",
      "0.8963730569948186\n",
      "0.8994708994708994\n",
      "0.8979591836734694\n",
      "0.8986175115207373\n",
      "0.8974358974358975\n",
      "0.8958333333333334\n",
      "0.8958333333333334\n",
      "0.8958333333333334\n",
      "0.8983957219251337\n",
      "0.0\n",
      "0.0\n",
      "0.0\n",
      "0.0\n",
      "0.0\n",
      "0.0\n",
      "0.0\n",
      "0.0\n",
      "0.0\n",
      "0.0\n",
      "0.0\n",
      "0.0\n",
      "0.0\n",
      "0.0\n",
      "0.0\n",
      "0.0\n",
      "0.0\n"
     ]
    }
   ],
   "source": [
    "for i in range(len(valida_dataset)):\n",
    "    get_taxol_perc(valida_dataset[i][1][1])"
   ]
  },
  {
   "cell_type": "code",
   "execution_count": 57,
   "metadata": {},
   "outputs": [],
   "source": [
    "table = pd.read_csv(path + file_name, index_col=0)\n",
    "table = table.sort_index()"
   ]
  },
  {
   "cell_type": "code",
   "execution_count": 58,
   "metadata": {
    "collapsed": true,
    "jupyter": {
     "outputs_hidden": true
    }
   },
   "outputs": [
    {
     "data": {
      "text/html": [
       "<div>\n",
       "<style scoped>\n",
       "    .dataframe tbody tr th:only-of-type {\n",
       "        vertical-align: middle;\n",
       "    }\n",
       "\n",
       "    .dataframe tbody tr th {\n",
       "        vertical-align: top;\n",
       "    }\n",
       "\n",
       "    .dataframe thead th {\n",
       "        text-align: right;\n",
       "    }\n",
       "</style>\n",
       "<table border=\"1\" class=\"dataframe\">\n",
       "  <thead>\n",
       "    <tr style=\"text-align: right;\">\n",
       "      <th></th>\n",
       "      <th>mean_accuracy</th>\n",
       "      <th>std_accuracy</th>\n",
       "      <th>mean_control_accuracy</th>\n",
       "      <th>std_control_accuracy</th>\n",
       "      <th>mean_treat_accuracy</th>\n",
       "      <th>std_treat_accuracy</th>\n",
       "      <th>mean_pred_score_control</th>\n",
       "      <th>std_pred_score_control</th>\n",
       "      <th>mean_pred_score_treatment</th>\n",
       "      <th>std_pred_score_treatment</th>\n",
       "    </tr>\n",
       "  </thead>\n",
       "  <tbody>\n",
       "    <tr>\n",
       "      <th>0.05</th>\n",
       "      <td>0.80</td>\n",
       "      <td>0.400000</td>\n",
       "      <td>0.88</td>\n",
       "      <td>0.324962</td>\n",
       "      <td>0.72</td>\n",
       "      <td>0.448999</td>\n",
       "      <td>0.141478</td>\n",
       "      <td>0.277232</td>\n",
       "      <td>0.712987</td>\n",
       "      <td>0.387560</td>\n",
       "    </tr>\n",
       "    <tr>\n",
       "      <th>0.10</th>\n",
       "      <td>0.89</td>\n",
       "      <td>0.312890</td>\n",
       "      <td>0.90</td>\n",
       "      <td>0.300000</td>\n",
       "      <td>0.88</td>\n",
       "      <td>0.324962</td>\n",
       "      <td>0.134525</td>\n",
       "      <td>0.247329</td>\n",
       "      <td>0.842480</td>\n",
       "      <td>0.296975</td>\n",
       "    </tr>\n",
       "    <tr>\n",
       "      <th>0.15</th>\n",
       "      <td>0.92</td>\n",
       "      <td>0.271293</td>\n",
       "      <td>0.96</td>\n",
       "      <td>0.195959</td>\n",
       "      <td>0.88</td>\n",
       "      <td>0.324962</td>\n",
       "      <td>0.034166</td>\n",
       "      <td>0.132680</td>\n",
       "      <td>0.844991</td>\n",
       "      <td>0.318048</td>\n",
       "    </tr>\n",
       "    <tr>\n",
       "      <th>0.20</th>\n",
       "      <td>0.80</td>\n",
       "      <td>0.400000</td>\n",
       "      <td>0.84</td>\n",
       "      <td>0.366606</td>\n",
       "      <td>0.76</td>\n",
       "      <td>0.427083</td>\n",
       "      <td>0.155384</td>\n",
       "      <td>0.333898</td>\n",
       "      <td>0.754050</td>\n",
       "      <td>0.352207</td>\n",
       "    </tr>\n",
       "    <tr>\n",
       "      <th>0.25</th>\n",
       "      <td>0.74</td>\n",
       "      <td>0.438634</td>\n",
       "      <td>0.94</td>\n",
       "      <td>0.237487</td>\n",
       "      <td>0.54</td>\n",
       "      <td>0.498397</td>\n",
       "      <td>0.069832</td>\n",
       "      <td>0.199288</td>\n",
       "      <td>0.540951</td>\n",
       "      <td>0.434158</td>\n",
       "    </tr>\n",
       "    <tr>\n",
       "      <th>0.30</th>\n",
       "      <td>0.73</td>\n",
       "      <td>0.443959</td>\n",
       "      <td>0.90</td>\n",
       "      <td>0.300000</td>\n",
       "      <td>0.56</td>\n",
       "      <td>0.496387</td>\n",
       "      <td>0.086292</td>\n",
       "      <td>0.242811</td>\n",
       "      <td>0.553302</td>\n",
       "      <td>0.458849</td>\n",
       "    </tr>\n",
       "    <tr>\n",
       "      <th>0.35</th>\n",
       "      <td>0.76</td>\n",
       "      <td>0.427083</td>\n",
       "      <td>0.90</td>\n",
       "      <td>0.300000</td>\n",
       "      <td>0.62</td>\n",
       "      <td>0.485386</td>\n",
       "      <td>0.089969</td>\n",
       "      <td>0.240103</td>\n",
       "      <td>0.568509</td>\n",
       "      <td>0.433161</td>\n",
       "    </tr>\n",
       "    <tr>\n",
       "      <th>0.40</th>\n",
       "      <td>0.67</td>\n",
       "      <td>0.470213</td>\n",
       "      <td>0.92</td>\n",
       "      <td>0.271293</td>\n",
       "      <td>0.42</td>\n",
       "      <td>0.493559</td>\n",
       "      <td>0.084601</td>\n",
       "      <td>0.227860</td>\n",
       "      <td>0.419830</td>\n",
       "      <td>0.464556</td>\n",
       "    </tr>\n",
       "    <tr>\n",
       "      <th>0.45</th>\n",
       "      <td>0.70</td>\n",
       "      <td>0.458258</td>\n",
       "      <td>0.98</td>\n",
       "      <td>0.140000</td>\n",
       "      <td>0.42</td>\n",
       "      <td>0.493559</td>\n",
       "      <td>0.026933</td>\n",
       "      <td>0.140980</td>\n",
       "      <td>0.412991</td>\n",
       "      <td>0.485577</td>\n",
       "    </tr>\n",
       "    <tr>\n",
       "      <th>0.50</th>\n",
       "      <td>0.67</td>\n",
       "      <td>0.470213</td>\n",
       "      <td>0.96</td>\n",
       "      <td>0.195959</td>\n",
       "      <td>0.38</td>\n",
       "      <td>0.485386</td>\n",
       "      <td>0.039382</td>\n",
       "      <td>0.192817</td>\n",
       "      <td>0.366484</td>\n",
       "      <td>0.470740</td>\n",
       "    </tr>\n",
       "    <tr>\n",
       "      <th>0.55</th>\n",
       "      <td>0.69</td>\n",
       "      <td>0.462493</td>\n",
       "      <td>0.96</td>\n",
       "      <td>0.195959</td>\n",
       "      <td>0.42</td>\n",
       "      <td>0.493559</td>\n",
       "      <td>0.038626</td>\n",
       "      <td>0.168945</td>\n",
       "      <td>0.396346</td>\n",
       "      <td>0.468171</td>\n",
       "    </tr>\n",
       "    <tr>\n",
       "      <th>0.60</th>\n",
       "      <td>0.66</td>\n",
       "      <td>0.473709</td>\n",
       "      <td>0.94</td>\n",
       "      <td>0.237487</td>\n",
       "      <td>0.38</td>\n",
       "      <td>0.485386</td>\n",
       "      <td>0.071288</td>\n",
       "      <td>0.227889</td>\n",
       "      <td>0.377290</td>\n",
       "      <td>0.464267</td>\n",
       "    </tr>\n",
       "    <tr>\n",
       "      <th>0.65</th>\n",
       "      <td>0.78</td>\n",
       "      <td>0.414246</td>\n",
       "      <td>0.96</td>\n",
       "      <td>0.195959</td>\n",
       "      <td>0.60</td>\n",
       "      <td>0.489898</td>\n",
       "      <td>0.055211</td>\n",
       "      <td>0.191529</td>\n",
       "      <td>0.571618</td>\n",
       "      <td>0.442677</td>\n",
       "    </tr>\n",
       "    <tr>\n",
       "      <th>0.70</th>\n",
       "      <td>0.66</td>\n",
       "      <td>0.473709</td>\n",
       "      <td>0.96</td>\n",
       "      <td>0.195959</td>\n",
       "      <td>0.36</td>\n",
       "      <td>0.480000</td>\n",
       "      <td>0.052962</td>\n",
       "      <td>0.193359</td>\n",
       "      <td>0.359673</td>\n",
       "      <td>0.463832</td>\n",
       "    </tr>\n",
       "    <tr>\n",
       "      <th>0.75</th>\n",
       "      <td>0.67</td>\n",
       "      <td>0.470213</td>\n",
       "      <td>0.92</td>\n",
       "      <td>0.271293</td>\n",
       "      <td>0.42</td>\n",
       "      <td>0.493559</td>\n",
       "      <td>0.071450</td>\n",
       "      <td>0.231058</td>\n",
       "      <td>0.412534</td>\n",
       "      <td>0.475189</td>\n",
       "    </tr>\n",
       "    <tr>\n",
       "      <th>0.80</th>\n",
       "      <td>0.68</td>\n",
       "      <td>0.466476</td>\n",
       "      <td>0.92</td>\n",
       "      <td>0.271293</td>\n",
       "      <td>0.44</td>\n",
       "      <td>0.496387</td>\n",
       "      <td>0.075569</td>\n",
       "      <td>0.229310</td>\n",
       "      <td>0.435045</td>\n",
       "      <td>0.479817</td>\n",
       "    </tr>\n",
       "    <tr>\n",
       "      <th>0.85</th>\n",
       "      <td>0.67</td>\n",
       "      <td>0.470213</td>\n",
       "      <td>0.96</td>\n",
       "      <td>0.195959</td>\n",
       "      <td>0.38</td>\n",
       "      <td>0.485386</td>\n",
       "      <td>0.044326</td>\n",
       "      <td>0.188576</td>\n",
       "      <td>0.377403</td>\n",
       "      <td>0.469243</td>\n",
       "    </tr>\n",
       "    <tr>\n",
       "      <th>0.90</th>\n",
       "      <td>0.66</td>\n",
       "      <td>0.473709</td>\n",
       "      <td>0.92</td>\n",
       "      <td>0.271293</td>\n",
       "      <td>0.40</td>\n",
       "      <td>0.489898</td>\n",
       "      <td>0.069000</td>\n",
       "      <td>0.221708</td>\n",
       "      <td>0.394748</td>\n",
       "      <td>0.474902</td>\n",
       "    </tr>\n",
       "    <tr>\n",
       "      <th>0.95</th>\n",
       "      <td>0.66</td>\n",
       "      <td>0.473709</td>\n",
       "      <td>0.90</td>\n",
       "      <td>0.300000</td>\n",
       "      <td>0.42</td>\n",
       "      <td>0.493559</td>\n",
       "      <td>0.091116</td>\n",
       "      <td>0.272436</td>\n",
       "      <td>0.419436</td>\n",
       "      <td>0.491347</td>\n",
       "    </tr>\n",
       "  </tbody>\n",
       "</table>\n",
       "</div>"
      ],
      "text/plain": [
       "      mean_accuracy  std_accuracy  mean_control_accuracy  \\\n",
       "0.05           0.80      0.400000                   0.88   \n",
       "0.10           0.89      0.312890                   0.90   \n",
       "0.15           0.92      0.271293                   0.96   \n",
       "0.20           0.80      0.400000                   0.84   \n",
       "0.25           0.74      0.438634                   0.94   \n",
       "0.30           0.73      0.443959                   0.90   \n",
       "0.35           0.76      0.427083                   0.90   \n",
       "0.40           0.67      0.470213                   0.92   \n",
       "0.45           0.70      0.458258                   0.98   \n",
       "0.50           0.67      0.470213                   0.96   \n",
       "0.55           0.69      0.462493                   0.96   \n",
       "0.60           0.66      0.473709                   0.94   \n",
       "0.65           0.78      0.414246                   0.96   \n",
       "0.70           0.66      0.473709                   0.96   \n",
       "0.75           0.67      0.470213                   0.92   \n",
       "0.80           0.68      0.466476                   0.92   \n",
       "0.85           0.67      0.470213                   0.96   \n",
       "0.90           0.66      0.473709                   0.92   \n",
       "0.95           0.66      0.473709                   0.90   \n",
       "\n",
       "      std_control_accuracy  mean_treat_accuracy  std_treat_accuracy  \\\n",
       "0.05              0.324962                 0.72            0.448999   \n",
       "0.10              0.300000                 0.88            0.324962   \n",
       "0.15              0.195959                 0.88            0.324962   \n",
       "0.20              0.366606                 0.76            0.427083   \n",
       "0.25              0.237487                 0.54            0.498397   \n",
       "0.30              0.300000                 0.56            0.496387   \n",
       "0.35              0.300000                 0.62            0.485386   \n",
       "0.40              0.271293                 0.42            0.493559   \n",
       "0.45              0.140000                 0.42            0.493559   \n",
       "0.50              0.195959                 0.38            0.485386   \n",
       "0.55              0.195959                 0.42            0.493559   \n",
       "0.60              0.237487                 0.38            0.485386   \n",
       "0.65              0.195959                 0.60            0.489898   \n",
       "0.70              0.195959                 0.36            0.480000   \n",
       "0.75              0.271293                 0.42            0.493559   \n",
       "0.80              0.271293                 0.44            0.496387   \n",
       "0.85              0.195959                 0.38            0.485386   \n",
       "0.90              0.271293                 0.40            0.489898   \n",
       "0.95              0.300000                 0.42            0.493559   \n",
       "\n",
       "      mean_pred_score_control  std_pred_score_control  \\\n",
       "0.05                 0.141478                0.277232   \n",
       "0.10                 0.134525                0.247329   \n",
       "0.15                 0.034166                0.132680   \n",
       "0.20                 0.155384                0.333898   \n",
       "0.25                 0.069832                0.199288   \n",
       "0.30                 0.086292                0.242811   \n",
       "0.35                 0.089969                0.240103   \n",
       "0.40                 0.084601                0.227860   \n",
       "0.45                 0.026933                0.140980   \n",
       "0.50                 0.039382                0.192817   \n",
       "0.55                 0.038626                0.168945   \n",
       "0.60                 0.071288                0.227889   \n",
       "0.65                 0.055211                0.191529   \n",
       "0.70                 0.052962                0.193359   \n",
       "0.75                 0.071450                0.231058   \n",
       "0.80                 0.075569                0.229310   \n",
       "0.85                 0.044326                0.188576   \n",
       "0.90                 0.069000                0.221708   \n",
       "0.95                 0.091116                0.272436   \n",
       "\n",
       "      mean_pred_score_treatment  std_pred_score_treatment  \n",
       "0.05                   0.712987                  0.387560  \n",
       "0.10                   0.842480                  0.296975  \n",
       "0.15                   0.844991                  0.318048  \n",
       "0.20                   0.754050                  0.352207  \n",
       "0.25                   0.540951                  0.434158  \n",
       "0.30                   0.553302                  0.458849  \n",
       "0.35                   0.568509                  0.433161  \n",
       "0.40                   0.419830                  0.464556  \n",
       "0.45                   0.412991                  0.485577  \n",
       "0.50                   0.366484                  0.470740  \n",
       "0.55                   0.396346                  0.468171  \n",
       "0.60                   0.377290                  0.464267  \n",
       "0.65                   0.571618                  0.442677  \n",
       "0.70                   0.359673                  0.463832  \n",
       "0.75                   0.412534                  0.475189  \n",
       "0.80                   0.435045                  0.479817  \n",
       "0.85                   0.377403                  0.469243  \n",
       "0.90                   0.394748                  0.474902  \n",
       "0.95                   0.419436                  0.491347  "
      ]
     },
     "execution_count": 58,
     "metadata": {},
     "output_type": "execute_result"
    }
   ],
   "source": [
    "table"
   ]
  },
  {
   "cell_type": "code",
   "execution_count": 13,
   "metadata": {},
   "outputs": [
    {
     "data": {
      "image/png": "[encoded data removed]",
      "text/plain": [
       "<Figure size 1008x360 with 2 Axes>"
      ]
     },
     "metadata": {
      "needs_background": "light"
     },
     "output_type": "display_data"
    }
   ],
   "source": [
    "path = \"./\"\n",
    "file_name = \"attset_0.5_bags100_bagsize100_feature481.csv\"\n",
    "\n",
    "plot_ds_acc(path,file_name)"
   ]
  },
  {
   "cell_type": "code",
   "execution_count": 7,
   "metadata": {},
   "outputs": [],
   "source": [
    "dataset = dmso_taxol_ProfileBag(mini_data, 10, 11, 1, 5/100, \"taxol\", \"DMSO\", 8, 0.5,False)"
   ]
  },
  {
   "cell_type": "code",
   "execution_count": 9,
   "metadata": {},
   "outputs": [],
   "source": [
    "train_loader = D.DataLoader(dataset, batch_size=1, shuffle=True)"
   ]
  },
  {
   "cell_type": "code",
   "execution_count": 10,
   "metadata": {},
   "outputs": [],
   "source": [
    "x1,y1 = iter(train_loader).next()"
   ]
  },
  {
   "cell_type": "code",
   "execution_count": null,
   "metadata": {},
   "outputs": [],
   "source": []
  }
 ],
 "metadata": {
  "kernelspec": {
   "display_name": "Python 3",
   "language": "python",
   "name": "python3"
  },
  "language_info": {
   "codemirror_mode": {
    "name": "ipython",
    "version": 3
   },
   "file_extension": ".py",
   "mimetype": "text/x-python",
   "name": "python",
   "nbconvert_exporter": "python",
   "pygments_lexer": "ipython3",
   "version": "3.7.6"
  }
 },
 "nbformat": 4,
 "nbformat_minor": 4
}

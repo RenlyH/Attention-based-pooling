{
 "cells": [
  {
   "cell_type": "code",
   "execution_count": 3,
   "metadata": {},
   "outputs": [],
   "source": [
    "import matplotlib.pyplot as plt\n",
    "import numpy as np\n",
    "import pandas as pd\n",
    "from tqdm.notebook import tqdm\n",
    "\n",
    "from data_loader import data_label_split\n",
    "from data_loader import generate_data_set\n",
    "from data_loader import dmso_taxol_ProfileBag\n",
    "from data_loader import data_normalization\n",
    "from deepset_exp import mini_noise_signal_cv\n",
    "from deepset_exp import train\n",
    "from deepset_exp import test\n",
    "\n",
    "from model import SmallDeepSet\n",
    "from model import FullDeepSet\n",
    "from model import profile_AttSet\n",
    "\n",
    "from sklearn.linear_model import LogisticRegression\n",
    "from sklearn.model_selection import cross_validate\n",
    "from sklearn.model_selection import StratifiedKFold\n",
    "from sklearn import datasets\n",
    "from sklearn.preprocessing import LabelEncoder\n",
    "from sklearn.metrics import confusion_matrix\n",
    "from sklearn.ensemble import RandomForestClassifier\n",
    "from sklearn.preprocessing import normalize\n",
    "\n",
    "import torch\n",
    "import torch.utils.data as D \n",
    "import torch.nn as nn\n",
    "from torch.autograd import Variable\n",
    "import torch.optim as optim\n",
    "import torch.nn.functional as F"
   ]
  },
  {
   "cell_type": "code",
   "execution_count": 2,
   "metadata": {},
   "outputs": [],
   "source": [
    "mini_data = pd.read_csv(\"mini_moa_data_drop_NA.csv\",index_col=0)"
   ]
  },
  {
   "cell_type": "code",
   "execution_count": 3,
   "metadata": {},
   "outputs": [],
   "source": [
    "sf_drop_NA_data = mini_data[[\"compound\", \"concentration\",\n",
    "                                \"moa\", \"row ID\", \"Iteration (#2)\", \"COND\",\n",
    "                               \"AreaShape_Area_Nuclei\", \"AreaShape_Compactness_Nuclei\"]]\n",
    "bagData = dmso_taxol_ProfileBag(mini_data, 200, 50, 5, 0.5, \"taxol\", \"DMSO\", 0.5)\n",
    "dataloader = D.DataLoader(bagData, batch_size=1, shuffle=True)"
   ]
  },
  {
   "cell_type": "code",
   "execution_count": 3,
   "metadata": {},
   "outputs": [],
   "source": [
    "# X,y = data_label_split(mini_data)\n",
    "# data = pd.concat([pd.DataFrame(normalize(X), columns = X.columns), y], axis=1, sort = False )\n",
    "\n",
    "data = data_normalization(mini_data)\n"
   ]
  },
  {
   "cell_type": "code",
   "execution_count": 173,
   "metadata": {},
   "outputs": [],
   "source": [
    "x = iter(dataloader).next()[0]#.shape"
   ]
  },
  {
   "cell_type": "code",
   "execution_count": 176,
   "metadata": {},
   "outputs": [],
   "source": [
    "y_prob, y_hat = model(x.float().cuda())"
   ]
  },
  {
   "cell_type": "markdown",
   "metadata": {},
   "source": [
    "# Deep Set Model"
   ]
  },
  {
   "cell_type": "code",
   "execution_count": 6,
   "metadata": {},
   "outputs": [],
   "source": [
    "# full_deepset = SmallDeepSet().cuda()\n",
    "# optimizer = optim.Adam(full_deepset.parameters(), lr=0.0005, betas=(0.9, 0.999), weight_decay=10e-5)"
   ]
  },
  {
   "cell_type": "code",
   "execution_count": 6,
   "metadata": {},
   "outputs": [],
   "source": [
    "start = 90\n",
    "end = 91\n",
    "# data = mini_data\n",
    "num_bag = 100\n",
    "bag_size_mean = 200\n",
    "bag_size_std = 10\n",
    "treatment = \"taxol\"\n",
    "control = \"DMSO\"\n",
    "model = FullDeepSet(\"mean\").cuda()\n",
    "# optimizer = optimizer\n",
    "splits = 3\n",
    "epochs = 20"
   ]
  },
  {
   "cell_type": "code",
   "execution_count": 4,
   "metadata": {},
   "outputs": [
    {
     "name": "stdout",
     "output_type": "stream",
     "text": [
      "183,558 total parameters.\n",
      "183,558 training parameters.\n"
     ]
    }
   ],
   "source": [
    "total_params = sum(p.numel() for p in model.parameters())\n",
    "print(f'{total_params:,} total parameters.')\n",
    "total_trainable_params = sum(\n",
    "    p.numel() for p in model.parameters() if p.requires_grad)\n",
    "print(f'{total_trainable_params:,} training parameters.')\n"
   ]
  },
  {
   "cell_type": "code",
   "execution_count": 17,
   "metadata": {},
   "outputs": [],
   "source": [
    "optimizer = optim.Adam(model.parameters(), lr=0.001, betas=(0.9, 0.999), weight_decay=10e-5)"
   ]
  },
  {
   "cell_type": "code",
   "execution_count": 18,
   "metadata": {
    "collapsed": true,
    "jupyter": {
     "outputs_hidden": true
    }
   },
   "outputs": [
    {
     "name": "stderr",
     "output_type": "stream",
     "text": [
      "training at different percent:   0%|          | 0/1 [00:00<?, ?it/s]\n",
      "3 fold cross validation: 0it [00:00, ?it/s]\u001b[A\n",
      "\n",
      "For 0 epoch: 0it [00:00, ?it/s]\u001b[A\u001b[A\n",
      "\n",
      "For 0 epoch: 1it [00:00,  2.68it/s]\u001b[A\u001b[A\n",
      "\n",
      "For 0 epoch: 9it [00:00,  3.77it/s]\u001b[A\u001b[A\n",
      "\n",
      "For 0 epoch: 17it [00:00,  5.27it/s]\u001b[A\u001b[A\n",
      "\n",
      "For 0 epoch: 26it [00:00,  7.32it/s]\u001b[A\u001b[A\n",
      "\n",
      "For 0 epoch: 32it [00:00,  9.94it/s]\u001b[A\u001b[A\n",
      "\n",
      "For 0 epoch: 41it [00:00, 13.53it/s]\u001b[A\u001b[A\n",
      "\n",
      "For 0 epoch: 50it [00:01, 18.11it/s]\u001b[A\u001b[A\n",
      "\n",
      "For 0 epoch: 66it [00:01, 55.31it/s]\u001b[A\u001b[A\n",
      "\n",
      "\n",
      "For 1 epoch: 0it [00:00, ?it/s]\u001b[A\u001b[A\n",
      "\n",
      "For 1 epoch: 11it [00:00, 109.50it/s]\u001b[A\u001b[A"
     ]
    },
    {
     "name": "stdout",
     "output_type": "stream",
     "text": [
      "Epoch: 0, Loss: 0.6756, Train error: 0.4091\n"
     ]
    },
    {
     "name": "stderr",
     "output_type": "stream",
     "text": [
      "\n",
      "\n",
      "For 1 epoch: 23it [00:00, 112.34it/s]\u001b[A\u001b[A\n",
      "\n",
      "For 1 epoch: 33it [00:00, 101.26it/s]\u001b[A\u001b[A\n",
      "\n",
      "For 1 epoch: 40it [00:00, 82.91it/s] \u001b[A\u001b[A\n",
      "\n",
      "For 1 epoch: 47it [00:00, 77.29it/s]\u001b[A\u001b[A\n",
      "\n",
      "For 1 epoch: 57it [00:00, 80.93it/s]\u001b[A\u001b[A\n",
      "\n",
      "For 1 epoch: 66it [00:00, 85.67it/s]\u001b[A\u001b[A\n",
      "\n",
      "\n",
      "For 2 epoch: 0it [00:00, ?it/s]\u001b[A\u001b[A\n",
      "\n",
      "For 2 epoch: 10it [00:00, 92.45it/s]\u001b[A\u001b[A"
     ]
    },
    {
     "name": "stdout",
     "output_type": "stream",
     "text": [
      "Epoch: 1, Loss: 0.3605, Train error: 0.1212\n"
     ]
    },
    {
     "name": "stderr",
     "output_type": "stream",
     "text": [
      "\n",
      "\n",
      "For 2 epoch: 17it [00:00, 84.29it/s]\u001b[A\u001b[A\n",
      "\n",
      "For 2 epoch: 26it [00:00, 84.09it/s]\u001b[A\u001b[A\n",
      "\n",
      "For 2 epoch: 35it [00:00, 83.57it/s]\u001b[A\u001b[A\n",
      "\n",
      "For 2 epoch: 44it [00:00, 83.97it/s]\u001b[A\u001b[A\n",
      "\n",
      "For 2 epoch: 54it [00:00, 86.59it/s]\u001b[A\u001b[A\n",
      "\n",
      "For 2 epoch: 66it [00:00, 83.72it/s]\u001b[A\u001b[A\n",
      "\n",
      "\n",
      "For 3 epoch: 0it [00:00, ?it/s]\u001b[A\u001b[A\n",
      "\n",
      "For 3 epoch: 9it [00:00, 87.38it/s]\u001b[A\u001b[A"
     ]
    },
    {
     "name": "stdout",
     "output_type": "stream",
     "text": [
      "Epoch: 2, Loss: 0.0378, Train error: 0.0000\n"
     ]
    },
    {
     "name": "stderr",
     "output_type": "stream",
     "text": [
      "\n",
      "\n",
      "For 3 epoch: 18it [00:00, 87.41it/s]\u001b[A\u001b[A\n",
      "\n",
      "For 3 epoch: 28it [00:00, 89.75it/s]\u001b[A\u001b[A\n",
      "\n",
      "For 3 epoch: 38it [00:00, 90.48it/s]\u001b[A\u001b[A\n",
      "\n",
      "For 3 epoch: 48it [00:00, 92.07it/s]\u001b[A\u001b[A\n",
      "\n",
      "For 3 epoch: 66it [00:00, 92.58it/s]\u001b[A\u001b[A\n",
      "\n",
      "\n",
      "For 4 epoch: 0it [00:00, ?it/s]\u001b[A\u001b[A\n",
      "\n",
      "For 4 epoch: 7it [00:00, 63.34it/s]\u001b[A\u001b[A"
     ]
    },
    {
     "name": "stdout",
     "output_type": "stream",
     "text": [
      "Epoch: 3, Loss: 0.0063, Train error: 0.0000\n"
     ]
    },
    {
     "name": "stderr",
     "output_type": "stream",
     "text": [
      "\n",
      "\n",
      "For 4 epoch: 14it [00:00, 64.36it/s]\u001b[A\u001b[A\n",
      "\n",
      "For 4 epoch: 22it [00:00, 66.28it/s]\u001b[A\u001b[A\n",
      "\n",
      "For 4 epoch: 29it [00:00, 65.70it/s]\u001b[A\u001b[A\n",
      "\n",
      "For 4 epoch: 35it [00:00, 63.69it/s]\u001b[A\u001b[A\n",
      "\n",
      "For 4 epoch: 41it [00:00, 59.70it/s]\u001b[A\u001b[A\n",
      "\n",
      "For 4 epoch: 48it [00:00, 62.35it/s]\u001b[A\u001b[A\n",
      "\n",
      "For 4 epoch: 56it [00:00, 65.13it/s]\u001b[A\u001b[A\n",
      "\n",
      "For 4 epoch: 66it [00:01, 64.98it/s]\u001b[A\u001b[A\n",
      "\n",
      "\n",
      "For 5 epoch: 0it [00:00, ?it/s]\u001b[A\u001b[A\n",
      "\n",
      "For 5 epoch: 8it [00:00, 75.81it/s]\u001b[A\u001b[A"
     ]
    },
    {
     "name": "stdout",
     "output_type": "stream",
     "text": [
      "Epoch: 4, Loss: 0.0038, Train error: 0.0000\n"
     ]
    },
    {
     "name": "stderr",
     "output_type": "stream",
     "text": [
      "\n",
      "\n",
      "For 5 epoch: 15it [00:00, 71.29it/s]\u001b[A\u001b[A\n",
      "\n",
      "For 5 epoch: 24it [00:00, 75.31it/s]\u001b[A\u001b[A\n",
      "\n",
      "For 5 epoch: 30it [00:00, 68.57it/s]\u001b[A\u001b[A\n",
      "\n",
      "For 5 epoch: 36it [00:00, 63.70it/s]\u001b[A\u001b[A\n",
      "\n",
      "For 5 epoch: 42it [00:00, 62.03it/s]\u001b[A\u001b[A\n",
      "\n",
      "For 5 epoch: 51it [00:00, 67.45it/s]\u001b[A\u001b[A\n",
      "\n",
      "For 5 epoch: 58it [00:00, 66.64it/s]\u001b[A\u001b[A\n",
      "\n",
      "For 5 epoch: 66it [00:00, 68.08it/s]\u001b[A\u001b[A\n",
      "\n",
      "\n",
      "For 6 epoch: 0it [00:00, ?it/s]\u001b[A\u001b[A\n",
      "\n",
      "For 6 epoch: 8it [00:00, 72.97it/s]\u001b[A\u001b[A"
     ]
    },
    {
     "name": "stdout",
     "output_type": "stream",
     "text": [
      "Epoch: 5, Loss: 0.0024, Train error: 0.0000\n"
     ]
    },
    {
     "name": "stderr",
     "output_type": "stream",
     "text": [
      "\n",
      "\n",
      "For 6 epoch: 17it [00:00, 73.05it/s]\u001b[A\u001b[A\n",
      "\n",
      "For 6 epoch: 24it [00:00, 71.12it/s]\u001b[A\u001b[A\n",
      "\n",
      "For 6 epoch: 32it [00:00, 72.41it/s]\u001b[A\u001b[A\n",
      "\n",
      "For 6 epoch: 40it [00:00, 71.55it/s]\u001b[A\u001b[A\n",
      "\n",
      "For 6 epoch: 47it [00:00, 69.88it/s]\u001b[A\u001b[A\n",
      "\n",
      "For 6 epoch: 54it [00:00, 62.78it/s]\u001b[A\u001b[A\n",
      "\n",
      "For 6 epoch: 66it [00:00, 69.10it/s]\u001b[A\u001b[A\n",
      "\n",
      "\n",
      "For 7 epoch: 0it [00:00, ?it/s]\u001b[A\u001b[A\n",
      "\n",
      "For 7 epoch: 7it [00:00, 63.31it/s]\u001b[A\u001b[A"
     ]
    },
    {
     "name": "stdout",
     "output_type": "stream",
     "text": [
      "Epoch: 6, Loss: 0.0017, Train error: 0.0000\n"
     ]
    },
    {
     "name": "stderr",
     "output_type": "stream",
     "text": [
      "\n",
      "\n",
      "For 7 epoch: 14it [00:00, 64.00it/s]\u001b[A\u001b[A\n",
      "\n",
      "For 7 epoch: 21it [00:00, 64.46it/s]\u001b[A\u001b[A\n",
      "\n",
      "For 7 epoch: 32it [00:00, 71.70it/s]\u001b[A\u001b[A\n",
      "\n",
      "For 7 epoch: 40it [00:00, 72.83it/s]\u001b[A\u001b[A\n",
      "\n",
      "For 7 epoch: 49it [00:00, 76.42it/s]\u001b[A\u001b[A\n",
      "\n",
      "For 7 epoch: 57it [00:00, 73.05it/s]\u001b[A\u001b[A\n",
      "\n",
      "For 7 epoch: 66it [00:00, 74.59it/s]\u001b[A\u001b[A\n",
      "\n",
      "\n",
      "For 8 epoch: 0it [00:00, ?it/s]\u001b[A\u001b[A\n",
      "\n",
      "For 8 epoch: 9it [00:00, 87.83it/s]\u001b[A\u001b[A"
     ]
    },
    {
     "name": "stdout",
     "output_type": "stream",
     "text": [
      "Epoch: 7, Loss: 0.0014, Train error: 0.0000\n"
     ]
    },
    {
     "name": "stderr",
     "output_type": "stream",
     "text": [
      "\n",
      "\n",
      "For 8 epoch: 17it [00:00, 83.64it/s]\u001b[A\u001b[A\n",
      "\n",
      "For 8 epoch: 25it [00:00, 80.70it/s]\u001b[A\u001b[A\n",
      "\n",
      "For 8 epoch: 34it [00:00, 81.03it/s]\u001b[A\u001b[A\n",
      "\n",
      "For 8 epoch: 41it [00:00, 75.79it/s]\u001b[A\u001b[A\n",
      "\n",
      "For 8 epoch: 48it [00:00, 70.95it/s]\u001b[A\u001b[A\n",
      "\n",
      "For 8 epoch: 57it [00:00, 75.53it/s]\u001b[A\u001b[A\n",
      "\n",
      "For 8 epoch: 66it [00:00, 76.83it/s]\u001b[A\u001b[A\n",
      "\n",
      "\n",
      "For 9 epoch: 0it [00:00, ?it/s]\u001b[A\u001b[A\n",
      "\n",
      "For 9 epoch: 9it [00:00, 86.36it/s]\u001b[A\u001b[A"
     ]
    },
    {
     "name": "stdout",
     "output_type": "stream",
     "text": [
      "Epoch: 8, Loss: 0.0011, Train error: 0.0000\n"
     ]
    },
    {
     "name": "stderr",
     "output_type": "stream",
     "text": [
      "\n",
      "\n",
      "For 9 epoch: 15it [00:00, 74.69it/s]\u001b[A\u001b[A\n",
      "\n",
      "For 9 epoch: 23it [00:00, 74.22it/s]\u001b[A\u001b[A\n",
      "\n",
      "For 9 epoch: 32it [00:00, 78.22it/s]\u001b[A\u001b[A\n",
      "\n",
      "For 9 epoch: 42it [00:00, 82.34it/s]\u001b[A\u001b[A\n",
      "\n",
      "For 9 epoch: 49it [00:00, 77.23it/s]\u001b[A\u001b[A\n",
      "\n",
      "For 9 epoch: 66it [00:00, 80.74it/s]\u001b[A\u001b[A\n",
      "\n",
      "\n",
      "For 10 epoch: 0it [00:00, ?it/s]\u001b[A\u001b[A\n",
      "\n",
      "For 10 epoch: 10it [00:00, 96.76it/s]\u001b[A\u001b[A"
     ]
    },
    {
     "name": "stdout",
     "output_type": "stream",
     "text": [
      "Epoch: 9, Loss: 0.0010, Train error: 0.0000\n"
     ]
    },
    {
     "name": "stderr",
     "output_type": "stream",
     "text": [
      "\n",
      "\n",
      "For 10 epoch: 20it [00:00, 94.58it/s]\u001b[A\u001b[A\n",
      "\n",
      "For 10 epoch: 31it [00:00, 97.43it/s]\u001b[A\u001b[A\n",
      "\n",
      "For 10 epoch: 41it [00:00, 95.31it/s]\u001b[A\u001b[A\n",
      "\n",
      "For 10 epoch: 52it [00:00, 98.45it/s]\u001b[A\u001b[A\n",
      "\n",
      "For 10 epoch: 66it [00:00, 97.48it/s]\u001b[A\u001b[A\n",
      "\n",
      "\n",
      "For 11 epoch: 0it [00:00, ?it/s]\u001b[A\u001b[A\n",
      "\n",
      "For 11 epoch: 9it [00:00, 87.45it/s]\u001b[A\u001b[A"
     ]
    },
    {
     "name": "stdout",
     "output_type": "stream",
     "text": [
      "Epoch: 10, Loss: 0.0009, Train error: 0.0000\n"
     ]
    },
    {
     "name": "stderr",
     "output_type": "stream",
     "text": [
      "\n",
      "\n",
      "For 11 epoch: 18it [00:00, 86.51it/s]\u001b[A\u001b[A\n",
      "\n",
      "For 11 epoch: 27it [00:00, 87.09it/s]\u001b[A\u001b[A\n",
      "\n",
      "For 11 epoch: 36it [00:00, 86.85it/s]\u001b[A\u001b[A\n",
      "\n",
      "For 11 epoch: 43it [00:00, 74.50it/s]\u001b[A\u001b[A\n",
      "\n",
      "For 11 epoch: 52it [00:00, 78.05it/s]\u001b[A\u001b[A\n",
      "\n",
      "For 11 epoch: 66it [00:00, 84.73it/s]\u001b[A\u001b[A\n",
      "\n",
      "\n",
      "For 12 epoch: 0it [00:00, ?it/s]\u001b[A\u001b[A\n",
      "\n",
      "For 12 epoch: 11it [00:00, 106.60it/s]\u001b[A\u001b[A"
     ]
    },
    {
     "name": "stdout",
     "output_type": "stream",
     "text": [
      "Epoch: 11, Loss: 0.0008, Train error: 0.0000\n"
     ]
    },
    {
     "name": "stderr",
     "output_type": "stream",
     "text": [
      "\n",
      "\n",
      "For 12 epoch: 21it [00:00, 102.44it/s]\u001b[A\u001b[A\n",
      "\n",
      "For 12 epoch: 31it [00:00, 98.71it/s] \u001b[A\u001b[A\n",
      "\n",
      "For 12 epoch: 41it [00:00, 98.42it/s]\u001b[A\u001b[A\n",
      "\n",
      "For 12 epoch: 52it [00:00, 98.72it/s]\u001b[A\u001b[A\n",
      "\n",
      "For 12 epoch: 66it [00:00, 96.87it/s]\u001b[A\u001b[A\n",
      "\n",
      "\n",
      "For 13 epoch: 0it [00:00, ?it/s]\u001b[A\u001b[A\n",
      "\n",
      "For 13 epoch: 10it [00:00, 95.06it/s]\u001b[A\u001b[A"
     ]
    },
    {
     "name": "stdout",
     "output_type": "stream",
     "text": [
      "Epoch: 12, Loss: 0.0008, Train error: 0.0000\n"
     ]
    },
    {
     "name": "stderr",
     "output_type": "stream",
     "text": [
      "\n",
      "\n",
      "For 13 epoch: 20it [00:00, 94.32it/s]\u001b[A\u001b[A\n",
      "\n",
      "For 13 epoch: 30it [00:00, 94.86it/s]\u001b[A\u001b[A\n",
      "\n",
      "For 13 epoch: 39it [00:00, 93.31it/s]\u001b[A\u001b[A\n",
      "\n",
      "For 13 epoch: 50it [00:00, 97.16it/s]\u001b[A\u001b[A\n",
      "\n",
      "For 13 epoch: 66it [00:00, 95.47it/s]\u001b[A\u001b[A\n",
      "\n",
      "\n",
      "For 14 epoch: 0it [00:00, ?it/s]\u001b[A\u001b[A\n",
      "\n",
      "For 14 epoch: 10it [00:00, 97.51it/s]\u001b[A\u001b[A"
     ]
    },
    {
     "name": "stdout",
     "output_type": "stream",
     "text": [
      "Epoch: 13, Loss: 0.0007, Train error: 0.0000\n"
     ]
    },
    {
     "name": "stderr",
     "output_type": "stream",
     "text": [
      "\n",
      "\n",
      "For 14 epoch: 20it [00:00, 97.61it/s]\u001b[A\u001b[A\n",
      "\n",
      "For 14 epoch: 31it [00:00, 98.45it/s]\u001b[A\u001b[A\n",
      "\n",
      "For 14 epoch: 42it [00:00, 99.72it/s]\u001b[A\u001b[A\n",
      "\n",
      "For 14 epoch: 52it [00:00, 96.95it/s]\u001b[A\u001b[A\n",
      "\n",
      "For 14 epoch: 66it [00:00, 98.84it/s]\u001b[A\u001b[A\n",
      "\n",
      "\n",
      "For 15 epoch: 0it [00:00, ?it/s]\u001b[A\u001b[A\n",
      "\n",
      "For 15 epoch: 11it [00:00, 100.71it/s]\u001b[A\u001b[A"
     ]
    },
    {
     "name": "stdout",
     "output_type": "stream",
     "text": [
      "Epoch: 14, Loss: 0.0007, Train error: 0.0000\n"
     ]
    },
    {
     "name": "stderr",
     "output_type": "stream",
     "text": [
      "\n",
      "\n",
      "For 15 epoch: 20it [00:00, 93.89it/s] \u001b[A\u001b[A\n",
      "\n",
      "For 15 epoch: 30it [00:00, 94.67it/s]\u001b[A\u001b[A\n",
      "\n",
      "For 15 epoch: 39it [00:00, 92.76it/s]\u001b[A\u001b[A\n",
      "\n",
      "For 15 epoch: 49it [00:00, 93.45it/s]\u001b[A\u001b[A\n",
      "\n",
      "For 15 epoch: 66it [00:00, 92.55it/s]\u001b[A\u001b[A\n",
      "\n",
      "\n",
      "For 16 epoch: 0it [00:00, ?it/s]\u001b[A\u001b[A\n",
      "\n",
      "For 16 epoch: 10it [00:00, 94.37it/s]\u001b[A\u001b[A"
     ]
    },
    {
     "name": "stdout",
     "output_type": "stream",
     "text": [
      "Epoch: 15, Loss: 0.0006, Train error: 0.0000\n"
     ]
    },
    {
     "name": "stderr",
     "output_type": "stream",
     "text": [
      "\n",
      "\n",
      "For 16 epoch: 19it [00:00, 92.57it/s]\u001b[A\u001b[A\n",
      "\n",
      "For 16 epoch: 25it [00:00, 78.69it/s]\u001b[A\u001b[A\n",
      "\n",
      "For 16 epoch: 31it [00:00, 71.21it/s]\u001b[A\u001b[A\n",
      "\n",
      "For 16 epoch: 39it [00:00, 71.93it/s]\u001b[A\u001b[A\n",
      "\n",
      "For 16 epoch: 48it [00:00, 76.37it/s]\u001b[A\u001b[A\n",
      "\n",
      "For 16 epoch: 66it [00:00, 81.64it/s]\u001b[A\u001b[A\n",
      "\n",
      "\n",
      "For 17 epoch: 0it [00:00, ?it/s]\u001b[A\u001b[A\n",
      "\n",
      "For 17 epoch: 11it [00:00, 102.55it/s]\u001b[A\u001b[A"
     ]
    },
    {
     "name": "stdout",
     "output_type": "stream",
     "text": [
      "Epoch: 16, Loss: 0.0007, Train error: 0.0000\n"
     ]
    },
    {
     "name": "stderr",
     "output_type": "stream",
     "text": [
      "\n",
      "\n",
      "For 17 epoch: 21it [00:00, 98.85it/s] \u001b[A\u001b[A\n",
      "\n",
      "For 17 epoch: 31it [00:00, 96.39it/s]\u001b[A\u001b[A\n",
      "\n",
      "For 17 epoch: 42it [00:00, 98.90it/s]\u001b[A\u001b[A\n",
      "\n",
      "For 17 epoch: 52it [00:00, 98.16it/s]\u001b[A\u001b[A\n",
      "\n",
      "For 17 epoch: 66it [00:00, 95.59it/s]\u001b[A\u001b[A\n",
      "\n",
      "\n",
      "For 18 epoch: 0it [00:00, ?it/s]\u001b[A\u001b[A\n",
      "\n",
      "For 18 epoch: 11it [00:00, 105.87it/s]\u001b[A\u001b[A"
     ]
    },
    {
     "name": "stdout",
     "output_type": "stream",
     "text": [
      "Epoch: 17, Loss: 0.0006, Train error: 0.0000\n"
     ]
    },
    {
     "name": "stderr",
     "output_type": "stream",
     "text": [
      "\n",
      "\n",
      "For 18 epoch: 20it [00:00, 99.74it/s] \u001b[A\u001b[A\n",
      "\n",
      "For 18 epoch: 30it [00:00, 97.15it/s]\u001b[A\u001b[A\n",
      "\n",
      "For 18 epoch: 40it [00:00, 97.36it/s]\u001b[A\u001b[A\n",
      "\n",
      "For 18 epoch: 51it [00:00, 99.63it/s]\u001b[A\u001b[A\n",
      "\n",
      "For 18 epoch: 66it [00:00, 94.47it/s] \u001b[A\u001b[A\n",
      "\n",
      "\n",
      "For 19 epoch: 0it [00:00, ?it/s]\u001b[A\u001b[A\n",
      "\n",
      "For 19 epoch: 6it [00:00, 59.92it/s]\u001b[A\u001b[A"
     ]
    },
    {
     "name": "stdout",
     "output_type": "stream",
     "text": [
      "Epoch: 18, Loss: 0.0006, Train error: 0.0000\n"
     ]
    },
    {
     "name": "stderr",
     "output_type": "stream",
     "text": [
      "\n",
      "\n",
      "For 19 epoch: 16it [00:00, 66.17it/s]\u001b[A\u001b[A\n",
      "\n",
      "For 19 epoch: 24it [00:00, 68.73it/s]\u001b[A\u001b[A\n",
      "\n",
      "For 19 epoch: 32it [00:00, 69.19it/s]\u001b[A\u001b[A\n",
      "\n",
      "For 19 epoch: 38it [00:00, 62.31it/s]\u001b[A\u001b[A\n",
      "\n",
      "For 19 epoch: 44it [00:00, 61.41it/s]\u001b[A\u001b[A\n",
      "\n",
      "For 19 epoch: 52it [00:00, 63.51it/s]\u001b[A\u001b[A\n",
      "\n",
      "For 19 epoch: 58it [00:00, 57.49it/s]\u001b[A\u001b[A\n",
      "\n",
      "For 19 epoch: 66it [00:01, 64.16it/s]\u001b[A\u001b[A\n"
     ]
    },
    {
     "name": "stdout",
     "output_type": "stream",
     "text": [
      "Epoch: 19, Loss: 0.0006, Train error: 0.0000\n"
     ]
    },
    {
     "name": "stderr",
     "output_type": "stream",
     "text": [
      "\n",
      "3 fold cross validation: 1it [00:16, 16.93s/it]\u001b[A\n",
      "\n",
      "For 0 epoch: 0it [00:00, ?it/s]\u001b[A\u001b[A\n",
      "\n",
      "For 0 epoch: 7it [00:00, 66.34it/s]\u001b[A\u001b[A\n",
      "\n",
      "For 0 epoch: 17it [00:00, 73.31it/s]\u001b[A\u001b[A\n",
      "\n",
      "For 0 epoch: 25it [00:00, 73.94it/s]\u001b[A\u001b[A\n",
      "\n",
      "For 0 epoch: 36it [00:00, 80.14it/s]\u001b[A\u001b[A\n",
      "\n",
      "For 0 epoch: 46it [00:00, 83.04it/s]\u001b[A\u001b[A\n",
      "\n",
      "For 0 epoch: 56it [00:00, 86.41it/s]\u001b[A\u001b[A\n",
      "\n",
      "For 0 epoch: 66it [00:00, 87.67it/s]\u001b[A\u001b[A\n",
      "\n",
      "\n",
      "For 1 epoch: 0it [00:00, ?it/s]\u001b[A\u001b[A\n",
      "\n",
      "For 1 epoch: 10it [00:00, 95.29it/s]\u001b[A\u001b[A"
     ]
    },
    {
     "name": "stdout",
     "output_type": "stream",
     "text": [
      "Epoch: 0, Loss: 0.0005, Train error: 0.0000\n"
     ]
    },
    {
     "name": "stderr",
     "output_type": "stream",
     "text": [
      "\n",
      "\n",
      "For 1 epoch: 19it [00:00, 91.46it/s]\u001b[A\u001b[A\n",
      "\n",
      "For 1 epoch: 27it [00:00, 86.32it/s]\u001b[A\u001b[A\n",
      "\n",
      "For 1 epoch: 38it [00:00, 89.88it/s]\u001b[A\u001b[A\n",
      "\n",
      "For 1 epoch: 48it [00:00, 92.15it/s]\u001b[A\u001b[A\n",
      "\n",
      "For 1 epoch: 56it [00:00, 81.06it/s]\u001b[A\u001b[A\n",
      "\n",
      "For 1 epoch: 66it [00:00, 78.62it/s]\u001b[A\u001b[A\n",
      "\n",
      "\n",
      "For 2 epoch: 0it [00:00, ?it/s]\u001b[A\u001b[A\n",
      "\n",
      "For 2 epoch: 8it [00:00, 79.82it/s]\u001b[A\u001b[A"
     ]
    },
    {
     "name": "stdout",
     "output_type": "stream",
     "text": [
      "Epoch: 1, Loss: 0.0006, Train error: 0.0000\n"
     ]
    },
    {
     "name": "stderr",
     "output_type": "stream",
     "text": [
      "\n",
      "\n",
      "For 2 epoch: 16it [00:00, 76.96it/s]\u001b[A\u001b[A\n",
      "\n",
      "For 2 epoch: 22it [00:00, 69.67it/s]\u001b[A\u001b[A\n",
      "\n",
      "For 2 epoch: 30it [00:00, 70.23it/s]\u001b[A\u001b[A\n",
      "\n",
      "For 2 epoch: 37it [00:00, 69.03it/s]\u001b[A\u001b[A\n",
      "\n",
      "For 2 epoch: 46it [00:00, 72.80it/s]\u001b[A\u001b[A\n",
      "\n",
      "For 2 epoch: 53it [00:00, 67.09it/s]\u001b[A\u001b[A\n",
      "\n",
      "For 2 epoch: 66it [00:00, 69.80it/s]\u001b[A\u001b[A\n",
      "\n",
      "\n",
      "For 3 epoch: 0it [00:00, ?it/s]\u001b[A\u001b[A\n",
      "\n",
      "For 3 epoch: 10it [00:00, 97.60it/s]\u001b[A\u001b[A"
     ]
    },
    {
     "name": "stdout",
     "output_type": "stream",
     "text": [
      "Epoch: 2, Loss: 0.0005, Train error: 0.0000\n"
     ]
    },
    {
     "name": "stderr",
     "output_type": "stream",
     "text": [
      "\n",
      "\n",
      "For 3 epoch: 19it [00:00, 93.30it/s]\u001b[A\u001b[A\n",
      "\n",
      "For 3 epoch: 29it [00:00, 93.99it/s]\u001b[A\u001b[A\n",
      "\n",
      "For 3 epoch: 36it [00:00, 81.61it/s]\u001b[A\u001b[A\n",
      "\n",
      "For 3 epoch: 43it [00:00, 73.40it/s]\u001b[A\u001b[A\n",
      "\n",
      "For 3 epoch: 53it [00:00, 78.32it/s]\u001b[A\u001b[A\n",
      "\n",
      "For 3 epoch: 66it [00:00, 82.90it/s]\u001b[A\u001b[A\n",
      "\n",
      "\n",
      "For 4 epoch: 0it [00:00, ?it/s]\u001b[A\u001b[A\n",
      "\n",
      "For 4 epoch: 7it [00:00, 68.74it/s]\u001b[A\u001b[A"
     ]
    },
    {
     "name": "stdout",
     "output_type": "stream",
     "text": [
      "Epoch: 3, Loss: 0.0006, Train error: 0.0000\n"
     ]
    },
    {
     "name": "stderr",
     "output_type": "stream",
     "text": [
      "\n",
      "\n",
      "For 4 epoch: 13it [00:00, 65.00it/s]\u001b[A\u001b[A\n",
      "\n",
      "For 4 epoch: 21it [00:00, 68.74it/s]\u001b[A\u001b[A\n",
      "\n",
      "For 4 epoch: 28it [00:00, 67.08it/s]\u001b[A\u001b[A\n",
      "\n",
      "For 4 epoch: 37it [00:00, 72.54it/s]\u001b[A\u001b[A\n",
      "\n",
      "For 4 epoch: 44it [00:00, 68.67it/s]\u001b[A\u001b[A\n",
      "\n",
      "For 4 epoch: 51it [00:00, 63.59it/s]\u001b[A\u001b[A\n",
      "\n",
      "For 4 epoch: 57it [00:00, 62.00it/s]\u001b[A\u001b[A\n",
      "\n",
      "For 4 epoch: 66it [00:01, 64.28it/s]\u001b[A\u001b[A\n",
      "\n",
      "\n",
      "For 5 epoch: 0it [00:00, ?it/s]\u001b[A\u001b[A\n",
      "\n",
      "For 5 epoch: 7it [00:00, 68.18it/s]\u001b[A\u001b[A"
     ]
    },
    {
     "name": "stdout",
     "output_type": "stream",
     "text": [
      "Epoch: 4, Loss: 0.0006, Train error: 0.0000\n"
     ]
    },
    {
     "name": "stderr",
     "output_type": "stream",
     "text": [
      "\n",
      "\n",
      "For 5 epoch: 14it [00:00, 65.00it/s]\u001b[A\u001b[A\n",
      "\n",
      "For 5 epoch: 20it [00:00, 61.81it/s]\u001b[A\u001b[A\n",
      "\n",
      "For 5 epoch: 27it [00:00, 63.60it/s]\u001b[A\u001b[A\n",
      "\n",
      "For 5 epoch: 33it [00:00, 60.26it/s]\u001b[A\u001b[A\n",
      "\n",
      "For 5 epoch: 38it [00:00, 54.22it/s]\u001b[A\u001b[A\n",
      "\n",
      "For 5 epoch: 46it [00:00, 58.32it/s]\u001b[A\u001b[A\n",
      "\n",
      "For 5 epoch: 55it [00:00, 64.73it/s]\u001b[A\u001b[A\n",
      "\n",
      "For 5 epoch: 66it [00:01, 65.87it/s]\u001b[A\u001b[A\n",
      "\n",
      "\n",
      "For 6 epoch: 0it [00:00, ?it/s]\u001b[A\u001b[A\n",
      "\n",
      "For 6 epoch: 10it [00:00, 94.10it/s]\u001b[A\u001b[A"
     ]
    },
    {
     "name": "stdout",
     "output_type": "stream",
     "text": [
      "Epoch: 5, Loss: 0.0006, Train error: 0.0000\n"
     ]
    },
    {
     "name": "stderr",
     "output_type": "stream",
     "text": [
      "\n",
      "\n",
      "For 6 epoch: 19it [00:00, 92.64it/s]\u001b[A\u001b[A\n",
      "\n",
      "For 6 epoch: 28it [00:00, 89.96it/s]\u001b[A\u001b[A\n",
      "\n",
      "For 6 epoch: 35it [00:00, 80.86it/s]\u001b[A\u001b[A\n",
      "\n",
      "For 6 epoch: 42it [00:00, 75.55it/s]\u001b[A\u001b[A\n",
      "\n",
      "For 6 epoch: 49it [00:00, 65.36it/s]\u001b[A\u001b[A\n",
      "\n",
      "For 6 epoch: 57it [00:00, 67.55it/s]\u001b[A\u001b[A\n",
      "\n",
      "For 6 epoch: 66it [00:00, 74.10it/s]\u001b[A\u001b[A\n",
      "\n",
      "\n",
      "For 7 epoch: 0it [00:00, ?it/s]\u001b[A\u001b[A\n",
      "\n",
      "For 7 epoch: 8it [00:00, 73.21it/s]\u001b[A\u001b[A"
     ]
    },
    {
     "name": "stdout",
     "output_type": "stream",
     "text": [
      "Epoch: 6, Loss: 0.0005, Train error: 0.0000\n"
     ]
    },
    {
     "name": "stderr",
     "output_type": "stream",
     "text": [
      "\n",
      "\n",
      "For 7 epoch: 16it [00:00, 74.53it/s]\u001b[A\u001b[A\n",
      "\n",
      "For 7 epoch: 22it [00:00, 68.48it/s]\u001b[A\u001b[A\n",
      "\n",
      "For 7 epoch: 29it [00:00, 65.25it/s]\u001b[A\u001b[A\n",
      "\n",
      "For 7 epoch: 35it [00:00, 61.70it/s]\u001b[A\u001b[A\n",
      "\n",
      "For 7 epoch: 43it [00:00, 65.73it/s]\u001b[A\u001b[A\n",
      "\n",
      "For 7 epoch: 50it [00:00, 65.23it/s]\u001b[A\u001b[A\n",
      "\n",
      "For 7 epoch: 66it [00:00, 68.80it/s]\u001b[A\u001b[A\n",
      "\n",
      "\n",
      "For 8 epoch: 0it [00:00, ?it/s]\u001b[A\u001b[A\n",
      "\n",
      "For 8 epoch: 8it [00:00, 75.97it/s]\u001b[A\u001b[A"
     ]
    },
    {
     "name": "stdout",
     "output_type": "stream",
     "text": [
      "Epoch: 7, Loss: 0.0005, Train error: 0.0000\n"
     ]
    },
    {
     "name": "stderr",
     "output_type": "stream",
     "text": [
      "\n",
      "\n",
      "For 8 epoch: 16it [00:00, 76.89it/s]\u001b[A\u001b[A\n",
      "\n",
      "For 8 epoch: 25it [00:00, 78.73it/s]\u001b[A\u001b[A\n",
      "\n",
      "For 8 epoch: 33it [00:00, 77.94it/s]\u001b[A\u001b[A\n",
      "\n",
      "For 8 epoch: 41it [00:00, 78.02it/s]\u001b[A\u001b[A\n",
      "\n",
      "For 8 epoch: 50it [00:00, 80.05it/s]\u001b[A\u001b[A\n",
      "\n",
      "For 8 epoch: 58it [00:00, 76.14it/s]\u001b[A\u001b[A\n",
      "\n",
      "For 8 epoch: 66it [00:00, 76.58it/s]\u001b[A\u001b[A\n",
      "\n",
      "\n",
      "For 9 epoch: 0it [00:00, ?it/s]\u001b[A\u001b[A\n",
      "\n",
      "For 9 epoch: 7it [00:00, 68.38it/s]\u001b[A\u001b[A"
     ]
    },
    {
     "name": "stdout",
     "output_type": "stream",
     "text": [
      "Epoch: 8, Loss: 0.0006, Train error: 0.0000\n"
     ]
    },
    {
     "name": "stderr",
     "output_type": "stream",
     "text": [
      "\n",
      "\n",
      "For 9 epoch: 15it [00:00, 69.51it/s]\u001b[A\u001b[A\n",
      "\n",
      "For 9 epoch: 26it [00:00, 76.76it/s]\u001b[A\u001b[A\n",
      "\n",
      "For 9 epoch: 34it [00:00, 74.69it/s]\u001b[A\u001b[A\n",
      "\n",
      "For 9 epoch: 41it [00:00, 69.75it/s]\u001b[A\u001b[A\n",
      "\n",
      "For 9 epoch: 48it [00:00, 68.64it/s]\u001b[A\u001b[A\n",
      "\n",
      "For 9 epoch: 55it [00:00, 66.78it/s]\u001b[A\u001b[A\n",
      "\n",
      "For 9 epoch: 66it [00:00, 71.20it/s]\u001b[A\u001b[A\n",
      "\n",
      "\n",
      "For 10 epoch: 0it [00:00, ?it/s]\u001b[A\u001b[A\n",
      "\n",
      "For 10 epoch: 10it [00:00, 95.47it/s]\u001b[A\u001b[A"
     ]
    },
    {
     "name": "stdout",
     "output_type": "stream",
     "text": [
      "Epoch: 9, Loss: 0.0005, Train error: 0.0000\n"
     ]
    },
    {
     "name": "stderr",
     "output_type": "stream",
     "text": [
      "\n",
      "\n",
      "For 10 epoch: 19it [00:00, 93.32it/s]\u001b[A\u001b[A\n",
      "\n",
      "For 10 epoch: 25it [00:00, 73.03it/s]\u001b[A\u001b[A\n",
      "\n",
      "For 10 epoch: 30it [00:00, 62.69it/s]\u001b[A\u001b[A\n",
      "\n",
      "For 10 epoch: 38it [00:00, 66.92it/s]\u001b[A\u001b[A\n",
      "\n",
      "For 10 epoch: 46it [00:00, 69.36it/s]\u001b[A\u001b[A\n",
      "\n",
      "For 10 epoch: 54it [00:00, 70.65it/s]\u001b[A\u001b[A\n",
      "\n",
      "For 10 epoch: 66it [00:00, 71.71it/s]\u001b[A\u001b[A\n",
      "\n",
      "\n",
      "For 11 epoch: 0it [00:00, ?it/s]\u001b[A\u001b[A\n",
      "\n",
      "For 11 epoch: 9it [00:00, 89.08it/s]\u001b[A\u001b[A"
     ]
    },
    {
     "name": "stdout",
     "output_type": "stream",
     "text": [
      "Epoch: 10, Loss: 0.0005, Train error: 0.0000\n"
     ]
    },
    {
     "name": "stderr",
     "output_type": "stream",
     "text": [
      "\n",
      "\n",
      "For 11 epoch: 18it [00:00, 88.55it/s]\u001b[A\u001b[A\n",
      "\n",
      "For 11 epoch: 28it [00:00, 90.08it/s]\u001b[A\u001b[A\n",
      "\n",
      "For 11 epoch: 37it [00:00, 87.47it/s]\u001b[A\u001b[A\n",
      "\n",
      "For 11 epoch: 46it [00:00, 86.98it/s]\u001b[A\u001b[A\n",
      "\n",
      "For 11 epoch: 54it [00:00, 81.66it/s]\u001b[A\u001b[A\n",
      "\n",
      "For 11 epoch: 66it [00:00, 79.59it/s]\u001b[A\u001b[A\n",
      "\n",
      "\n",
      "For 12 epoch: 0it [00:00, ?it/s]\u001b[A\u001b[A\n",
      "\n",
      "For 12 epoch: 10it [00:00, 93.14it/s]\u001b[A\u001b[A"
     ]
    },
    {
     "name": "stdout",
     "output_type": "stream",
     "text": [
      "Epoch: 11, Loss: 0.0005, Train error: 0.0000\n"
     ]
    },
    {
     "name": "stderr",
     "output_type": "stream",
     "text": [
      "\n",
      "\n",
      "For 12 epoch: 19it [00:00, 89.25it/s]\u001b[A\u001b[A\n",
      "\n",
      "For 12 epoch: 26it [00:00, 80.27it/s]\u001b[A\u001b[A\n",
      "\n",
      "For 12 epoch: 33it [00:00, 71.16it/s]\u001b[A\u001b[A\n",
      "\n",
      "For 12 epoch: 39it [00:00, 65.71it/s]\u001b[A\u001b[A\n",
      "\n",
      "For 12 epoch: 47it [00:00, 68.64it/s]\u001b[A\u001b[A\n",
      "\n",
      "For 12 epoch: 54it [00:00, 64.04it/s]\u001b[A\u001b[A\n",
      "\n",
      "For 12 epoch: 66it [00:00, 68.14it/s]\u001b[A\u001b[A\n",
      "\n",
      "\n",
      "For 13 epoch: 0it [00:00, ?it/s]\u001b[A\u001b[A\n",
      "\n",
      "For 13 epoch: 7it [00:00, 66.72it/s]\u001b[A\u001b[A"
     ]
    },
    {
     "name": "stdout",
     "output_type": "stream",
     "text": [
      "Epoch: 12, Loss: 0.0006, Train error: 0.0000\n"
     ]
    },
    {
     "name": "stderr",
     "output_type": "stream",
     "text": [
      "\n",
      "\n",
      "For 13 epoch: 14it [00:00, 67.31it/s]\u001b[A\u001b[A\n",
      "\n",
      "For 13 epoch: 21it [00:00, 67.77it/s]\u001b[A\u001b[A\n",
      "\n",
      "For 13 epoch: 30it [00:00, 72.61it/s]\u001b[A\u001b[A\n",
      "\n",
      "For 13 epoch: 40it [00:00, 79.02it/s]\u001b[A\u001b[A\n",
      "\n",
      "For 13 epoch: 49it [00:00, 80.51it/s]\u001b[A\u001b[A\n",
      "\n",
      "For 13 epoch: 66it [00:00, 82.66it/s]\u001b[A\u001b[A\n",
      "\n",
      "\n",
      "For 14 epoch: 0it [00:00, ?it/s]\u001b[A\u001b[A\n",
      "\n",
      "For 14 epoch: 10it [00:00, 97.08it/s]\u001b[A\u001b[A"
     ]
    },
    {
     "name": "stdout",
     "output_type": "stream",
     "text": [
      "Epoch: 13, Loss: 0.0005, Train error: 0.0000\n"
     ]
    },
    {
     "name": "stderr",
     "output_type": "stream",
     "text": [
      "\n",
      "\n",
      "For 14 epoch: 18it [00:00, 82.95it/s]\u001b[A\u001b[A\n",
      "\n",
      "For 14 epoch: 26it [00:00, 78.69it/s]\u001b[A\u001b[A\n",
      "\n",
      "For 14 epoch: 35it [00:00, 79.71it/s]\u001b[A\u001b[A\n",
      "\n",
      "For 14 epoch: 44it [00:00, 81.16it/s]\u001b[A\u001b[A\n",
      "\n",
      "For 14 epoch: 55it [00:00, 86.76it/s]\u001b[A\u001b[A\n",
      "\n",
      "For 14 epoch: 66it [00:00, 80.04it/s]\u001b[A\u001b[A\n",
      "\n",
      "\n",
      "For 15 epoch: 0it [00:00, ?it/s]\u001b[A\u001b[A\n",
      "\n",
      "For 15 epoch: 11it [00:00, 100.51it/s]\u001b[A\u001b[A"
     ]
    },
    {
     "name": "stdout",
     "output_type": "stream",
     "text": [
      "Epoch: 14, Loss: 0.0005, Train error: 0.0000\n"
     ]
    },
    {
     "name": "stderr",
     "output_type": "stream",
     "text": [
      "\n",
      "\n",
      "For 15 epoch: 19it [00:00, 93.28it/s] \u001b[A\u001b[A\n",
      "\n",
      "For 15 epoch: 30it [00:00, 95.94it/s]\u001b[A\u001b[A\n",
      "\n",
      "For 15 epoch: 40it [00:00, 94.51it/s]\u001b[A\u001b[A\n",
      "\n",
      "For 15 epoch: 49it [00:00, 91.47it/s]\u001b[A\u001b[A\n",
      "\n",
      "For 15 epoch: 66it [00:00, 89.48it/s]\u001b[A\u001b[A\n",
      "\n",
      "\n",
      "For 16 epoch: 0it [00:00, ?it/s]\u001b[A\u001b[A\n",
      "\n",
      "For 16 epoch: 9it [00:00, 77.90it/s]\u001b[A\u001b[A"
     ]
    },
    {
     "name": "stdout",
     "output_type": "stream",
     "text": [
      "Epoch: 15, Loss: 0.0005, Train error: 0.0000\n"
     ]
    },
    {
     "name": "stderr",
     "output_type": "stream",
     "text": [
      "\n",
      "\n",
      "For 16 epoch: 16it [00:00, 74.28it/s]\u001b[A\u001b[A\n",
      "\n",
      "For 16 epoch: 22it [00:00, 67.72it/s]\u001b[A\u001b[A\n",
      "\n",
      "For 16 epoch: 29it [00:00, 67.96it/s]\u001b[A\u001b[A\n",
      "\n",
      "For 16 epoch: 38it [00:00, 73.14it/s]\u001b[A\u001b[A\n",
      "\n",
      "For 16 epoch: 47it [00:00, 75.55it/s]\u001b[A\u001b[A\n",
      "\n",
      "For 16 epoch: 56it [00:00, 77.77it/s]\u001b[A\u001b[A\n",
      "\n",
      "For 16 epoch: 66it [00:00, 76.72it/s]\u001b[A\u001b[A\n",
      "\n",
      "\n",
      "For 17 epoch: 0it [00:00, ?it/s]\u001b[A\u001b[A\n",
      "\n",
      "For 17 epoch: 10it [00:00, 84.86it/s]\u001b[A\u001b[A"
     ]
    },
    {
     "name": "stdout",
     "output_type": "stream",
     "text": [
      "Epoch: 16, Loss: 0.0005, Train error: 0.0000\n"
     ]
    },
    {
     "name": "stderr",
     "output_type": "stream",
     "text": [
      "\n",
      "\n",
      "For 17 epoch: 18it [00:00, 82.69it/s]\u001b[A\u001b[A\n",
      "\n",
      "For 17 epoch: 26it [00:00, 79.79it/s]\u001b[A\u001b[A\n",
      "\n",
      "For 17 epoch: 35it [00:00, 79.34it/s]\u001b[A\u001b[A\n",
      "\n",
      "For 17 epoch: 42it [00:00, 75.60it/s]\u001b[A\u001b[A\n",
      "\n",
      "For 17 epoch: 50it [00:00, 75.18it/s]\u001b[A\u001b[A\n",
      "\n",
      "For 17 epoch: 66it [00:00, 76.52it/s]\u001b[A\u001b[A\n",
      "\n",
      "\n",
      "For 18 epoch: 0it [00:00, ?it/s]\u001b[A\u001b[A\n",
      "\n",
      "For 18 epoch: 9it [00:00, 83.21it/s]\u001b[A\u001b[A"
     ]
    },
    {
     "name": "stdout",
     "output_type": "stream",
     "text": [
      "Epoch: 17, Loss: 0.0005, Train error: 0.0000\n"
     ]
    },
    {
     "name": "stderr",
     "output_type": "stream",
     "text": [
      "\n",
      "\n",
      "For 18 epoch: 18it [00:00, 84.08it/s]\u001b[A\u001b[A\n",
      "\n",
      "For 18 epoch: 26it [00:00, 82.03it/s]\u001b[A\u001b[A\n",
      "\n",
      "For 18 epoch: 34it [00:00, 81.37it/s]\u001b[A\u001b[A\n",
      "\n",
      "For 18 epoch: 42it [00:00, 80.12it/s]\u001b[A\u001b[A\n",
      "\n",
      "For 18 epoch: 50it [00:00, 77.85it/s]\u001b[A\u001b[A\n",
      "\n",
      "For 18 epoch: 66it [00:00, 79.09it/s]\u001b[A\u001b[A\n",
      "\n",
      "\n",
      "For 19 epoch: 0it [00:00, ?it/s]\u001b[A\u001b[A\n",
      "\n",
      "For 19 epoch: 9it [00:00, 81.70it/s]\u001b[A\u001b[A"
     ]
    },
    {
     "name": "stdout",
     "output_type": "stream",
     "text": [
      "Epoch: 18, Loss: 0.0005, Train error: 0.0000\n"
     ]
    },
    {
     "name": "stderr",
     "output_type": "stream",
     "text": [
      "\n",
      "\n",
      "For 19 epoch: 14it [00:00, 67.55it/s]\u001b[A\u001b[A\n",
      "\n",
      "For 19 epoch: 20it [00:00, 63.68it/s]\u001b[A\u001b[A\n",
      "\n",
      "For 19 epoch: 30it [00:00, 71.03it/s]\u001b[A\u001b[A\n",
      "\n",
      "For 19 epoch: 37it [00:00, 70.41it/s]\u001b[A\u001b[A\n",
      "\n",
      "For 19 epoch: 44it [00:00, 65.99it/s]\u001b[A\u001b[A\n",
      "\n",
      "For 19 epoch: 50it [00:00, 63.23it/s]\u001b[A\u001b[A\n",
      "\n",
      "For 19 epoch: 57it [00:00, 64.32it/s]\u001b[A\u001b[A\n",
      "\n",
      "For 19 epoch: 66it [00:01, 65.60it/s]\u001b[A\u001b[A\n"
     ]
    },
    {
     "name": "stdout",
     "output_type": "stream",
     "text": [
      "Epoch: 19, Loss: 0.0005, Train error: 0.0000\n"
     ]
    },
    {
     "name": "stderr",
     "output_type": "stream",
     "text": [
      "\n",
      "3 fold cross validation: 2it [00:35, 17.29s/it]\u001b[A\n",
      "\n",
      "For 0 epoch: 0it [00:00, ?it/s]\u001b[A\u001b[A\n",
      "\n",
      "For 0 epoch: 7it [00:00, 65.53it/s]\u001b[A\u001b[A\n",
      "\n",
      "For 0 epoch: 15it [00:00, 66.87it/s]\u001b[A\u001b[A\n",
      "\n",
      "For 0 epoch: 22it [00:00, 65.63it/s]\u001b[A\u001b[A\n",
      "\n",
      "For 0 epoch: 29it [00:00, 66.70it/s]\u001b[A\u001b[A\n",
      "\n",
      "For 0 epoch: 36it [00:00, 67.63it/s]\u001b[A\u001b[A\n",
      "\n",
      "For 0 epoch: 45it [00:00, 73.04it/s]\u001b[A\u001b[A\n",
      "\n",
      "For 0 epoch: 53it [00:00, 74.04it/s]\u001b[A\u001b[A\n",
      "\n",
      "For 0 epoch: 66it [00:00, 74.02it/s]\u001b[A\u001b[A\n",
      "\n",
      "\n",
      "For 1 epoch: 0it [00:00, ?it/s]\u001b[A\u001b[A\n",
      "\n",
      "For 1 epoch: 8it [00:00, 75.55it/s]\u001b[A\u001b[A"
     ]
    },
    {
     "name": "stdout",
     "output_type": "stream",
     "text": [
      "Epoch: 0, Loss: 0.0007, Train error: 0.0000\n"
     ]
    },
    {
     "name": "stderr",
     "output_type": "stream",
     "text": [
      "\n",
      "\n",
      "For 1 epoch: 16it [00:00, 76.19it/s]\u001b[A\u001b[A\n",
      "\n",
      "For 1 epoch: 23it [00:00, 74.03it/s]\u001b[A\u001b[A\n",
      "\n",
      "For 1 epoch: 31it [00:00, 74.83it/s]\u001b[A\u001b[A\n",
      "\n",
      "For 1 epoch: 44it [00:00, 85.27it/s]\u001b[A\u001b[A\n",
      "\n",
      "For 1 epoch: 53it [00:00, 84.43it/s]\u001b[A\u001b[A\n",
      "\n",
      "For 1 epoch: 66it [00:00, 73.82it/s]\u001b[A\u001b[A\n",
      "\n",
      "\n",
      "For 2 epoch: 0it [00:00, ?it/s]\u001b[A\u001b[A\n",
      "\n",
      "For 2 epoch: 8it [00:00, 74.02it/s]\u001b[A\u001b[A"
     ]
    },
    {
     "name": "stdout",
     "output_type": "stream",
     "text": [
      "Epoch: 1, Loss: 0.0006, Train error: 0.0000\n"
     ]
    },
    {
     "name": "stderr",
     "output_type": "stream",
     "text": [
      "\n",
      "\n",
      "For 2 epoch: 14it [00:00, 67.12it/s]\u001b[A\u001b[A\n",
      "\n",
      "For 2 epoch: 20it [00:00, 62.30it/s]\u001b[A\u001b[A\n",
      "\n",
      "For 2 epoch: 27it [00:00, 62.17it/s]\u001b[A\u001b[A\n",
      "\n",
      "For 2 epoch: 36it [00:00, 66.57it/s]\u001b[A\u001b[A\n",
      "\n",
      "For 2 epoch: 45it [00:00, 71.05it/s]\u001b[A\u001b[A\n",
      "\n",
      "For 2 epoch: 56it [00:00, 78.59it/s]\u001b[A\u001b[A\n",
      "\n",
      "For 2 epoch: 66it [00:00, 74.08it/s]\u001b[A\u001b[A\n",
      "\n",
      "\n",
      "For 3 epoch: 0it [00:00, ?it/s]\u001b[A\u001b[A\n",
      "\n",
      "For 3 epoch: 12it [00:00, 113.87it/s]\u001b[A\u001b[A"
     ]
    },
    {
     "name": "stdout",
     "output_type": "stream",
     "text": [
      "Epoch: 2, Loss: 0.0005, Train error: 0.0000\n"
     ]
    },
    {
     "name": "stderr",
     "output_type": "stream",
     "text": [
      "\n",
      "\n",
      "For 3 epoch: 23it [00:00, 109.18it/s]\u001b[A\u001b[A\n",
      "\n",
      "For 3 epoch: 30it [00:00, 92.21it/s] \u001b[A\u001b[A\n",
      "\n",
      "For 3 epoch: 37it [00:00, 83.73it/s]\u001b[A\u001b[A\n",
      "\n",
      "For 3 epoch: 44it [00:00, 78.99it/s]\u001b[A\u001b[A\n",
      "\n",
      "For 3 epoch: 55it [00:00, 86.10it/s]\u001b[A\u001b[A\n",
      "\n",
      "For 3 epoch: 66it [00:00, 88.33it/s]\u001b[A\u001b[A\n",
      "\n",
      "\n",
      "For 4 epoch: 0it [00:00, ?it/s]\u001b[A\u001b[A\n",
      "\n",
      "For 4 epoch: 9it [00:00, 87.35it/s]\u001b[A\u001b[A"
     ]
    },
    {
     "name": "stdout",
     "output_type": "stream",
     "text": [
      "Epoch: 3, Loss: 0.0005, Train error: 0.0000\n"
     ]
    },
    {
     "name": "stderr",
     "output_type": "stream",
     "text": [
      "\n",
      "\n",
      "For 4 epoch: 18it [00:00, 86.83it/s]\u001b[A\u001b[A\n",
      "\n",
      "For 4 epoch: 27it [00:00, 87.12it/s]\u001b[A\u001b[A\n",
      "\n",
      "For 4 epoch: 35it [00:00, 81.04it/s]\u001b[A\u001b[A\n",
      "\n",
      "For 4 epoch: 42it [00:00, 76.31it/s]\u001b[A\u001b[A\n",
      "\n",
      "For 4 epoch: 50it [00:00, 75.73it/s]\u001b[A\u001b[A\n",
      "\n",
      "For 4 epoch: 66it [00:00, 76.59it/s]\u001b[A\u001b[A\n",
      "\n",
      "\n",
      "For 5 epoch: 0it [00:00, ?it/s]\u001b[A\u001b[A\n",
      "\n",
      "For 5 epoch: 10it [00:00, 96.58it/s]\u001b[A\u001b[A"
     ]
    },
    {
     "name": "stdout",
     "output_type": "stream",
     "text": [
      "Epoch: 4, Loss: 0.0005, Train error: 0.0000\n"
     ]
    },
    {
     "name": "stderr",
     "output_type": "stream",
     "text": [
      "\n",
      "\n",
      "For 5 epoch: 21it [00:00, 98.35it/s]\u001b[A\u001b[A\n",
      "\n",
      "For 5 epoch: 30it [00:00, 93.98it/s]\u001b[A\u001b[A\n",
      "\n",
      "For 5 epoch: 39it [00:00, 91.83it/s]\u001b[A\u001b[A\n",
      "\n",
      "For 5 epoch: 49it [00:00, 91.38it/s]\u001b[A\u001b[A\n",
      "\n",
      "For 5 epoch: 57it [00:00, 82.27it/s]\u001b[A\u001b[A\n",
      "\n",
      "For 5 epoch: 66it [00:00, 84.26it/s]\u001b[A\u001b[A\n",
      "\n",
      "\n",
      "For 6 epoch: 0it [00:00, ?it/s]\u001b[A\u001b[A\n",
      "\n",
      "For 6 epoch: 11it [00:00, 100.57it/s]\u001b[A\u001b[A"
     ]
    },
    {
     "name": "stdout",
     "output_type": "stream",
     "text": [
      "Epoch: 5, Loss: 0.0005, Train error: 0.0000\n"
     ]
    },
    {
     "name": "stderr",
     "output_type": "stream",
     "text": [
      "\n",
      "\n",
      "For 6 epoch: 21it [00:00, 99.45it/s] \u001b[A\u001b[A\n",
      "\n",
      "For 6 epoch: 30it [00:00, 96.36it/s]\u001b[A\u001b[A\n",
      "\n",
      "For 6 epoch: 40it [00:00, 97.18it/s]\u001b[A\u001b[A\n",
      "\n",
      "For 6 epoch: 50it [00:00, 97.58it/s]\u001b[A\u001b[A\n",
      "\n",
      "For 6 epoch: 66it [00:00, 97.75it/s]\u001b[A\u001b[A\n",
      "\n",
      "\n",
      "For 7 epoch: 0it [00:00, ?it/s]\u001b[A\u001b[A\n",
      "\n",
      "For 7 epoch: 9it [00:00, 80.15it/s]\u001b[A\u001b[A"
     ]
    },
    {
     "name": "stdout",
     "output_type": "stream",
     "text": [
      "Epoch: 6, Loss: 0.0006, Train error: 0.0000\n"
     ]
    },
    {
     "name": "stderr",
     "output_type": "stream",
     "text": [
      "\n",
      "\n",
      "For 7 epoch: 16it [00:00, 74.23it/s]\u001b[A\u001b[A\n",
      "\n",
      "For 7 epoch: 20it [00:00, 58.96it/s]\u001b[A\u001b[A\n",
      "\n",
      "For 7 epoch: 27it [00:00, 60.68it/s]\u001b[A\u001b[A\n",
      "\n",
      "For 7 epoch: 34it [00:00, 62.99it/s]\u001b[A\u001b[A\n",
      "\n",
      "For 7 epoch: 41it [00:00, 64.06it/s]\u001b[A\u001b[A\n",
      "\n",
      "For 7 epoch: 48it [00:00, 63.80it/s]\u001b[A\u001b[A\n",
      "\n",
      "For 7 epoch: 57it [00:00, 69.55it/s]\u001b[A\u001b[A\n",
      "\n",
      "For 7 epoch: 66it [00:00, 67.47it/s]\u001b[A\u001b[A\n",
      "\n",
      "\n",
      "For 8 epoch: 0it [00:00, ?it/s]\u001b[A\u001b[A\n",
      "\n",
      "For 8 epoch: 6it [00:00, 59.39it/s]\u001b[A\u001b[A"
     ]
    },
    {
     "name": "stdout",
     "output_type": "stream",
     "text": [
      "Epoch: 7, Loss: 0.0004, Train error: 0.0000\n"
     ]
    },
    {
     "name": "stderr",
     "output_type": "stream",
     "text": [
      "\n",
      "\n",
      "For 8 epoch: 13it [00:00, 62.13it/s]\u001b[A\u001b[A\n",
      "\n",
      "For 8 epoch: 21it [00:00, 64.95it/s]\u001b[A\u001b[A\n",
      "\n",
      "For 8 epoch: 27it [00:00, 63.11it/s]\u001b[A\u001b[A\n",
      "\n",
      "For 8 epoch: 35it [00:00, 65.77it/s]\u001b[A\u001b[A\n",
      "\n",
      "For 8 epoch: 44it [00:00, 70.13it/s]\u001b[A\u001b[A\n",
      "\n",
      "For 8 epoch: 53it [00:00, 74.99it/s]\u001b[A\u001b[A\n",
      "\n",
      "For 8 epoch: 66it [00:00, 71.65it/s]\u001b[A\u001b[A\n",
      "\n",
      "\n",
      "For 9 epoch: 0it [00:00, ?it/s]\u001b[A\u001b[A\n",
      "\n",
      "For 9 epoch: 7it [00:00, 59.61it/s]\u001b[A\u001b[A"
     ]
    },
    {
     "name": "stdout",
     "output_type": "stream",
     "text": [
      "Epoch: 8, Loss: 0.0006, Train error: 0.0000\n"
     ]
    },
    {
     "name": "stderr",
     "output_type": "stream",
     "text": [
      "\n",
      "\n",
      "For 9 epoch: 16it [00:00, 66.26it/s]\u001b[A\u001b[A\n",
      "\n",
      "For 9 epoch: 26it [00:00, 73.15it/s]\u001b[A\u001b[A\n",
      "\n",
      "For 9 epoch: 36it [00:00, 77.62it/s]\u001b[A\u001b[A\n",
      "\n",
      "For 9 epoch: 45it [00:00, 80.10it/s]\u001b[A\u001b[A\n",
      "\n",
      "For 9 epoch: 53it [00:00, 80.05it/s]\u001b[A\u001b[A\n",
      "\n",
      "For 9 epoch: 66it [00:00, 81.49it/s]\u001b[A\u001b[A\n",
      "\n",
      "\n",
      "For 10 epoch: 0it [00:00, ?it/s]\u001b[A\u001b[A\n",
      "\n",
      "For 10 epoch: 10it [00:00, 93.06it/s]\u001b[A\u001b[A"
     ]
    },
    {
     "name": "stdout",
     "output_type": "stream",
     "text": [
      "Epoch: 9, Loss: 0.0004, Train error: 0.0000\n"
     ]
    },
    {
     "name": "stderr",
     "output_type": "stream",
     "text": [
      "\n",
      "\n",
      "For 10 epoch: 20it [00:00, 94.03it/s]\u001b[A\u001b[A\n",
      "\n",
      "For 10 epoch: 30it [00:00, 93.17it/s]\u001b[A\u001b[A\n",
      "\n",
      "For 10 epoch: 40it [00:00, 92.91it/s]\u001b[A\u001b[A\n",
      "\n",
      "For 10 epoch: 50it [00:00, 93.38it/s]\u001b[A\u001b[A\n",
      "\n",
      "For 10 epoch: 58it [00:00, 86.98it/s]\u001b[A\u001b[A\n",
      "\n",
      "For 10 epoch: 66it [00:00, 84.40it/s]\u001b[A\u001b[A\n",
      "\n",
      "\n",
      "For 11 epoch: 0it [00:00, ?it/s]\u001b[A\u001b[A\n",
      "\n",
      "For 11 epoch: 7it [00:00, 63.43it/s]\u001b[A\u001b[A"
     ]
    },
    {
     "name": "stdout",
     "output_type": "stream",
     "text": [
      "Epoch: 10, Loss: 0.0006, Train error: 0.0000\n"
     ]
    },
    {
     "name": "stderr",
     "output_type": "stream",
     "text": [
      "\n",
      "\n",
      "For 11 epoch: 14it [00:00, 64.76it/s]\u001b[A\u001b[A\n",
      "\n",
      "For 11 epoch: 19it [00:00, 58.61it/s]\u001b[A\u001b[A\n",
      "\n",
      "For 11 epoch: 25it [00:00, 58.77it/s]\u001b[A\u001b[A\n",
      "\n",
      "For 11 epoch: 32it [00:00, 60.09it/s]\u001b[A\u001b[A\n",
      "\n",
      "For 11 epoch: 41it [00:00, 65.49it/s]\u001b[A\u001b[A\n",
      "\n",
      "For 11 epoch: 47it [00:00, 55.16it/s]\u001b[A\u001b[A\n",
      "\n",
      "For 11 epoch: 53it [00:00, 56.23it/s]\u001b[A\u001b[A\n",
      "\n",
      "For 11 epoch: 66it [00:01, 59.97it/s]\u001b[A\u001b[A\n",
      "\n",
      "\n",
      "For 12 epoch: 0it [00:00, ?it/s]\u001b[A\u001b[A\n",
      "\n",
      "For 12 epoch: 9it [00:00, 82.77it/s]\u001b[A\u001b[A"
     ]
    },
    {
     "name": "stdout",
     "output_type": "stream",
     "text": [
      "Epoch: 11, Loss: 0.0004, Train error: 0.0000\n"
     ]
    },
    {
     "name": "stderr",
     "output_type": "stream",
     "text": [
      "\n",
      "\n",
      "For 12 epoch: 18it [00:00, 81.18it/s]\u001b[A\u001b[A\n",
      "\n",
      "For 12 epoch: 27it [00:00, 81.85it/s]\u001b[A\u001b[A\n",
      "\n",
      "For 12 epoch: 33it [00:00, 72.92it/s]\u001b[A\u001b[A\n",
      "\n",
      "For 12 epoch: 39it [00:00, 68.35it/s]\u001b[A\u001b[A\n",
      "\n",
      "For 12 epoch: 48it [00:00, 69.87it/s]\u001b[A\u001b[A\n",
      "\n",
      "For 12 epoch: 55it [00:00, 69.01it/s]\u001b[A\u001b[A\n",
      "\n",
      "For 12 epoch: 66it [00:00, 71.19it/s]\u001b[A\u001b[A\n",
      "\n",
      "\n",
      "For 13 epoch: 0it [00:00, ?it/s]\u001b[A\u001b[A\n",
      "\n",
      "For 13 epoch: 9it [00:00, 86.26it/s]\u001b[A\u001b[A"
     ]
    },
    {
     "name": "stdout",
     "output_type": "stream",
     "text": [
      "Epoch: 12, Loss: 0.0004, Train error: 0.0000\n"
     ]
    },
    {
     "name": "stderr",
     "output_type": "stream",
     "text": [
      "\n",
      "\n",
      "For 13 epoch: 18it [00:00, 84.71it/s]\u001b[A\u001b[A\n",
      "\n",
      "For 13 epoch: 27it [00:00, 84.10it/s]\u001b[A\u001b[A\n",
      "\n",
      "For 13 epoch: 36it [00:00, 85.07it/s]\u001b[A\u001b[A\n",
      "\n",
      "For 13 epoch: 46it [00:00, 86.83it/s]\u001b[A\u001b[A\n",
      "\n",
      "For 13 epoch: 56it [00:00, 90.37it/s]\u001b[A\u001b[A\n",
      "\n",
      "For 13 epoch: 66it [00:00, 87.28it/s]\u001b[A\u001b[A\n",
      "\n",
      "\n",
      "For 14 epoch: 0it [00:00, ?it/s]\u001b[A\u001b[A\n",
      "\n",
      "For 14 epoch: 6it [00:00, 56.28it/s]\u001b[A\u001b[A"
     ]
    },
    {
     "name": "stdout",
     "output_type": "stream",
     "text": [
      "Epoch: 13, Loss: 0.0004, Train error: 0.0000\n"
     ]
    },
    {
     "name": "stderr",
     "output_type": "stream",
     "text": [
      "\n",
      "\n",
      "For 14 epoch: 14it [00:00, 60.60it/s]\u001b[A\u001b[A\n",
      "\n",
      "For 14 epoch: 24it [00:00, 67.55it/s]\u001b[A\u001b[A\n",
      "\n",
      "For 14 epoch: 34it [00:00, 73.38it/s]\u001b[A\u001b[A\n",
      "\n",
      "For 14 epoch: 43it [00:00, 77.12it/s]\u001b[A\u001b[A\n",
      "\n",
      "For 14 epoch: 53it [00:00, 81.99it/s]\u001b[A\u001b[A\n",
      "\n",
      "For 14 epoch: 66it [00:00, 83.76it/s]\u001b[A\u001b[A\n",
      "\n",
      "\n",
      "For 15 epoch: 0it [00:00, ?it/s]\u001b[A\u001b[A\n",
      "\n",
      "For 15 epoch: 7it [00:00, 69.00it/s]\u001b[A\u001b[A"
     ]
    },
    {
     "name": "stdout",
     "output_type": "stream",
     "text": [
      "Epoch: 14, Loss: 0.0008, Train error: 0.0000\n"
     ]
    },
    {
     "name": "stderr",
     "output_type": "stream",
     "text": [
      "\n",
      "\n",
      "For 15 epoch: 14it [00:00, 68.10it/s]\u001b[A\u001b[A\n",
      "\n",
      "For 15 epoch: 25it [00:00, 76.20it/s]\u001b[A\u001b[A\n",
      "\n",
      "For 15 epoch: 34it [00:00, 77.56it/s]\u001b[A\u001b[A\n",
      "\n",
      "For 15 epoch: 45it [00:00, 83.13it/s]\u001b[A\u001b[A\n",
      "\n",
      "For 15 epoch: 66it [00:00, 89.61it/s]\u001b[A\u001b[A\n",
      "\n",
      "\n",
      "For 16 epoch: 0it [00:00, ?it/s]\u001b[A\u001b[A\n",
      "\n",
      "For 16 epoch: 11it [00:00, 108.61it/s]\u001b[A\u001b[A"
     ]
    },
    {
     "name": "stdout",
     "output_type": "stream",
     "text": [
      "Epoch: 15, Loss: 0.0002, Train error: 0.0000\n"
     ]
    },
    {
     "name": "stderr",
     "output_type": "stream",
     "text": [
      "\n",
      "\n",
      "For 16 epoch: 20it [00:00, 101.31it/s]\u001b[A\u001b[A\n",
      "\n",
      "For 16 epoch: 31it [00:00, 101.93it/s]\u001b[A\u001b[A\n",
      "\n",
      "For 16 epoch: 42it [00:00, 102.31it/s]\u001b[A\u001b[A\n",
      "\n",
      "For 16 epoch: 50it [00:00, 91.63it/s] \u001b[A\u001b[A\n",
      "\n",
      "For 16 epoch: 66it [00:00, 98.77it/s]\u001b[A\u001b[A\n",
      "\n",
      "\n",
      "For 17 epoch: 0it [00:00, ?it/s]\u001b[A\u001b[A\n",
      "\n",
      "For 17 epoch: 12it [00:00, 112.49it/s]\u001b[A\u001b[A"
     ]
    },
    {
     "name": "stdout",
     "output_type": "stream",
     "text": [
      "Epoch: 16, Loss: 0.0004, Train error: 0.0000\n"
     ]
    },
    {
     "name": "stderr",
     "output_type": "stream",
     "text": [
      "\n",
      "\n",
      "For 17 epoch: 19it [00:00, 92.70it/s] \u001b[A\u001b[A\n",
      "\n",
      "For 17 epoch: 29it [00:00, 93.27it/s]\u001b[A\u001b[A\n",
      "\n",
      "For 17 epoch: 39it [00:00, 92.32it/s]\u001b[A\u001b[A\n",
      "\n",
      "For 17 epoch: 47it [00:00, 85.62it/s]\u001b[A\u001b[A\n",
      "\n",
      "For 17 epoch: 54it [00:00, 77.61it/s]\u001b[A\u001b[A\n",
      "\n",
      "For 17 epoch: 66it [00:00, 75.88it/s]\u001b[A\u001b[A\n",
      "\n",
      "\n",
      "For 18 epoch: 0it [00:00, ?it/s]\u001b[A\u001b[A\n",
      "\n",
      "For 18 epoch: 7it [00:00, 62.11it/s]\u001b[A\u001b[A"
     ]
    },
    {
     "name": "stdout",
     "output_type": "stream",
     "text": [
      "Epoch: 17, Loss: 0.0004, Train error: 0.0000\n"
     ]
    },
    {
     "name": "stderr",
     "output_type": "stream",
     "text": [
      "\n",
      "\n",
      "For 18 epoch: 14it [00:00, 63.51it/s]\u001b[A\u001b[A\n",
      "\n",
      "For 18 epoch: 23it [00:00, 68.13it/s]\u001b[A\u001b[A\n",
      "\n",
      "For 18 epoch: 31it [00:00, 69.63it/s]\u001b[A\u001b[A\n",
      "\n",
      "For 18 epoch: 40it [00:00, 73.59it/s]\u001b[A\u001b[A\n",
      "\n",
      "For 18 epoch: 50it [00:00, 79.67it/s]\u001b[A\u001b[A\n",
      "\n",
      "For 18 epoch: 66it [00:00, 80.03it/s]\u001b[A\u001b[A\n",
      "\n",
      "\n",
      "For 19 epoch: 0it [00:00, ?it/s]\u001b[A\u001b[A\n",
      "\n",
      "For 19 epoch: 9it [00:00, 83.29it/s]\u001b[A\u001b[A"
     ]
    },
    {
     "name": "stdout",
     "output_type": "stream",
     "text": [
      "Epoch: 18, Loss: 0.0005, Train error: 0.0000\n"
     ]
    },
    {
     "name": "stderr",
     "output_type": "stream",
     "text": [
      "\n",
      "\n",
      "For 19 epoch: 17it [00:00, 81.46it/s]\u001b[A\u001b[A\n",
      "\n",
      "For 19 epoch: 27it [00:00, 85.52it/s]\u001b[A\u001b[A\n",
      "\n",
      "For 19 epoch: 36it [00:00, 85.45it/s]\u001b[A\u001b[A\n",
      "\n",
      "For 19 epoch: 46it [00:00, 87.97it/s]\u001b[A\u001b[A\n",
      "\n",
      "For 19 epoch: 66it [00:00, 91.16it/s]\u001b[A\u001b[A\n"
     ]
    },
    {
     "name": "stdout",
     "output_type": "stream",
     "text": [
      "Epoch: 19, Loss: 0.0004, Train error: 0.0000\n"
     ]
    },
    {
     "name": "stderr",
     "output_type": "stream",
     "text": [
      "\n",
      "3 fold cross validation: 3it [00:52, 17.38s/it]\u001b[A\n",
      "training at different percent:   0%|          | 0/1 [00:52<?, ?it/s]\n"
     ]
    }
   ],
   "source": [
    "results = mini_noise_signal_cv(start, end, data, num_bag,\n",
    "                               bag_size_mean, bag_size_std, treatment, control, model, optimizer, splits, epochs)\n",
    "\n"
   ]
  },
  {
   "cell_type": "code",
   "execution_count": 246,
   "metadata": {},
   "outputs": [],
   "source": [
    "acc_control, acc_treat, pred_score_control, pred_score_treat = test(sf_deepset, dataloader)"
   ]
  },
  {
   "cell_type": "code",
   "execution_count": 253,
   "metadata": {},
   "outputs": [],
   "source": [
    "(mean_control_accuracy, std_control_accuracy, \n",
    "            mean_treat_accuracy, std_treat_accuracy, \n",
    "            mean_pred_score_control, std_pred_score_control,\n",
    "            mean_pred_score_treatment, std_pred_score_treatment) = sf_results"
   ]
  },
  {
   "cell_type": "code",
   "execution_count": null,
   "metadata": {},
   "outputs": [],
   "source": []
  },
  {
   "cell_type": "markdown",
   "metadata": {},
   "source": [
    "# Plot"
   ]
  },
  {
   "cell_type": "code",
   "execution_count": 4,
   "metadata": {},
   "outputs": [],
   "source": [
    "def plot_ds_acc(path, file_name):\n",
    "    table = pd.read_csv(path + file_name, index_col=0)\n",
    "    table = table.sort_index()\n",
    "    z_score = 1-3*(table[\"std_pred_score_treatment\"]+table[\"std_pred_score_control\"])/(np.abs(table[\"mean_pred_score_treatment\"]-table[\"mean_pred_score_control\"]))\n",
    "\n",
    "    model_name = \"_\".join(file_name.split(\"_\")[0:2])\n",
    "    feature_size = 481\n",
    "\n",
    "    plt.figure(figsize=(14, 5))\n",
    "    ax = plt.subplot(1,2,1)\n",
    "    plt.plot([i/100 for i in range(5,96,5)], table[\"mean_accuracy\"], '-')\n",
    "    plt.fill_between([i/100 for i in range(5,96,5)], \n",
    "                     (table[\"mean_accuracy\"])-table[\"std_accuracy\"], table[\"mean_accuracy\"]+table[\"std_accuracy\"], alpha=0.2)\n",
    "    ax.set_title(\"Accuracy score of %s, %s cells, %s features\"%(model_name, 100, feature_size))\n",
    "\n",
    "    ax = plt.subplot(1,2,2)\n",
    "    plt.plot([i/100 for i in range(5,96,5)], z_score, '-')\n",
    "    ax.set_title(\"Z_score of %s, %s cells, %s features\"%(model_name, 100, feature_size))\n",
    "\n",
    "    plt.savefig(\"%s_sample%s_feature%s.png\" %(model_name, 10000, feature_size))"
   ]
  },
  {
   "cell_type": "code",
   "execution_count": 5,
   "metadata": {},
   "outputs": [
    {
     "ename": "KeyError",
     "evalue": "'mean_accuracy'",
     "output_type": "error",
     "traceback": [
      "\u001b[0;31m---------------------------------------------------------------------------\u001b[0m",
      "\u001b[0;31mKeyError\u001b[0m                                  Traceback (most recent call last)",
      "\u001b[0;32m~/miniconda3/lib/python3.7/site-packages/pandas/core/indexes/base.py\u001b[0m in \u001b[0;36mget_loc\u001b[0;34m(self, key, method, tolerance)\u001b[0m\n\u001b[1;32m   2645\u001b[0m             \u001b[0;32mtry\u001b[0m\u001b[0;34m:\u001b[0m\u001b[0;34m\u001b[0m\u001b[0;34m\u001b[0m\u001b[0m\n\u001b[0;32m-> 2646\u001b[0;31m                 \u001b[0;32mreturn\u001b[0m \u001b[0mself\u001b[0m\u001b[0;34m.\u001b[0m\u001b[0m_engine\u001b[0m\u001b[0;34m.\u001b[0m\u001b[0mget_loc\u001b[0m\u001b[0;34m(\u001b[0m\u001b[0mkey\u001b[0m\u001b[0;34m)\u001b[0m\u001b[0;34m\u001b[0m\u001b[0;34m\u001b[0m\u001b[0m\n\u001b[0m\u001b[1;32m   2647\u001b[0m             \u001b[0;32mexcept\u001b[0m \u001b[0mKeyError\u001b[0m\u001b[0;34m:\u001b[0m\u001b[0;34m\u001b[0m\u001b[0;34m\u001b[0m\u001b[0m\n",
      "\u001b[0;32mpandas/_libs/index.pyx\u001b[0m in \u001b[0;36mpandas._libs.index.IndexEngine.get_loc\u001b[0;34m()\u001b[0m\n",
      "\u001b[0;32mpandas/_libs/index.pyx\u001b[0m in \u001b[0;36mpandas._libs.index.IndexEngine.get_loc\u001b[0;34m()\u001b[0m\n",
      "\u001b[0;32mpandas/_libs/hashtable_class_helper.pxi\u001b[0m in \u001b[0;36mpandas._libs.hashtable.PyObjectHashTable.get_item\u001b[0;34m()\u001b[0m\n",
      "\u001b[0;32mpandas/_libs/hashtable_class_helper.pxi\u001b[0m in \u001b[0;36mpandas._libs.hashtable.PyObjectHashTable.get_item\u001b[0;34m()\u001b[0m\n",
      "\u001b[0;31mKeyError\u001b[0m: 'mean_accuracy'",
      "\nDuring handling of the above exception, another exception occurred:\n",
      "\u001b[0;31mKeyError\u001b[0m                                  Traceback (most recent call last)",
      "\u001b[0;32m<ipython-input-5-5f7691195af2>\u001b[0m in \u001b[0;36m<module>\u001b[0;34m\u001b[0m\n\u001b[1;32m      2\u001b[0m \u001b[0mfile_name\u001b[0m \u001b[0;34m=\u001b[0m \u001b[0;34m\"RandomForestClassifier_sample500_feature481.csv\"\u001b[0m\u001b[0;34m\u001b[0m\u001b[0;34m\u001b[0m\u001b[0m\n\u001b[1;32m      3\u001b[0m \u001b[0;34m\u001b[0m\u001b[0m\n\u001b[0;32m----> 4\u001b[0;31m \u001b[0mplot_ds_acc\u001b[0m\u001b[0;34m(\u001b[0m\u001b[0mpath\u001b[0m\u001b[0;34m,\u001b[0m\u001b[0mfile_name\u001b[0m\u001b[0;34m)\u001b[0m\u001b[0;34m\u001b[0m\u001b[0;34m\u001b[0m\u001b[0m\n\u001b[0m",
      "\u001b[0;32m<ipython-input-4-8b948c6febff>\u001b[0m in \u001b[0;36mplot_ds_acc\u001b[0;34m(path, file_name)\u001b[0m\n\u001b[1;32m      9\u001b[0m     \u001b[0mplt\u001b[0m\u001b[0;34m.\u001b[0m\u001b[0mfigure\u001b[0m\u001b[0;34m(\u001b[0m\u001b[0mfigsize\u001b[0m\u001b[0;34m=\u001b[0m\u001b[0;34m(\u001b[0m\u001b[0;36m14\u001b[0m\u001b[0;34m,\u001b[0m \u001b[0;36m5\u001b[0m\u001b[0;34m)\u001b[0m\u001b[0;34m)\u001b[0m\u001b[0;34m\u001b[0m\u001b[0;34m\u001b[0m\u001b[0m\n\u001b[1;32m     10\u001b[0m     \u001b[0max\u001b[0m \u001b[0;34m=\u001b[0m \u001b[0mplt\u001b[0m\u001b[0;34m.\u001b[0m\u001b[0msubplot\u001b[0m\u001b[0;34m(\u001b[0m\u001b[0;36m1\u001b[0m\u001b[0;34m,\u001b[0m\u001b[0;36m2\u001b[0m\u001b[0;34m,\u001b[0m\u001b[0;36m1\u001b[0m\u001b[0;34m)\u001b[0m\u001b[0;34m\u001b[0m\u001b[0;34m\u001b[0m\u001b[0m\n\u001b[0;32m---> 11\u001b[0;31m     \u001b[0mplt\u001b[0m\u001b[0;34m.\u001b[0m\u001b[0mplot\u001b[0m\u001b[0;34m(\u001b[0m\u001b[0;34m[\u001b[0m\u001b[0mi\u001b[0m\u001b[0;34m/\u001b[0m\u001b[0;36m100\u001b[0m \u001b[0;32mfor\u001b[0m \u001b[0mi\u001b[0m \u001b[0;32min\u001b[0m \u001b[0mrange\u001b[0m\u001b[0;34m(\u001b[0m\u001b[0;36m5\u001b[0m\u001b[0;34m,\u001b[0m\u001b[0;36m96\u001b[0m\u001b[0;34m,\u001b[0m\u001b[0;36m5\u001b[0m\u001b[0;34m)\u001b[0m\u001b[0;34m]\u001b[0m\u001b[0;34m,\u001b[0m \u001b[0mtable\u001b[0m\u001b[0;34m[\u001b[0m\u001b[0;34m\"mean_accuracy\"\u001b[0m\u001b[0;34m]\u001b[0m\u001b[0;34m,\u001b[0m \u001b[0;34m'-'\u001b[0m\u001b[0;34m)\u001b[0m\u001b[0;34m\u001b[0m\u001b[0;34m\u001b[0m\u001b[0m\n\u001b[0m\u001b[1;32m     12\u001b[0m     plt.fill_between([i/100 for i in range(5,96,5)], \n\u001b[1;32m     13\u001b[0m                      (table[\"mean_accuracy\"])-table[\"std_accuracy\"], table[\"mean_accuracy\"]+table[\"std_accuracy\"], alpha=0.2)\n",
      "\u001b[0;32m~/miniconda3/lib/python3.7/site-packages/pandas/core/frame.py\u001b[0m in \u001b[0;36m__getitem__\u001b[0;34m(self, key)\u001b[0m\n\u001b[1;32m   2798\u001b[0m             \u001b[0;32mif\u001b[0m \u001b[0mself\u001b[0m\u001b[0;34m.\u001b[0m\u001b[0mcolumns\u001b[0m\u001b[0;34m.\u001b[0m\u001b[0mnlevels\u001b[0m \u001b[0;34m>\u001b[0m \u001b[0;36m1\u001b[0m\u001b[0;34m:\u001b[0m\u001b[0;34m\u001b[0m\u001b[0;34m\u001b[0m\u001b[0m\n\u001b[1;32m   2799\u001b[0m                 \u001b[0;32mreturn\u001b[0m \u001b[0mself\u001b[0m\u001b[0;34m.\u001b[0m\u001b[0m_getitem_multilevel\u001b[0m\u001b[0;34m(\u001b[0m\u001b[0mkey\u001b[0m\u001b[0;34m)\u001b[0m\u001b[0;34m\u001b[0m\u001b[0;34m\u001b[0m\u001b[0m\n\u001b[0;32m-> 2800\u001b[0;31m             \u001b[0mindexer\u001b[0m \u001b[0;34m=\u001b[0m \u001b[0mself\u001b[0m\u001b[0;34m.\u001b[0m\u001b[0mcolumns\u001b[0m\u001b[0;34m.\u001b[0m\u001b[0mget_loc\u001b[0m\u001b[0;34m(\u001b[0m\u001b[0mkey\u001b[0m\u001b[0;34m)\u001b[0m\u001b[0;34m\u001b[0m\u001b[0;34m\u001b[0m\u001b[0m\n\u001b[0m\u001b[1;32m   2801\u001b[0m             \u001b[0;32mif\u001b[0m \u001b[0mis_integer\u001b[0m\u001b[0;34m(\u001b[0m\u001b[0mindexer\u001b[0m\u001b[0;34m)\u001b[0m\u001b[0;34m:\u001b[0m\u001b[0;34m\u001b[0m\u001b[0;34m\u001b[0m\u001b[0m\n\u001b[1;32m   2802\u001b[0m                 \u001b[0mindexer\u001b[0m \u001b[0;34m=\u001b[0m \u001b[0;34m[\u001b[0m\u001b[0mindexer\u001b[0m\u001b[0;34m]\u001b[0m\u001b[0;34m\u001b[0m\u001b[0;34m\u001b[0m\u001b[0m\n",
      "\u001b[0;32m~/miniconda3/lib/python3.7/site-packages/pandas/core/indexes/base.py\u001b[0m in \u001b[0;36mget_loc\u001b[0;34m(self, key, method, tolerance)\u001b[0m\n\u001b[1;32m   2646\u001b[0m                 \u001b[0;32mreturn\u001b[0m \u001b[0mself\u001b[0m\u001b[0;34m.\u001b[0m\u001b[0m_engine\u001b[0m\u001b[0;34m.\u001b[0m\u001b[0mget_loc\u001b[0m\u001b[0;34m(\u001b[0m\u001b[0mkey\u001b[0m\u001b[0;34m)\u001b[0m\u001b[0;34m\u001b[0m\u001b[0;34m\u001b[0m\u001b[0m\n\u001b[1;32m   2647\u001b[0m             \u001b[0;32mexcept\u001b[0m \u001b[0mKeyError\u001b[0m\u001b[0;34m:\u001b[0m\u001b[0;34m\u001b[0m\u001b[0;34m\u001b[0m\u001b[0m\n\u001b[0;32m-> 2648\u001b[0;31m                 \u001b[0;32mreturn\u001b[0m \u001b[0mself\u001b[0m\u001b[0;34m.\u001b[0m\u001b[0m_engine\u001b[0m\u001b[0;34m.\u001b[0m\u001b[0mget_loc\u001b[0m\u001b[0;34m(\u001b[0m\u001b[0mself\u001b[0m\u001b[0;34m.\u001b[0m\u001b[0m_maybe_cast_indexer\u001b[0m\u001b[0;34m(\u001b[0m\u001b[0mkey\u001b[0m\u001b[0;34m)\u001b[0m\u001b[0;34m)\u001b[0m\u001b[0;34m\u001b[0m\u001b[0;34m\u001b[0m\u001b[0m\n\u001b[0m\u001b[1;32m   2649\u001b[0m         \u001b[0mindexer\u001b[0m \u001b[0;34m=\u001b[0m \u001b[0mself\u001b[0m\u001b[0;34m.\u001b[0m\u001b[0mget_indexer\u001b[0m\u001b[0;34m(\u001b[0m\u001b[0;34m[\u001b[0m\u001b[0mkey\u001b[0m\u001b[0;34m]\u001b[0m\u001b[0;34m,\u001b[0m \u001b[0mmethod\u001b[0m\u001b[0;34m=\u001b[0m\u001b[0mmethod\u001b[0m\u001b[0;34m,\u001b[0m \u001b[0mtolerance\u001b[0m\u001b[0;34m=\u001b[0m\u001b[0mtolerance\u001b[0m\u001b[0;34m)\u001b[0m\u001b[0;34m\u001b[0m\u001b[0;34m\u001b[0m\u001b[0m\n\u001b[1;32m   2650\u001b[0m         \u001b[0;32mif\u001b[0m \u001b[0mindexer\u001b[0m\u001b[0;34m.\u001b[0m\u001b[0mndim\u001b[0m \u001b[0;34m>\u001b[0m \u001b[0;36m1\u001b[0m \u001b[0;32mor\u001b[0m \u001b[0mindexer\u001b[0m\u001b[0;34m.\u001b[0m\u001b[0msize\u001b[0m \u001b[0;34m>\u001b[0m \u001b[0;36m1\u001b[0m\u001b[0;34m:\u001b[0m\u001b[0;34m\u001b[0m\u001b[0;34m\u001b[0m\u001b[0m\n",
      "\u001b[0;32mpandas/_libs/index.pyx\u001b[0m in \u001b[0;36mpandas._libs.index.IndexEngine.get_loc\u001b[0;34m()\u001b[0m\n",
      "\u001b[0;32mpandas/_libs/index.pyx\u001b[0m in \u001b[0;36mpandas._libs.index.IndexEngine.get_loc\u001b[0;34m()\u001b[0m\n",
      "\u001b[0;32mpandas/_libs/hashtable_class_helper.pxi\u001b[0m in \u001b[0;36mpandas._libs.hashtable.PyObjectHashTable.get_item\u001b[0;34m()\u001b[0m\n",
      "\u001b[0;32mpandas/_libs/hashtable_class_helper.pxi\u001b[0m in \u001b[0;36mpandas._libs.hashtable.PyObjectHashTable.get_item\u001b[0;34m()\u001b[0m\n",
      "\u001b[0;31mKeyError\u001b[0m: 'mean_accuracy'"
     ]
    },
    {
     "data": {
      "image/png": "[encoded data removed]",
      "text/plain": [
       "<Figure size 1008x360 with 1 Axes>"
      ]
     },
     "metadata": {
      "needs_background": "light"
     },
     "output_type": "display_data"
    }
   ],
   "source": [
    "path = \"./\"\n",
    "file_name = \"RandomForestClassifier_sample500_feature481.csv\"\n",
    "\n",
    "plot_ds_acc(path,file_name)"
   ]
  },
  {
   "cell_type": "code",
   "execution_count": 12,
   "metadata": {},
   "outputs": [
    {
     "data": {
      "image/png": "[encoded data removed]",
      "text/plain": [
       "<Figure size 1008x360 with 2 Axes>"
      ]
     },
     "metadata": {
      "needs_background": "light"
     },
     "output_type": "display_data"
    }
   ],
   "source": [
    "path = \"./deepset_result_Nov1/\"\n",
    "file_name = \"deepset_sum0.5_bags100_bagsize100_feature481.csv\"\n",
    "\n",
    "plot_ds_acc(path,file_name)"
   ]
  },
  {
   "cell_type": "markdown",
   "metadata": {},
   "source": [
    "# AttentionSet Model"
   ]
  },
  {
   "cell_type": "code",
   "execution_count": 3,
   "metadata": {},
   "outputs": [],
   "source": [
    "start = 90\n",
    "end = 91\n",
    "# data = mini_data\n",
    "num_bag = 100\n",
    "bag_size_mean = 200\n",
    "bag_size_std = 10\n",
    "treatment = \"taxol\"\n",
    "control = \"DMSO\"\n",
    "model = profile_AttSet(481).cuda()#FullDeepSet(\"mean\").cuda()\n",
    "# optimizer = optimizer\n",
    "splits = 3\n",
    "epochs = 20"
   ]
  },
  {
   "cell_type": "code",
   "execution_count": 8,
   "metadata": {},
   "outputs": [],
   "source": [
    "optimizer = optim.Adam(model.parameters(), lr=0.001, betas=(0.9, 0.999), weight_decay=10e-5)"
   ]
  },
  {
   "cell_type": "code",
   "execution_count": null,
   "metadata": {},
   "outputs": [],
   "source": [
    "model"
   ]
  },
  {
   "cell_type": "code",
   "execution_count": 9,
   "metadata": {
    "collapsed": true,
    "jupyter": {
     "outputs_hidden": true
    }
   },
   "outputs": [
    {
     "name": "stderr",
     "output_type": "stream",
     "text": [
      "training at different percent:   0%|          | 0/1 [00:00<?, ?it/s]\n",
      "3 fold cross validation: 0it [00:00, ?it/s]\u001b[A"
     ]
    },
    {
     "name": "stdout",
     "output_type": "stream",
     "text": [
      "Epoch: 0, Loss: 0.6145, Train error: 0.3030\n",
      "Epoch: 1, Loss: 0.1944, Train error: 0.0455\n",
      "Epoch: 2, Loss: 0.0228, Train error: 0.0000\n",
      "Epoch: 3, Loss: 0.0078, Train error: 0.0000\n",
      "Epoch: 4, Loss: 0.0030, Train error: 0.0000\n",
      "Epoch: 5, Loss: 0.0013, Train error: 0.0000\n",
      "Epoch: 6, Loss: 0.0008, Train error: 0.0000\n",
      "Epoch: 7, Loss: 0.0005, Train error: 0.0000\n",
      "Epoch: 8, Loss: 0.0005, Train error: 0.0000\n",
      "Epoch: 9, Loss: 0.0004, Train error: 0.0000\n",
      "Epoch: 10, Loss: 0.0003, Train error: 0.0000\n",
      "Epoch: 11, Loss: 0.0003, Train error: 0.0000\n",
      "Epoch: 12, Loss: 0.0003, Train error: 0.0000\n",
      "Epoch: 13, Loss: 0.0003, Train error: 0.0000\n",
      "Epoch: 14, Loss: 0.0003, Train error: 0.0000\n",
      "Epoch: 15, Loss: 0.0003, Train error: 0.0000\n",
      "Epoch: 16, Loss: 0.0003, Train error: 0.0000\n",
      "Epoch: 17, Loss: 0.0003, Train error: 0.0000\n",
      "Epoch: 18, Loss: 0.0003, Train error: 0.0000\n",
      "Epoch: 19, Loss: 0.0002, Train error: 0.0000\n"
     ]
    },
    {
     "name": "stderr",
     "output_type": "stream",
     "text": [
      "\n",
      "3 fold cross validation: 1it [00:16, 16.51s/it]\u001b[A"
     ]
    },
    {
     "name": "stdout",
     "output_type": "stream",
     "text": [
      "Epoch: 0, Loss: 0.0002, Train error: 0.0000\n",
      "Epoch: 1, Loss: 0.0002, Train error: 0.0000\n",
      "Epoch: 2, Loss: 0.0002, Train error: 0.0000\n",
      "Epoch: 3, Loss: 0.0002, Train error: 0.0000\n",
      "Epoch: 4, Loss: 0.0002, Train error: 0.0000\n",
      "Epoch: 5, Loss: 0.0003, Train error: 0.0000\n",
      "Epoch: 6, Loss: 0.0002, Train error: 0.0000\n",
      "Epoch: 7, Loss: 0.0002, Train error: 0.0000\n",
      "Epoch: 8, Loss: 0.0003, Train error: 0.0000\n",
      "Epoch: 9, Loss: 0.0003, Train error: 0.0000\n",
      "Epoch: 10, Loss: 0.0002, Train error: 0.0000\n",
      "Epoch: 11, Loss: 0.0003, Train error: 0.0000\n",
      "Epoch: 12, Loss: 0.0002, Train error: 0.0000\n",
      "Epoch: 13, Loss: 0.0003, Train error: 0.0000\n",
      "Epoch: 14, Loss: 0.0002, Train error: 0.0000\n",
      "Epoch: 15, Loss: 0.0003, Train error: 0.0000\n",
      "Epoch: 16, Loss: 0.0002, Train error: 0.0000\n",
      "Epoch: 17, Loss: 0.0003, Train error: 0.0000\n",
      "Epoch: 18, Loss: 0.0003, Train error: 0.0000\n",
      "Epoch: 19, Loss: 0.0003, Train error: 0.0000\n"
     ]
    },
    {
     "name": "stderr",
     "output_type": "stream",
     "text": [
      "\n",
      "3 fold cross validation: 2it [00:33, 16.58s/it]\u001b[A"
     ]
    },
    {
     "name": "stdout",
     "output_type": "stream",
     "text": [
      "Epoch: 0, Loss: 0.0002, Train error: 0.0000\n",
      "Epoch: 1, Loss: 0.0002, Train error: 0.0000\n",
      "Epoch: 2, Loss: 0.0003, Train error: 0.0000\n",
      "Epoch: 3, Loss: 0.0002, Train error: 0.0000\n",
      "Epoch: 4, Loss: 0.0003, Train error: 0.0000\n",
      "Epoch: 5, Loss: 0.0002, Train error: 0.0000\n",
      "Epoch: 6, Loss: 0.0002, Train error: 0.0000\n",
      "Epoch: 7, Loss: 0.0002, Train error: 0.0000\n",
      "Epoch: 8, Loss: 0.0002, Train error: 0.0000\n",
      "Epoch: 9, Loss: 0.0002, Train error: 0.0000\n",
      "Epoch: 10, Loss: 0.0002, Train error: 0.0000\n",
      "Epoch: 11, Loss: 0.0002, Train error: 0.0000\n",
      "Epoch: 12, Loss: 0.0002, Train error: 0.0000\n",
      "Epoch: 13, Loss: 0.0002, Train error: 0.0000\n",
      "Epoch: 14, Loss: 0.0002, Train error: 0.0000\n",
      "Epoch: 15, Loss: 0.0003, Train error: 0.0000\n",
      "Epoch: 16, Loss: 0.0002, Train error: 0.0000\n",
      "Epoch: 17, Loss: 0.0002, Train error: 0.0000\n",
      "Epoch: 18, Loss: 0.0002, Train error: 0.0000\n",
      "Epoch: 19, Loss: 0.0002, Train error: 0.0000\n"
     ]
    },
    {
     "name": "stderr",
     "output_type": "stream",
     "text": [
      "\n",
      "3 fold cross validation: 3it [00:48, 16.07s/it]\u001b[A\n",
      "training at different percent:   0%|          | 0/1 [00:48<?, ?it/s]\n"
     ]
    }
   ],
   "source": [
    "results = mini_noise_signal_cv(start, end, data, num_bag,\n",
    "                               bag_size_mean, bag_size_std, \n",
    "                               treatment, control, model, \n",
    "                               optimizer, splits, epochs)"
   ]
  },
  {
   "cell_type": "code",
   "execution_count": 165,
   "metadata": {},
   "outputs": [],
   "source": [
    "profile_model_attset = profile_AttSet(2)"
   ]
  },
  {
   "cell_type": "code",
   "execution_count": 9,
   "metadata": {},
   "outputs": [
    {
     "data": {
      "application/vnd.jupyter.widget-view+json": {
       "model_id": "bdec3ed618ca4b479f8c229de11c22bf",
       "version_major": 2,
       "version_minor": 0
      },
      "text/plain": [
       "HBox(children=(FloatProgress(value=0.0, description='training at different percent', max=1.0, style=ProgressSt…"
      ]
     },
     "metadata": {},
     "output_type": "display_data"
    },
    {
     "data": {
      "application/vnd.jupyter.widget-view+json": {
       "model_id": "38e68ea98637429fa108e4079290fe1e",
       "version_major": 2,
       "version_minor": 0
      },
      "text/plain": [
       "HBox(children=(FloatProgress(value=1.0, bar_style='info', description='3 fold cross validation', max=1.0, styl…"
      ]
     },
     "metadata": {},
     "output_type": "display_data"
    },
    {
     "name": "stdout",
     "output_type": "stream",
     "text": [
      "Control accuracy:0.000, Treat accuracy:1.000, overally accuray:0.485\n",
      "Control accuracy:0.000, Treat accuracy:1.000, overally accuray:0.485\n",
      "Control accuracy:0.000, Treat accuracy:1.000, overally accuray:0.485\n",
      "\n",
      "\n"
     ]
    }
   ],
   "source": [
    "dic = {}\n",
    "# Set different percentage of treatment v.s. control \n",
    "for j in tqdm(range(start, end, 5), desc = \"training at different percent\"):\n",
    "    X, y = data_label_split(data)\n",
    "    y = y[\"compound\"]\n",
    "\n",
    "    acc_control_list = []\n",
    "    acc_treat_list = []\n",
    "    pred_score_control_list = []\n",
    "    pred_score_treat_list = []\n",
    "    # Stratified K fold \n",
    "    skf = StratifiedKFold(n_splits = splits)\n",
    "    for i, (train_index, test_index) in tqdm(enumerate(skf.split(X, y)), desc=\"%d fold cross validation\"%splits):\n",
    "        X_train, X_test = X.iloc[train_index], X.iloc[test_index]\n",
    "        y_train, y_test = y.iloc[train_index], y.iloc[test_index]  \n",
    "        X_train = pd.concat([X_train, y_train], axis=1, sort=False)\n",
    "        X_test = pd.concat([X_test, y_test], axis=1, sort=False)\n",
    "\n",
    "        # Redefine dataloader and train model at each fold\n",
    "        train_dataset = dmso_taxol_ProfileBag(X_train, int(num_bag*(splits-1)/splits), bag_size_mean, bag_size_std, j/100, treatment, control, 0.5)\n",
    "        valida_dataset = dmso_taxol_ProfileBag(X_test, int(num_bag/splits), bag_size_mean, bag_size_std, j/100, treatment, control, 0.5)\n",
    "        train_loader = D.DataLoader(train_dataset, batch_size=1, shuffle=True)\n",
    "        valida_loader = D.DataLoader(valida_dataset, batch_size=1, shuffle=True)\n",
    "        acc_control, acc_treat, pred_score_control, pred_score_treat = test(model, valida_loader)\n",
    "        "
   ]
  },
  {
   "cell_type": "code",
   "execution_count": 19,
   "metadata": {},
   "outputs": [
    {
     "data": {
      "text/plain": [
       "(17, 16)"
      ]
     },
     "execution_count": 19,
     "metadata": {},
     "output_type": "execute_result"
    }
   ],
   "source": [
    "len(acc_control),len(acc_treat)"
   ]
  },
  {
   "cell_type": "code",
   "execution_count": 23,
   "metadata": {},
   "outputs": [],
   "source": [
    "def get_taxol_perc(l):\n",
    "    count = 0\n",
    "    for i in range(len(l)):\n",
    "        if l[i]==\"taxol\":\n",
    "            count+=1\n",
    "    print(count/len(l))\n",
    "    "
   ]
  },
  {
   "cell_type": "code",
   "execution_count": 22,
   "metadata": {},
   "outputs": [
    {
     "data": {
      "text/plain": [
       "False"
      ]
     },
     "execution_count": 22,
     "metadata": {},
     "output_type": "execute_result"
    }
   ],
   "source": [
    "\n",
    "[\"taxol\",\"DMSO\"] == \"taxol\""
   ]
  },
  {
   "cell_type": "code",
   "execution_count": 25,
   "metadata": {},
   "outputs": [
    {
     "name": "stdout",
     "output_type": "stream",
     "text": [
      "0.8979591836734694\n",
      "0.8994708994708994\n",
      "0.8985507246376812\n",
      "0.8990384615384616\n",
      "0.8970588235294118\n",
      "0.9\n",
      "0.9\n",
      "0.8963730569948186\n",
      "0.8994708994708994\n",
      "0.8979591836734694\n",
      "0.8986175115207373\n",
      "0.8974358974358975\n",
      "0.8958333333333334\n",
      "0.8958333333333334\n",
      "0.8958333333333334\n",
      "0.8983957219251337\n",
      "0.0\n",
      "0.0\n",
      "0.0\n",
      "0.0\n",
      "0.0\n",
      "0.0\n",
      "0.0\n",
      "0.0\n",
      "0.0\n",
      "0.0\n",
      "0.0\n",
      "0.0\n",
      "0.0\n",
      "0.0\n",
      "0.0\n",
      "0.0\n",
      "0.0\n"
     ]
    }
   ],
   "source": [
    "for i in range(len(valida_dataset)):\n",
    "    get_taxol_perc(valida_dataset[i][1][1])"
   ]
  },
  {
   "cell_type": "code",
   "execution_count": 57,
   "metadata": {},
   "outputs": [],
   "source": [
    "table = pd.read_csv(path + file_name, index_col=0)\n",
    "table = table.sort_index()"
   ]
  },
  {
   "cell_type": "code",
   "execution_count": null,
   "metadata": {},
   "outputs": [],
   "source": [
    "table.iloc[]"
   ]
  },
  {
   "cell_type": "code",
   "execution_count": 58,
   "metadata": {},
   "outputs": [
    {
     "data": {
      "text/html": [
       "<div>\n",
       "<style scoped>\n",
       "    .dataframe tbody tr th:only-of-type {\n",
       "        vertical-align: middle;\n",
       "    }\n",
       "\n",
       "    .dataframe tbody tr th {\n",
       "        vertical-align: top;\n",
       "    }\n",
       "\n",
       "    .dataframe thead th {\n",
       "        text-align: right;\n",
       "    }\n",
       "</style>\n",
       "<table border=\"1\" class=\"dataframe\">\n",
       "  <thead>\n",
       "    <tr style=\"text-align: right;\">\n",
       "      <th></th>\n",
       "      <th>mean_accuracy</th>\n",
       "      <th>std_accuracy</th>\n",
       "      <th>mean_control_accuracy</th>\n",
       "      <th>std_control_accuracy</th>\n",
       "      <th>mean_treat_accuracy</th>\n",
       "      <th>std_treat_accuracy</th>\n",
       "      <th>mean_pred_score_control</th>\n",
       "      <th>std_pred_score_control</th>\n",
       "      <th>mean_pred_score_treatment</th>\n",
       "      <th>std_pred_score_treatment</th>\n",
       "    </tr>\n",
       "  </thead>\n",
       "  <tbody>\n",
       "    <tr>\n",
       "      <th>0.05</th>\n",
       "      <td>0.80</td>\n",
       "      <td>0.400000</td>\n",
       "      <td>0.88</td>\n",
       "      <td>0.324962</td>\n",
       "      <td>0.72</td>\n",
       "      <td>0.448999</td>\n",
       "      <td>0.141478</td>\n",
       "      <td>0.277232</td>\n",
       "      <td>0.712987</td>\n",
       "      <td>0.387560</td>\n",
       "    </tr>\n",
       "    <tr>\n",
       "      <th>0.10</th>\n",
       "      <td>0.89</td>\n",
       "      <td>0.312890</td>\n",
       "      <td>0.90</td>\n",
       "      <td>0.300000</td>\n",
       "      <td>0.88</td>\n",
       "      <td>0.324962</td>\n",
       "      <td>0.134525</td>\n",
       "      <td>0.247329</td>\n",
       "      <td>0.842480</td>\n",
       "      <td>0.296975</td>\n",
       "    </tr>\n",
       "    <tr>\n",
       "      <th>0.15</th>\n",
       "      <td>0.92</td>\n",
       "      <td>0.271293</td>\n",
       "      <td>0.96</td>\n",
       "      <td>0.195959</td>\n",
       "      <td>0.88</td>\n",
       "      <td>0.324962</td>\n",
       "      <td>0.034166</td>\n",
       "      <td>0.132680</td>\n",
       "      <td>0.844991</td>\n",
       "      <td>0.318048</td>\n",
       "    </tr>\n",
       "    <tr>\n",
       "      <th>0.20</th>\n",
       "      <td>0.80</td>\n",
       "      <td>0.400000</td>\n",
       "      <td>0.84</td>\n",
       "      <td>0.366606</td>\n",
       "      <td>0.76</td>\n",
       "      <td>0.427083</td>\n",
       "      <td>0.155384</td>\n",
       "      <td>0.333898</td>\n",
       "      <td>0.754050</td>\n",
       "      <td>0.352207</td>\n",
       "    </tr>\n",
       "    <tr>\n",
       "      <th>0.25</th>\n",
       "      <td>0.74</td>\n",
       "      <td>0.438634</td>\n",
       "      <td>0.94</td>\n",
       "      <td>0.237487</td>\n",
       "      <td>0.54</td>\n",
       "      <td>0.498397</td>\n",
       "      <td>0.069832</td>\n",
       "      <td>0.199288</td>\n",
       "      <td>0.540951</td>\n",
       "      <td>0.434158</td>\n",
       "    </tr>\n",
       "    <tr>\n",
       "      <th>0.30</th>\n",
       "      <td>0.73</td>\n",
       "      <td>0.443959</td>\n",
       "      <td>0.90</td>\n",
       "      <td>0.300000</td>\n",
       "      <td>0.56</td>\n",
       "      <td>0.496387</td>\n",
       "      <td>0.086292</td>\n",
       "      <td>0.242811</td>\n",
       "      <td>0.553302</td>\n",
       "      <td>0.458849</td>\n",
       "    </tr>\n",
       "    <tr>\n",
       "      <th>0.35</th>\n",
       "      <td>0.76</td>\n",
       "      <td>0.427083</td>\n",
       "      <td>0.90</td>\n",
       "      <td>0.300000</td>\n",
       "      <td>0.62</td>\n",
       "      <td>0.485386</td>\n",
       "      <td>0.089969</td>\n",
       "      <td>0.240103</td>\n",
       "      <td>0.568509</td>\n",
       "      <td>0.433161</td>\n",
       "    </tr>\n",
       "    <tr>\n",
       "      <th>0.40</th>\n",
       "      <td>0.67</td>\n",
       "      <td>0.470213</td>\n",
       "      <td>0.92</td>\n",
       "      <td>0.271293</td>\n",
       "      <td>0.42</td>\n",
       "      <td>0.493559</td>\n",
       "      <td>0.084601</td>\n",
       "      <td>0.227860</td>\n",
       "      <td>0.419830</td>\n",
       "      <td>0.464556</td>\n",
       "    </tr>\n",
       "    <tr>\n",
       "      <th>0.45</th>\n",
       "      <td>0.70</td>\n",
       "      <td>0.458258</td>\n",
       "      <td>0.98</td>\n",
       "      <td>0.140000</td>\n",
       "      <td>0.42</td>\n",
       "      <td>0.493559</td>\n",
       "      <td>0.026933</td>\n",
       "      <td>0.140980</td>\n",
       "      <td>0.412991</td>\n",
       "      <td>0.485577</td>\n",
       "    </tr>\n",
       "    <tr>\n",
       "      <th>0.50</th>\n",
       "      <td>0.67</td>\n",
       "      <td>0.470213</td>\n",
       "      <td>0.96</td>\n",
       "      <td>0.195959</td>\n",
       "      <td>0.38</td>\n",
       "      <td>0.485386</td>\n",
       "      <td>0.039382</td>\n",
       "      <td>0.192817</td>\n",
       "      <td>0.366484</td>\n",
       "      <td>0.470740</td>\n",
       "    </tr>\n",
       "    <tr>\n",
       "      <th>0.55</th>\n",
       "      <td>0.69</td>\n",
       "      <td>0.462493</td>\n",
       "      <td>0.96</td>\n",
       "      <td>0.195959</td>\n",
       "      <td>0.42</td>\n",
       "      <td>0.493559</td>\n",
       "      <td>0.038626</td>\n",
       "      <td>0.168945</td>\n",
       "      <td>0.396346</td>\n",
       "      <td>0.468171</td>\n",
       "    </tr>\n",
       "    <tr>\n",
       "      <th>0.60</th>\n",
       "      <td>0.66</td>\n",
       "      <td>0.473709</td>\n",
       "      <td>0.94</td>\n",
       "      <td>0.237487</td>\n",
       "      <td>0.38</td>\n",
       "      <td>0.485386</td>\n",
       "      <td>0.071288</td>\n",
       "      <td>0.227889</td>\n",
       "      <td>0.377290</td>\n",
       "      <td>0.464267</td>\n",
       "    </tr>\n",
       "    <tr>\n",
       "      <th>0.65</th>\n",
       "      <td>0.78</td>\n",
       "      <td>0.414246</td>\n",
       "      <td>0.96</td>\n",
       "      <td>0.195959</td>\n",
       "      <td>0.60</td>\n",
       "      <td>0.489898</td>\n",
       "      <td>0.055211</td>\n",
       "      <td>0.191529</td>\n",
       "      <td>0.571618</td>\n",
       "      <td>0.442677</td>\n",
       "    </tr>\n",
       "    <tr>\n",
       "      <th>0.70</th>\n",
       "      <td>0.66</td>\n",
       "      <td>0.473709</td>\n",
       "      <td>0.96</td>\n",
       "      <td>0.195959</td>\n",
       "      <td>0.36</td>\n",
       "      <td>0.480000</td>\n",
       "      <td>0.052962</td>\n",
       "      <td>0.193359</td>\n",
       "      <td>0.359673</td>\n",
       "      <td>0.463832</td>\n",
       "    </tr>\n",
       "    <tr>\n",
       "      <th>0.75</th>\n",
       "      <td>0.67</td>\n",
       "      <td>0.470213</td>\n",
       "      <td>0.92</td>\n",
       "      <td>0.271293</td>\n",
       "      <td>0.42</td>\n",
       "      <td>0.493559</td>\n",
       "      <td>0.071450</td>\n",
       "      <td>0.231058</td>\n",
       "      <td>0.412534</td>\n",
       "      <td>0.475189</td>\n",
       "    </tr>\n",
       "    <tr>\n",
       "      <th>0.80</th>\n",
       "      <td>0.68</td>\n",
       "      <td>0.466476</td>\n",
       "      <td>0.92</td>\n",
       "      <td>0.271293</td>\n",
       "      <td>0.44</td>\n",
       "      <td>0.496387</td>\n",
       "      <td>0.075569</td>\n",
       "      <td>0.229310</td>\n",
       "      <td>0.435045</td>\n",
       "      <td>0.479817</td>\n",
       "    </tr>\n",
       "    <tr>\n",
       "      <th>0.85</th>\n",
       "      <td>0.67</td>\n",
       "      <td>0.470213</td>\n",
       "      <td>0.96</td>\n",
       "      <td>0.195959</td>\n",
       "      <td>0.38</td>\n",
       "      <td>0.485386</td>\n",
       "      <td>0.044326</td>\n",
       "      <td>0.188576</td>\n",
       "      <td>0.377403</td>\n",
       "      <td>0.469243</td>\n",
       "    </tr>\n",
       "    <tr>\n",
       "      <th>0.90</th>\n",
       "      <td>0.66</td>\n",
       "      <td>0.473709</td>\n",
       "      <td>0.92</td>\n",
       "      <td>0.271293</td>\n",
       "      <td>0.40</td>\n",
       "      <td>0.489898</td>\n",
       "      <td>0.069000</td>\n",
       "      <td>0.221708</td>\n",
       "      <td>0.394748</td>\n",
       "      <td>0.474902</td>\n",
       "    </tr>\n",
       "    <tr>\n",
       "      <th>0.95</th>\n",
       "      <td>0.66</td>\n",
       "      <td>0.473709</td>\n",
       "      <td>0.90</td>\n",
       "      <td>0.300000</td>\n",
       "      <td>0.42</td>\n",
       "      <td>0.493559</td>\n",
       "      <td>0.091116</td>\n",
       "      <td>0.272436</td>\n",
       "      <td>0.419436</td>\n",
       "      <td>0.491347</td>\n",
       "    </tr>\n",
       "  </tbody>\n",
       "</table>\n",
       "</div>"
      ],
      "text/plain": [
       "      mean_accuracy  std_accuracy  mean_control_accuracy  \\\n",
       "0.05           0.80      0.400000                   0.88   \n",
       "0.10           0.89      0.312890                   0.90   \n",
       "0.15           0.92      0.271293                   0.96   \n",
       "0.20           0.80      0.400000                   0.84   \n",
       "0.25           0.74      0.438634                   0.94   \n",
       "0.30           0.73      0.443959                   0.90   \n",
       "0.35           0.76      0.427083                   0.90   \n",
       "0.40           0.67      0.470213                   0.92   \n",
       "0.45           0.70      0.458258                   0.98   \n",
       "0.50           0.67      0.470213                   0.96   \n",
       "0.55           0.69      0.462493                   0.96   \n",
       "0.60           0.66      0.473709                   0.94   \n",
       "0.65           0.78      0.414246                   0.96   \n",
       "0.70           0.66      0.473709                   0.96   \n",
       "0.75           0.67      0.470213                   0.92   \n",
       "0.80           0.68      0.466476                   0.92   \n",
       "0.85           0.67      0.470213                   0.96   \n",
       "0.90           0.66      0.473709                   0.92   \n",
       "0.95           0.66      0.473709                   0.90   \n",
       "\n",
       "      std_control_accuracy  mean_treat_accuracy  std_treat_accuracy  \\\n",
       "0.05              0.324962                 0.72            0.448999   \n",
       "0.10              0.300000                 0.88            0.324962   \n",
       "0.15              0.195959                 0.88            0.324962   \n",
       "0.20              0.366606                 0.76            0.427083   \n",
       "0.25              0.237487                 0.54            0.498397   \n",
       "0.30              0.300000                 0.56            0.496387   \n",
       "0.35              0.300000                 0.62            0.485386   \n",
       "0.40              0.271293                 0.42            0.493559   \n",
       "0.45              0.140000                 0.42            0.493559   \n",
       "0.50              0.195959                 0.38            0.485386   \n",
       "0.55              0.195959                 0.42            0.493559   \n",
       "0.60              0.237487                 0.38            0.485386   \n",
       "0.65              0.195959                 0.60            0.489898   \n",
       "0.70              0.195959                 0.36            0.480000   \n",
       "0.75              0.271293                 0.42            0.493559   \n",
       "0.80              0.271293                 0.44            0.496387   \n",
       "0.85              0.195959                 0.38            0.485386   \n",
       "0.90              0.271293                 0.40            0.489898   \n",
       "0.95              0.300000                 0.42            0.493559   \n",
       "\n",
       "      mean_pred_score_control  std_pred_score_control  \\\n",
       "0.05                 0.141478                0.277232   \n",
       "0.10                 0.134525                0.247329   \n",
       "0.15                 0.034166                0.132680   \n",
       "0.20                 0.155384                0.333898   \n",
       "0.25                 0.069832                0.199288   \n",
       "0.30                 0.086292                0.242811   \n",
       "0.35                 0.089969                0.240103   \n",
       "0.40                 0.084601                0.227860   \n",
       "0.45                 0.026933                0.140980   \n",
       "0.50                 0.039382                0.192817   \n",
       "0.55                 0.038626                0.168945   \n",
       "0.60                 0.071288                0.227889   \n",
       "0.65                 0.055211                0.191529   \n",
       "0.70                 0.052962                0.193359   \n",
       "0.75                 0.071450                0.231058   \n",
       "0.80                 0.075569                0.229310   \n",
       "0.85                 0.044326                0.188576   \n",
       "0.90                 0.069000                0.221708   \n",
       "0.95                 0.091116                0.272436   \n",
       "\n",
       "      mean_pred_score_treatment  std_pred_score_treatment  \n",
       "0.05                   0.712987                  0.387560  \n",
       "0.10                   0.842480                  0.296975  \n",
       "0.15                   0.844991                  0.318048  \n",
       "0.20                   0.754050                  0.352207  \n",
       "0.25                   0.540951                  0.434158  \n",
       "0.30                   0.553302                  0.458849  \n",
       "0.35                   0.568509                  0.433161  \n",
       "0.40                   0.419830                  0.464556  \n",
       "0.45                   0.412991                  0.485577  \n",
       "0.50                   0.366484                  0.470740  \n",
       "0.55                   0.396346                  0.468171  \n",
       "0.60                   0.377290                  0.464267  \n",
       "0.65                   0.571618                  0.442677  \n",
       "0.70                   0.359673                  0.463832  \n",
       "0.75                   0.412534                  0.475189  \n",
       "0.80                   0.435045                  0.479817  \n",
       "0.85                   0.377403                  0.469243  \n",
       "0.90                   0.394748                  0.474902  \n",
       "0.95                   0.419436                  0.491347  "
      ]
     },
     "execution_count": 58,
     "metadata": {},
     "output_type": "execute_result"
    }
   ],
   "source": [
    "table"
   ]
  },
  {
   "cell_type": "code",
   "execution_count": 13,
   "metadata": {},
   "outputs": [
    {
     "data": {
      "image/png": "[encoded data removed]",
      "text/plain": [
       "<Figure size 1008x360 with 2 Axes>"
      ]
     },
     "metadata": {
      "needs_background": "light"
     },
     "output_type": "display_data"
    }
   ],
   "source": [
    "path = \"./\"\n",
    "file_name = \"attset_0.5_bags100_bagsize100_feature481.csv\"\n",
    "\n",
    "plot_ds_acc(path,file_name)"
   ]
  },
  {
   "cell_type": "code",
   "execution_count": 92,
   "metadata": {},
   "outputs": [
    {
     "data": {
      "text/plain": [
       "tensor([1, 2])"
      ]
     },
     "execution_count": 92,
     "metadata": {},
     "output_type": "execute_result"
    }
   ],
   "source": [
    "torch.tensor([1,2])"
   ]
  },
  {
   "cell_type": "code",
   "execution_count": 95,
   "metadata": {},
   "outputs": [
    {
     "data": {
      "text/plain": [
       "torch.Size([8, 1, 28, 28])"
      ]
     },
     "execution_count": 95,
     "metadata": {},
     "output_type": "execute_result"
    }
   ],
   "source": [
    "\n",
    "torch.rand(8, 1, 28, 28).shape"
   ]
  },
  {
   "cell_type": "code",
   "execution_count": null,
   "metadata": {},
   "outputs": [],
   "source": [
    "x = x.squeeze(0)\n",
    "\n",
    "H = self.feature_extractor_part1(x)\n",
    "H = H.view(-1, 50 * 4 * 4)\n",
    "H = self.feature_extractor_part2(H)  # NxL\n",
    "\n",
    "A = self.attention(H)  # NxK\n",
    "A = torch.transpose(A, 1, 0)  # KxN\n",
    "A = F.softmax(A, dim=1)  # softmax over N\n",
    "\n",
    "M = torch.mm(A, H)  # KxL\n",
    "\n",
    "Y_prob = self.classifier(M)\n",
    "Y_hat = torch.ge(Y_prob, 0.5.float()\n",
    "                         \n",
    "self.attention = nn.Sequential(\n",
    "            nn.Linear(self.L, self.D),\n",
    "            nn.Tanh(),\n",
    "            nn.Linear(self.D, self.K)\n",
    "        )\n",
    "\n",
    "self.classifier = nn.Sequential(\n",
    "    nn.Linear(self.L*self.K, 1),\n",
    "    nn.Sigmoid()\n",
    ")"
   ]
  },
  {
   "cell_type": "code",
   "execution_count": 109,
   "metadata": {},
   "outputs": [
    {
     "data": {
      "text/plain": [
       "torch.Size([8, 1, 28, 28])"
      ]
     },
     "execution_count": 109,
     "metadata": {},
     "output_type": "execute_result"
    }
   ],
   "source": [
    "torch.rand(8, 1, 28, 28).squeeze(0).shape"
   ]
  },
  {
   "cell_type": "code",
   "execution_count": 121,
   "metadata": {},
   "outputs": [
    {
     "data": {
      "text/plain": [
       "torch.Size([8, 800])"
      ]
     },
     "execution_count": 121,
     "metadata": {},
     "output_type": "execute_result"
    }
   ],
   "source": [
    "H.view(-1, 50 * 4 * 4).shape"
   ]
  },
  {
   "cell_type": "code",
   "execution_count": 118,
   "metadata": {},
   "outputs": [
    {
     "data": {
      "text/plain": [
       "torch.Size([8, 500])"
      ]
     },
     "execution_count": 118,
     "metadata": {},
     "output_type": "execute_result"
    }
   ],
   "source": [
    "nn.Sequential(\n",
    "            nn.Linear(50 * 4 * 4, 500),\n",
    "            nn.ReLU(),\n",
    "        )(H.view(-1, 50 * 4 * 4)).shape"
   ]
  },
  {
   "cell_type": "code",
   "execution_count": null,
   "metadata": {},
   "outputs": [],
   "source": []
  }
 ],
 "metadata": {
  "kernelspec": {
   "display_name": "Python 3",
   "language": "python",
   "name": "python3"
  },
  "language_info": {
   "codemirror_mode": {
    "name": "ipython",
    "version": 3
   },
   "file_extension": ".py",
   "mimetype": "text/x-python",
   "name": "python",
   "nbconvert_exporter": "python",
   "pygments_lexer": "ipython3",
   "version": "3.7.6"
  }
 },
 "nbformat": 4,
 "nbformat_minor": 4
}

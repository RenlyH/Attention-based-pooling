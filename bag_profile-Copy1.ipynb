{
 "cells": [
  {
   "cell_type": "code",
   "execution_count": 1,
   "metadata": {},
   "outputs": [],
   "source": [
    "# import matplotlib.pyplot as plt\n",
    "# import numpy as np\n",
    "import pandas as pd\n",
    "from tqdm.notebook import tqdm\n",
    "\n",
    "from data_loader import data_label_split\n",
    "from data_loader import generate_data_set\n",
    "from data_loader import dmso_taxol_ProfileBag\n",
    "\n",
    "from torch_exp import train\n",
    "from torch_exp import test\n",
    "from torch_exp import mini_noise_signal_cv\n",
    "\n",
    "\n",
    "# from sklearn.model_selection import StratifiedKFold\n",
    "\n",
    "import torch\n",
    "import torch.utils.data as D \n",
    "import torch.nn as nn\n",
    "# from torch.autograd import Variable\n",
    "import torch.optim as optim"
   ]
  },
  {
   "cell_type": "code",
   "execution_count": 2,
   "metadata": {},
   "outputs": [],
   "source": [
    "# drop_NA_data = pd.read_csv(\"moa_data_drop_NA.csv\", index_col=0)"
   ]
  },
  {
   "cell_type": "code",
   "execution_count": 3,
   "metadata": {},
   "outputs": [],
   "source": [
    "mini_data = pd.read_csv(\"mini_moa_data_drop_NA.csv\",index_col=0)"
   ]
  },
  {
   "cell_type": "code",
   "execution_count": 4,
   "metadata": {},
   "outputs": [],
   "source": [
    "sf_drop_NA_data = mini_data[[\"compound\", \"concentration\",\n",
    "                                \"moa\", \"row ID\", \"Iteration (#2)\", \"COND\",\n",
    "                               \"AreaShape_Area_Nuclei\", \"AreaShape_Compactness_Nuclei\"]]\n",
    "bagData = dmso_taxol_ProfileBag(sf_drop_NA_data, 200, 50, 5, 0.5, \"taxol\", \"DMSO\", 0.5)\n",
    "dataloader = D.DataLoader(bagData, batch_size=1, shuffle=True)"
   ]
  },
  {
   "cell_type": "code",
   "execution_count": 5,
   "metadata": {},
   "outputs": [],
   "source": [
    "# data, label = iter(dataloader).next()"
   ]
  },
  {
   "cell_type": "markdown",
   "metadata": {},
   "source": [
    "# Deep Set Model"
   ]
  },
  {
   "cell_type": "code",
   "execution_count": 6,
   "metadata": {},
   "outputs": [],
   "source": [
    "class SmallDeepSet(nn.Module):\n",
    "    def __init__(self, pool=\"max\"):\n",
    "        super().__init__()\n",
    "        self.enc = nn.Sequential(\n",
    "            nn.Linear(in_features=481, out_features=256),\n",
    "            nn.ReLU(),\n",
    "            nn.Linear(in_features=256, out_features=128),\n",
    "            nn.ReLU(),\n",
    "            nn.Linear(in_features=128, out_features=64),\n",
    "        )\n",
    "        self.dec = nn.Sequential(\n",
    "            nn.Linear(in_features=64, out_features=32),\n",
    "            nn.ReLU(),\n",
    "            nn.Linear(in_features=32, out_features=1),\n",
    "            nn.Sigmoid()\n",
    "        )\n",
    "        self.pool = pool\n",
    "\n",
    "    def forward(self, x):\n",
    "        x = self.enc(x)\n",
    "        if self.pool == \"max\":\n",
    "            x = x.max(dim=1)[0]\n",
    "        elif self.pool == \"mean\":\n",
    "            x = x.mean(dim=1)\n",
    "        elif self.pool == \"sum\":\n",
    "            x = x.sum(dim=1)\n",
    "        elif self.pool == \"min\":\n",
    "            x = x.min(dim=1)[0]\n",
    "        x = self.dec(x)\n",
    "        return x, torch.ge(x, 0.5)"
   ]
  },
  {
   "cell_type": "code",
   "execution_count": 7,
   "metadata": {},
   "outputs": [],
   "source": [
    "# full_deepset = SmallDeepSet().cuda()\n",
    "optimizer = optim.Adam(full_deepset.parameters(), lr=0.0005, betas=(0.9, 0.999), weight_decay=10e-5)"
   ]
  },
  {
   "cell_type": "code",
   "execution_count": 8,
   "metadata": {},
   "outputs": [],
   "source": [
    "sf_deepset = SmallDeepSet().cuda()"
   ]
  },
  {
   "cell_type": "code",
   "execution_count": 9,
   "metadata": {},
   "outputs": [],
   "source": [
    "# results = mini_noise_signal_cv(drop_NA_data, 1000, 100, 10, \"taxol\", \"DMSO\", full_deepset, 10, 50)"
   ]
  },
  {
   "cell_type": "code",
   "execution_count": 10,
   "metadata": {},
   "outputs": [
    {
     "name": "stderr",
     "output_type": "stream",
     "text": [
      "training at different percent:   0%|          | 0/1 [00:00<?, ?it/s]\n",
      "3 fold cross validation: 0it [00:00, ?it/s]\u001b[A\n",
      "\n",
      "For 1 epoch: 0it [00:00, ?it/s]\u001b[A\u001b[A\n",
      "\n",
      "For 1 epoch: 10it [00:00, 31.11it/s][A\u001b[A\n",
      "\n",
      "3 fold cross validation: 1it [00:00,  2.36it/s]\u001b[A\n",
      "\n",
      "For 1 epoch: 10it [00:00, 115.10it/s]\n",
      "\n",
      "3 fold cross validation: 2it [00:00,  2.83it/s]\u001b[A\n",
      "\n",
      "For 1 epoch: 10it [00:00, 124.29it/s]\n",
      "\n",
      "3 fold cross validation: 3it [00:00,  3.87it/s]\u001b[A\n",
      "training at different percent: 100%|██████████| 1/1 [00:00<00:00,  1.27it/s]\n"
     ]
    }
   ],
   "source": [
    "sf_results = mini_noise_signal_cv(sf_drop_NA_data, 10, 20, 1, \"taxol\", \"DMSO\", sf_deepset,optimizer, 3, 1)"
   ]
  },
  {
   "cell_type": "code",
   "execution_count": 10,
   "metadata": {},
   "outputs": [
    {
     "ename": "NameError",
     "evalue": "name 'results' is not defined",
     "output_type": "error",
     "traceback": [
      "\u001b[0;31m---------------------------------------------------------------------------\u001b[0m",
      "\u001b[0;31mNameError\u001b[0m                                 Traceback (most recent call last)",
      "\u001b[0;32m<ipython-input-10-100f62972f2f>\u001b[0m in \u001b[0;36m<module>\u001b[0;34m\u001b[0m\n\u001b[0;32m----> 1\u001b[0;31m \u001b[0mresults\u001b[0m\u001b[0;34m\u001b[0m\u001b[0;34m\u001b[0m\u001b[0m\n\u001b[0m",
      "\u001b[0;31mNameError\u001b[0m: name 'results' is not defined"
     ]
    }
   ],
   "source": [
    "results"
   ]
  },
  {
   "cell_type": "code",
   "execution_count": 246,
   "metadata": {},
   "outputs": [],
   "source": [
    "acc_control, acc_treat, pred_score_control, pred_score_treat = test(sf_deepset, dataloader)"
   ]
  },
  {
   "cell_type": "code",
   "execution_count": 253,
   "metadata": {},
   "outputs": [],
   "source": [
    "(mean_control_accuracy, std_control_accuracy, \n",
    "            mean_treat_accuracy, std_treat_accuracy, \n",
    "            mean_pred_score_control, std_pred_score_control,\n",
    "            mean_pred_score_treatment, std_pred_score_treatment) = sf_results"
   ]
  },
  {
   "cell_type": "code",
   "execution_count": 254,
   "metadata": {},
   "outputs": [
    {
     "data": {
      "text/plain": [
       "[0.7222758662762742]"
      ]
     },
     "execution_count": 254,
     "metadata": {},
     "output_type": "execute_result"
    }
   ],
   "source": [
    "mean_pred_score_control"
   ]
  },
  {
   "cell_type": "code",
   "execution_count": 255,
   "metadata": {},
   "outputs": [
    {
     "data": {
      "text/plain": [
       "([0.29333333333333333],\n",
       " [0.4552898954390366],\n",
       " [0.7333333333333333],\n",
       " [0.4422166387140533],\n",
       " [0.7222758662762742],\n",
       " [0.37455220519738436],\n",
       " [0.7307330158321808],\n",
       " [0.3683108040093659])"
      ]
     },
     "execution_count": 255,
     "metadata": {},
     "output_type": "execute_result"
    }
   ],
   "source": [
    "sf_results"
   ]
  },
  {
   "cell_type": "code",
   "execution_count": 136,
   "metadata": {},
   "outputs": [
    {
     "data": {
      "text/plain": [
       "(tensor([[6.2371e-12]], device='cuda:0', grad_fn=<SigmoidBackward>),\n",
       " tensor([[0]], device='cuda:0', dtype=torch.uint8))"
      ]
     },
     "execution_count": 136,
     "metadata": {},
     "output_type": "execute_result"
    }
   ],
   "source": [
    "full_deepset(x.float().cuda())"
   ]
  },
  {
   "cell_type": "code",
   "execution_count": 38,
   "metadata": {},
   "outputs": [],
   "source": [
    "treatment_data = drop_NA_data[drop_NA_data[\"compound\"] == treatment].reset_index(drop=True)\n",
    "control_data = drop_NA_data[drop_NA_data[\"compound\"] == control].reset_index(drop=True)\n",
    "num_treat = int(size * perc)\n",
    "# return treatment_data.sample(num_treat).append(control_data.sample(size - num_treat)).sample(frac = 1).reset_index(drop=True)"
   ]
  },
  {
   "cell_type": "code",
   "execution_count": 191,
   "metadata": {},
   "outputs": [],
   "source": [
    "treatment_length = len(treatment_data)\n",
    "control_length = len(control_data)"
   ]
  },
  {
   "cell_type": "code",
   "execution_count": 201,
   "metadata": {},
   "outputs": [],
   "source": [
    "treat_size = (bag_size * perc).astype(int)\n",
    "control_size = bag_size - treat_size"
   ]
  },
  {
   "cell_type": "code",
   "execution_count": 206,
   "metadata": {},
   "outputs": [],
   "source": [
    "treat_length = 20\n",
    "control_length = 22"
   ]
  }
 ],
 "metadata": {
  "kernelspec": {
   "display_name": "Python 3",
   "language": "python",
   "name": "python3"
  },
  "language_info": {
   "codemirror_mode": {
    "name": "ipython",
    "version": 3
   },
   "file_extension": ".py",
   "mimetype": "text/x-python",
   "name": "python",
   "nbconvert_exporter": "python",
   "pygments_lexer": "ipython3",
   "version": "3.7.6"
  }
 },
 "nbformat": 4,
 "nbformat_minor": 4
}

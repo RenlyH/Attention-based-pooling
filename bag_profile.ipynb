{
 "cells": [
  {
   "cell_type": "code",
   "execution_count": 3,
   "metadata": {},
   "outputs": [],
   "source": [
    "import matplotlib.pyplot as plt\n",
    "import numpy as np\n",
    "import pandas as pd\n",
    "from tqdm.notebook import tqdm\n",
    "\n",
    "from data_loader import data_label_split\n",
    "from data_loader import generate_data_set\n",
    "from data_loader import dmso_taxol_ProfileBag\n",
    "from torch_exp import mini_noise_signal_cv\n",
    "from torch_exp import train\n",
    "\n",
    "from model import SmallDeepSet\n",
    "\n",
    "from sklearn.linear_model import LogisticRegression\n",
    "from sklearn.model_selection import cross_validate\n",
    "from sklearn.model_selection import StratifiedKFold\n",
    "from sklearn import datasets\n",
    "from sklearn.preprocessing import LabelEncoder\n",
    "from sklearn.metrics import confusion_matrix\n",
    "from sklearn.ensemble import RandomForestClassifier\n",
    "\n",
    "import torch\n",
    "import torch.utils.data as D \n",
    "import torch.nn as nn\n",
    "from torch.autograd import Variable\n",
    "import torch.optim as optim"
   ]
  },
  {
   "cell_type": "code",
   "execution_count": 44,
   "metadata": {},
   "outputs": [],
   "source": [
    "drop_NA_data = pd.read_csv(\"moa_data_drop_NA.csv\", index_col=0)\n",
    "sf_drop_NA_data = drop_NA_data[[\"compound\", \"concentration\",\n",
    "                                \"moa\", \"row ID\", \"Iteration (#2)\", \"COND\",\n",
    "                               \"AreaShape_Area_Nuclei\", \"AreaShape_Compactness_Nuclei\"]]"
   ]
  },
  {
   "cell_type": "code",
   "execution_count": 4,
   "metadata": {},
   "outputs": [],
   "source": [
    "mini_data = pd.read_csv(\"mini_moa_data_drop_NA.csv\",index_col=0)\n",
    "# sf_drop_NA_data = mini_data[[\"compound\", \"concentration\",\n",
    "#                                 \"moa\", \"row ID\", \"Iteration (#2)\", \"COND\",\n",
    "#                                \"AreaShape_Area_Nuclei\", \"AreaShape_Compactness_Nuclei\"]]"
   ]
  },
  {
   "cell_type": "code",
   "execution_count": 46,
   "metadata": {},
   "outputs": [],
   "source": [
    "\n",
    "# bagData = dmso_taxol_ProfileBag(sf_drop_NA_data, 200, 50, 5, 0.5, \"taxol\", \"DMSO\", 0.5)\n",
    "# dataloader = D.DataLoader(bagData, batch_size=1, shuffle=True)"
   ]
  },
  {
   "cell_type": "code",
   "execution_count": 42,
   "metadata": {},
   "outputs": [],
   "source": [
    "# data = sf_drop_NA_data\n",
    "# num_bag = 10\n",
    "# bag_size_mean = 10\n",
    "# bag_size_std = 0\n",
    "# treatment = \"taxol\" \n",
    "# control = \"DMSO\"\n",
    "# model = sf_deepset\n",
    "# optimizer = optimizer\n",
    "# splits = 4\n",
    "# epochs = 1"
   ]
  },
  {
   "cell_type": "markdown",
   "metadata": {},
   "source": [
    "# Deep Set Model"
   ]
  },
  {
   "cell_type": "code",
   "execution_count": 151,
   "metadata": {},
   "outputs": [],
   "source": [
    "full_deepset = SmallDeepSet().cuda()"
   ]
  },
  {
   "cell_type": "code",
   "execution_count": 47,
   "metadata": {},
   "outputs": [],
   "source": [
    "sf_deepset = SmallDeepSet().cuda()"
   ]
  },
  {
   "cell_type": "code",
   "execution_count": 48,
   "metadata": {},
   "outputs": [],
   "source": [
    "optimizer = optim.Adam(sf_deepset.parameters(), lr=0.0005, betas=(0.9, 0.999), weight_decay=10e-5)"
   ]
  },
  {
   "cell_type": "code",
   "execution_count": 9,
   "metadata": {
    "collapsed": true,
    "jupyter": {
     "outputs_hidden": true
    }
   },
   "outputs": [
    {
     "ename": "NameError",
     "evalue": "name 'drop_NA_data' is not defined",
     "output_type": "error",
     "traceback": [
      "\u001b[0;31m---------------------------------------------------------------------------\u001b[0m",
      "\u001b[0;31mNameError\u001b[0m                                 Traceback (most recent call last)",
      "\u001b[0;32m<ipython-input-9-6426c82f29a6>\u001b[0m in \u001b[0;36m<module>\u001b[0;34m\u001b[0m\n\u001b[0;32m----> 1\u001b[0;31m \u001b[0mresults\u001b[0m \u001b[0;34m=\u001b[0m \u001b[0mmini_noise_signal_cv\u001b[0m\u001b[0;34m(\u001b[0m\u001b[0mdrop_NA_data\u001b[0m\u001b[0;34m,\u001b[0m \u001b[0;36m1000\u001b[0m\u001b[0;34m,\u001b[0m \u001b[0;36m100\u001b[0m\u001b[0;34m,\u001b[0m \u001b[0;36m10\u001b[0m\u001b[0;34m,\u001b[0m \u001b[0;34m\"taxol\"\u001b[0m\u001b[0;34m,\u001b[0m \u001b[0;34m\"DMSO\"\u001b[0m\u001b[0;34m,\u001b[0m \u001b[0mfull_deepset\u001b[0m\u001b[0;34m,\u001b[0m \u001b[0;36m10\u001b[0m\u001b[0;34m,\u001b[0m \u001b[0;36m50\u001b[0m\u001b[0;34m)\u001b[0m\u001b[0;34m\u001b[0m\u001b[0;34m\u001b[0m\u001b[0m\n\u001b[0m",
      "\u001b[0;31mNameError\u001b[0m: name 'drop_NA_data' is not defined"
     ]
    }
   ],
   "source": [
    "results = mini_noise_signal_cv(drop_NA_data, 1000, 100, 10, \"taxol\", \"DMSO\", full_deepset, 10, 50)"
   ]
  },
  {
   "cell_type": "code",
   "execution_count": null,
   "metadata": {},
   "outputs": [
    {
     "data": {
      "application/vnd.jupyter.widget-view+json": {
       "model_id": "234f401ab79e4396a830969f63907cc3",
       "version_major": 2,
       "version_minor": 0
      },
      "text/plain": [
       "HBox(children=(FloatProgress(value=0.0, description='training at different percent', max=19.0, style=ProgressS…"
      ]
     },
     "metadata": {},
     "output_type": "display_data"
    },
    {
     "data": {
      "application/vnd.jupyter.widget-view+json": {
       "model_id": "0c0ae8c3ffe941c78d5dccd91331eea6",
       "version_major": 2,
       "version_minor": 0
      },
      "text/plain": [
       "HBox(children=(FloatProgress(value=1.0, bar_style='info', description='5 fold cross validation', max=1.0, styl…"
      ]
     },
     "metadata": {},
     "output_type": "display_data"
    },
    {
     "data": {
      "application/vnd.jupyter.widget-view+json": {
       "model_id": "f7849a3856d64ac78aacf742fabf26d1",
       "version_major": 2,
       "version_minor": 0
      },
      "text/plain": [
       "HBox(children=(FloatProgress(value=1.0, bar_style='info', description='For 2 epoch', max=1.0, style=ProgressSt…"
      ]
     },
     "metadata": {},
     "output_type": "display_data"
    }
   ],
   "source": [
    "sf_results = mini_noise_signal_cv(data = sf_drop_NA_data, \n",
    "                                  num_bag = 300,\n",
    "                                  bag_size_mean = 100, \n",
    "                                  bag_size_std = 10, \n",
    "                                  treatment = \"taxol\", \n",
    "                                  control = \"DMSO\", \n",
    "                                  model = sf_deepset, \n",
    "                                  optimizer = optimizer,\n",
    "                                  splits = 5,\n",
    "                                  epochs = 2)"
   ]
  },
  {
   "cell_type": "code",
   "execution_count": null,
   "metadata": {},
   "outputs": [],
   "source": [
    "sf_results"
   ]
  },
  {
   "cell_type": "code",
   "execution_count": 246,
   "metadata": {},
   "outputs": [],
   "source": [
    "acc_control, acc_treat, pred_score_control, pred_score_treat = test(sf_deepset, dataloader)"
   ]
  },
  {
   "cell_type": "code",
   "execution_count": 29,
   "metadata": {},
   "outputs": [],
   "source": [
    "(mean_control_accuracy, std_control_accuracy, \n",
    "            mean_treat_accuracy, std_treat_accuracy, \n",
    "            mean_pred_score_control, std_pred_score_control,\n",
    "            mean_pred_score_treatment, std_pred_score_treatment) = sf_results"
   ]
  },
  {
   "cell_type": "code",
   "execution_count": null,
   "metadata": {},
   "outputs": [],
   "source": [
    "dict = {'control_accuracy': nme, 'std_control_accuracy': deg, 'score': scr}  "
   ]
  },
  {
   "cell_type": "code",
   "execution_count": 24,
   "metadata": {},
   "outputs": [],
   "source": [
    "sf_results = pd.DataFrame(list(sf_results)).transpose()"
   ]
  },
  {
   "cell_type": "code",
   "execution_count": 25,
   "metadata": {},
   "outputs": [],
   "source": [
    "sf_results.columns = [\"mean_control_accuracy\", \"std_control_accuracy\", \n",
    "            \"mean_treat_accuracy\", \"std_treat_accuracy\", \n",
    "            \"mean_pred_score_control\", \"std_pred_score_control\",\n",
    "            \"mean_pred_score_treatment\", \"std_pred_score_treatment\"]"
   ]
  },
  {
   "cell_type": "code",
   "execution_count": 26,
   "metadata": {},
   "outputs": [
    {
     "data": {
      "text/html": [
       "<div>\n",
       "<style scoped>\n",
       "    .dataframe tbody tr th:only-of-type {\n",
       "        vertical-align: middle;\n",
       "    }\n",
       "\n",
       "    .dataframe tbody tr th {\n",
       "        vertical-align: top;\n",
       "    }\n",
       "\n",
       "    .dataframe thead th {\n",
       "        text-align: right;\n",
       "    }\n",
       "</style>\n",
       "<table border=\"1\" class=\"dataframe\">\n",
       "  <thead>\n",
       "    <tr style=\"text-align: right;\">\n",
       "      <th></th>\n",
       "      <th>mean_control_accuracy</th>\n",
       "      <th>std_control_accuracy</th>\n",
       "      <th>mean_treat_accuracy</th>\n",
       "      <th>std_treat_accuracy</th>\n",
       "      <th>mean_pred_score_control</th>\n",
       "      <th>std_pred_score_control</th>\n",
       "      <th>mean_pred_score_treatment</th>\n",
       "      <th>std_pred_score_treatment</th>\n",
       "    </tr>\n",
       "  </thead>\n",
       "  <tbody>\n",
       "    <tr>\n",
       "      <th>0</th>\n",
       "      <td>0.6</td>\n",
       "      <td>0.489898</td>\n",
       "      <td>0.4</td>\n",
       "      <td>0.489898</td>\n",
       "      <td>0.392564</td>\n",
       "      <td>0.385677</td>\n",
       "      <td>0.393943</td>\n",
       "      <td>0.422387</td>\n",
       "    </tr>\n",
       "    <tr>\n",
       "      <th>1</th>\n",
       "      <td>0.1</td>\n",
       "      <td>0.300000</td>\n",
       "      <td>1.0</td>\n",
       "      <td>0.000000</td>\n",
       "      <td>0.722624</td>\n",
       "      <td>0.191698</td>\n",
       "      <td>0.814537</td>\n",
       "      <td>0.104709</td>\n",
       "    </tr>\n",
       "    <tr>\n",
       "      <th>2</th>\n",
       "      <td>0.4</td>\n",
       "      <td>0.489898</td>\n",
       "      <td>0.7</td>\n",
       "      <td>0.458258</td>\n",
       "      <td>0.543045</td>\n",
       "      <td>0.198318</td>\n",
       "      <td>0.673363</td>\n",
       "      <td>0.171835</td>\n",
       "    </tr>\n",
       "    <tr>\n",
       "      <th>3</th>\n",
       "      <td>0.9</td>\n",
       "      <td>0.300000</td>\n",
       "      <td>0.3</td>\n",
       "      <td>0.458258</td>\n",
       "      <td>0.213512</td>\n",
       "      <td>0.131968</td>\n",
       "      <td>0.393299</td>\n",
       "      <td>0.203889</td>\n",
       "    </tr>\n",
       "    <tr>\n",
       "      <th>4</th>\n",
       "      <td>0.9</td>\n",
       "      <td>0.300000</td>\n",
       "      <td>0.3</td>\n",
       "      <td>0.458258</td>\n",
       "      <td>0.187630</td>\n",
       "      <td>0.155302</td>\n",
       "      <td>0.295522</td>\n",
       "      <td>0.244676</td>\n",
       "    </tr>\n",
       "    <tr>\n",
       "      <th>5</th>\n",
       "      <td>0.7</td>\n",
       "      <td>0.458258</td>\n",
       "      <td>0.6</td>\n",
       "      <td>0.489898</td>\n",
       "      <td>0.324578</td>\n",
       "      <td>0.361401</td>\n",
       "      <td>0.679215</td>\n",
       "      <td>0.287370</td>\n",
       "    </tr>\n",
       "    <tr>\n",
       "      <th>6</th>\n",
       "      <td>0.8</td>\n",
       "      <td>0.400000</td>\n",
       "      <td>0.9</td>\n",
       "      <td>0.300000</td>\n",
       "      <td>0.343598</td>\n",
       "      <td>0.340132</td>\n",
       "      <td>0.728700</td>\n",
       "      <td>0.192789</td>\n",
       "    </tr>\n",
       "    <tr>\n",
       "      <th>7</th>\n",
       "      <td>1.0</td>\n",
       "      <td>0.000000</td>\n",
       "      <td>0.8</td>\n",
       "      <td>0.400000</td>\n",
       "      <td>0.134028</td>\n",
       "      <td>0.126734</td>\n",
       "      <td>0.733124</td>\n",
       "      <td>0.210020</td>\n",
       "    </tr>\n",
       "    <tr>\n",
       "      <th>8</th>\n",
       "      <td>0.6</td>\n",
       "      <td>0.489898</td>\n",
       "      <td>0.7</td>\n",
       "      <td>0.458258</td>\n",
       "      <td>0.386999</td>\n",
       "      <td>0.428574</td>\n",
       "      <td>0.691723</td>\n",
       "      <td>0.349524</td>\n",
       "    </tr>\n",
       "    <tr>\n",
       "      <th>9</th>\n",
       "      <td>0.7</td>\n",
       "      <td>0.458258</td>\n",
       "      <td>1.0</td>\n",
       "      <td>0.000000</td>\n",
       "      <td>0.397993</td>\n",
       "      <td>0.306416</td>\n",
       "      <td>0.989802</td>\n",
       "      <td>0.014643</td>\n",
       "    </tr>\n",
       "    <tr>\n",
       "      <th>10</th>\n",
       "      <td>0.8</td>\n",
       "      <td>0.400000</td>\n",
       "      <td>0.8</td>\n",
       "      <td>0.400000</td>\n",
       "      <td>0.228514</td>\n",
       "      <td>0.315009</td>\n",
       "      <td>0.771880</td>\n",
       "      <td>0.301751</td>\n",
       "    </tr>\n",
       "    <tr>\n",
       "      <th>11</th>\n",
       "      <td>0.6</td>\n",
       "      <td>0.489898</td>\n",
       "      <td>1.0</td>\n",
       "      <td>0.000000</td>\n",
       "      <td>0.397340</td>\n",
       "      <td>0.282990</td>\n",
       "      <td>0.829411</td>\n",
       "      <td>0.157742</td>\n",
       "    </tr>\n",
       "    <tr>\n",
       "      <th>12</th>\n",
       "      <td>0.8</td>\n",
       "      <td>0.400000</td>\n",
       "      <td>1.0</td>\n",
       "      <td>0.000000</td>\n",
       "      <td>0.297654</td>\n",
       "      <td>0.343674</td>\n",
       "      <td>0.823900</td>\n",
       "      <td>0.158059</td>\n",
       "    </tr>\n",
       "    <tr>\n",
       "      <th>13</th>\n",
       "      <td>1.0</td>\n",
       "      <td>0.000000</td>\n",
       "      <td>0.9</td>\n",
       "      <td>0.300000</td>\n",
       "      <td>0.143162</td>\n",
       "      <td>0.152519</td>\n",
       "      <td>0.895379</td>\n",
       "      <td>0.211798</td>\n",
       "    </tr>\n",
       "    <tr>\n",
       "      <th>14</th>\n",
       "      <td>1.0</td>\n",
       "      <td>0.000000</td>\n",
       "      <td>0.5</td>\n",
       "      <td>0.500000</td>\n",
       "      <td>0.055124</td>\n",
       "      <td>0.071542</td>\n",
       "      <td>0.602797</td>\n",
       "      <td>0.334410</td>\n",
       "    </tr>\n",
       "    <tr>\n",
       "      <th>15</th>\n",
       "      <td>0.7</td>\n",
       "      <td>0.458258</td>\n",
       "      <td>0.8</td>\n",
       "      <td>0.400000</td>\n",
       "      <td>0.296792</td>\n",
       "      <td>0.301473</td>\n",
       "      <td>0.837552</td>\n",
       "      <td>0.278512</td>\n",
       "    </tr>\n",
       "    <tr>\n",
       "      <th>16</th>\n",
       "      <td>0.7</td>\n",
       "      <td>0.458258</td>\n",
       "      <td>1.0</td>\n",
       "      <td>0.000000</td>\n",
       "      <td>0.343247</td>\n",
       "      <td>0.335494</td>\n",
       "      <td>0.980586</td>\n",
       "      <td>0.015936</td>\n",
       "    </tr>\n",
       "    <tr>\n",
       "      <th>17</th>\n",
       "      <td>1.0</td>\n",
       "      <td>0.000000</td>\n",
       "      <td>0.9</td>\n",
       "      <td>0.300000</td>\n",
       "      <td>0.049225</td>\n",
       "      <td>0.059865</td>\n",
       "      <td>0.850965</td>\n",
       "      <td>0.157663</td>\n",
       "    </tr>\n",
       "    <tr>\n",
       "      <th>18</th>\n",
       "      <td>0.8</td>\n",
       "      <td>0.400000</td>\n",
       "      <td>1.0</td>\n",
       "      <td>0.000000</td>\n",
       "      <td>0.188376</td>\n",
       "      <td>0.310882</td>\n",
       "      <td>0.986738</td>\n",
       "      <td>0.021611</td>\n",
       "    </tr>\n",
       "  </tbody>\n",
       "</table>\n",
       "</div>"
      ],
      "text/plain": [
       "    mean_control_accuracy  std_control_accuracy  mean_treat_accuracy  \\\n",
       "0                     0.6              0.489898                  0.4   \n",
       "1                     0.1              0.300000                  1.0   \n",
       "2                     0.4              0.489898                  0.7   \n",
       "3                     0.9              0.300000                  0.3   \n",
       "4                     0.9              0.300000                  0.3   \n",
       "5                     0.7              0.458258                  0.6   \n",
       "6                     0.8              0.400000                  0.9   \n",
       "7                     1.0              0.000000                  0.8   \n",
       "8                     0.6              0.489898                  0.7   \n",
       "9                     0.7              0.458258                  1.0   \n",
       "10                    0.8              0.400000                  0.8   \n",
       "11                    0.6              0.489898                  1.0   \n",
       "12                    0.8              0.400000                  1.0   \n",
       "13                    1.0              0.000000                  0.9   \n",
       "14                    1.0              0.000000                  0.5   \n",
       "15                    0.7              0.458258                  0.8   \n",
       "16                    0.7              0.458258                  1.0   \n",
       "17                    1.0              0.000000                  0.9   \n",
       "18                    0.8              0.400000                  1.0   \n",
       "\n",
       "    std_treat_accuracy  mean_pred_score_control  std_pred_score_control  \\\n",
       "0             0.489898                 0.392564                0.385677   \n",
       "1             0.000000                 0.722624                0.191698   \n",
       "2             0.458258                 0.543045                0.198318   \n",
       "3             0.458258                 0.213512                0.131968   \n",
       "4             0.458258                 0.187630                0.155302   \n",
       "5             0.489898                 0.324578                0.361401   \n",
       "6             0.300000                 0.343598                0.340132   \n",
       "7             0.400000                 0.134028                0.126734   \n",
       "8             0.458258                 0.386999                0.428574   \n",
       "9             0.000000                 0.397993                0.306416   \n",
       "10            0.400000                 0.228514                0.315009   \n",
       "11            0.000000                 0.397340                0.282990   \n",
       "12            0.000000                 0.297654                0.343674   \n",
       "13            0.300000                 0.143162                0.152519   \n",
       "14            0.500000                 0.055124                0.071542   \n",
       "15            0.400000                 0.296792                0.301473   \n",
       "16            0.000000                 0.343247                0.335494   \n",
       "17            0.300000                 0.049225                0.059865   \n",
       "18            0.000000                 0.188376                0.310882   \n",
       "\n",
       "    mean_pred_score_treatment  std_pred_score_treatment  \n",
       "0                    0.393943                  0.422387  \n",
       "1                    0.814537                  0.104709  \n",
       "2                    0.673363                  0.171835  \n",
       "3                    0.393299                  0.203889  \n",
       "4                    0.295522                  0.244676  \n",
       "5                    0.679215                  0.287370  \n",
       "6                    0.728700                  0.192789  \n",
       "7                    0.733124                  0.210020  \n",
       "8                    0.691723                  0.349524  \n",
       "9                    0.989802                  0.014643  \n",
       "10                   0.771880                  0.301751  \n",
       "11                   0.829411                  0.157742  \n",
       "12                   0.823900                  0.158059  \n",
       "13                   0.895379                  0.211798  \n",
       "14                   0.602797                  0.334410  \n",
       "15                   0.837552                  0.278512  \n",
       "16                   0.980586                  0.015936  \n",
       "17                   0.850965                  0.157663  \n",
       "18                   0.986738                  0.021611  "
      ]
     },
     "execution_count": 26,
     "metadata": {},
     "output_type": "execute_result"
    }
   ],
   "source": [
    "sf_results"
   ]
  },
  {
   "cell_type": "code",
   "execution_count": null,
   "metadata": {},
   "outputs": [],
   "source": []
  }
 ],
 "metadata": {
  "kernelspec": {
   "display_name": "Python 3",
   "language": "python",
   "name": "python3"
  },
  "language_info": {
   "codemirror_mode": {
    "name": "ipython",
    "version": 3
   },
   "file_extension": ".py",
   "mimetype": "text/x-python",
   "name": "python",
   "nbconvert_exporter": "python",
   "pygments_lexer": "ipython3",
   "version": "3.7.6"
  }
 },
 "nbformat": 4,
 "nbformat_minor": 4
}

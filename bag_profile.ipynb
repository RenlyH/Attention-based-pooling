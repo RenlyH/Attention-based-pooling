{
 "cells": [
  {
   "cell_type": "code",
   "execution_count": 16,
   "metadata": {},
   "outputs": [],
   "source": [
    "import matplotlib.pyplot as plt\n",
    "import numpy as np\n",
    "import pandas as pd\n",
    "from tqdm.notebook import tqdm\n",
    "\n",
    "from data_loader import data_label_split\n",
    "from data_loader import generate_data_set\n",
    "from data_loader import dmso_taxol_ProfileBag\n",
    "from deepset_exp import mini_noise_signal_cv\n",
    "from deepset_exp import train\n",
    "from deepset_exp import test\n",
    "\n",
    "from model import SmallDeepSet\n",
    "from model import FullDeepSet, profile_AttSet\n",
    "\n",
    "from sklearn.model_selection import StratifiedKFold\n",
    "from sklearn.preprocessing import LabelEncoder\n",
    "from sklearn.metrics import confusion_matrix\n",
    "from sklearn.preprocessing import normalize\n",
    "\n",
    "import torch\n",
    "import torch.utils.data as D \n",
    "import torch.nn as nn\n",
    "from torch.autograd import Variable\n",
    "import torch.optim as optim"
   ]
  },
  {
   "cell_type": "code",
   "execution_count": 2,
   "metadata": {},
   "outputs": [],
   "source": [
    "drop_NA_data = pd.read_csv(\"moa_data_drop_NA.csv\", index_col=0)\n",
    "sf_drop_NA_data = drop_NA_data[[\"compound\", \"concentration\",\n",
    "                                \"moa\", \"row ID\", \"Iteration (#2)\", \"COND\",\n",
    "                               \"AreaShape_Area_Nuclei\", \"AreaShape_Compactness_Nuclei\"]]"
   ]
  },
  {
   "cell_type": "code",
   "execution_count": 3,
   "metadata": {},
   "outputs": [],
   "source": [
    "mini_data = pd.read_csv(\"mini_moa_data_drop_NA.csv\",index_col=0)\n",
    "# sf_drop_NA_data = mini_data[[\"compound\", \"concentration\",\n",
    "#                                 \"moa\", \"row ID\", \"Iteration (#2)\", \"COND\",\n",
    "#                                \"AreaShape_Area_Nuclei\", \"AreaShape_Compactness_Nuclei\"]]"
   ]
  },
  {
   "cell_type": "code",
   "execution_count": 4,
   "metadata": {},
   "outputs": [],
   "source": [
    "\n",
    "# bagData = dmso_taxol_ProfileBag(sf_drop_NA_data, 200, 50, 5, 0.5, \"taxol\", \"DMSO\", 0.5)\n",
    "# dataloader = D.DataLoader(bagData, batch_size=1, shuffle=True)"
   ]
  },
  {
   "cell_type": "code",
   "execution_count": 5,
   "metadata": {},
   "outputs": [],
   "source": [
    "# data = sf_drop_NA_data\n",
    "# num_bag = 10\n",
    "# bag_size_mean = 10\n",
    "# bag_size_std = 0\n",
    "# treatment = \"taxol\" \n",
    "# control = \"DMSO\"\n",
    "# model = sf_deepset\n",
    "# optimizer = optimizer\n",
    "# splits = 4\n",
    "# epochs = 1"
   ]
  },
  {
   "cell_type": "markdown",
   "metadata": {},
   "source": [
    "# Deep Set Model"
   ]
  },
  {
   "cell_type": "code",
   "execution_count": 6,
   "metadata": {},
   "outputs": [],
   "source": [
    "full_deepset = FullDeepSet().cuda()"
   ]
  },
  {
   "cell_type": "code",
   "execution_count": 130,
   "metadata": {},
   "outputs": [],
   "source": [
    "sf_deepset = SmallDeepSet().cuda()"
   ]
  },
  {
   "cell_type": "code",
   "execution_count": 7,
   "metadata": {},
   "outputs": [],
   "source": [
    "X,y=data_label_split(drop_NA_data)\n",
    "data = pd.concat([pd.DataFrame(normalize(X), columns = X.columns), y.reset_index(drop=True)], axis=1, sort = False )\n"
   ]
  },
  {
   "cell_type": "code",
   "execution_count": 25,
   "metadata": {},
   "outputs": [],
   "source": [
    "start = 90\n",
    "end = 91\n",
    "# data = drop_NA_data\n",
    "num_bag = 100\n",
    "bag_size_mean = 200\n",
    "bag_size_std = 10\n",
    "treatment = \"taxol\"\n",
    "control = \"DMSO\"\n",
    "model = FullDeepSet(\"mean\").cuda()\n",
    "# optimizer = optimizer\n",
    "splits = 3\n",
    "epochs = 20"
   ]
  },
  {
   "cell_type": "code",
   "execution_count": 19,
   "metadata": {},
   "outputs": [
    {
     "data": {
      "text/plain": [
       "FullDeepSet(\n",
       "  (enc): Sequential(\n",
       "    (0): Linear(in_features=481, out_features=256, bias=True)\n",
       "    (1): ReLU()\n",
       "    (2): Linear(in_features=256, out_features=64, bias=True)\n",
       "  )\n",
       "  (dec): Sequential(\n",
       "    (0): Linear(in_features=64, out_features=1, bias=True)\n",
       "    (1): Sigmoid()\n",
       "  )\n",
       ")"
      ]
     },
     "execution_count": 19,
     "metadata": {},
     "output_type": "execute_result"
    }
   ],
   "source": [
    "model.reset"
   ]
  },
  {
   "cell_type": "code",
   "execution_count": 20,
   "metadata": {},
   "outputs": [],
   "source": [
    "\n",
    "for layer in model.children():\n",
    "    if hasattr(layer, 'reset_parameters'):\n",
    "        layer.reset_parameters()"
   ]
  },
  {
   "cell_type": "code",
   "execution_count": 9,
   "metadata": {},
   "outputs": [],
   "source": [
    "optimizer = optim.Adam(model.parameters(), lr=0.0005, betas=(0.9, 0.999), weight_decay=10e-5)"
   ]
  },
  {
   "cell_type": "code",
   "execution_count": 29,
   "metadata": {
    "collapsed": true,
    "jupyter": {
     "outputs_hidden": true
    }
   },
   "outputs": [
    {
     "name": "stderr",
     "output_type": "stream",
     "text": [
      "training at different percent:   0%|          | 0/1 [00:00<?, ?it/s]\n",
      "3 fold cross validation: 0it [00:00, ?it/s]\u001b[A\n",
      "\n",
      "For 0 epoch: 0it [00:00, ?it/s]\u001b[A\u001b[A\n",
      "\n",
      "For 0 epoch: 6it [00:00, 53.99it/s]\u001b[A\u001b[A\n",
      "\n",
      "For 0 epoch: 13it [00:00, 53.49it/s]\u001b[A\u001b[A\n",
      "\n",
      "For 0 epoch: 20it [00:00, 56.59it/s]\u001b[A\u001b[A\n",
      "\n",
      "For 0 epoch: 27it [00:00, 59.06it/s]\u001b[A\u001b[A\n",
      "\n",
      "For 0 epoch: 35it [00:00, 62.72it/s]\u001b[A\u001b[A\n",
      "\n",
      "For 0 epoch: 43it [00:00, 65.07it/s]\u001b[A\u001b[A\n",
      "\n",
      "For 0 epoch: 50it [00:00, 66.30it/s]\u001b[A\u001b[A\n",
      "\n",
      "For 0 epoch: 57it [00:00, 67.20it/s]\u001b[A\u001b[A\n",
      "\n",
      "For 0 epoch: 66it [00:01, 65.64it/s]\u001b[A\u001b[A\n",
      "\n",
      "\n",
      "For 1 epoch: 0it [00:00, ?it/s]\u001b[A\u001b[A\n",
      "\n",
      "For 1 epoch: 8it [00:00, 68.69it/s]\u001b[A\u001b[A"
     ]
    },
    {
     "name": "stdout",
     "output_type": "stream",
     "text": [
      "Epoch: 0, Loss: 0.6942, Train error: 0.5000\n"
     ]
    },
    {
     "name": "stderr",
     "output_type": "stream",
     "text": [
      "\n",
      "\n",
      "For 1 epoch: 15it [00:00, 66.29it/s]\u001b[A\u001b[A\n",
      "\n",
      "For 1 epoch: 21it [00:00, 61.91it/s]\u001b[A\u001b[A\n",
      "\n",
      "For 1 epoch: 29it [00:00, 64.72it/s]\u001b[A\u001b[A\n",
      "\n",
      "For 1 epoch: 36it [00:00, 65.86it/s]\u001b[A\u001b[A\n",
      "\n",
      "For 1 epoch: 44it [00:00, 68.72it/s]\u001b[A\u001b[A\n",
      "\n",
      "For 1 epoch: 51it [00:00, 68.98it/s]\u001b[A\u001b[A\n",
      "\n",
      "For 1 epoch: 66it [00:00, 68.74it/s]\u001b[A\u001b[A\n",
      "\n",
      "\n",
      "For 2 epoch: 0it [00:00, ?it/s]\u001b[A\u001b[A\n",
      "\n",
      "For 2 epoch: 6it [00:00, 52.06it/s]\u001b[A\u001b[A"
     ]
    },
    {
     "name": "stdout",
     "output_type": "stream",
     "text": [
      "Epoch: 1, Loss: 0.6942, Train error: 0.5000\n"
     ]
    },
    {
     "name": "stderr",
     "output_type": "stream",
     "text": [
      "\n",
      "\n",
      "For 2 epoch: 13it [00:00, 54.88it/s]\u001b[A\u001b[A\n",
      "\n",
      "For 2 epoch: 19it [00:00, 56.30it/s]\u001b[A\u001b[A\n",
      "\n",
      "For 2 epoch: 26it [00:00, 57.75it/s]\u001b[A\u001b[A\n",
      "\n",
      "For 2 epoch: 33it [00:00, 58.54it/s]\u001b[A\u001b[A\n",
      "\n",
      "For 2 epoch: 41it [00:00, 63.42it/s]\u001b[A\u001b[A\n",
      "\n",
      "For 2 epoch: 48it [00:00, 63.72it/s]\u001b[A\u001b[A\n",
      "\n",
      "For 2 epoch: 55it [00:00, 62.61it/s]\u001b[A\u001b[A\n",
      "\n",
      "For 2 epoch: 66it [00:01, 63.10it/s]\u001b[A\u001b[A\n",
      "\n",
      "\n",
      "For 3 epoch: 0it [00:00, ?it/s]\u001b[A\u001b[A\n",
      "\n",
      "For 3 epoch: 7it [00:00, 62.35it/s]\u001b[A\u001b[A"
     ]
    },
    {
     "name": "stdout",
     "output_type": "stream",
     "text": [
      "Epoch: 2, Loss: 0.6942, Train error: 0.5000\n"
     ]
    },
    {
     "name": "stderr",
     "output_type": "stream",
     "text": [
      "\n",
      "\n",
      "For 3 epoch: 12it [00:00, 57.61it/s]\u001b[A\u001b[A\n",
      "\n",
      "For 3 epoch: 17it [00:00, 54.24it/s]\u001b[A\u001b[A\n",
      "\n",
      "For 3 epoch: 24it [00:00, 58.08it/s]\u001b[A\u001b[A\n",
      "\n",
      "For 3 epoch: 32it [00:00, 61.65it/s]\u001b[A\u001b[A\n",
      "\n",
      "For 3 epoch: 39it [00:00, 62.50it/s]\u001b[A\u001b[A\n",
      "\n",
      "For 3 epoch: 46it [00:00, 63.88it/s]\u001b[A\u001b[A\n",
      "\n",
      "For 3 epoch: 54it [00:00, 66.25it/s]\u001b[A\u001b[A\n",
      "\n",
      "For 3 epoch: 66it [00:01, 63.63it/s]\u001b[A\u001b[A\n",
      "\n",
      "\n",
      "For 4 epoch: 0it [00:00, ?it/s]\u001b[A\u001b[A\n",
      "\n",
      "For 4 epoch: 7it [00:00, 66.46it/s]\u001b[A\u001b[A"
     ]
    },
    {
     "name": "stdout",
     "output_type": "stream",
     "text": [
      "Epoch: 3, Loss: 0.6942, Train error: 0.5000\n"
     ]
    },
    {
     "name": "stderr",
     "output_type": "stream",
     "text": [
      "\n",
      "\n",
      "For 4 epoch: 14it [00:00, 65.90it/s]\u001b[A\u001b[A\n",
      "\n",
      "For 4 epoch: 21it [00:00, 66.49it/s]\u001b[A\u001b[A\n",
      "\n",
      "For 4 epoch: 28it [00:00, 66.04it/s]\u001b[A\u001b[A\n",
      "\n",
      "For 4 epoch: 34it [00:00, 55.39it/s]\u001b[A\u001b[A\n",
      "\n",
      "For 4 epoch: 40it [00:00, 56.38it/s]\u001b[A\u001b[A\n",
      "\n",
      "For 4 epoch: 46it [00:00, 57.41it/s]\u001b[A\u001b[A\n",
      "\n",
      "For 4 epoch: 52it [00:00, 53.35it/s]\u001b[A\u001b[A\n",
      "\n",
      "For 4 epoch: 58it [00:01, 53.17it/s]\u001b[A\u001b[A\n",
      "\n",
      "For 4 epoch: 66it [00:01, 56.82it/s]\u001b[A\u001b[A\n",
      "\n",
      "\n",
      "For 5 epoch: 0it [00:00, ?it/s]\u001b[A\u001b[A\n",
      "\n",
      "For 5 epoch: 7it [00:00, 65.40it/s]\u001b[A\u001b[A"
     ]
    },
    {
     "name": "stdout",
     "output_type": "stream",
     "text": [
      "Epoch: 4, Loss: 0.6942, Train error: 0.5000\n"
     ]
    },
    {
     "name": "stderr",
     "output_type": "stream",
     "text": [
      "\n",
      "\n",
      "For 5 epoch: 15it [00:00, 67.13it/s]\u001b[A\u001b[A\n",
      "\n",
      "For 5 epoch: 23it [00:00, 69.37it/s]\u001b[A\u001b[A\n",
      "\n",
      "For 5 epoch: 31it [00:00, 70.35it/s]\u001b[A\u001b[A\n",
      "\n",
      "For 5 epoch: 38it [00:00, 69.97it/s]\u001b[A\u001b[A\n",
      "\n",
      "For 5 epoch: 46it [00:00, 70.98it/s]\u001b[A\u001b[A\n",
      "\n",
      "For 5 epoch: 54it [00:00, 70.67it/s]\u001b[A\u001b[A\n",
      "\n",
      "For 5 epoch: 66it [00:00, 70.28it/s]\u001b[A\u001b[A\n",
      "\n",
      "\n",
      "For 6 epoch: 0it [00:00, ?it/s]\u001b[A\u001b[A\n",
      "\n",
      "For 6 epoch: 8it [00:00, 73.23it/s]\u001b[A\u001b[A"
     ]
    },
    {
     "name": "stdout",
     "output_type": "stream",
     "text": [
      "Epoch: 5, Loss: 0.6942, Train error: 0.5000\n"
     ]
    },
    {
     "name": "stderr",
     "output_type": "stream",
     "text": [
      "\n",
      "\n",
      "For 6 epoch: 15it [00:00, 71.23it/s]\u001b[A\u001b[A\n",
      "\n",
      "For 6 epoch: 22it [00:00, 70.58it/s]\u001b[A\u001b[A\n",
      "\n",
      "For 6 epoch: 29it [00:00, 69.34it/s]\u001b[A\u001b[A\n",
      "\n",
      "For 6 epoch: 37it [00:00, 71.57it/s]\u001b[A\u001b[A\n",
      "\n",
      "For 6 epoch: 43it [00:00, 67.11it/s]\u001b[A\u001b[A\n",
      "\n",
      "For 6 epoch: 53it [00:00, 73.18it/s]\u001b[A\u001b[A\n",
      "\n",
      "For 6 epoch: 66it [00:00, 69.70it/s]\u001b[A\u001b[A\n",
      "\n",
      "\n",
      "For 7 epoch: 0it [00:00, ?it/s]\u001b[A\u001b[A\n",
      "\n",
      "For 7 epoch: 7it [00:00, 69.97it/s]\u001b[A\u001b[A"
     ]
    },
    {
     "name": "stdout",
     "output_type": "stream",
     "text": [
      "Epoch: 6, Loss: 0.6942, Train error: 0.5000\n"
     ]
    },
    {
     "name": "stderr",
     "output_type": "stream",
     "text": [
      "\n",
      "\n",
      "For 7 epoch: 13it [00:00, 65.32it/s]\u001b[A\u001b[A\n",
      "\n",
      "For 7 epoch: 18it [00:00, 56.38it/s]\u001b[A\u001b[A\n",
      "\n",
      "For 7 epoch: 23it [00:00, 53.53it/s]\u001b[A\u001b[A\n",
      "\n",
      "For 7 epoch: 28it [00:00, 50.31it/s]\u001b[A\u001b[A\n",
      "\n",
      "For 7 epoch: 33it [00:00, 47.91it/s]\u001b[A\u001b[A\n",
      "\n",
      "For 7 epoch: 38it [00:00, 48.50it/s]\u001b[A\u001b[A\n",
      "\n",
      "For 7 epoch: 45it [00:00, 53.13it/s]\u001b[A\u001b[A\n",
      "\n",
      "For 7 epoch: 53it [00:00, 57.23it/s]\u001b[A\u001b[A\n",
      "\n",
      "For 7 epoch: 66it [00:01, 57.14it/s]\u001b[A\u001b[A\n",
      "\n",
      "\n",
      "For 8 epoch: 0it [00:00, ?it/s]\u001b[A\u001b[A\n",
      "\n",
      "For 8 epoch: 8it [00:00, 76.99it/s]\u001b[A\u001b[A"
     ]
    },
    {
     "name": "stdout",
     "output_type": "stream",
     "text": [
      "Epoch: 7, Loss: 0.6942, Train error: 0.5000\n"
     ]
    },
    {
     "name": "stderr",
     "output_type": "stream",
     "text": [
      "\n",
      "\n",
      "For 8 epoch: 15it [00:00, 74.52it/s]\u001b[A\u001b[A\n",
      "\n",
      "For 8 epoch: 23it [00:00, 73.93it/s]\u001b[A\u001b[A\n",
      "\n",
      "For 8 epoch: 31it [00:00, 74.16it/s]\u001b[A\u001b[A\n",
      "\n",
      "For 8 epoch: 38it [00:00, 68.90it/s]\u001b[A\u001b[A\n",
      "\n",
      "For 8 epoch: 45it [00:00, 68.11it/s]\u001b[A\u001b[A\n",
      "\n",
      "For 8 epoch: 52it [00:00, 68.28it/s]\u001b[A\u001b[A\n",
      "\n",
      "For 8 epoch: 66it [00:00, 70.19it/s]\u001b[A\u001b[A\n",
      "\n",
      "\n",
      "For 9 epoch: 0it [00:00, ?it/s]\u001b[A\u001b[A\n",
      "\n",
      "For 9 epoch: 8it [00:00, 75.58it/s]\u001b[A\u001b[A"
     ]
    },
    {
     "name": "stdout",
     "output_type": "stream",
     "text": [
      "Epoch: 8, Loss: 0.6942, Train error: 0.5000\n"
     ]
    },
    {
     "name": "stderr",
     "output_type": "stream",
     "text": [
      "\n",
      "\n",
      "For 9 epoch: 14it [00:00, 66.15it/s]\u001b[A\u001b[A\n",
      "\n",
      "For 9 epoch: 19it [00:00, 59.81it/s]\u001b[A\u001b[A\n",
      "\n",
      "For 9 epoch: 26it [00:00, 60.41it/s]\u001b[A\u001b[A\n",
      "\n",
      "For 9 epoch: 31it [00:00, 53.94it/s]\u001b[A\u001b[A\n",
      "\n",
      "For 9 epoch: 37it [00:00, 53.27it/s]\u001b[A\u001b[A\n",
      "\n",
      "For 9 epoch: 43it [00:00, 53.91it/s]\u001b[A\u001b[A\n",
      "\n",
      "For 9 epoch: 49it [00:00, 53.42it/s]\u001b[A\u001b[A\n",
      "\n",
      "For 9 epoch: 56it [00:01, 56.98it/s]\u001b[A\u001b[A\n",
      "\n",
      "For 9 epoch: 66it [00:01, 56.79it/s]\u001b[A\u001b[A\n",
      "\n",
      "\n",
      "For 10 epoch: 0it [00:00, ?it/s]\u001b[A\u001b[A\n",
      "\n",
      "For 10 epoch: 6it [00:00, 55.40it/s]\u001b[A\u001b[A"
     ]
    },
    {
     "name": "stdout",
     "output_type": "stream",
     "text": [
      "Epoch: 9, Loss: 0.6942, Train error: 0.5000\n"
     ]
    },
    {
     "name": "stderr",
     "output_type": "stream",
     "text": [
      "\n",
      "\n",
      "For 10 epoch: 13it [00:00, 58.20it/s]\u001b[A\u001b[A\n",
      "\n",
      "For 10 epoch: 20it [00:00, 60.03it/s]\u001b[A\u001b[A\n",
      "\n",
      "For 10 epoch: 27it [00:00, 61.45it/s]\u001b[A\u001b[A\n",
      "\n",
      "For 10 epoch: 34it [00:00, 62.70it/s]\u001b[A\u001b[A\n",
      "\n",
      "For 10 epoch: 42it [00:00, 65.12it/s]\u001b[A\u001b[A\n",
      "\n",
      "For 10 epoch: 49it [00:00, 65.69it/s]\u001b[A\u001b[A\n",
      "\n",
      "For 10 epoch: 57it [00:00, 68.07it/s]\u001b[A\u001b[A\n",
      "\n",
      "For 10 epoch: 66it [00:00, 66.77it/s]\u001b[A\u001b[A\n",
      "\n",
      "\n",
      "For 11 epoch: 0it [00:00, ?it/s]\u001b[A\u001b[A\n",
      "\n",
      "For 11 epoch: 8it [00:00, 74.36it/s]\u001b[A\u001b[A"
     ]
    },
    {
     "name": "stdout",
     "output_type": "stream",
     "text": [
      "Epoch: 10, Loss: 0.6942, Train error: 0.5000\n"
     ]
    },
    {
     "name": "stderr",
     "output_type": "stream",
     "text": [
      "\n",
      "\n",
      "For 11 epoch: 15it [00:00, 71.08it/s]\u001b[A\u001b[A\n",
      "\n",
      "For 11 epoch: 22it [00:00, 69.94it/s]\u001b[A\u001b[A\n",
      "\n",
      "For 11 epoch: 28it [00:00, 64.63it/s]\u001b[A\u001b[A\n",
      "\n",
      "For 11 epoch: 35it [00:00, 64.71it/s]\u001b[A\u001b[A\n",
      "\n",
      "For 11 epoch: 43it [00:00, 67.63it/s]\u001b[A\u001b[A\n",
      "\n",
      "For 11 epoch: 50it [00:00, 66.24it/s]\u001b[A\u001b[A\n",
      "\n",
      "For 11 epoch: 57it [00:00, 65.69it/s]\u001b[A\u001b[A\n",
      "\n",
      "For 11 epoch: 66it [00:01, 65.22it/s]\u001b[A\u001b[A\n",
      "\n",
      "\n",
      "For 12 epoch: 0it [00:00, ?it/s]\u001b[A\u001b[A\n",
      "\n",
      "For 12 epoch: 6it [00:00, 55.61it/s]\u001b[A\u001b[A"
     ]
    },
    {
     "name": "stdout",
     "output_type": "stream",
     "text": [
      "Epoch: 11, Loss: 0.6942, Train error: 0.5000\n"
     ]
    },
    {
     "name": "stderr",
     "output_type": "stream",
     "text": [
      "\n",
      "\n",
      "For 12 epoch: 12it [00:00, 54.80it/s]\u001b[A\u001b[A\n",
      "\n",
      "For 12 epoch: 19it [00:00, 57.13it/s]\u001b[A\u001b[A\n",
      "\n",
      "For 12 epoch: 26it [00:00, 58.51it/s]\u001b[A\u001b[A\n",
      "\n",
      "For 12 epoch: 32it [00:00, 57.68it/s]\u001b[A\u001b[A\n",
      "\n",
      "For 12 epoch: 40it [00:00, 60.88it/s]\u001b[A\u001b[A\n",
      "\n",
      "For 12 epoch: 47it [00:00, 61.08it/s]\u001b[A\u001b[A\n",
      "\n",
      "For 12 epoch: 54it [00:00, 62.82it/s]\u001b[A\u001b[A\n",
      "\n",
      "For 12 epoch: 66it [00:01, 60.76it/s]\u001b[A\u001b[A\n"
     ]
    },
    {
     "name": "stdout",
     "output_type": "stream",
     "text": [
      "Epoch: 12, Loss: 0.6942, Train error: 0.5000\n"
     ]
    },
    {
     "name": "stderr",
     "output_type": "stream",
     "text": [
      "\n",
      "3 fold cross validation: 1it [00:16, 16.34s/it]\u001b[A\n",
      "\n",
      "For 0 epoch: 0it [00:00, ?it/s]\u001b[A\u001b[A\n",
      "\n",
      "For 0 epoch: 7it [00:00, 63.54it/s]\u001b[A\u001b[A\n",
      "\n",
      "For 0 epoch: 14it [00:00, 64.75it/s]\u001b[A\u001b[A\n",
      "\n",
      "For 0 epoch: 21it [00:00, 66.00it/s]\u001b[A\u001b[A\n",
      "\n",
      "For 0 epoch: 29it [00:00, 67.89it/s]\u001b[A\u001b[A\n",
      "\n",
      "For 0 epoch: 36it [00:00, 66.08it/s]\u001b[A\u001b[A\n",
      "\n",
      "For 0 epoch: 43it [00:00, 66.47it/s]\u001b[A\u001b[A\n",
      "\n",
      "For 0 epoch: 50it [00:00, 64.80it/s]\u001b[A\u001b[A\n",
      "\n",
      "For 0 epoch: 56it [00:00, 62.72it/s]\u001b[A\u001b[A\n",
      "\n",
      "For 0 epoch: 66it [00:01, 65.41it/s]\u001b[A\u001b[A\n",
      "\n",
      "\n",
      "For 1 epoch: 0it [00:00, ?it/s]\u001b[A\u001b[A\n",
      "\n",
      "For 1 epoch: 8it [00:00, 66.33it/s]\u001b[A\u001b[A"
     ]
    },
    {
     "name": "stdout",
     "output_type": "stream",
     "text": [
      "Epoch: 0, Loss: 0.6942, Train error: 0.5000\n"
     ]
    },
    {
     "name": "stderr",
     "output_type": "stream",
     "text": [
      "\n",
      "\n",
      "For 1 epoch: 15it [00:00, 63.04it/s]\u001b[A\u001b[A\n",
      "\n",
      "For 1 epoch: 21it [00:00, 60.07it/s]\u001b[A\u001b[A\n",
      "\n",
      "For 1 epoch: 26it [00:00, 56.54it/s]\u001b[A\u001b[A\n",
      "\n",
      "For 1 epoch: 33it [00:00, 59.70it/s]\u001b[A\u001b[A\n",
      "\n",
      "For 1 epoch: 38it [00:00, 54.52it/s]\u001b[A\u001b[A\n",
      "\n",
      "For 1 epoch: 45it [00:00, 56.96it/s]\u001b[A\u001b[A\n",
      "\n",
      "For 1 epoch: 52it [00:00, 58.45it/s]\u001b[A\u001b[A\n",
      "\n",
      "For 1 epoch: 66it [00:01, 60.87it/s]\u001b[A\u001b[A\n",
      "\n",
      "\n",
      "For 2 epoch: 0it [00:00, ?it/s]\u001b[A\u001b[A\n",
      "\n",
      "For 2 epoch: 6it [00:00, 59.67it/s]\u001b[A\u001b[A"
     ]
    },
    {
     "name": "stdout",
     "output_type": "stream",
     "text": [
      "Epoch: 1, Loss: 0.6942, Train error: 0.5000\n"
     ]
    },
    {
     "name": "stderr",
     "output_type": "stream",
     "text": [
      "\n",
      "\n",
      "For 2 epoch: 12it [00:00, 57.82it/s]\u001b[A\u001b[A\n",
      "\n",
      "For 2 epoch: 20it [00:00, 60.90it/s]\u001b[A\u001b[A\n",
      "\n",
      "For 2 epoch: 27it [00:00, 59.11it/s]\u001b[A\u001b[A\n",
      "\n",
      "For 2 epoch: 34it [00:00, 59.73it/s]\u001b[A\u001b[A\n",
      "\n",
      "For 2 epoch: 42it [00:00, 63.30it/s]\u001b[A\u001b[A\n",
      "\n",
      "For 2 epoch: 49it [00:00, 63.53it/s]\u001b[A\u001b[A\n",
      "\n",
      "For 2 epoch: 56it [00:00, 64.15it/s]\u001b[A\u001b[A\n",
      "\n",
      "For 2 epoch: 66it [00:01, 60.91it/s]\u001b[A\u001b[A\n",
      "\n",
      "\n",
      "For 3 epoch: 0it [00:00, ?it/s]\u001b[A\u001b[A\n",
      "\n",
      "For 3 epoch: 7it [00:00, 61.43it/s]\u001b[A\u001b[A"
     ]
    },
    {
     "name": "stdout",
     "output_type": "stream",
     "text": [
      "Epoch: 2, Loss: 0.6942, Train error: 0.5000\n"
     ]
    },
    {
     "name": "stderr",
     "output_type": "stream",
     "text": [
      "\n",
      "\n",
      "For 3 epoch: 12it [00:00, 56.87it/s]\u001b[A\u001b[A\n",
      "\n",
      "For 3 epoch: 18it [00:00, 56.93it/s]\u001b[A\u001b[A\n",
      "\n",
      "For 3 epoch: 23it [00:00, 52.83it/s]\u001b[A\u001b[A\n",
      "\n",
      "For 3 epoch: 27it [00:00, 47.07it/s]\u001b[A\u001b[A\n",
      "\n",
      "For 3 epoch: 32it [00:00, 45.83it/s]\u001b[A\u001b[A\n",
      "\n",
      "For 3 epoch: 37it [00:00, 44.86it/s]\u001b[A\u001b[A\n",
      "\n",
      "For 3 epoch: 42it [00:00, 45.70it/s]\u001b[A\u001b[A\n",
      "\n",
      "For 3 epoch: 47it [00:01, 43.09it/s]\u001b[A\u001b[A\n",
      "\n",
      "For 3 epoch: 52it [00:01, 43.01it/s]\u001b[A\u001b[A\n",
      "\n",
      "For 3 epoch: 58it [00:01, 46.13it/s]\u001b[A\u001b[A\n",
      "\n",
      "For 3 epoch: 66it [00:01, 48.09it/s]\u001b[A\u001b[A\n",
      "\n",
      "\n",
      "For 4 epoch: 0it [00:00, ?it/s]\u001b[A\u001b[A\n",
      "\n",
      "For 4 epoch: 6it [00:00, 55.57it/s]\u001b[A\u001b[A"
     ]
    },
    {
     "name": "stdout",
     "output_type": "stream",
     "text": [
      "Epoch: 3, Loss: 0.6942, Train error: 0.5000\n"
     ]
    },
    {
     "name": "stderr",
     "output_type": "stream",
     "text": [
      "\n",
      "\n",
      "For 4 epoch: 11it [00:00, 53.43it/s]\u001b[A\u001b[A\n",
      "\n",
      "For 4 epoch: 18it [00:00, 56.17it/s]\u001b[A\u001b[A\n",
      "\n",
      "For 4 epoch: 24it [00:00, 55.85it/s]\u001b[A\u001b[A\n",
      "\n",
      "For 4 epoch: 29it [00:00, 53.64it/s]\u001b[A\u001b[A\n",
      "\n",
      "For 4 epoch: 35it [00:00, 53.79it/s]\u001b[A\u001b[A\n",
      "\n",
      "For 4 epoch: 42it [00:00, 56.67it/s]\u001b[A\u001b[A\n",
      "\n",
      "For 4 epoch: 48it [00:00, 56.19it/s]\u001b[A\u001b[A\n",
      "\n",
      "For 4 epoch: 54it [00:00, 52.73it/s]\u001b[A\u001b[A\n",
      "\n",
      "For 4 epoch: 60it [00:01, 53.30it/s]\u001b[A\u001b[A\n",
      "\n",
      "For 4 epoch: 66it [00:01, 53.95it/s]\u001b[A\u001b[A\n",
      "\n",
      "\n",
      "For 5 epoch: 0it [00:00, ?it/s]\u001b[A\u001b[A\n",
      "\n",
      "For 5 epoch: 7it [00:00, 65.33it/s]\u001b[A\u001b[A"
     ]
    },
    {
     "name": "stdout",
     "output_type": "stream",
     "text": [
      "Epoch: 4, Loss: 0.6942, Train error: 0.5000\n"
     ]
    },
    {
     "name": "stderr",
     "output_type": "stream",
     "text": [
      "\n",
      "\n",
      "For 5 epoch: 13it [00:00, 62.05it/s]\u001b[A\u001b[A\n",
      "\n",
      "For 5 epoch: 19it [00:00, 59.05it/s]\u001b[A\u001b[A\n",
      "\n",
      "For 5 epoch: 25it [00:00, 58.34it/s]\u001b[A\u001b[A\n",
      "\n",
      "For 5 epoch: 32it [00:00, 59.59it/s]\u001b[A\u001b[A\n",
      "\n",
      "For 5 epoch: 40it [00:00, 63.60it/s]\u001b[A\u001b[A\n",
      "\n",
      "For 5 epoch: 48it [00:00, 65.42it/s]\u001b[A\u001b[A\n",
      "\n",
      "For 5 epoch: 55it [00:00, 63.78it/s]\u001b[A\u001b[A\n",
      "\n",
      "For 5 epoch: 66it [00:01, 61.59it/s]\u001b[A\u001b[A\n"
     ]
    },
    {
     "name": "stdout",
     "output_type": "stream",
     "text": [
      "Epoch: 5, Loss: 0.6942, Train error: 0.5000\n"
     ]
    },
    {
     "name": "stderr",
     "output_type": "stream",
     "text": [
      "\n",
      "3 fold cross validation: 2it [00:25, 14.25s/it]\u001b[A\n",
      "\n",
      "For 0 epoch: 0it [00:00, ?it/s]\u001b[A\u001b[A\n",
      "\n",
      "For 0 epoch: 10it [00:00, 90.13it/s]\u001b[A\u001b[A\n",
      "\n",
      "For 0 epoch: 19it [00:00, 89.15it/s]\u001b[A\u001b[A\n",
      "\n",
      "For 0 epoch: 25it [00:00, 76.09it/s]\u001b[A\u001b[A\n",
      "\n",
      "For 0 epoch: 32it [00:00, 72.63it/s]\u001b[A\u001b[A\n",
      "\n",
      "For 0 epoch: 39it [00:00, 68.92it/s]\u001b[A\u001b[A\n",
      "\n",
      "For 0 epoch: 46it [00:00, 69.08it/s]\u001b[A\u001b[A\n",
      "\n",
      "For 0 epoch: 53it [00:00, 67.33it/s]\u001b[A\u001b[A\n",
      "\n",
      "For 0 epoch: 66it [00:01, 65.92it/s]\u001b[A\u001b[A\n",
      "\n",
      "\n",
      "For 1 epoch: 0it [00:00, ?it/s]\u001b[A\u001b[A\n",
      "\n",
      "For 1 epoch: 7it [00:00, 57.89it/s]\u001b[A\u001b[A"
     ]
    },
    {
     "name": "stdout",
     "output_type": "stream",
     "text": [
      "Epoch: 0, Loss: 0.6941, Train error: 0.5000\n"
     ]
    },
    {
     "name": "stderr",
     "output_type": "stream",
     "text": [
      "\n",
      "\n",
      "For 1 epoch: 13it [00:00, 56.21it/s]\u001b[A\u001b[A\n",
      "\n",
      "For 1 epoch: 19it [00:00, 54.97it/s]\u001b[A\u001b[A\n",
      "\n",
      "For 1 epoch: 26it [00:00, 58.70it/s]\u001b[A\u001b[A\n",
      "\n",
      "For 1 epoch: 35it [00:00, 64.41it/s]\u001b[A\u001b[A\n",
      "\n",
      "For 1 epoch: 42it [00:00, 64.26it/s]\u001b[A\u001b[A\n",
      "\n",
      "For 1 epoch: 49it [00:00, 64.02it/s]\u001b[A\u001b[A\n",
      "\n",
      "For 1 epoch: 56it [00:00, 59.75it/s]\u001b[A\u001b[A\n",
      "\n",
      "For 1 epoch: 66it [00:01, 63.00it/s]\u001b[A\u001b[A\n",
      "\n",
      "\n",
      "For 2 epoch: 0it [00:00, ?it/s]\u001b[A\u001b[A\n",
      "\n",
      "For 2 epoch: 8it [00:00, 70.92it/s]\u001b[A\u001b[A"
     ]
    },
    {
     "name": "stdout",
     "output_type": "stream",
     "text": [
      "Epoch: 1, Loss: 0.6941, Train error: 0.5000\n"
     ]
    },
    {
     "name": "stderr",
     "output_type": "stream",
     "text": [
      "\n",
      "\n",
      "For 2 epoch: 16it [00:00, 70.86it/s]\u001b[A\u001b[A\n",
      "\n",
      "For 2 epoch: 23it [00:00, 68.61it/s]\u001b[A\u001b[A\n",
      "\n",
      "For 2 epoch: 32it [00:00, 71.84it/s]\u001b[A\u001b[A\n",
      "\n",
      "For 2 epoch: 39it [00:00, 68.25it/s]\u001b[A\u001b[A\n",
      "\n",
      "For 2 epoch: 45it [00:00, 65.25it/s]\u001b[A\u001b[A\n",
      "\n",
      "For 2 epoch: 53it [00:00, 68.29it/s]\u001b[A\u001b[A\n",
      "\n",
      "For 2 epoch: 66it [00:00, 68.87it/s]\u001b[A\u001b[A\n",
      "\n",
      "\n",
      "For 3 epoch: 0it [00:00, ?it/s]\u001b[A\u001b[A\n",
      "\n",
      "For 3 epoch: 7it [00:00, 69.74it/s]\u001b[A\u001b[A"
     ]
    },
    {
     "name": "stdout",
     "output_type": "stream",
     "text": [
      "Epoch: 2, Loss: 0.6941, Train error: 0.5000\n"
     ]
    },
    {
     "name": "stderr",
     "output_type": "stream",
     "text": [
      "\n",
      "\n",
      "For 3 epoch: 16it [00:00, 73.95it/s]\u001b[A\u001b[A\n",
      "\n",
      "For 3 epoch: 23it [00:00, 71.55it/s]\u001b[A\u001b[A\n",
      "\n",
      "For 3 epoch: 30it [00:00, 68.80it/s]\u001b[A\u001b[A\n",
      "\n",
      "For 3 epoch: 36it [00:00, 59.89it/s]\u001b[A\u001b[A\n",
      "\n",
      "For 3 epoch: 42it [00:00, 56.36it/s]\u001b[A\u001b[A\n",
      "\n",
      "For 3 epoch: 49it [00:00, 58.47it/s]\u001b[A\u001b[A\n",
      "\n",
      "For 3 epoch: 57it [00:00, 61.86it/s]\u001b[A\u001b[A\n",
      "\n",
      "For 3 epoch: 66it [00:01, 64.35it/s]\u001b[A\u001b[A\n",
      "\n",
      "\n",
      "For 4 epoch: 0it [00:00, ?it/s]\u001b[A\u001b[A\n",
      "\n",
      "For 4 epoch: 8it [00:00, 72.86it/s]\u001b[A\u001b[A"
     ]
    },
    {
     "name": "stdout",
     "output_type": "stream",
     "text": [
      "Epoch: 3, Loss: 0.6941, Train error: 0.5000\n"
     ]
    },
    {
     "name": "stderr",
     "output_type": "stream",
     "text": [
      "\n",
      "\n",
      "For 4 epoch: 13it [00:00, 62.37it/s]\u001b[A\u001b[A\n",
      "\n",
      "For 4 epoch: 20it [00:00, 62.66it/s]\u001b[A\u001b[A\n",
      "\n",
      "For 4 epoch: 26it [00:00, 61.55it/s]\u001b[A\u001b[A\n",
      "\n",
      "For 4 epoch: 33it [00:00, 62.20it/s]\u001b[A\u001b[A\n",
      "\n",
      "For 4 epoch: 39it [00:00, 61.04it/s]\u001b[A\u001b[A\n",
      "\n",
      "For 4 epoch: 46it [00:00, 62.25it/s]\u001b[A\u001b[A\n",
      "\n",
      "For 4 epoch: 53it [00:00, 62.95it/s]\u001b[A\u001b[A\n",
      "\n",
      "For 4 epoch: 59it [00:00, 59.22it/s]\u001b[A\u001b[A\n",
      "\n",
      "For 4 epoch: 66it [00:01, 57.96it/s]\u001b[A\u001b[A\n",
      "\n",
      "\n",
      "For 5 epoch: 0it [00:00, ?it/s]\u001b[A\u001b[A\n",
      "\n",
      "For 5 epoch: 8it [00:00, 69.93it/s]\u001b[A\u001b[A"
     ]
    },
    {
     "name": "stdout",
     "output_type": "stream",
     "text": [
      "Epoch: 4, Loss: 0.6941, Train error: 0.5000\n"
     ]
    },
    {
     "name": "stderr",
     "output_type": "stream",
     "text": [
      "\n",
      "\n",
      "For 5 epoch: 15it [00:00, 69.01it/s]\u001b[A\u001b[A\n",
      "\n",
      "For 5 epoch: 22it [00:00, 67.29it/s]\u001b[A\u001b[A\n",
      "\n",
      "For 5 epoch: 30it [00:00, 68.69it/s]\u001b[A\u001b[A\n",
      "\n",
      "For 5 epoch: 36it [00:00, 65.22it/s]\u001b[A\u001b[A\n",
      "\n",
      "For 5 epoch: 43it [00:00, 66.25it/s]\u001b[A\u001b[A\n",
      "\n",
      "For 5 epoch: 50it [00:00, 65.27it/s]\u001b[A\u001b[A\n",
      "\n",
      "For 5 epoch: 56it [00:00, 52.88it/s]\u001b[A\u001b[A\n",
      "\n",
      "For 5 epoch: 66it [00:01, 59.22it/s]\u001b[A\u001b[A\n"
     ]
    },
    {
     "name": "stdout",
     "output_type": "stream",
     "text": [
      "Epoch: 5, Loss: 0.6941, Train error: 0.5000\n"
     ]
    },
    {
     "name": "stderr",
     "output_type": "stream",
     "text": [
      "\n",
      "3 fold cross validation: 3it [00:34, 11.49s/it]\u001b[A\n",
      "training at different percent:   0%|          | 0/1 [00:34<?, ?it/s]\n"
     ]
    }
   ],
   "source": [
    "results = mini_noise_signal_cv(start, end, data, num_bag,\n",
    "                               bag_size_mean, bag_size_std, treatment, control, model, optimizer, splits, epochs)"
   ]
  },
  {
   "cell_type": "code",
   "execution_count": 11,
   "metadata": {},
   "outputs": [
    {
     "data": {
      "text/plain": [
       "{0.9: [1.0,\n",
       "  0.0,\n",
       "  1.0,\n",
       "  0.0,\n",
       "  0.75,\n",
       "  0.4330127018922193,\n",
       "  0.00343812870493161,\n",
       "  0.005264424610017966,\n",
       "  0.8045719616735975,\n",
       "  0.2824623806185282]}"
      ]
     },
     "execution_count": 11,
     "metadata": {},
     "output_type": "execute_result"
    }
   ],
   "source": [
    "\n",
    "results"
   ]
  },
  {
   "cell_type": "code",
   "execution_count": 12,
   "metadata": {
    "collapsed": true,
    "jupyter": {
     "outputs_hidden": true
    }
   },
   "outputs": [
    {
     "data": {
      "application/vnd.jupyter.widget-view+json": {
       "model_id": "7b4990212d3145f3b3e10164d066a486",
       "version_major": 2,
       "version_minor": 0
      },
      "text/plain": [
       "HBox(children=(FloatProgress(value=0.0, description='training at different percent', max=1.0, style=ProgressSt…"
      ]
     },
     "metadata": {},
     "output_type": "display_data"
    },
    {
     "data": {
      "application/vnd.jupyter.widget-view+json": {
       "model_id": "d85ff424f9f641e88a9d545569c02cb1",
       "version_major": 2,
       "version_minor": 0
      },
      "text/plain": [
       "HBox(children=(FloatProgress(value=1.0, bar_style='info', description='3 fold cross validation', max=1.0, styl…"
      ]
     },
     "metadata": {},
     "output_type": "display_data"
    },
    {
     "name": "stderr",
     "output_type": "stream",
     "text": [
      "\n",
      "\n",
      "For 0 epoch: 0it [00:00, ?it/s]\u001b[A\u001b[A\n",
      "\n",
      "For 0 epoch: 5it [00:00, 47.79it/s]\u001b[A\u001b[A\n",
      "\n",
      "For 0 epoch: 11it [00:00, 45.95it/s]\u001b[A\u001b[A\n",
      "\n",
      "For 0 epoch: 15it [00:00, 43.22it/s]\u001b[A\u001b[A\n",
      "\n",
      "For 0 epoch: 20it [00:00, 43.30it/s]\u001b[A\u001b[A\n",
      "\n",
      "For 0 epoch: 24it [00:00, 40.99it/s]\u001b[A\u001b[A\n",
      "\n",
      "For 0 epoch: 28it [00:00, 40.46it/s]\u001b[A\u001b[A\n",
      "\n",
      "For 0 epoch: 33it [00:00, 41.43it/s]\u001b[A\u001b[A\n",
      "\n",
      "For 0 epoch: 39it [00:00, 44.20it/s]\u001b[A\u001b[A\n",
      "\n",
      "For 0 epoch: 44it [00:01, 44.68it/s]\u001b[A\u001b[A\n",
      "\n",
      "For 0 epoch: 49it [00:01, 43.09it/s]\u001b[A\u001b[A\n",
      "\n",
      "For 0 epoch: 55it [00:01, 45.33it/s]\u001b[A\u001b[A\n",
      "\n",
      "For 0 epoch: 66it [00:01, 45.59it/s]\u001b[A\u001b[A\n",
      "\n",
      "\n",
      "For 1 epoch: 0it [00:00, ?it/s]\u001b[A\u001b[A\n",
      "\n",
      "For 1 epoch: 7it [00:00, 67.40it/s]\u001b[A\u001b[A"
     ]
    },
    {
     "name": "stdout",
     "output_type": "stream",
     "text": [
      "Epoch: 0, Loss: 0.0137, Train error: 0.0000\n"
     ]
    },
    {
     "name": "stderr",
     "output_type": "stream",
     "text": [
      "\n",
      "\n",
      "For 1 epoch: 14it [00:00, 65.00it/s]\u001b[A\u001b[A\n",
      "\n",
      "For 1 epoch: 21it [00:00, 64.13it/s]\u001b[A\u001b[A\n",
      "\n",
      "For 1 epoch: 28it [00:00, 63.66it/s]\u001b[A\u001b[A\n",
      "\n",
      "For 1 epoch: 35it [00:00, 63.62it/s]\u001b[A\u001b[A\n",
      "\n",
      "For 1 epoch: 42it [00:00, 64.11it/s]\u001b[A\u001b[A\n",
      "\n",
      "For 1 epoch: 49it [00:00, 64.35it/s]\u001b[A\u001b[A\n",
      "\n",
      "For 1 epoch: 55it [00:00, 62.06it/s]\u001b[A\u001b[A\n",
      "\n",
      "For 1 epoch: 66it [00:01, 62.24it/s]\u001b[A\u001b[A\n",
      "\n",
      "\n",
      "For 2 epoch: 0it [00:00, ?it/s]\u001b[A\u001b[A\n",
      "\n",
      "For 2 epoch: 8it [00:00, 68.78it/s]\u001b[A\u001b[A"
     ]
    },
    {
     "name": "stdout",
     "output_type": "stream",
     "text": [
      "Epoch: 1, Loss: 0.0012, Train error: 0.0000\n"
     ]
    },
    {
     "name": "stderr",
     "output_type": "stream",
     "text": [
      "\n",
      "\n",
      "For 2 epoch: 15it [00:00, 66.89it/s]\u001b[A\u001b[A\n",
      "\n",
      "For 2 epoch: 22it [00:00, 65.60it/s]\u001b[A\u001b[A\n",
      "\n",
      "For 2 epoch: 29it [00:00, 65.60it/s]\u001b[A\u001b[A\n",
      "\n",
      "For 2 epoch: 36it [00:00, 64.89it/s]\u001b[A\u001b[A\n",
      "\n",
      "For 2 epoch: 42it [00:00, 63.23it/s]\u001b[A\u001b[A\n",
      "\n",
      "For 2 epoch: 49it [00:00, 62.94it/s]\u001b[A\u001b[A\n",
      "\n",
      "For 2 epoch: 55it [00:00, 56.53it/s]\u001b[A\u001b[A\n",
      "\n",
      "For 2 epoch: 66it [00:01, 59.60it/s]\u001b[A\u001b[A\n",
      "\n",
      "\n",
      "For 3 epoch: 0it [00:00, ?it/s]\u001b[A\u001b[A\n",
      "\n",
      "For 3 epoch: 6it [00:00, 54.45it/s]\u001b[A\u001b[A"
     ]
    },
    {
     "name": "stdout",
     "output_type": "stream",
     "text": [
      "Epoch: 2, Loss: 0.0011, Train error: 0.0000\n"
     ]
    },
    {
     "name": "stderr",
     "output_type": "stream",
     "text": [
      "\n",
      "\n",
      "For 3 epoch: 12it [00:00, 53.94it/s]\u001b[A\u001b[A\n",
      "\n",
      "For 3 epoch: 19it [00:00, 56.24it/s]\u001b[A\u001b[A\n",
      "\n",
      "For 3 epoch: 26it [00:00, 58.66it/s]\u001b[A\u001b[A\n",
      "\n",
      "For 3 epoch: 31it [00:00, 55.75it/s]\u001b[A\u001b[A\n",
      "\n",
      "For 3 epoch: 37it [00:00, 56.38it/s]\u001b[A\u001b[A\n",
      "\n",
      "For 3 epoch: 44it [00:00, 58.36it/s]\u001b[A\u001b[A\n",
      "\n",
      "For 3 epoch: 51it [00:00, 61.35it/s]\u001b[A\u001b[A\n",
      "\n",
      "For 3 epoch: 58it [00:00, 62.09it/s]\u001b[A\u001b[A\n",
      "\n",
      "For 3 epoch: 66it [00:01, 60.14it/s]\u001b[A\u001b[A\n",
      "\n",
      "\n",
      "For 4 epoch: 0it [00:00, ?it/s]\u001b[A\u001b[A\n",
      "\n",
      "For 4 epoch: 5it [00:00, 44.68it/s]\u001b[A\u001b[A"
     ]
    },
    {
     "name": "stdout",
     "output_type": "stream",
     "text": [
      "Epoch: 3, Loss: 0.0010, Train error: 0.0000\n"
     ]
    },
    {
     "name": "stderr",
     "output_type": "stream",
     "text": [
      "\n",
      "\n",
      "For 4 epoch: 11it [00:00, 46.16it/s]\u001b[A\u001b[A\n",
      "\n",
      "For 4 epoch: 17it [00:00, 49.34it/s]\u001b[A\u001b[A\n",
      "\n",
      "For 4 epoch: 25it [00:00, 55.56it/s]\u001b[A\u001b[A\n",
      "\n",
      "For 4 epoch: 31it [00:00, 56.55it/s]\u001b[A\u001b[A\n",
      "\n",
      "For 4 epoch: 37it [00:00, 52.05it/s]\u001b[A\u001b[A\n",
      "\n",
      "For 4 epoch: 42it [00:00, 49.51it/s]\u001b[A\u001b[A\n",
      "\n",
      "For 4 epoch: 47it [00:00, 48.43it/s]\u001b[A\u001b[A\n",
      "\n",
      "For 4 epoch: 52it [00:01, 48.35it/s]\u001b[A\u001b[A\n",
      "\n",
      "For 4 epoch: 57it [00:01, 48.66it/s]\u001b[A\u001b[A\n",
      "\n",
      "For 4 epoch: 66it [00:01, 51.00it/s]\u001b[A\u001b[A\n",
      "\n",
      "\n",
      "For 5 epoch: 0it [00:00, ?it/s]\u001b[A\u001b[A\n",
      "\n",
      "For 5 epoch: 4it [00:00, 38.17it/s]\u001b[A\u001b[A"
     ]
    },
    {
     "name": "stdout",
     "output_type": "stream",
     "text": [
      "Epoch: 4, Loss: 0.0010, Train error: 0.0000\n"
     ]
    },
    {
     "name": "stderr",
     "output_type": "stream",
     "text": [
      "\n",
      "\n",
      "For 5 epoch: 9it [00:00, 38.92it/s]\u001b[A\u001b[A\n",
      "\n",
      "For 5 epoch: 15it [00:00, 43.44it/s]\u001b[A\u001b[A\n",
      "\n",
      "For 5 epoch: 21it [00:00, 45.42it/s]\u001b[A\u001b[A\n",
      "\n",
      "For 5 epoch: 28it [00:00, 50.09it/s]\u001b[A\u001b[A\n",
      "\n",
      "For 5 epoch: 33it [00:00, 47.30it/s]\u001b[A\u001b[A\n",
      "\n",
      "For 5 epoch: 38it [00:00, 47.62it/s]\u001b[A\u001b[A\n",
      "\n",
      "For 5 epoch: 45it [00:00, 51.47it/s]\u001b[A\u001b[A\n",
      "\n",
      "For 5 epoch: 52it [00:00, 55.70it/s]\u001b[A\u001b[A\n",
      "\n",
      "For 5 epoch: 59it [00:01, 58.41it/s]\u001b[A\u001b[A\n",
      "\n",
      "For 5 epoch: 66it [00:01, 54.87it/s]\u001b[A\u001b[A\n",
      "\n",
      "\n",
      "For 6 epoch: 0it [00:00, ?it/s]\u001b[A\u001b[A\n",
      "\n",
      "For 6 epoch: 8it [00:00, 72.13it/s]\u001b[A\u001b[A"
     ]
    },
    {
     "name": "stdout",
     "output_type": "stream",
     "text": [
      "Epoch: 5, Loss: 0.0009, Train error: 0.0000\n"
     ]
    },
    {
     "name": "stderr",
     "output_type": "stream",
     "text": [
      "\n",
      "\n",
      "For 6 epoch: 15it [00:00, 69.01it/s]\u001b[A\u001b[A\n",
      "\n",
      "For 6 epoch: 22it [00:00, 67.35it/s]\u001b[A\u001b[A\n",
      "\n",
      "For 6 epoch: 30it [00:00, 66.81it/s]\u001b[A\u001b[A\n",
      "\n",
      "For 6 epoch: 36it [00:00, 62.67it/s]\u001b[A\u001b[A\n",
      "\n",
      "For 6 epoch: 43it [00:00, 63.30it/s]\u001b[A\u001b[A\n",
      "\n",
      "For 6 epoch: 49it [00:00, 60.50it/s]\u001b[A\u001b[A\n",
      "\n",
      "For 6 epoch: 56it [00:00, 60.65it/s]\u001b[A\u001b[A\n",
      "\n",
      "For 6 epoch: 66it [00:01, 59.54it/s]\u001b[A\u001b[A\n",
      "\n",
      "\n",
      "For 7 epoch: 0it [00:00, ?it/s]\u001b[A\u001b[A\n",
      "\n",
      "For 7 epoch: 6it [00:00, 55.11it/s]\u001b[A\u001b[A"
     ]
    },
    {
     "name": "stdout",
     "output_type": "stream",
     "text": [
      "Epoch: 6, Loss: 0.0009, Train error: 0.0000\n"
     ]
    },
    {
     "name": "stderr",
     "output_type": "stream",
     "text": [
      "\n",
      "\n",
      "For 7 epoch: 11it [00:00, 52.96it/s]\u001b[A\u001b[A\n",
      "\n",
      "For 7 epoch: 18it [00:00, 54.81it/s]\u001b[A\u001b[A\n",
      "\n",
      "For 7 epoch: 22it [00:00, 47.41it/s]\u001b[A\u001b[A\n",
      "\n",
      "For 7 epoch: 29it [00:00, 51.78it/s]\u001b[A\u001b[A\n",
      "\n",
      "For 7 epoch: 34it [00:00, 48.85it/s]\u001b[A\u001b[A\n",
      "\n",
      "For 7 epoch: 39it [00:00, 46.58it/s]\u001b[A\u001b[A\n",
      "\n",
      "For 7 epoch: 44it [00:00, 46.85it/s]\u001b[A\u001b[A\n",
      "\n",
      "For 7 epoch: 49it [00:01, 43.05it/s]\u001b[A\u001b[A\n",
      "\n",
      "For 7 epoch: 55it [00:01, 45.46it/s]\u001b[A\u001b[A\n",
      "\n",
      "For 7 epoch: 61it [00:01, 46.08it/s]\u001b[A\u001b[A\n",
      "\n",
      "For 7 epoch: 66it [00:01, 47.21it/s]\u001b[A\u001b[A\n",
      "\n",
      "\n",
      "For 8 epoch: 0it [00:00, ?it/s]\u001b[A\u001b[A\n",
      "\n",
      "For 8 epoch: 6it [00:00, 57.79it/s]\u001b[A\u001b[A"
     ]
    },
    {
     "name": "stdout",
     "output_type": "stream",
     "text": [
      "Epoch: 7, Loss: 0.0008, Train error: 0.0000\n"
     ]
    },
    {
     "name": "stderr",
     "output_type": "stream",
     "text": [
      "\n",
      "\n",
      "For 8 epoch: 11it [00:00, 54.79it/s]\u001b[A\u001b[A\n",
      "\n",
      "For 8 epoch: 16it [00:00, 50.23it/s]\u001b[A\u001b[A\n",
      "\n",
      "For 8 epoch: 22it [00:00, 49.76it/s]\u001b[A\u001b[A\n",
      "\n",
      "For 8 epoch: 27it [00:00, 48.92it/s]\u001b[A\u001b[A\n",
      "\n",
      "For 8 epoch: 32it [00:00, 47.31it/s]\u001b[A\u001b[A\n",
      "\n",
      "For 8 epoch: 37it [00:00, 47.39it/s]\u001b[A\u001b[A\n",
      "\n",
      "For 8 epoch: 42it [00:00, 48.02it/s]\u001b[A\u001b[A\n",
      "\n",
      "For 8 epoch: 48it [00:00, 49.84it/s]\u001b[A\u001b[A\n",
      "\n",
      "For 8 epoch: 54it [00:01, 51.87it/s]\u001b[A\u001b[A\n",
      "\n",
      "For 8 epoch: 60it [00:01, 49.96it/s]\u001b[A\u001b[A\n",
      "\n",
      "For 8 epoch: 66it [00:01, 49.54it/s]\u001b[A\u001b[A\n",
      "\n",
      "\n",
      "For 9 epoch: 0it [00:00, ?it/s]\u001b[A\u001b[A\n",
      "\n",
      "For 9 epoch: 7it [00:00, 65.30it/s]\u001b[A\u001b[A"
     ]
    },
    {
     "name": "stdout",
     "output_type": "stream",
     "text": [
      "Epoch: 8, Loss: 0.0008, Train error: 0.0000\n"
     ]
    },
    {
     "name": "stderr",
     "output_type": "stream",
     "text": [
      "\n",
      "\n",
      "For 9 epoch: 13it [00:00, 62.94it/s]\u001b[A\u001b[A\n",
      "\n",
      "For 9 epoch: 18it [00:00, 55.94it/s]\u001b[A\u001b[A\n",
      "\n",
      "For 9 epoch: 24it [00:00, 52.94it/s]\u001b[A\u001b[A\n",
      "\n",
      "For 9 epoch: 29it [00:00, 51.36it/s]\u001b[A\u001b[A\n",
      "\n",
      "For 9 epoch: 34it [00:00, 50.15it/s]\u001b[A\u001b[A\n",
      "\n",
      "For 9 epoch: 40it [00:00, 50.75it/s]\u001b[A\u001b[A\n",
      "\n",
      "For 9 epoch: 46it [00:00, 51.65it/s]\u001b[A\u001b[A\n",
      "\n",
      "For 9 epoch: 52it [00:00, 53.67it/s]\u001b[A\u001b[A\n",
      "\n",
      "For 9 epoch: 59it [00:01, 56.33it/s]\u001b[A\u001b[A\n",
      "\n",
      "For 9 epoch: 66it [00:01, 53.61it/s]\u001b[A\u001b[A\n",
      "\n",
      "\n",
      "For 10 epoch: 0it [00:00, ?it/s]\u001b[A\u001b[A\n",
      "\n",
      "For 10 epoch: 6it [00:00, 58.44it/s]\u001b[A\u001b[A"
     ]
    },
    {
     "name": "stdout",
     "output_type": "stream",
     "text": [
      "Epoch: 9, Loss: 0.0008, Train error: 0.0000\n"
     ]
    },
    {
     "name": "stderr",
     "output_type": "stream",
     "text": [
      "\n",
      "\n",
      "For 10 epoch: 13it [00:00, 58.30it/s]\u001b[A\u001b[A\n",
      "\n",
      "For 10 epoch: 20it [00:00, 59.49it/s]\u001b[A\u001b[A\n",
      "\n",
      "For 10 epoch: 24it [00:00, 51.50it/s]\u001b[A\u001b[A\n",
      "\n",
      "For 10 epoch: 31it [00:00, 53.93it/s]\u001b[A\u001b[A\n",
      "\n",
      "For 10 epoch: 38it [00:00, 56.67it/s]\u001b[A\u001b[A\n",
      "\n",
      "For 10 epoch: 44it [00:00, 57.46it/s]\u001b[A\u001b[A\n",
      "\n",
      "For 10 epoch: 51it [00:00, 57.68it/s]\u001b[A\u001b[A\n",
      "\n",
      "For 10 epoch: 57it [00:01, 53.08it/s]\u001b[A\u001b[A\n",
      "\n",
      "For 10 epoch: 66it [00:01, 55.25it/s]\u001b[A\u001b[A\n",
      "\n",
      "\n",
      "For 11 epoch: 0it [00:00, ?it/s]\u001b[A\u001b[A\n",
      "\n",
      "For 11 epoch: 6it [00:00, 53.77it/s]\u001b[A\u001b[A"
     ]
    },
    {
     "name": "stdout",
     "output_type": "stream",
     "text": [
      "Epoch: 10, Loss: 0.0008, Train error: 0.0000\n"
     ]
    },
    {
     "name": "stderr",
     "output_type": "stream",
     "text": [
      "\n",
      "\n",
      "For 11 epoch: 13it [00:00, 57.02it/s]\u001b[A\u001b[A\n",
      "\n",
      "For 11 epoch: 18it [00:00, 53.49it/s]\u001b[A\u001b[A\n",
      "\n",
      "For 11 epoch: 23it [00:00, 49.20it/s]\u001b[A\u001b[A\n",
      "\n",
      "For 11 epoch: 29it [00:00, 50.77it/s]\u001b[A\u001b[A\n",
      "\n",
      "For 11 epoch: 35it [00:00, 50.43it/s]\u001b[A\u001b[A\n",
      "\n",
      "For 11 epoch: 41it [00:00, 50.45it/s]\u001b[A\u001b[A\n",
      "\n",
      "For 11 epoch: 48it [00:00, 52.22it/s]\u001b[A\u001b[A\n",
      "\n",
      "For 11 epoch: 55it [00:01, 54.86it/s]\u001b[A\u001b[A\n",
      "\n",
      "For 11 epoch: 66it [00:01, 54.01it/s]\u001b[A\u001b[A\n",
      "\n",
      "\n",
      "For 12 epoch: 0it [00:00, ?it/s]\u001b[A\u001b[A\n",
      "\n",
      "For 12 epoch: 6it [00:00, 57.59it/s]\u001b[A\u001b[A"
     ]
    },
    {
     "name": "stdout",
     "output_type": "stream",
     "text": [
      "Epoch: 11, Loss: 0.0008, Train error: 0.0000\n"
     ]
    },
    {
     "name": "stderr",
     "output_type": "stream",
     "text": [
      "\n",
      "\n",
      "For 12 epoch: 12it [00:00, 57.64it/s]\u001b[A\u001b[A\n",
      "\n",
      "For 12 epoch: 18it [00:00, 57.68it/s]\u001b[A\u001b[A\n",
      "\n",
      "For 12 epoch: 24it [00:00, 57.50it/s]\u001b[A\u001b[A\n",
      "\n",
      "For 12 epoch: 31it [00:00, 59.35it/s]\u001b[A\u001b[A\n",
      "\n",
      "For 12 epoch: 39it [00:00, 63.39it/s]\u001b[A\u001b[A\n",
      "\n",
      "For 12 epoch: 46it [00:00, 65.05it/s]\u001b[A\u001b[A\n",
      "\n",
      "For 12 epoch: 53it [00:00, 66.01it/s]\u001b[A\u001b[A\n",
      "\n",
      "For 12 epoch: 66it [00:01, 62.90it/s]\u001b[A\u001b[A\n"
     ]
    },
    {
     "name": "stdout",
     "output_type": "stream",
     "text": [
      "Epoch: 12, Loss: 0.0008, Train error: 0.0000\n"
     ]
    },
    {
     "name": "stderr",
     "output_type": "stream",
     "text": [
      "\n",
      "\n",
      "For 0 epoch: 0it [00:00, ?it/s]\u001b[A\u001b[A\n",
      "\n",
      "For 0 epoch: 6it [00:00, 48.21it/s]\u001b[A\u001b[A\n",
      "\n",
      "For 0 epoch: 12it [00:00, 49.84it/s]\u001b[A\u001b[A\n",
      "\n",
      "For 0 epoch: 18it [00:00, 52.45it/s]\u001b[A\u001b[A\n",
      "\n",
      "For 0 epoch: 22it [00:00, 46.80it/s]\u001b[A\u001b[A\n",
      "\n",
      "For 0 epoch: 28it [00:00, 47.71it/s]\u001b[A\u001b[A\n",
      "\n",
      "For 0 epoch: 34it [00:00, 49.04it/s]\u001b[A\u001b[A\n",
      "\n",
      "For 0 epoch: 39it [00:00, 46.95it/s]\u001b[A\u001b[A\n",
      "\n",
      "For 0 epoch: 45it [00:00, 48.83it/s]\u001b[A\u001b[A\n",
      "\n",
      "For 0 epoch: 51it [00:01, 51.47it/s]\u001b[A\u001b[A\n",
      "\n",
      "For 0 epoch: 58it [00:01, 54.19it/s]\u001b[A\u001b[A\n",
      "\n",
      "For 0 epoch: 66it [00:01, 51.86it/s]\u001b[A\u001b[A\n",
      "\n",
      "\n",
      "For 1 epoch: 0it [00:00, ?it/s]\u001b[A\u001b[A\n",
      "\n",
      "For 1 epoch: 6it [00:00, 54.69it/s]\u001b[A\u001b[A"
     ]
    },
    {
     "name": "stdout",
     "output_type": "stream",
     "text": [
      "Epoch: 0, Loss: 0.0004, Train error: 0.0000\n"
     ]
    },
    {
     "name": "stderr",
     "output_type": "stream",
     "text": [
      "\n",
      "\n",
      "For 1 epoch: 11it [00:00, 51.71it/s]\u001b[A\u001b[A\n",
      "\n",
      "For 1 epoch: 17it [00:00, 53.73it/s]\u001b[A\u001b[A\n",
      "\n",
      "For 1 epoch: 23it [00:00, 54.39it/s]\u001b[A\u001b[A\n",
      "\n",
      "For 1 epoch: 29it [00:00, 54.60it/s]\u001b[A\u001b[A\n",
      "\n",
      "For 1 epoch: 36it [00:00, 57.00it/s]\u001b[A\u001b[A\n",
      "\n",
      "For 1 epoch: 43it [00:00, 58.09it/s]\u001b[A\u001b[A\n",
      "\n",
      "For 1 epoch: 49it [00:00, 51.48it/s]\u001b[A\u001b[A\n",
      "\n",
      "For 1 epoch: 54it [00:01, 49.98it/s]\u001b[A\u001b[A\n",
      "\n",
      "For 1 epoch: 59it [00:01, 49.15it/s]\u001b[A\u001b[A\n",
      "\n",
      "For 1 epoch: 66it [00:01, 53.46it/s]\u001b[A\u001b[A\n",
      "\n",
      "\n",
      "For 2 epoch: 0it [00:00, ?it/s]\u001b[A\u001b[A\n",
      "\n",
      "For 2 epoch: 9it [00:00, 82.24it/s]\u001b[A\u001b[A"
     ]
    },
    {
     "name": "stdout",
     "output_type": "stream",
     "text": [
      "Epoch: 1, Loss: 0.0001, Train error: 0.0000\n"
     ]
    },
    {
     "name": "stderr",
     "output_type": "stream",
     "text": [
      "\n",
      "\n",
      "For 2 epoch: 13it [00:00, 59.09it/s]\u001b[A\u001b[A\n",
      "\n",
      "For 2 epoch: 19it [00:00, 58.49it/s]\u001b[A\u001b[A\n",
      "\n",
      "For 2 epoch: 27it [00:00, 62.36it/s]\u001b[A\u001b[A\n",
      "\n",
      "For 2 epoch: 35it [00:00, 65.64it/s]\u001b[A\u001b[A\n",
      "\n",
      "For 2 epoch: 42it [00:00, 65.64it/s]\u001b[A\u001b[A\n",
      "\n",
      "For 2 epoch: 48it [00:00, 60.69it/s]\u001b[A\u001b[A\n",
      "\n",
      "For 2 epoch: 54it [00:00, 60.20it/s]\u001b[A\u001b[A\n",
      "\n",
      "For 2 epoch: 66it [00:01, 62.08it/s]\u001b[A\u001b[A\n",
      "\n",
      "\n",
      "For 3 epoch: 0it [00:00, ?it/s]\u001b[A\u001b[A\n",
      "\n",
      "For 3 epoch: 6it [00:00, 53.61it/s]\u001b[A\u001b[A"
     ]
    },
    {
     "name": "stdout",
     "output_type": "stream",
     "text": [
      "Epoch: 2, Loss: 0.0001, Train error: 0.0000\n"
     ]
    },
    {
     "name": "stderr",
     "output_type": "stream",
     "text": [
      "\n",
      "\n",
      "For 3 epoch: 12it [00:00, 52.98it/s]\u001b[A\u001b[A\n",
      "\n",
      "For 3 epoch: 17it [00:00, 51.39it/s]\u001b[A\u001b[A\n",
      "\n",
      "For 3 epoch: 22it [00:00, 48.44it/s]\u001b[A\u001b[A\n",
      "\n",
      "For 3 epoch: 29it [00:00, 51.37it/s]\u001b[A\u001b[A\n",
      "\n",
      "For 3 epoch: 35it [00:00, 52.60it/s]\u001b[A\u001b[A\n",
      "\n",
      "For 3 epoch: 41it [00:00, 53.57it/s]\u001b[A\u001b[A\n",
      "\n",
      "For 3 epoch: 46it [00:00, 52.04it/s]\u001b[A\u001b[A\n",
      "\n",
      "For 3 epoch: 52it [00:00, 53.63it/s]\u001b[A\u001b[A\n",
      "\n",
      "For 3 epoch: 58it [00:01, 51.14it/s]\u001b[A\u001b[A\n",
      "\n",
      "For 3 epoch: 66it [00:01, 50.32it/s]\u001b[A\u001b[A\n",
      "\n",
      "\n",
      "For 4 epoch: 0it [00:00, ?it/s]\u001b[A\u001b[A\n",
      "\n",
      "For 4 epoch: 5it [00:00, 41.73it/s]\u001b[A\u001b[A"
     ]
    },
    {
     "name": "stdout",
     "output_type": "stream",
     "text": [
      "Epoch: 3, Loss: 0.0001, Train error: 0.0000\n"
     ]
    },
    {
     "name": "stderr",
     "output_type": "stream",
     "text": [
      "\n",
      "\n",
      "For 4 epoch: 10it [00:00, 43.41it/s]\u001b[A\u001b[A\n",
      "\n",
      "For 4 epoch: 14it [00:00, 40.71it/s]\u001b[A\u001b[A\n",
      "\n",
      "For 4 epoch: 19it [00:00, 42.03it/s]\u001b[A\u001b[A\n",
      "\n",
      "For 4 epoch: 24it [00:00, 42.27it/s]\u001b[A\u001b[A\n",
      "\n",
      "For 4 epoch: 29it [00:00, 43.73it/s]\u001b[A\u001b[A\n",
      "\n",
      "For 4 epoch: 35it [00:00, 46.98it/s]\u001b[A\u001b[A\n",
      "\n",
      "For 4 epoch: 41it [00:00, 48.17it/s]\u001b[A\u001b[A\n",
      "\n",
      "For 4 epoch: 46it [00:01, 47.31it/s]\u001b[A\u001b[A\n",
      "\n",
      "For 4 epoch: 52it [00:01, 48.58it/s]\u001b[A\u001b[A\n",
      "\n",
      "For 4 epoch: 58it [00:01, 48.57it/s]\u001b[A\u001b[A\n",
      "\n",
      "For 4 epoch: 66it [00:01, 46.77it/s]\u001b[A\u001b[A\n",
      "\n",
      "\n",
      "For 5 epoch: 0it [00:00, ?it/s]\u001b[A\u001b[A\n",
      "\n",
      "For 5 epoch: 5it [00:00, 49.10it/s]\u001b[A\u001b[A"
     ]
    },
    {
     "name": "stdout",
     "output_type": "stream",
     "text": [
      "Epoch: 4, Loss: 0.0001, Train error: 0.0000\n"
     ]
    },
    {
     "name": "stderr",
     "output_type": "stream",
     "text": [
      "\n",
      "\n",
      "For 5 epoch: 11it [00:00, 48.90it/s]\u001b[A\u001b[A\n",
      "\n",
      "For 5 epoch: 17it [00:00, 49.96it/s]\u001b[A\u001b[A\n",
      "\n",
      "For 5 epoch: 24it [00:00, 54.30it/s]\u001b[A\u001b[A\n",
      "\n",
      "For 5 epoch: 32it [00:00, 58.15it/s]\u001b[A\u001b[A\n",
      "\n",
      "For 5 epoch: 39it [00:00, 59.38it/s]\u001b[A\u001b[A\n",
      "\n",
      "For 5 epoch: 45it [00:00, 57.84it/s]\u001b[A\u001b[A\n",
      "\n",
      "For 5 epoch: 51it [00:00, 54.73it/s]\u001b[A\u001b[A\n",
      "\n",
      "For 5 epoch: 58it [00:01, 56.02it/s]\u001b[A\u001b[A\n",
      "\n",
      "For 5 epoch: 66it [00:01, 56.18it/s]\u001b[A\u001b[A\n"
     ]
    },
    {
     "name": "stdout",
     "output_type": "stream",
     "text": [
      "Epoch: 5, Loss: 0.0002, Train error: 0.0000\n"
     ]
    },
    {
     "name": "stderr",
     "output_type": "stream",
     "text": [
      "\n",
      "\n",
      "For 0 epoch: 0it [00:00, ?it/s]\u001b[A\u001b[A\n",
      "\n",
      "For 0 epoch: 8it [00:00, 67.69it/s]\u001b[A\u001b[A\n",
      "\n",
      "For 0 epoch: 13it [00:00, 59.68it/s]\u001b[A\u001b[A\n",
      "\n",
      "For 0 epoch: 19it [00:00, 59.77it/s]\u001b[A\u001b[A\n",
      "\n",
      "For 0 epoch: 26it [00:00, 59.91it/s]\u001b[A\u001b[A\n",
      "\n",
      "For 0 epoch: 33it [00:00, 60.80it/s]\u001b[A\u001b[A\n",
      "\n",
      "For 0 epoch: 39it [00:00, 59.06it/s]\u001b[A\u001b[A\n",
      "\n",
      "For 0 epoch: 45it [00:00, 57.97it/s]\u001b[A\u001b[A\n",
      "\n",
      "For 0 epoch: 52it [00:00, 58.95it/s]\u001b[A\u001b[A\n",
      "\n",
      "For 0 epoch: 66it [00:01, 61.01it/s]\u001b[A\u001b[A\n",
      "\n",
      "\n",
      "For 1 epoch: 0it [00:00, ?it/s]\u001b[A\u001b[A\n",
      "\n",
      "For 1 epoch: 8it [00:00, 71.41it/s]\u001b[A\u001b[A"
     ]
    },
    {
     "name": "stdout",
     "output_type": "stream",
     "text": [
      "Epoch: 0, Loss: 0.0001, Train error: 0.0000\n"
     ]
    },
    {
     "name": "stderr",
     "output_type": "stream",
     "text": [
      "\n",
      "\n",
      "For 1 epoch: 13it [00:00, 63.04it/s]\u001b[A\u001b[A\n",
      "\n",
      "For 1 epoch: 18it [00:00, 57.75it/s]\u001b[A\u001b[A\n",
      "\n",
      "For 1 epoch: 26it [00:00, 62.98it/s]\u001b[A\u001b[A\n",
      "\n",
      "For 1 epoch: 34it [00:00, 65.55it/s]\u001b[A\u001b[A\n",
      "\n",
      "For 1 epoch: 41it [00:00, 66.27it/s]\u001b[A\u001b[A\n",
      "\n",
      "For 1 epoch: 47it [00:00, 58.49it/s]\u001b[A\u001b[A\n",
      "\n",
      "For 1 epoch: 55it [00:00, 61.31it/s]\u001b[A\u001b[A\n",
      "\n",
      "For 1 epoch: 66it [00:01, 61.82it/s]\u001b[A\u001b[A\n",
      "\n",
      "\n",
      "For 2 epoch: 0it [00:00, ?it/s]\u001b[A\u001b[A\n",
      "\n",
      "For 2 epoch: 5it [00:00, 49.87it/s]\u001b[A\u001b[A"
     ]
    },
    {
     "name": "stdout",
     "output_type": "stream",
     "text": [
      "Epoch: 1, Loss: 0.0001, Train error: 0.0000\n"
     ]
    },
    {
     "name": "stderr",
     "output_type": "stream",
     "text": [
      "\n",
      "\n",
      "For 2 epoch: 10it [00:00, 49.71it/s]\u001b[A\u001b[A\n",
      "\n",
      "For 2 epoch: 16it [00:00, 51.85it/s]\u001b[A\u001b[A\n",
      "\n",
      "For 2 epoch: 24it [00:00, 56.72it/s]\u001b[A\u001b[A\n",
      "\n",
      "For 2 epoch: 32it [00:00, 60.27it/s]\u001b[A\u001b[A\n",
      "\n",
      "For 2 epoch: 39it [00:00, 62.12it/s]\u001b[A\u001b[A\n",
      "\n",
      "For 2 epoch: 45it [00:00, 59.39it/s]\u001b[A\u001b[A\n",
      "\n",
      "For 2 epoch: 52it [00:00, 61.81it/s]\u001b[A\u001b[A\n",
      "\n",
      "For 2 epoch: 59it [00:00, 62.11it/s]\u001b[A\u001b[A\n",
      "\n",
      "For 2 epoch: 66it [00:01, 61.01it/s]\u001b[A\u001b[A\n",
      "\n",
      "\n",
      "For 3 epoch: 0it [00:00, ?it/s]\u001b[A\u001b[A\n",
      "\n",
      "For 3 epoch: 8it [00:00, 65.53it/s]\u001b[A\u001b[A"
     ]
    },
    {
     "name": "stdout",
     "output_type": "stream",
     "text": [
      "Epoch: 2, Loss: 0.0001, Train error: 0.0000\n"
     ]
    },
    {
     "name": "stderr",
     "output_type": "stream",
     "text": [
      "\n",
      "\n",
      "For 3 epoch: 17it [00:00, 69.98it/s]\u001b[A\u001b[A\n",
      "\n",
      "For 3 epoch: 24it [00:00, 68.84it/s]\u001b[A\u001b[A\n",
      "\n",
      "For 3 epoch: 30it [00:00, 63.79it/s]\u001b[A\u001b[A\n",
      "\n",
      "For 3 epoch: 36it [00:00, 60.17it/s]\u001b[A\u001b[A\n",
      "\n",
      "For 3 epoch: 42it [00:00, 56.05it/s]\u001b[A\u001b[A\n",
      "\n",
      "For 3 epoch: 47it [00:00, 49.16it/s]\u001b[A\u001b[A\n",
      "\n",
      "For 3 epoch: 54it [00:00, 53.40it/s]\u001b[A\u001b[A\n",
      "\n",
      "For 3 epoch: 66it [00:01, 60.02it/s]\u001b[A\u001b[A\n",
      "\n",
      "\n",
      "For 4 epoch: 0it [00:00, ?it/s]\u001b[A\u001b[A\n",
      "\n",
      "For 4 epoch: 8it [00:00, 73.77it/s]\u001b[A\u001b[A"
     ]
    },
    {
     "name": "stdout",
     "output_type": "stream",
     "text": [
      "Epoch: 3, Loss: 0.0001, Train error: 0.0000\n"
     ]
    },
    {
     "name": "stderr",
     "output_type": "stream",
     "text": [
      "\n",
      "\n",
      "For 4 epoch: 15it [00:00, 71.39it/s]\u001b[A\u001b[A\n",
      "\n",
      "For 4 epoch: 21it [00:00, 64.49it/s]\u001b[A\u001b[A\n",
      "\n",
      "For 4 epoch: 26it [00:00, 58.37it/s]\u001b[A\u001b[A\n",
      "\n",
      "For 4 epoch: 33it [00:00, 59.24it/s]\u001b[A\u001b[A\n",
      "\n",
      "For 4 epoch: 39it [00:00, 57.59it/s]\u001b[A\u001b[A\n",
      "\n",
      "For 4 epoch: 45it [00:00, 54.33it/s]\u001b[A\u001b[A\n",
      "\n",
      "For 4 epoch: 52it [00:00, 56.62it/s]\u001b[A\u001b[A\n",
      "\n",
      "For 4 epoch: 66it [00:01, 60.29it/s]\u001b[A\u001b[A\n",
      "\n",
      "\n",
      "For 5 epoch: 0it [00:00, ?it/s]\u001b[A\u001b[A\n",
      "\n",
      "For 5 epoch: 7it [00:00, 67.30it/s]\u001b[A\u001b[A"
     ]
    },
    {
     "name": "stdout",
     "output_type": "stream",
     "text": [
      "Epoch: 4, Loss: 0.0002, Train error: 0.0000\n"
     ]
    },
    {
     "name": "stderr",
     "output_type": "stream",
     "text": [
      "\n",
      "\n",
      "For 5 epoch: 14it [00:00, 67.93it/s]\u001b[A\u001b[A\n",
      "\n",
      "For 5 epoch: 21it [00:00, 67.57it/s]\u001b[A\u001b[A\n",
      "\n",
      "For 5 epoch: 28it [00:00, 68.25it/s]\u001b[A\u001b[A\n",
      "\n",
      "For 5 epoch: 35it [00:00, 68.12it/s]\u001b[A\u001b[A\n",
      "\n",
      "For 5 epoch: 43it [00:00, 68.63it/s]\u001b[A\u001b[A\n",
      "\n",
      "For 5 epoch: 50it [00:00, 68.12it/s]\u001b[A\u001b[A\n",
      "\n",
      "For 5 epoch: 57it [00:00, 63.97it/s]\u001b[A\u001b[A\n",
      "\n",
      "For 5 epoch: 66it [00:01, 64.88it/s]\u001b[A\u001b[A\n"
     ]
    },
    {
     "name": "stdout",
     "output_type": "stream",
     "text": [
      "Epoch: 5, Loss: 0.0002, Train error: 0.0000\n",
      "\n",
      "\n"
     ]
    }
   ],
   "source": [
    "dic = {}\n",
    "# Set different percentage of treatment v.s. control \n",
    "for j in tqdm(range(start, end, 5), desc = \"training at different percent\"):\n",
    "    X, y = data_label_split(data)\n",
    "    y = y[\"compound\"]\n",
    "\n",
    "    acc_control_list = []\n",
    "    acc_treat_list = []\n",
    "    pred_score_control_list = []\n",
    "    pred_score_treat_list = []\n",
    "    # Stratified K fold \n",
    "    skf = StratifiedKFold(n_splits = splits)\n",
    "    for i, (train_index, test_index) in tqdm(enumerate(skf.split(X, y)), desc=\"%d fold cross validation\"%splits):\n",
    "        X_train, X_test = X.iloc[train_index], X.iloc[test_index]\n",
    "        y_train, y_test = y.iloc[train_index], y.iloc[test_index]  \n",
    "        X_train = pd.concat([X_train, y_train], axis=1, sort=False)\n",
    "        X_test = pd.concat([X_test, y_test], axis=1, sort=False)\n",
    "\n",
    "        # Redefine dataloader and train model at each fold\n",
    "        train_dataset = dmso_taxol_ProfileBag(X_train, int(num_bag*(splits-1)/splits), bag_size_mean, bag_size_std, j/100, treatment, control, 0.5)\n",
    "        valida_dataset = dmso_taxol_ProfileBag(X_test, int(num_bag/splits), bag_size_mean, bag_size_std, j/100, treatment, control, 0.5)\n",
    "        train_loader = D.DataLoader(train_dataset, batch_size=1, shuffle=True)\n",
    "        valida_loader = D.DataLoader(valida_dataset, batch_size=1, shuffle=True)\n",
    "        if i == 0:\n",
    "            for epoch in range(int(epochs*2/3)):\n",
    "                train(epoch, train_loader, model, optimizer)\n",
    "        else:\n",
    "            for epoch in range(int(epochs/3)):\n",
    "                train(epoch, train_loader, model, optimizer)\n",
    "        acc_control, acc_treat, pred_score_control, pred_score_treat = test(model, valida_loader)\n",
    "\n",
    "        acc_control_list+=acc_control\n",
    "        acc_treat_list+=acc_treat\n",
    "        pred_score_control_list+=pred_score_control\n",
    "        pred_score_treat_list+=pred_score_treat"
   ]
  },
  {
   "cell_type": "code",
   "execution_count": 13,
   "metadata": {},
   "outputs": [
    {
     "name": "stdout",
     "output_type": "stream",
     "text": [
      "1.0\n",
      "0.7083333333333334\n",
      "0.002746387370565322\n",
      "0.76131448118637\n"
     ]
    }
   ],
   "source": [
    "\n",
    "for i in [acc_control_list,\n",
    "        acc_treat_list,\n",
    "        pred_score_control_list,\n",
    "        pred_score_treat_list]:\n",
    "    print(np.mean(i))"
   ]
  },
  {
   "cell_type": "code",
   "execution_count": 14,
   "metadata": {},
   "outputs": [
    {
     "data": {
      "text/plain": [
       "1.0"
      ]
     },
     "execution_count": 14,
     "metadata": {},
     "output_type": "execute_result"
    }
   ],
   "source": [
    "np.mean(acc_control_list+acc_control_list)"
   ]
  },
  {
   "cell_type": "code",
   "execution_count": 15,
   "metadata": {},
   "outputs": [
    {
     "data": {
      "text/plain": [
       "1.0"
      ]
     },
     "execution_count": 15,
     "metadata": {},
     "output_type": "execute_result"
    }
   ],
   "source": [
    "np.mean(acc_control_list)"
   ]
  },
  {
   "cell_type": "code",
   "execution_count": 16,
   "metadata": {},
   "outputs": [
    {
     "data": {
      "text/plain": [
       "1.0"
      ]
     },
     "execution_count": 16,
     "metadata": {},
     "output_type": "execute_result"
    }
   ],
   "source": [
    "np.mean(acc_control_list)"
   ]
  },
  {
   "cell_type": "code",
   "execution_count": 92,
   "metadata": {},
   "outputs": [
    {
     "data": {
      "text/plain": [
       "0.8938053097345132"
      ]
     },
     "execution_count": 92,
     "metadata": {},
     "output_type": "execute_result"
    }
   ],
   "source": [
    "np.mean(np.array(train_dataset[0][1][1])==\"taxol\")"
   ]
  },
  {
   "cell_type": "code",
   "execution_count": 95,
   "metadata": {},
   "outputs": [
    {
     "data": {
      "text/plain": [
       "tensor([1.])"
      ]
     },
     "execution_count": 95,
     "metadata": {},
     "output_type": "execute_result"
    }
   ],
   "source": [
    "train_dataset[0][1][0]"
   ]
  },
  {
   "cell_type": "code",
   "execution_count": 101,
   "metadata": {},
   "outputs": [
    {
     "data": {
      "text/plain": [
       "0.0"
      ]
     },
     "execution_count": 101,
     "metadata": {},
     "output_type": "execute_result"
    }
   ],
   "source": [
    "np.mean(np.array(train_dataset[49][1][1])==\"taxol\")"
   ]
  },
  {
   "cell_type": "code",
   "execution_count": 100,
   "metadata": {},
   "outputs": [
    {
     "data": {
      "text/plain": [
       "tensor([0.])"
      ]
     },
     "execution_count": 100,
     "metadata": {},
     "output_type": "execute_result"
    }
   ],
   "source": [
    "train_dataset[49][1][0]"
   ]
  },
  {
   "cell_type": "code",
   "execution_count": 104,
   "metadata": {
    "collapsed": true,
    "jupyter": {
     "outputs_hidden": true
    }
   },
   "outputs": [
    {
     "data": {
      "text/plain": [
       "[1.0,\n",
       " 0.0,\n",
       " 1.0,\n",
       " 1.0,\n",
       " 1.0,\n",
       " 1.0,\n",
       " 1.0,\n",
       " 0.0,\n",
       " 1.0,\n",
       " 1.0,\n",
       " 1.0,\n",
       " 1.0,\n",
       " 0.0,\n",
       " 0.0,\n",
       " 0.0,\n",
       " 0.0,\n",
       " 0.0,\n",
       " 0.0,\n",
       " 1.0,\n",
       " 1.0,\n",
       " 1.0,\n",
       " 1.0,\n",
       " 0.0,\n",
       " 1.0,\n",
       " 0.0]"
      ]
     },
     "execution_count": 104,
     "metadata": {},
     "output_type": "execute_result"
    }
   ],
   "source": [
    "acc_control_list[0:25]"
   ]
  },
  {
   "cell_type": "code",
   "execution_count": 40,
   "metadata": {},
   "outputs": [
    {
     "data": {
      "text/plain": [
       "0.98"
      ]
     },
     "execution_count": 40,
     "metadata": {},
     "output_type": "execute_result"
    }
   ],
   "source": [
    "np.mean(acc_control_list[0:25]+acc_treat_list[0:25])"
   ]
  },
  {
   "cell_type": "code",
   "execution_count": 44,
   "metadata": {},
   "outputs": [
    {
     "data": {
      "text/plain": [
       "0.6666666666666666"
      ]
     },
     "execution_count": 44,
     "metadata": {},
     "output_type": "execute_result"
    }
   ],
   "source": [
    "np.mean(acc_treat_list)"
   ]
  },
  {
   "cell_type": "code",
   "execution_count": 27,
   "metadata": {},
   "outputs": [
    {
     "data": {
      "text/plain": [
       "51"
      ]
     },
     "execution_count": 27,
     "metadata": {},
     "output_type": "execute_result"
    }
   ],
   "source": [
    "len(acc_control_list)"
   ]
  },
  {
   "cell_type": "code",
   "execution_count": 29,
   "metadata": {},
   "outputs": [
    {
     "data": {
      "text/plain": [
       "0.05555555555555555"
      ]
     },
     "execution_count": 29,
     "metadata": {},
     "output_type": "execute_result"
    }
   ],
   "source": [
    "np.mean(acc_control_list[0:18])"
   ]
  },
  {
   "cell_type": "code",
   "execution_count": 30,
   "metadata": {},
   "outputs": [
    {
     "data": {
      "text/plain": [
       "0.8888888888888888"
      ]
     },
     "execution_count": 30,
     "metadata": {},
     "output_type": "execute_result"
    }
   ],
   "source": [
    "np.mean(acc_treat_list[0:18])"
   ]
  },
  {
   "cell_type": "code",
   "execution_count": 25,
   "metadata": {},
   "outputs": [
    {
     "data": {
      "text/plain": [
       "150.0"
      ]
     },
     "execution_count": 25,
     "metadata": {},
     "output_type": "execute_result"
    }
   ],
   "source": [
    "len(acc_control_list)/10"
   ]
  },
  {
   "cell_type": "code",
   "execution_count": 24,
   "metadata": {},
   "outputs": [
    {
     "data": {
      "text/plain": [
       "150.0"
      ]
     },
     "execution_count": 24,
     "metadata": {},
     "output_type": "execute_result"
    }
   ],
   "source": [
    "len(acc_treat_list)/10"
   ]
  },
  {
   "cell_type": "code",
   "execution_count": 42,
   "metadata": {},
   "outputs": [
    {
     "data": {
      "text/plain": [
       "0.301"
      ]
     },
     "execution_count": 42,
     "metadata": {},
     "output_type": "execute_result"
    }
   ],
   "source": [
    "np.mean(acc_control_list+acc_treat_list)"
   ]
  },
  {
   "cell_type": "code",
   "execution_count": 9,
   "metadata": {
    "collapsed": true,
    "jupyter": {
     "outputs_hidden": true
    }
   },
   "outputs": [
    {
     "ename": "NameError",
     "evalue": "name 'drop_NA_data' is not defined",
     "output_type": "error",
     "traceback": [
      "\u001b[0;31m---------------------------------------------------------------------------\u001b[0m",
      "\u001b[0;31mNameError\u001b[0m                                 Traceback (most recent call last)",
      "\u001b[0;32m<ipython-input-9-6426c82f29a6>\u001b[0m in \u001b[0;36m<module>\u001b[0;34m\u001b[0m\n\u001b[0;32m----> 1\u001b[0;31m \u001b[0mresults\u001b[0m \u001b[0;34m=\u001b[0m \u001b[0mmini_noise_signal_cv\u001b[0m\u001b[0;34m(\u001b[0m\u001b[0mdrop_NA_data\u001b[0m\u001b[0;34m,\u001b[0m \u001b[0;36m1000\u001b[0m\u001b[0;34m,\u001b[0m \u001b[0;36m100\u001b[0m\u001b[0;34m,\u001b[0m \u001b[0;36m10\u001b[0m\u001b[0;34m,\u001b[0m \u001b[0;34m\"taxol\"\u001b[0m\u001b[0;34m,\u001b[0m \u001b[0;34m\"DMSO\"\u001b[0m\u001b[0;34m,\u001b[0m \u001b[0mfull_deepset\u001b[0m\u001b[0;34m,\u001b[0m \u001b[0;36m10\u001b[0m\u001b[0;34m,\u001b[0m \u001b[0;36m50\u001b[0m\u001b[0;34m)\u001b[0m\u001b[0;34m\u001b[0m\u001b[0;34m\u001b[0m\u001b[0m\n\u001b[0m",
      "\u001b[0;31mNameError\u001b[0m: name 'drop_NA_data' is not defined"
     ]
    }
   ],
   "source": [
    "results = mini_noise_signal_cv(drop_NA_data, 1000, 100, 10, \"taxol\", \"DMSO\", full_deepset, 10, 50)"
   ]
  },
  {
   "cell_type": "code",
   "execution_count": null,
   "metadata": {
    "collapsed": true,
    "jupyter": {
     "outputs_hidden": true
    }
   },
   "outputs": [
    {
     "data": {
      "application/vnd.jupyter.widget-view+json": {
       "model_id": "234f401ab79e4396a830969f63907cc3",
       "version_major": 2,
       "version_minor": 0
      },
      "text/plain": [
       "HBox(children=(FloatProgress(value=0.0, description='training at different percent', max=19.0, style=ProgressS…"
      ]
     },
     "metadata": {},
     "output_type": "display_data"
    },
    {
     "data": {
      "application/vnd.jupyter.widget-view+json": {
       "model_id": "0c0ae8c3ffe941c78d5dccd91331eea6",
       "version_major": 2,
       "version_minor": 0
      },
      "text/plain": [
       "HBox(children=(FloatProgress(value=1.0, bar_style='info', description='5 fold cross validation', max=1.0, styl…"
      ]
     },
     "metadata": {},
     "output_type": "display_data"
    },
    {
     "data": {
      "application/vnd.jupyter.widget-view+json": {
       "model_id": "f7849a3856d64ac78aacf742fabf26d1",
       "version_major": 2,
       "version_minor": 0
      },
      "text/plain": [
       "HBox(children=(FloatProgress(value=1.0, bar_style='info', description='For 2 epoch', max=1.0, style=ProgressSt…"
      ]
     },
     "metadata": {},
     "output_type": "display_data"
    },
    {
     "name": "stdout",
     "output_type": "stream",
     "text": [
      "\n"
     ]
    },
    {
     "data": {
      "application/vnd.jupyter.widget-view+json": {
       "model_id": "7d152b266a8d41d18b0804ab2b0fdd49",
       "version_major": 2,
       "version_minor": 0
      },
      "text/plain": [
       "HBox(children=(FloatProgress(value=1.0, bar_style='info', description='For 2 epoch', max=1.0, style=ProgressSt…"
      ]
     },
     "metadata": {},
     "output_type": "display_data"
    },
    {
     "name": "stdout",
     "output_type": "stream",
     "text": [
      "\n"
     ]
    },
    {
     "data": {
      "application/vnd.jupyter.widget-view+json": {
       "model_id": "4b916def90b0488591034c3cedfa9bf2",
       "version_major": 2,
       "version_minor": 0
      },
      "text/plain": [
       "HBox(children=(FloatProgress(value=1.0, bar_style='info', description='For 2 epoch', max=1.0, style=ProgressSt…"
      ]
     },
     "metadata": {},
     "output_type": "display_data"
    },
    {
     "name": "stdout",
     "output_type": "stream",
     "text": [
      "\n"
     ]
    },
    {
     "data": {
      "application/vnd.jupyter.widget-view+json": {
       "model_id": "5b164dcc35d8439db32c8df03865e3ce",
       "version_major": 2,
       "version_minor": 0
      },
      "text/plain": [
       "HBox(children=(FloatProgress(value=1.0, bar_style='info', description='For 2 epoch', max=1.0, style=ProgressSt…"
      ]
     },
     "metadata": {},
     "output_type": "display_data"
    },
    {
     "name": "stdout",
     "output_type": "stream",
     "text": [
      "\n"
     ]
    },
    {
     "data": {
      "application/vnd.jupyter.widget-view+json": {
       "model_id": "3353d50878e342149a2691b9e440d9b9",
       "version_major": 2,
       "version_minor": 0
      },
      "text/plain": [
       "HBox(children=(FloatProgress(value=1.0, bar_style='info', description='For 2 epoch', max=1.0, style=ProgressSt…"
      ]
     },
     "metadata": {},
     "output_type": "display_data"
    },
    {
     "name": "stdout",
     "output_type": "stream",
     "text": [
      "\n",
      "\n"
     ]
    },
    {
     "data": {
      "application/vnd.jupyter.widget-view+json": {
       "model_id": "31d3844e7d8541ad91623ae87cb976a5",
       "version_major": 2,
       "version_minor": 0
      },
      "text/plain": [
       "HBox(children=(FloatProgress(value=1.0, bar_style='info', description='5 fold cross validation', max=1.0, styl…"
      ]
     },
     "metadata": {},
     "output_type": "display_data"
    },
    {
     "data": {
      "application/vnd.jupyter.widget-view+json": {
       "model_id": "05ba4ea82d01492394558a1562d759fd",
       "version_major": 2,
       "version_minor": 0
      },
      "text/plain": [
       "HBox(children=(FloatProgress(value=1.0, bar_style='info', description='For 2 epoch', max=1.0, style=ProgressSt…"
      ]
     },
     "metadata": {},
     "output_type": "display_data"
    },
    {
     "name": "stdout",
     "output_type": "stream",
     "text": [
      "\n"
     ]
    },
    {
     "data": {
      "application/vnd.jupyter.widget-view+json": {
       "model_id": "19360d59f88b4d34b686d21ad286b4ef",
       "version_major": 2,
       "version_minor": 0
      },
      "text/plain": [
       "HBox(children=(FloatProgress(value=1.0, bar_style='info', description='For 2 epoch', max=1.0, style=ProgressSt…"
      ]
     },
     "metadata": {},
     "output_type": "display_data"
    },
    {
     "name": "stdout",
     "output_type": "stream",
     "text": [
      "\n"
     ]
    },
    {
     "data": {
      "application/vnd.jupyter.widget-view+json": {
       "model_id": "5293f1b2fdd942a18252541f284e154e",
       "version_major": 2,
       "version_minor": 0
      },
      "text/plain": [
       "HBox(children=(FloatProgress(value=1.0, bar_style='info', description='For 2 epoch', max=1.0, style=ProgressSt…"
      ]
     },
     "metadata": {},
     "output_type": "display_data"
    },
    {
     "name": "stdout",
     "output_type": "stream",
     "text": [
      "\n"
     ]
    },
    {
     "data": {
      "application/vnd.jupyter.widget-view+json": {
       "model_id": "3b7e872ce26b46e09dd0d5331adcf561",
       "version_major": 2,
       "version_minor": 0
      },
      "text/plain": [
       "HBox(children=(FloatProgress(value=1.0, bar_style='info', description='For 2 epoch', max=1.0, style=ProgressSt…"
      ]
     },
     "metadata": {},
     "output_type": "display_data"
    },
    {
     "name": "stdout",
     "output_type": "stream",
     "text": [
      "\n"
     ]
    },
    {
     "data": {
      "application/vnd.jupyter.widget-view+json": {
       "model_id": "36187fcb9a9b4ac5a6a0309f83c2029f",
       "version_major": 2,
       "version_minor": 0
      },
      "text/plain": [
       "HBox(children=(FloatProgress(value=1.0, bar_style='info', description='For 2 epoch', max=1.0, style=ProgressSt…"
      ]
     },
     "metadata": {},
     "output_type": "display_data"
    },
    {
     "name": "stdout",
     "output_type": "stream",
     "text": [
      "\n",
      "\n"
     ]
    },
    {
     "data": {
      "application/vnd.jupyter.widget-view+json": {
       "model_id": "f76f2bf4eecd401db1f479960cff84a6",
       "version_major": 2,
       "version_minor": 0
      },
      "text/plain": [
       "HBox(children=(FloatProgress(value=1.0, bar_style='info', description='5 fold cross validation', max=1.0, styl…"
      ]
     },
     "metadata": {},
     "output_type": "display_data"
    },
    {
     "data": {
      "application/vnd.jupyter.widget-view+json": {
       "model_id": "7fca59d238304622bd051843b2344e2d",
       "version_major": 2,
       "version_minor": 0
      },
      "text/plain": [
       "HBox(children=(FloatProgress(value=1.0, bar_style='info', description='For 2 epoch', max=1.0, style=ProgressSt…"
      ]
     },
     "metadata": {},
     "output_type": "display_data"
    },
    {
     "name": "stdout",
     "output_type": "stream",
     "text": [
      "\n"
     ]
    },
    {
     "data": {
      "application/vnd.jupyter.widget-view+json": {
       "model_id": "5eace12d3a0a44688071fad21029eed7",
       "version_major": 2,
       "version_minor": 0
      },
      "text/plain": [
       "HBox(children=(FloatProgress(value=1.0, bar_style='info', description='For 2 epoch', max=1.0, style=ProgressSt…"
      ]
     },
     "metadata": {},
     "output_type": "display_data"
    },
    {
     "name": "stdout",
     "output_type": "stream",
     "text": [
      "\n"
     ]
    },
    {
     "data": {
      "application/vnd.jupyter.widget-view+json": {
       "model_id": "d3a493ee247d4edc9834bde997915ae5",
       "version_major": 2,
       "version_minor": 0
      },
      "text/plain": [
       "HBox(children=(FloatProgress(value=1.0, bar_style='info', description='For 2 epoch', max=1.0, style=ProgressSt…"
      ]
     },
     "metadata": {},
     "output_type": "display_data"
    },
    {
     "name": "stdout",
     "output_type": "stream",
     "text": [
      "\n"
     ]
    },
    {
     "data": {
      "application/vnd.jupyter.widget-view+json": {
       "model_id": "2e58a8fa3b8e48c8a4baaa078934f699",
       "version_major": 2,
       "version_minor": 0
      },
      "text/plain": [
       "HBox(children=(FloatProgress(value=1.0, bar_style='info', description='For 2 epoch', max=1.0, style=ProgressSt…"
      ]
     },
     "metadata": {},
     "output_type": "display_data"
    },
    {
     "name": "stdout",
     "output_type": "stream",
     "text": [
      "\n"
     ]
    },
    {
     "data": {
      "application/vnd.jupyter.widget-view+json": {
       "model_id": "267a8df5c4d040168bd1398596121843",
       "version_major": 2,
       "version_minor": 0
      },
      "text/plain": [
       "HBox(children=(FloatProgress(value=1.0, bar_style='info', description='For 2 epoch', max=1.0, style=ProgressSt…"
      ]
     },
     "metadata": {},
     "output_type": "display_data"
    },
    {
     "name": "stdout",
     "output_type": "stream",
     "text": [
      "\n",
      "\n"
     ]
    },
    {
     "data": {
      "application/vnd.jupyter.widget-view+json": {
       "model_id": "3e8e92e579bd4012808904f2241a4cd1",
       "version_major": 2,
       "version_minor": 0
      },
      "text/plain": [
       "HBox(children=(FloatProgress(value=1.0, bar_style='info', description='5 fold cross validation', max=1.0, styl…"
      ]
     },
     "metadata": {},
     "output_type": "display_data"
    },
    {
     "data": {
      "application/vnd.jupyter.widget-view+json": {
       "model_id": "42ef9d1fe1ca42059df5d97590f5d7f7",
       "version_major": 2,
       "version_minor": 0
      },
      "text/plain": [
       "HBox(children=(FloatProgress(value=1.0, bar_style='info', description='For 2 epoch', max=1.0, style=ProgressSt…"
      ]
     },
     "metadata": {},
     "output_type": "display_data"
    },
    {
     "name": "stdout",
     "output_type": "stream",
     "text": [
      "\n"
     ]
    },
    {
     "data": {
      "application/vnd.jupyter.widget-view+json": {
       "model_id": "8c17e02c25f749f9ab8a36475b81081d",
       "version_major": 2,
       "version_minor": 0
      },
      "text/plain": [
       "HBox(children=(FloatProgress(value=1.0, bar_style='info', description='For 2 epoch', max=1.0, style=ProgressSt…"
      ]
     },
     "metadata": {},
     "output_type": "display_data"
    },
    {
     "name": "stdout",
     "output_type": "stream",
     "text": [
      "\n"
     ]
    },
    {
     "data": {
      "application/vnd.jupyter.widget-view+json": {
       "model_id": "f7fd8670ce294385b244f716eeaeb28e",
       "version_major": 2,
       "version_minor": 0
      },
      "text/plain": [
       "HBox(children=(FloatProgress(value=1.0, bar_style='info', description='For 2 epoch', max=1.0, style=ProgressSt…"
      ]
     },
     "metadata": {},
     "output_type": "display_data"
    },
    {
     "name": "stdout",
     "output_type": "stream",
     "text": [
      "\n"
     ]
    },
    {
     "data": {
      "application/vnd.jupyter.widget-view+json": {
       "model_id": "d6b8cd91d34b403eba64b39b45a89cb3",
       "version_major": 2,
       "version_minor": 0
      },
      "text/plain": [
       "HBox(children=(FloatProgress(value=1.0, bar_style='info', description='For 2 epoch', max=1.0, style=ProgressSt…"
      ]
     },
     "metadata": {},
     "output_type": "display_data"
    },
    {
     "name": "stdout",
     "output_type": "stream",
     "text": [
      "\n"
     ]
    },
    {
     "data": {
      "application/vnd.jupyter.widget-view+json": {
       "model_id": "931cf3fca66345dab01196a873054a35",
       "version_major": 2,
       "version_minor": 0
      },
      "text/plain": [
       "HBox(children=(FloatProgress(value=1.0, bar_style='info', description='For 2 epoch', max=1.0, style=ProgressSt…"
      ]
     },
     "metadata": {},
     "output_type": "display_data"
    },
    {
     "name": "stdout",
     "output_type": "stream",
     "text": [
      "\n",
      "\n"
     ]
    },
    {
     "data": {
      "application/vnd.jupyter.widget-view+json": {
       "model_id": "0a5b9bcbd4d345a0b303ce80e426ab76",
       "version_major": 2,
       "version_minor": 0
      },
      "text/plain": [
       "HBox(children=(FloatProgress(value=1.0, bar_style='info', description='5 fold cross validation', max=1.0, styl…"
      ]
     },
     "metadata": {},
     "output_type": "display_data"
    },
    {
     "data": {
      "application/vnd.jupyter.widget-view+json": {
       "model_id": "a343de71d68f4111ab7d6cd1103b969e",
       "version_major": 2,
       "version_minor": 0
      },
      "text/plain": [
       "HBox(children=(FloatProgress(value=1.0, bar_style='info', description='For 2 epoch', max=1.0, style=ProgressSt…"
      ]
     },
     "metadata": {},
     "output_type": "display_data"
    },
    {
     "name": "stdout",
     "output_type": "stream",
     "text": [
      "\n"
     ]
    },
    {
     "data": {
      "application/vnd.jupyter.widget-view+json": {
       "model_id": "c05091f6a749419096435ede8a486425",
       "version_major": 2,
       "version_minor": 0
      },
      "text/plain": [
       "HBox(children=(FloatProgress(value=1.0, bar_style='info', description='For 2 epoch', max=1.0, style=ProgressSt…"
      ]
     },
     "metadata": {},
     "output_type": "display_data"
    },
    {
     "name": "stdout",
     "output_type": "stream",
     "text": [
      "\n"
     ]
    },
    {
     "data": {
      "application/vnd.jupyter.widget-view+json": {
       "model_id": "667a81db1e7e45928fbda1190f02f0d4",
       "version_major": 2,
       "version_minor": 0
      },
      "text/plain": [
       "HBox(children=(FloatProgress(value=1.0, bar_style='info', description='For 2 epoch', max=1.0, style=ProgressSt…"
      ]
     },
     "metadata": {},
     "output_type": "display_data"
    },
    {
     "data": {
      "application/vnd.jupyter.widget-view+json": {
       "model_id": "7071d73ececd4db4b5e7916b8ec3b521",
       "version_major": 2,
       "version_minor": 0
      },
      "text/plain": [
       "HBox(children=(FloatProgress(value=1.0, bar_style='info', description='For 2 epoch', max=1.0, style=ProgressSt…"
      ]
     },
     "metadata": {},
     "output_type": "display_data"
    },
    {
     "name": "stdout",
     "output_type": "stream",
     "text": [
      "\n"
     ]
    },
    {
     "data": {
      "application/vnd.jupyter.widget-view+json": {
       "model_id": "a840d3806546408cb49bafe38f55a8f4",
       "version_major": 2,
       "version_minor": 0
      },
      "text/plain": [
       "HBox(children=(FloatProgress(value=1.0, bar_style='info', description='For 2 epoch', max=1.0, style=ProgressSt…"
      ]
     },
     "metadata": {},
     "output_type": "display_data"
    },
    {
     "name": "stdout",
     "output_type": "stream",
     "text": [
      "\n",
      "\n"
     ]
    },
    {
     "data": {
      "application/vnd.jupyter.widget-view+json": {
       "model_id": "2606edaefed7425f8d000a03f4dc94e3",
       "version_major": 2,
       "version_minor": 0
      },
      "text/plain": [
       "HBox(children=(FloatProgress(value=1.0, bar_style='info', description='5 fold cross validation', max=1.0, styl…"
      ]
     },
     "metadata": {},
     "output_type": "display_data"
    },
    {
     "data": {
      "application/vnd.jupyter.widget-view+json": {
       "model_id": "a6897b47d2b14b41b19b6819d0e2c01c",
       "version_major": 2,
       "version_minor": 0
      },
      "text/plain": [
       "HBox(children=(FloatProgress(value=1.0, bar_style='info', description='For 2 epoch', max=1.0, style=ProgressSt…"
      ]
     },
     "metadata": {},
     "output_type": "display_data"
    },
    {
     "name": "stdout",
     "output_type": "stream",
     "text": [
      "\n"
     ]
    },
    {
     "data": {
      "application/vnd.jupyter.widget-view+json": {
       "model_id": "884e8124852b442c9dfa90e83389993d",
       "version_major": 2,
       "version_minor": 0
      },
      "text/plain": [
       "HBox(children=(FloatProgress(value=1.0, bar_style='info', description='For 2 epoch', max=1.0, style=ProgressSt…"
      ]
     },
     "metadata": {},
     "output_type": "display_data"
    },
    {
     "name": "stdout",
     "output_type": "stream",
     "text": [
      "\n"
     ]
    },
    {
     "data": {
      "application/vnd.jupyter.widget-view+json": {
       "model_id": "61b334a6e4424372b67dc0ca74e8b8ae",
       "version_major": 2,
       "version_minor": 0
      },
      "text/plain": [
       "HBox(children=(FloatProgress(value=1.0, bar_style='info', description='For 2 epoch', max=1.0, style=ProgressSt…"
      ]
     },
     "metadata": {},
     "output_type": "display_data"
    },
    {
     "name": "stdout",
     "output_type": "stream",
     "text": [
      "\n"
     ]
    },
    {
     "data": {
      "application/vnd.jupyter.widget-view+json": {
       "model_id": "c3e58b6e68bf479f859665fc702d5f11",
       "version_major": 2,
       "version_minor": 0
      },
      "text/plain": [
       "HBox(children=(FloatProgress(value=1.0, bar_style='info', description='For 2 epoch', max=1.0, style=ProgressSt…"
      ]
     },
     "metadata": {},
     "output_type": "display_data"
    }
   ],
   "source": [
    "sf_results = mini_noise_signal_cv(start = 90,\n",
    "                                  end = 91,\n",
    "                                  data = sf_drop_NA_data, \n",
    "                                  num_bag = 50,\n",
    "                                  bag_size_mean = 200, \n",
    "                                  bag_size_std = 10, \n",
    "                                  treatment = \"taxol\", \n",
    "                                  control = \"DMSO\", \n",
    "                                  model = sf_deepset, \n",
    "                                  optimizer = optimizer,\n",
    "                                  splits = 5,\n",
    "                                  epochs = 2)"
   ]
  },
  {
   "cell_type": "code",
   "execution_count": null,
   "metadata": {},
   "outputs": [],
   "source": [
    "sf_results"
   ]
  },
  {
   "cell_type": "code",
   "execution_count": 246,
   "metadata": {},
   "outputs": [],
   "source": [
    "acc_control, acc_treat, pred_score_control, pred_score_treat = test(sf_deepset, dataloader)"
   ]
  },
  {
   "cell_type": "code",
   "execution_count": 29,
   "metadata": {},
   "outputs": [],
   "source": [
    "(mean_control_accuracy, std_control_accuracy, \n",
    "            mean_treat_accuracy, std_treat_accuracy, \n",
    "            mean_pred_score_control, std_pred_score_control,\n",
    "            mean_pred_score_treatment, std_pred_score_treatment) = sf_results"
   ]
  },
  {
   "cell_type": "code",
   "execution_count": null,
   "metadata": {},
   "outputs": [],
   "source": [
    "dict = {'control_accuracy': nme, 'std_control_accuracy': deg, 'score': scr}  "
   ]
  },
  {
   "cell_type": "code",
   "execution_count": 24,
   "metadata": {},
   "outputs": [],
   "source": [
    "sf_results = pd.DataFrame(list(sf_results)).transpose()"
   ]
  },
  {
   "cell_type": "code",
   "execution_count": 25,
   "metadata": {},
   "outputs": [],
   "source": [
    "sf_results.columns = [\"mean_control_accuracy\", \"std_control_accuracy\", \n",
    "            \"mean_treat_accuracy\", \"std_treat_accuracy\", \n",
    "            \"mean_pred_score_control\", \"std_pred_score_control\",\n",
    "            \"mean_pred_score_treatment\", \"std_pred_score_treatment\"]"
   ]
  },
  {
   "cell_type": "code",
   "execution_count": 26,
   "metadata": {},
   "outputs": [
    {
     "data": {
      "text/html": [
       "<div>\n",
       "<style scoped>\n",
       "    .dataframe tbody tr th:only-of-type {\n",
       "        vertical-align: middle;\n",
       "    }\n",
       "\n",
       "    .dataframe tbody tr th {\n",
       "        vertical-align: top;\n",
       "    }\n",
       "\n",
       "    .dataframe thead th {\n",
       "        text-align: right;\n",
       "    }\n",
       "</style>\n",
       "<table border=\"1\" class=\"dataframe\">\n",
       "  <thead>\n",
       "    <tr style=\"text-align: right;\">\n",
       "      <th></th>\n",
       "      <th>mean_control_accuracy</th>\n",
       "      <th>std_control_accuracy</th>\n",
       "      <th>mean_treat_accuracy</th>\n",
       "      <th>std_treat_accuracy</th>\n",
       "      <th>mean_pred_score_control</th>\n",
       "      <th>std_pred_score_control</th>\n",
       "      <th>mean_pred_score_treatment</th>\n",
       "      <th>std_pred_score_treatment</th>\n",
       "    </tr>\n",
       "  </thead>\n",
       "  <tbody>\n",
       "    <tr>\n",
       "      <th>0</th>\n",
       "      <td>0.6</td>\n",
       "      <td>0.489898</td>\n",
       "      <td>0.4</td>\n",
       "      <td>0.489898</td>\n",
       "      <td>0.392564</td>\n",
       "      <td>0.385677</td>\n",
       "      <td>0.393943</td>\n",
       "      <td>0.422387</td>\n",
       "    </tr>\n",
       "    <tr>\n",
       "      <th>1</th>\n",
       "      <td>0.1</td>\n",
       "      <td>0.300000</td>\n",
       "      <td>1.0</td>\n",
       "      <td>0.000000</td>\n",
       "      <td>0.722624</td>\n",
       "      <td>0.191698</td>\n",
       "      <td>0.814537</td>\n",
       "      <td>0.104709</td>\n",
       "    </tr>\n",
       "    <tr>\n",
       "      <th>2</th>\n",
       "      <td>0.4</td>\n",
       "      <td>0.489898</td>\n",
       "      <td>0.7</td>\n",
       "      <td>0.458258</td>\n",
       "      <td>0.543045</td>\n",
       "      <td>0.198318</td>\n",
       "      <td>0.673363</td>\n",
       "      <td>0.171835</td>\n",
       "    </tr>\n",
       "    <tr>\n",
       "      <th>3</th>\n",
       "      <td>0.9</td>\n",
       "      <td>0.300000</td>\n",
       "      <td>0.3</td>\n",
       "      <td>0.458258</td>\n",
       "      <td>0.213512</td>\n",
       "      <td>0.131968</td>\n",
       "      <td>0.393299</td>\n",
       "      <td>0.203889</td>\n",
       "    </tr>\n",
       "    <tr>\n",
       "      <th>4</th>\n",
       "      <td>0.9</td>\n",
       "      <td>0.300000</td>\n",
       "      <td>0.3</td>\n",
       "      <td>0.458258</td>\n",
       "      <td>0.187630</td>\n",
       "      <td>0.155302</td>\n",
       "      <td>0.295522</td>\n",
       "      <td>0.244676</td>\n",
       "    </tr>\n",
       "    <tr>\n",
       "      <th>5</th>\n",
       "      <td>0.7</td>\n",
       "      <td>0.458258</td>\n",
       "      <td>0.6</td>\n",
       "      <td>0.489898</td>\n",
       "      <td>0.324578</td>\n",
       "      <td>0.361401</td>\n",
       "      <td>0.679215</td>\n",
       "      <td>0.287370</td>\n",
       "    </tr>\n",
       "    <tr>\n",
       "      <th>6</th>\n",
       "      <td>0.8</td>\n",
       "      <td>0.400000</td>\n",
       "      <td>0.9</td>\n",
       "      <td>0.300000</td>\n",
       "      <td>0.343598</td>\n",
       "      <td>0.340132</td>\n",
       "      <td>0.728700</td>\n",
       "      <td>0.192789</td>\n",
       "    </tr>\n",
       "    <tr>\n",
       "      <th>7</th>\n",
       "      <td>1.0</td>\n",
       "      <td>0.000000</td>\n",
       "      <td>0.8</td>\n",
       "      <td>0.400000</td>\n",
       "      <td>0.134028</td>\n",
       "      <td>0.126734</td>\n",
       "      <td>0.733124</td>\n",
       "      <td>0.210020</td>\n",
       "    </tr>\n",
       "    <tr>\n",
       "      <th>8</th>\n",
       "      <td>0.6</td>\n",
       "      <td>0.489898</td>\n",
       "      <td>0.7</td>\n",
       "      <td>0.458258</td>\n",
       "      <td>0.386999</td>\n",
       "      <td>0.428574</td>\n",
       "      <td>0.691723</td>\n",
       "      <td>0.349524</td>\n",
       "    </tr>\n",
       "    <tr>\n",
       "      <th>9</th>\n",
       "      <td>0.7</td>\n",
       "      <td>0.458258</td>\n",
       "      <td>1.0</td>\n",
       "      <td>0.000000</td>\n",
       "      <td>0.397993</td>\n",
       "      <td>0.306416</td>\n",
       "      <td>0.989802</td>\n",
       "      <td>0.014643</td>\n",
       "    </tr>\n",
       "    <tr>\n",
       "      <th>10</th>\n",
       "      <td>0.8</td>\n",
       "      <td>0.400000</td>\n",
       "      <td>0.8</td>\n",
       "      <td>0.400000</td>\n",
       "      <td>0.228514</td>\n",
       "      <td>0.315009</td>\n",
       "      <td>0.771880</td>\n",
       "      <td>0.301751</td>\n",
       "    </tr>\n",
       "    <tr>\n",
       "      <th>11</th>\n",
       "      <td>0.6</td>\n",
       "      <td>0.489898</td>\n",
       "      <td>1.0</td>\n",
       "      <td>0.000000</td>\n",
       "      <td>0.397340</td>\n",
       "      <td>0.282990</td>\n",
       "      <td>0.829411</td>\n",
       "      <td>0.157742</td>\n",
       "    </tr>\n",
       "    <tr>\n",
       "      <th>12</th>\n",
       "      <td>0.8</td>\n",
       "      <td>0.400000</td>\n",
       "      <td>1.0</td>\n",
       "      <td>0.000000</td>\n",
       "      <td>0.297654</td>\n",
       "      <td>0.343674</td>\n",
       "      <td>0.823900</td>\n",
       "      <td>0.158059</td>\n",
       "    </tr>\n",
       "    <tr>\n",
       "      <th>13</th>\n",
       "      <td>1.0</td>\n",
       "      <td>0.000000</td>\n",
       "      <td>0.9</td>\n",
       "      <td>0.300000</td>\n",
       "      <td>0.143162</td>\n",
       "      <td>0.152519</td>\n",
       "      <td>0.895379</td>\n",
       "      <td>0.211798</td>\n",
       "    </tr>\n",
       "    <tr>\n",
       "      <th>14</th>\n",
       "      <td>1.0</td>\n",
       "      <td>0.000000</td>\n",
       "      <td>0.5</td>\n",
       "      <td>0.500000</td>\n",
       "      <td>0.055124</td>\n",
       "      <td>0.071542</td>\n",
       "      <td>0.602797</td>\n",
       "      <td>0.334410</td>\n",
       "    </tr>\n",
       "    <tr>\n",
       "      <th>15</th>\n",
       "      <td>0.7</td>\n",
       "      <td>0.458258</td>\n",
       "      <td>0.8</td>\n",
       "      <td>0.400000</td>\n",
       "      <td>0.296792</td>\n",
       "      <td>0.301473</td>\n",
       "      <td>0.837552</td>\n",
       "      <td>0.278512</td>\n",
       "    </tr>\n",
       "    <tr>\n",
       "      <th>16</th>\n",
       "      <td>0.7</td>\n",
       "      <td>0.458258</td>\n",
       "      <td>1.0</td>\n",
       "      <td>0.000000</td>\n",
       "      <td>0.343247</td>\n",
       "      <td>0.335494</td>\n",
       "      <td>0.980586</td>\n",
       "      <td>0.015936</td>\n",
       "    </tr>\n",
       "    <tr>\n",
       "      <th>17</th>\n",
       "      <td>1.0</td>\n",
       "      <td>0.000000</td>\n",
       "      <td>0.9</td>\n",
       "      <td>0.300000</td>\n",
       "      <td>0.049225</td>\n",
       "      <td>0.059865</td>\n",
       "      <td>0.850965</td>\n",
       "      <td>0.157663</td>\n",
       "    </tr>\n",
       "    <tr>\n",
       "      <th>18</th>\n",
       "      <td>0.8</td>\n",
       "      <td>0.400000</td>\n",
       "      <td>1.0</td>\n",
       "      <td>0.000000</td>\n",
       "      <td>0.188376</td>\n",
       "      <td>0.310882</td>\n",
       "      <td>0.986738</td>\n",
       "      <td>0.021611</td>\n",
       "    </tr>\n",
       "  </tbody>\n",
       "</table>\n",
       "</div>"
      ],
      "text/plain": [
       "    mean_control_accuracy  std_control_accuracy  mean_treat_accuracy  \\\n",
       "0                     0.6              0.489898                  0.4   \n",
       "1                     0.1              0.300000                  1.0   \n",
       "2                     0.4              0.489898                  0.7   \n",
       "3                     0.9              0.300000                  0.3   \n",
       "4                     0.9              0.300000                  0.3   \n",
       "5                     0.7              0.458258                  0.6   \n",
       "6                     0.8              0.400000                  0.9   \n",
       "7                     1.0              0.000000                  0.8   \n",
       "8                     0.6              0.489898                  0.7   \n",
       "9                     0.7              0.458258                  1.0   \n",
       "10                    0.8              0.400000                  0.8   \n",
       "11                    0.6              0.489898                  1.0   \n",
       "12                    0.8              0.400000                  1.0   \n",
       "13                    1.0              0.000000                  0.9   \n",
       "14                    1.0              0.000000                  0.5   \n",
       "15                    0.7              0.458258                  0.8   \n",
       "16                    0.7              0.458258                  1.0   \n",
       "17                    1.0              0.000000                  0.9   \n",
       "18                    0.8              0.400000                  1.0   \n",
       "\n",
       "    std_treat_accuracy  mean_pred_score_control  std_pred_score_control  \\\n",
       "0             0.489898                 0.392564                0.385677   \n",
       "1             0.000000                 0.722624                0.191698   \n",
       "2             0.458258                 0.543045                0.198318   \n",
       "3             0.458258                 0.213512                0.131968   \n",
       "4             0.458258                 0.187630                0.155302   \n",
       "5             0.489898                 0.324578                0.361401   \n",
       "6             0.300000                 0.343598                0.340132   \n",
       "7             0.400000                 0.134028                0.126734   \n",
       "8             0.458258                 0.386999                0.428574   \n",
       "9             0.000000                 0.397993                0.306416   \n",
       "10            0.400000                 0.228514                0.315009   \n",
       "11            0.000000                 0.397340                0.282990   \n",
       "12            0.000000                 0.297654                0.343674   \n",
       "13            0.300000                 0.143162                0.152519   \n",
       "14            0.500000                 0.055124                0.071542   \n",
       "15            0.400000                 0.296792                0.301473   \n",
       "16            0.000000                 0.343247                0.335494   \n",
       "17            0.300000                 0.049225                0.059865   \n",
       "18            0.000000                 0.188376                0.310882   \n",
       "\n",
       "    mean_pred_score_treatment  std_pred_score_treatment  \n",
       "0                    0.393943                  0.422387  \n",
       "1                    0.814537                  0.104709  \n",
       "2                    0.673363                  0.171835  \n",
       "3                    0.393299                  0.203889  \n",
       "4                    0.295522                  0.244676  \n",
       "5                    0.679215                  0.287370  \n",
       "6                    0.728700                  0.192789  \n",
       "7                    0.733124                  0.210020  \n",
       "8                    0.691723                  0.349524  \n",
       "9                    0.989802                  0.014643  \n",
       "10                   0.771880                  0.301751  \n",
       "11                   0.829411                  0.157742  \n",
       "12                   0.823900                  0.158059  \n",
       "13                   0.895379                  0.211798  \n",
       "14                   0.602797                  0.334410  \n",
       "15                   0.837552                  0.278512  \n",
       "16                   0.980586                  0.015936  \n",
       "17                   0.850965                  0.157663  \n",
       "18                   0.986738                  0.021611  "
      ]
     },
     "execution_count": 26,
     "metadata": {},
     "output_type": "execute_result"
    }
   ],
   "source": [
    "sf_results"
   ]
  },
  {
   "cell_type": "code",
   "execution_count": 38,
   "metadata": {},
   "outputs": [],
   "source": [
    "import torch\n",
    "import torch.nn.functional as F"
   ]
  },
  {
   "cell_type": "code",
   "execution_count": 11,
   "metadata": {},
   "outputs": [
    {
     "ename": "AttributeError",
     "evalue": "module 'torch' has no attribute 'unsequeeze'",
     "output_type": "error",
     "traceback": [
      "\u001b[0;31m---------------------------------------------------------------------------\u001b[0m",
      "\u001b[0;31mAttributeError\u001b[0m                            Traceback (most recent call last)",
      "\u001b[0;32m<ipython-input-11-b5edd562a809>\u001b[0m in \u001b[0;36m<module>\u001b[0;34m\u001b[0m\n\u001b[0;32m----> 1\u001b[0;31m \u001b[0mx\u001b[0m \u001b[0;34m=\u001b[0m \u001b[0mtorch\u001b[0m\u001b[0;34m.\u001b[0m\u001b[0munsequeeze\u001b[0m\u001b[0;34m(\u001b[0m\u001b[0mtorch\u001b[0m\u001b[0;34m.\u001b[0m\u001b[0mrand\u001b[0m\u001b[0;34m(\u001b[0m\u001b[0;36m10\u001b[0m\u001b[0;34m,\u001b[0m\u001b[0;36m2\u001b[0m\u001b[0;34m)\u001b[0m\u001b[0;34m)\u001b[0m\u001b[0;34m\u001b[0m\u001b[0;34m\u001b[0m\u001b[0m\n\u001b[0m",
      "\u001b[0;31mAttributeError\u001b[0m: module 'torch' has no attribute 'unsequeeze'"
     ]
    }
   ],
   "source": [
    "x = torch.unsequeeze(torch.rand(10,2))"
   ]
  },
  {
   "cell_type": "code",
   "execution_count": 54,
   "metadata": {},
   "outputs": [],
   "source": [
    "x = torch.rand(4,10,481)"
   ]
  },
  {
   "cell_type": "code",
   "execution_count": 25,
   "metadata": {},
   "outputs": [],
   "source": [
    "model = profile_AttSet(481)"
   ]
  },
  {
   "cell_type": "code",
   "execution_count": 27,
   "metadata": {},
   "outputs": [
    {
     "data": {
      "text/plain": [
       "(tensor([[0.5026]], grad_fn=<SigmoidBackward>), tensor([[1.]]))"
      ]
     },
     "execution_count": 27,
     "metadata": {},
     "output_type": "execute_result"
    }
   ],
   "source": [
    "model(x)"
   ]
  },
  {
   "cell_type": "code",
   "execution_count": 32,
   "metadata": {},
   "outputs": [],
   "source": [
    "a,b = model.forward(x)"
   ]
  },
  {
   "cell_type": "code",
   "execution_count": 41,
   "metadata": {},
   "outputs": [],
   "source": [
    "H = x.squeeze(0)\n",
    "H = H.view(-1, model.input_feature)\n",
    "H = model.feature_extractor_part2(H)  # NxL\n",
    "\n",
    "A = model.attention(H)  # NxK\n",
    "A = torch.transpose(A, 1, 0)  # KxN\n",
    "A = F.softmax(A, dim=1)  # softmax over N\n",
    "M = torch.mm(A, H)  # KxL\n",
    "\n",
    "Y_prob = model.classifier(M)\n",
    "Y_hat = torch.ge(Y_prob, model.thres).float()"
   ]
  },
  {
   "cell_type": "code",
   "execution_count": 63,
   "metadata": {},
   "outputs": [
    {
     "data": {
      "text/plain": [
       "torch.Size([10, 481])"
      ]
     },
     "execution_count": 63,
     "metadata": {},
     "output_type": "execute_result"
    }
   ],
   "source": [
    "H.shape"
   ]
  },
  {
   "cell_type": "code",
   "execution_count": 44,
   "metadata": {},
   "outputs": [
    {
     "data": {
      "text/plain": [
       "torch.Size([10, 481])"
      ]
     },
     "execution_count": 44,
     "metadata": {},
     "output_type": "execute_result"
    }
   ],
   "source": [
    "H.shape"
   ]
  },
  {
   "cell_type": "code",
   "execution_count": 15,
   "metadata": {},
   "outputs": [
    {
     "data": {
      "text/plain": [
       "(tensor([[0.4996],\n",
       "         [0.5000],\n",
       "         [0.4998],\n",
       "         [0.5001]], grad_fn=<SigmoidBackward>),\n",
       " tensor([[0],\n",
       "         [0],\n",
       "         [0],\n",
       "         [1]], dtype=torch.uint8))"
      ]
     },
     "execution_count": 15,
     "metadata": {},
     "output_type": "execute_result"
    }
   ],
   "source": [
    "SmallDeepSet()(x)"
   ]
  },
  {
   "cell_type": "code",
   "execution_count": 57,
   "metadata": {},
   "outputs": [
    {
     "data": {
      "text/plain": [
       "torch.Size([4, 10, 64])"
      ]
     },
     "execution_count": 57,
     "metadata": {},
     "output_type": "execute_result"
    }
   ],
   "source": [
    "nn.Linear(481, 64)(x).shape"
   ]
  },
  {
   "cell_type": "code",
   "execution_count": 58,
   "metadata": {},
   "outputs": [
    {
     "data": {
      "text/plain": [
       "torch.Size([4, 10, 64])"
      ]
     },
     "execution_count": 58,
     "metadata": {},
     "output_type": "execute_result"
    }
   ],
   "source": [
    "nn.Linear(481, 64)(x).shape"
   ]
  },
  {
   "cell_type": "code",
   "execution_count": 64,
   "metadata": {},
   "outputs": [
    {
     "data": {
      "text/plain": [
       "torch.Size([4, 10, 64])"
      ]
     },
     "execution_count": 64,
     "metadata": {},
     "output_type": "execute_result"
    }
   ],
   "source": [
    "nn.Linear(481, 64)(x).bmm(nn.Linear(481, 64)(x).transpose(1,2)).bmm(nn.Linear(481, 64)(x)).shape"
   ]
  },
  {
   "cell_type": "code",
   "execution_count": 61,
   "metadata": {},
   "outputs": [
    {
     "data": {
      "text/plain": [
       "torch.Size([4, 64, 10])"
      ]
     },
     "execution_count": 61,
     "metadata": {},
     "output_type": "execute_result"
    }
   ],
   "source": [
    "nn.Linear(481, 64)(x).transpose(1,2).shape"
   ]
  },
  {
   "cell_type": "code",
   "execution_count": null,
   "metadata": {},
   "outputs": [],
   "source": []
  },
  {
   "cell_type": "code",
   "execution_count": 45,
   "metadata": {},
   "outputs": [],
   "source": [
    "\n",
    "class MAB(nn.Module):\n",
    "    def __init__(self, dim_Q, dim_K, dim_V, num_heads, ln=False):\n",
    "        super(MAB, self).__init__()\n",
    "        self.dim_V = dim_V\n",
    "        self.num_heads = num_heads\n",
    "        self.fc_q = nn.Linear(dim_Q, dim_V)\n",
    "        self.fc_k = nn.Linear(dim_K, dim_V)\n",
    "        self.fc_v = nn.Linear(dim_K, dim_V)\n",
    "        if ln:\n",
    "            self.ln0 = nn.LayerNorm(dim_V)\n",
    "            self.ln1 = nn.LayerNorm(dim_V)\n",
    "        self.fc_o = nn.Linear(dim_V, dim_V)\n",
    "\n",
    "    def forward(self, Q, K):\n",
    "        Q = self.fc_q(Q)\n",
    "        K, V = self.fc_k(K), self.fc_v(K)\n",
    "\n",
    "        dim_split = self.dim_V // self.num_heads\n",
    "        Q_ = torch.cat(Q.split(dim_split, 2), 0)\n",
    "        K_ = torch.cat(K.split(dim_split, 2), 0)\n",
    "        V_ = torch.cat(V.split(dim_split, 2), 0)\n",
    "\n",
    "        A = torch.softmax(Q_.bmm(K_.transpose(1,2))/math.sqrt(self.dim_V), 2)\n",
    "        O = torch.cat((Q_ + A.bmm(V_)).split(Q.size(0), 0), 2)\n",
    "        O = O if getattr(self, 'ln0', None) is None else self.ln0(O)\n",
    "        O = O + F.relu(self.fc_o(O))\n",
    "        O = O if getattr(self, 'ln1', None) is None else self.ln1(O)\n",
    "        return O\n",
    "\n",
    "class SAB(nn.Module):\n",
    "    def __init__(self, dim_in, dim_out, num_heads, ln=False):\n",
    "        super(SAB, self).__init__()\n",
    "        self.mab = MAB(dim_in, dim_in, dim_out, num_heads, ln=ln)\n",
    "\n",
    "    def forward(self, X):\n",
    "        return self.mab(X, X)\n",
    "\n",
    "class ISAB(nn.Module):\n",
    "    def __init__(self, dim_in, dim_out, num_heads, num_inds, ln=False):\n",
    "        super(ISAB, self).__init__()\n",
    "        self.I = nn.Parameter(torch.Tensor(1, num_inds, dim_out))\n",
    "        nn.init.xavier_uniform_(self.I)\n",
    "        self.mab0 = MAB(dim_out, dim_in, dim_out, num_heads, ln=ln)\n",
    "        self.mab1 = MAB(dim_in, dim_out, dim_out, num_heads, ln=ln)\n",
    "\n",
    "    def forward(self, X):\n",
    "        H = self.mab0(self.I.repeat(X.size(0), 1, 1), X)\n",
    "        return self.mab1(X, H)\n",
    "\n",
    "class PMA(nn.Module):\n",
    "    def __init__(self, dim, num_heads, num_seeds, ln=False):\n",
    "        super(PMA, self).__init__()\n",
    "        self.S = nn.Parameter(torch.Tensor(1, num_seeds, dim))\n",
    "        nn.init.xavier_uniform_(self.S)\n",
    "        self.mab = MAB(dim, dim, dim, num_heads, ln=ln)\n",
    "\n",
    "    def forward(self, X):\n",
    "        return self.mab(self.S.repeat(X.size(0), 1, 1), X)"
   ]
  },
  {
   "cell_type": "code",
   "execution_count": 48,
   "metadata": {},
   "outputs": [],
   "source": [
    "\n",
    "class SmallSetTransformer(nn.Module):\n",
    "    def __init__(self,):\n",
    "        super().__init__()\n",
    "        self.enc = nn.Sequential(\n",
    "            SAB(dim_in=481, dim_out=64, num_heads=4),\n",
    "            SAB(dim_in=64, dim_out=64, num_heads=4),\n",
    "        )\n",
    "        self.dec = nn.Sequential(\n",
    "            PMA(dim=64, num_heads=4, num_seeds=1),\n",
    "            nn.Linear(in_features=64, out_features=1),\n",
    "        )\n",
    "\n",
    "    def forward(self, x):\n",
    "        x = self.enc(x)\n",
    "        x = self.dec(x)\n",
    "        return x.squeeze(-1)\n",
    "\n"
   ]
  },
  {
   "cell_type": "code",
   "execution_count": 67,
   "metadata": {},
   "outputs": [
    {
     "data": {
      "text/plain": [
       "torch.Size([4, 1, 64])"
      ]
     },
     "execution_count": 67,
     "metadata": {},
     "output_type": "execute_result"
    }
   ],
   "source": [
    "PMA(dim=64, num_heads=4, num_seeds=1)(SAB(dim_in=481, dim_out=64, num_heads=4)(x)).shape"
   ]
  },
  {
   "cell_type": "code",
   "execution_count": 69,
   "metadata": {},
   "outputs": [],
   "source": [
    "import random"
   ]
  },
  {
   "cell_type": "code",
   "execution_count": 70,
   "metadata": {},
   "outputs": [],
   "source": [
    "random.shuffle(x)"
   ]
  },
  {
   "cell_type": "code",
   "execution_count": 55,
   "metadata": {},
   "outputs": [
    {
     "data": {
      "text/plain": [
       "tensor([[-2.3909e-02],\n",
       "        [ 2.5366e-02],\n",
       "        [ 2.7236e-02],\n",
       "        [ 5.3927e-05]], grad_fn=<SqueezeBackward1>)"
      ]
     },
     "execution_count": 55,
     "metadata": {},
     "output_type": "execute_result"
    }
   ],
   "source": [
    "SmallSetTransformer()(x)"
   ]
  },
  {
   "cell_type": "code",
   "execution_count": 53,
   "metadata": {},
   "outputs": [
    {
     "data": {
      "text/plain": [
       "torch.Size([1, 10, 481])"
      ]
     },
     "execution_count": 53,
     "metadata": {},
     "output_type": "execute_result"
    }
   ],
   "source": [
    "x.shape"
   ]
  },
  {
   "cell_type": "code",
   "execution_count": null,
   "metadata": {},
   "outputs": [],
   "source": []
  }
 ],
 "metadata": {
  "kernelspec": {
   "display_name": "Python 3",
   "language": "python",
   "name": "python3"
  },
  "language_info": {
   "codemirror_mode": {
    "name": "ipython",
    "version": 3
   },
   "file_extension": ".py",
   "mimetype": "text/x-python",
   "name": "python",
   "nbconvert_exporter": "python",
   "pygments_lexer": "ipython3",
   "version": "3.7.6"
  }
 },
 "nbformat": 4,
 "nbformat_minor": 4
}

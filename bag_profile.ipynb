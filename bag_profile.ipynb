{
 "cells": [
  {
   "cell_type": "code",
   "execution_count": 1,
   "metadata": {},
   "outputs": [],
   "source": [
    "import matplotlib.pyplot as plt\n",
    "import numpy as np\n",
    "import pandas as pd\n",
    "\n",
    "from data_loader import data_label_split\n",
    "from data_loader import generate_data_set\n",
    "\n",
    "from sklearn.linear_model import LogisticRegression\n",
    "from sklearn.model_selection import cross_validate\n",
    "from sklearn.model_selection import StratifiedKFold\n",
    "from sklearn import datasets\n",
    "from sklearn.preprocessing import LabelEncoder\n",
    "from sklearn.metrics import confusion_matrix\n",
    "from sklearn.ensemble import RandomForestClassifier\n",
    "\n",
    "import torch\n",
    "import torch.utils.data as D \n",
    "import torch.nn as nn"
   ]
  },
  {
   "cell_type": "code",
   "execution_count": null,
   "metadata": {},
   "outputs": [],
   "source": [
    "drop_NA_data=pd.read_csv(\"moa_data_drop_NA.csv\", index_col=0)"
   ]
  },
  {
   "cell_type": "code",
   "execution_count": 4,
   "metadata": {},
   "outputs": [
    {
     "data": {
      "text/plain": [
       "DMSO     244072\n",
       "taxol     56763\n",
       "Name: compound, dtype: int64"
      ]
     },
     "execution_count": 4,
     "metadata": {},
     "output_type": "execute_result"
    }
   ],
   "source": [
    "drop_NA_data['compound'].value_counts()"
   ]
  },
  {
   "cell_type": "code",
   "execution_count": null,
   "metadata": {},
   "outputs": [],
   "source": [
    "# takes the df with \"compound\" columns\n",
    "class dmso_taxol_ProfileBag(D.Dataset):\n",
    "    def __init__(self, df, size, bag_mean_size, bag_std_size, perc, treatment, control):\n",
    "        self.df = df\n",
    "        self.size = size\n",
    "        self.bag_mean_size = bag_mean_size\n",
    "        self.bag_std_size = bag_std_size\n",
    "        self.perc = perc\n",
    "        self.treatment = treatment\n",
    "        self.control = control\n",
    "        self.bag_size = np.random.normal(bag_mean_size, bag_std_size, size).astype(int)\n",
    "        \n",
    "    def __getitem__(self, index):\n",
    "        treatment_data = self.df[self.df[\"compound\"] == self.treatment]\n",
    "        control_data = self.df[self.df[\"compound\"] == self.control]\n",
    "        treatment_size = (self.bag_size * self.perc).astype(int)\n",
    "        control_size = self.bag_size - treatment_size\n",
    "        \n",
    "        treatment_data\n",
    "        \n",
    "        _data = self.df[(self.df[\"TableNumber\"]==table) & (self.df[\"ImageNumber\"]==image)]\n",
    "        label = list(_data[[\"compound\",\"concentration\",\"moa\"]].reset_index(drop=True).iloc[0])\n",
    "        return torch.tensor(np.array(_data.drop([\"Image_Metadata_Compound\",\"Image_Metadata_Concentration\",\n",
    "                                         \"compound\",\"concentration\",\"moa\"], axis = 1))).float(), label\n",
    "        \n",
    "    def __len__(self):\n",
    "        return len(self.meta)"
   ]
  },
  {
   "cell_type": "code",
   "execution_count": null,
   "metadata": {},
   "outputs": [],
   "source": [
    "return bags with different size (mean, std) but same proportion (perc)"
   ]
  },
  {
   "cell_type": "code",
   "execution_count": null,
   "metadata": {},
   "outputs": [],
   "source": [
    "treatment_data = data[data[\"compound\"] == treatment]\n",
    "control_data = data[data[\"compound\"] == control]\n",
    "num_treat = int(size * perc)\n",
    "return treatment_data.sample(num_treat).append(control_data.sample(size - num_treat)).sample(frac = 1).reset_index(drop=True)"
   ]
  },
  {
   "cell_type": "code",
   "execution_count": 16,
   "metadata": {},
   "outputs": [],
   "source": [
    "bag_size = np.random.normal(5, 1, 10).astype(int)"
   ]
  },
  {
   "cell_type": "code",
   "execution_count": 20,
   "metadata": {},
   "outputs": [
    {
     "data": {
      "text/plain": [
       "array([3, 4, 3, 3, 4, 4, 3, 4, 3, 4])"
      ]
     },
     "execution_count": 20,
     "metadata": {},
     "output_type": "execute_result"
    }
   ],
   "source": [
    "bag_size-(bag_size*0.3).astype(int)"
   ]
  },
  {
   "cell_type": "code",
   "execution_count": null,
   "metadata": {},
   "outputs": [],
   "source": []
  }
 ],
 "metadata": {
  "kernelspec": {
   "display_name": "Python 3",
   "language": "python",
   "name": "python3"
  },
  "language_info": {
   "codemirror_mode": {
    "name": "ipython",
    "version": 3
   },
   "file_extension": ".py",
   "mimetype": "text/x-python",
   "name": "python",
   "nbconvert_exporter": "python",
   "pygments_lexer": "ipython3",
   "version": "3.7.6"
  }
 },
 "nbformat": 4,
 "nbformat_minor": 4
}

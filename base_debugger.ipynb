{
 "cells": [
  {
   "cell_type": "code",
   "execution_count": 1,
   "metadata": {},
   "outputs": [],
   "source": [
    "import matplotlib.pyplot as plt\n",
    "import numpy as np\n",
    "import pandas as pd\n",
    "\n",
    "from data_loader import data_label_split\n",
    "from data_loader import generate_data_set\n",
    "from data_loader import data_standardization\n",
    "\n",
    "from base_exp import mini_noise_signal_cv\n",
    "from base_exp import train\n",
    "from base_exp import multi_mini_noise_signal_cv\n",
    "\n",
    "from sklearn import datasets\n",
    "from sklearn.model_selection import cross_validate\n",
    "from sklearn.model_selection import StratifiedKFold\n",
    "from sklearn.preprocessing import LabelEncoder\n",
    "from sklearn.metrics import confusion_matrix\n",
    "\n",
    "from sklearn.linear_model import LogisticRegression\n",
    "from sklearn.ensemble import RandomForestClassifier\n",
    "from sklearn.neural_network import MLPClassifier\n",
    "from sklearn.neighbors import KNeighborsClassifier\n",
    "from sklearn.svm import SVC\n",
    "from sklearn.gaussian_process import GaussianProcessClassifier\n",
    "from sklearn.gaussian_process.kernels import RBF"
   ]
  },
  {
   "cell_type": "code",
   "execution_count": 2,
   "metadata": {},
   "outputs": [],
   "source": [
    "mini_data=pd.read_csv(\"mini_moa_data_drop_NA.csv\", index_col=0)"
   ]
  },
  {
   "cell_type": "code",
   "execution_count": 3,
   "metadata": {},
   "outputs": [],
   "source": [
    "drop_NA_data=pd.read_csv(\"moa_data_drop_NA.csv\", index_col=0)"
   ]
  },
  {
   "cell_type": "code",
   "execution_count": 4,
   "metadata": {},
   "outputs": [],
   "source": [
    "week1_data = pd.read_csv(\"week1_full_data.csv\", index_col=0)"
   ]
  },
  {
   "cell_type": "markdown",
   "metadata": {},
   "source": [
    "# RF"
   ]
  },
  {
   "cell_type": "code",
   "execution_count": 3,
   "metadata": {},
   "outputs": [],
   "source": [
    "rfc = RandomForestClassifier(min_samples_split=50, random_state=0) #MLPClassifier(alpha=1, max_iter=10000)#LogisticRegression(max_iter = 10000, solver = \"saga\", n_jobs = -1)"
   ]
  },
  {
   "cell_type": "code",
   "execution_count": 4,
   "metadata": {},
   "outputs": [
    {
     "name": "stderr",
     "output_type": "stream",
     "text": [
      "K fold CV: 10it [00:05,  1.84it/s]\n",
      "K fold CV: 9it [00:04,  1.85it/s]]\n",
      "K fold CV: 10it [00:05,  1.78it/s]\n",
      "K fold CV: 10it [00:05,  1.94it/s]\n",
      "K fold CV: 10it [00:05,  1.79it/s]\n",
      "K fold CV: 10it [00:05,  1.86it/s]\n",
      "K fold CV: 10it [00:05,  1.79it/s]\n",
      "K fold CV: 10it [00:05,  1.93it/s]\n",
      "\n",
      "K fold CV: 10it [00:04,  2.15it/s]\n",
      "K fold CV: 10it [00:05,  1.82it/s]\n",
      "K fold CV: 10it [00:05,  1.89it/s]\n",
      "K fold CV: 10it [00:05,  1.88it/s]\n",
      "K fold CV: 10it [00:05,  1.93it/s]\n",
      "K fold CV: 10it [00:05,  1.95it/s]\n",
      "\n",
      "K fold CV: 10it [00:04,  2.06it/s]\n",
      "K fold CV: 10it [00:04,  2.03it/s]\n",
      "K fold CV: 10it [00:05,  1.97it/s]\n"
     ]
    },
    {
     "data": {
      "text/plain": [
       "{0.05: [0.59,\n",
       "  0.15132745950421556,\n",
       "  0.4861597993623576,\n",
       "  0.04837763511903609,\n",
       "  0.4998609297021398,\n",
       "  0.05321344092939143],\n",
       " 0.1: [0.51,\n",
       "  0.16401219466856723,\n",
       "  0.4967266523801148,\n",
       "  0.043045203973045655,\n",
       "  0.49854911050085293,\n",
       "  0.04576589340778915],\n",
       " 0.15: [0.52,\n",
       "  0.15362291495737215,\n",
       "  0.48611192190085684,\n",
       "  0.050020159016508615,\n",
       "  0.5001866352560932,\n",
       "  0.06553360369830664],\n",
       " 0.2: [0.58,\n",
       "  0.12489995996796796,\n",
       "  0.48310282264699816,\n",
       "  0.06285538868675643,\n",
       "  0.5174637750275795,\n",
       "  0.06970846595144056],\n",
       " 0.25: [0.5599999999999998,\n",
       "  0.20591260281974,\n",
       "  0.47909554828401396,\n",
       "  0.0744424347694898,\n",
       "  0.5142178059494165,\n",
       "  0.08623632941218733],\n",
       " 0.3: [0.6299999999999999,\n",
       "  0.11874342087037916,\n",
       "  0.4741803094216527,\n",
       "  0.08399331101718975,\n",
       "  0.5304740785295468,\n",
       "  0.11391011302552566],\n",
       " 0.35: [0.6699999999999999,\n",
       "  0.11874342087037917,\n",
       "  0.46245434208871106,\n",
       "  0.07520978974809382,\n",
       "  0.5352694758305714,\n",
       "  0.1134829628975435],\n",
       " 0.4: [0.6699999999999999,\n",
       "  0.09000000000000001,\n",
       "  0.44996348277551,\n",
       "  0.08380199315115548,\n",
       "  0.5614735897539834,\n",
       "  0.1399438363475673],\n",
       " 0.45: [0.6799999999999999,\n",
       "  0.09797958971132714,\n",
       "  0.42439173675591985,\n",
       "  0.11612769816561594,\n",
       "  0.5592487805129839,\n",
       "  0.17647504474591408],\n",
       " 0.5: [0.71,\n",
       "  0.13747727084867523,\n",
       "  0.4025072105227471,\n",
       "  0.1445265671127532,\n",
       "  0.5830623385300673,\n",
       "  0.20879225290973807],\n",
       " 0.55: [0.73,\n",
       "  0.14177446878757827,\n",
       "  0.39370997320069795,\n",
       "  0.13199478993418493,\n",
       "  0.5825778209867926,\n",
       "  0.21451762838729896],\n",
       " 0.6: [0.71,\n",
       "  0.12206555615733705,\n",
       "  0.39331504165867304,\n",
       "  0.11274874288466823,\n",
       "  0.5927696529775252,\n",
       "  0.2112073203488029],\n",
       " 0.65: [0.79,\n",
       "  0.14456832294800964,\n",
       "  0.3598464749461754,\n",
       "  0.11154975928398629,\n",
       "  0.6220185583265008,\n",
       "  0.22058392942459898],\n",
       " 0.7: [0.78,\n",
       "  0.12489995996796797,\n",
       "  0.3540709372183369,\n",
       "  0.1381673860743728,\n",
       "  0.6308659471562713,\n",
       "  0.24718700796176968],\n",
       " 0.75: [0.8099999999999999,\n",
       "  0.14456832294800961,\n",
       "  0.2987146808359446,\n",
       "  0.14099623574590975,\n",
       "  0.6640460957917922,\n",
       "  0.26366555888406623],\n",
       " 0.8: [0.82,\n",
       "  0.1077032961426901,\n",
       "  0.3221825863771743,\n",
       "  0.11578682861880307,\n",
       "  0.6461451576965223,\n",
       "  0.2312824038735172],\n",
       " 0.85: [0.8200000000000001,\n",
       "  0.1077032961426901,\n",
       "  0.296052373978498,\n",
       "  0.116770470077207,\n",
       "  0.6681771544829801,\n",
       "  0.25158734547977435],\n",
       " 0.9: [0.82,\n",
       "  0.08717797887081348,\n",
       "  0.2576544671204536,\n",
       "  0.1324827311885058,\n",
       "  0.6895230434913565,\n",
       "  0.24336946373156473],\n",
       " 0.95: [0.8300000000000001,\n",
       "  0.13453624047073712,\n",
       "  0.2442069522531225,\n",
       "  0.16277367805844498,\n",
       "  0.7167351502189955,\n",
       "  0.2219071392500606]}"
      ]
     },
     "execution_count": 4,
     "metadata": {},
     "output_type": "execute_result"
    }
   ],
   "source": [
    "# full features\n",
    "# train(10000, week1_data, rfc, 0)\n",
    "multi_mini_noise_signal_cv(100, mini_data, \"taxol\", \"DMSO\", rfc, 10, 0, 0.5)"
   ]
  },
  {
   "cell_type": "code",
   "execution_count": null,
   "metadata": {},
   "outputs": [],
   "source": [
    "# single feature\n",
    "sf_drop_NA_data = drop_NA_data[[\"compound\", \"concentration\",\n",
    "                                \"moa\", \"row ID\", \"Iteration (#2)\", \"COND\",\n",
    "                               \"AreaShape_Area_Nuclei\"]]\n"
   ]
  },
  {
   "cell_type": "code",
   "execution_count": null,
   "metadata": {},
   "outputs": [],
   "source": [
    "train(10000, sf_drop_NA_data, rfc, 0)"
   ]
  },
  {
   "cell_type": "code",
   "execution_count": 4,
   "metadata": {},
   "outputs": [],
   "source": [
    "result = mini_noise_signal_cv(500, mini_data, \"taxol\", \"DMSO\", clf, 10, 0)\n",
    "(mean_mean_accuracy, std_mean_accuracy,\n",
    "mean_pred_score_control, std_pred_score_control,\n",
    "mean_pred_score_treatment, std_pred_score_treatment) = result\n",
    "\n",
    "mean_accuracy = np.array(mean_mean_accuracy)\n",
    "std_accuracy = np.array(std_mean_accuracy)\n",
    "mean_pred_score_control = np.array(mean_pred_score_control)\n",
    "std_pred_score_control = np.array(std_pred_score_control)\n",
    "mean_pred_score_treatment = np.array(mean_pred_score_treatment)\n",
    "std_pred_score_treatment = np.array(std_pred_score_treatment)\n",
    "z_score = 1-3*(std_pred_score_control+std_pred_score_treatment)/(np.abs(mean_pred_score_control-mean_pred_score_treatment))"
   ]
  },
  {
   "cell_type": "code",
   "execution_count": null,
   "metadata": {},
   "outputs": [
    {
     "name": "stderr",
     "output_type": "stream",
     "text": [
      "  0%|          | 0/19 [00:00<?, ?it/s]/root/miniconda3/lib/python3.7/site-packages/sklearn/gaussian_process/_gpc.py:432: RuntimeWarning: overflow encountered in exp\n",
      "  - np.log(np.diag(L)).sum()\n"
     ]
    }
   ],
   "source": [
    "classifiers = [\n",
    "#     KNeighborsClassifier(30),\n",
    "#     SVC(kernel=\"linear\", C=0.025, probability = True),\n",
    "    GaussianProcessClassifier(1.0 * RBF(1.0)),\n",
    "    MLPClassifier(alpha=1, max_iter=1000),]\n",
    "\n",
    "for model in classifiers:\n",
    "    train(10000, sf_drop_NA_data, model, 0)"
   ]
  },
  {
   "cell_type": "code",
   "execution_count": 5,
   "metadata": {},
   "outputs": [],
   "source": [
    "perc, size, splits, data, model, control, treatment, verbose = 5/100, 100, 3, mini_data,rfc, 'DMSO', \"taxol\", 0"
   ]
  },
  {
   "cell_type": "code",
   "execution_count": 10,
   "metadata": {},
   "outputs": [],
   "source": [
    "from sklearn.preprocessing import StandardScaler"
   ]
  },
  {
   "cell_type": "code",
   "execution_count": 14,
   "metadata": {
    "collapsed": true,
    "jupyter": {
     "outputs_hidden": true
    }
   },
   "outputs": [
    {
     "name": "stdout",
     "output_type": "stream",
     "text": [
      "    ImageNumber_Nuclei  ObjectNumber_Nuclei  AreaShape_Area_Nuclei  \\\n",
      "31                8443                  297                    715   \n",
      "34                6043                  211                    926   \n",
      "35                9844                   24                   1002   \n",
      "37                2963                   28                    977   \n",
      "38                5563                  175                    772   \n",
      "..                 ...                  ...                    ...   \n",
      "95                 323                   89                    742   \n",
      "96                6397                  120                   1224   \n",
      "97                7637                  142                    643   \n",
      "98                7441                  162                    508   \n",
      "99                1638                  102                    646   \n",
      "\n",
      "    AreaShape_Center_X_Nuclei  AreaShape_Center_Y_Nuclei  \\\n",
      "31                      769.0                      807.0   \n",
      "34                       29.0                      780.0   \n",
      "35                      935.0                      263.0   \n",
      "37                      347.0                       91.0   \n",
      "38                      684.0                      746.0   \n",
      "..                        ...                        ...   \n",
      "95                     1241.0                      429.0   \n",
      "96                      604.0                      514.0   \n",
      "97                     1164.0                      689.0   \n",
      "98                      158.0                      996.0   \n",
      "99                      596.0                      284.0   \n",
      "\n",
      "    AreaShape_Center_Z_Nuclei  AreaShape_Compactness_Nuclei  \\\n",
      "31                        1.0                      1.084707   \n",
      "34                        1.0                      1.008652   \n",
      "35                        1.0                      1.053194   \n",
      "37                        1.0                      1.047160   \n",
      "38                        1.0                      1.060348   \n",
      "..                        ...                           ...   \n",
      "95                        1.0                      1.015378   \n",
      "96                        1.0                      1.003753   \n",
      "97                        1.0                      1.010321   \n",
      "98                        1.0                      1.025217   \n",
      "99                        1.0                      1.076303   \n",
      "\n",
      "    AreaShape_Eccentricity_Nuclei  AreaShape_EulerNumber_Nuclei  \\\n",
      "31                       0.742579                           1.0   \n",
      "34                       0.389482                           1.0   \n",
      "35                       0.686313                           1.0   \n",
      "37                       0.658506                           1.0   \n",
      "38                       0.704384                           1.0   \n",
      "..                            ...                           ...   \n",
      "95                       0.478031                           1.0   \n",
      "96                       0.369079                           1.0   \n",
      "97                       0.480293                           1.0   \n",
      "98                       0.593036                           1.0   \n",
      "99                       0.726175                           1.0   \n",
      "\n",
      "    AreaShape_Extent_Nuclei  ...  Texture_SumEntropy_Actin_5_02_Cells  \\\n",
      "31                 0.725152  ...                             3.116167   \n",
      "34                 0.756536  ...                             4.654458   \n",
      "35                 0.740576  ...                             5.053635   \n",
      "37                 0.754440  ...                             4.286625   \n",
      "38                 0.731061  ...                             4.306586   \n",
      "..                      ...  ...                                  ...   \n",
      "95                 0.747984  ...                             4.125737   \n",
      "96                 0.804734  ...                             4.115524   \n",
      "97                 0.793827  ...                             4.575374   \n",
      "98                 0.818035  ...                             4.843138   \n",
      "99                 0.730769  ...                             5.951502   \n",
      "\n",
      "    Texture_SumEntropy_Actin_5_03_Cells  Texture_SumVariance_Actin_5_00_Cells  \\\n",
      "31                             2.948845                              4.697268   \n",
      "34                             4.636727                             49.286996   \n",
      "35                             5.036112                             79.283668   \n",
      "37                             4.209730                             37.973872   \n",
      "38                             4.178290                             23.814766   \n",
      "..                                  ...                                   ...   \n",
      "95                             4.132568                             20.745983   \n",
      "96                             4.027497                             18.373834   \n",
      "97                             4.523434                             87.906286   \n",
      "98                             4.831942                             65.337875   \n",
      "99                             5.840819                            271.466774   \n",
      "\n",
      "    Texture_SumVariance_Actin_5_01_Cells  \\\n",
      "31                              4.549815   \n",
      "34                             45.577918   \n",
      "35                             60.157753   \n",
      "37                             37.835507   \n",
      "38                             25.941579   \n",
      "..                                   ...   \n",
      "95                             17.676609   \n",
      "96                             16.370344   \n",
      "97                             75.400000   \n",
      "98                             54.630023   \n",
      "99                            255.259460   \n",
      "\n",
      "    Texture_SumVariance_Actin_5_02_Cells  \\\n",
      "31                              4.754202   \n",
      "34                             45.933683   \n",
      "35                             71.401175   \n",
      "37                             37.351118   \n",
      "38                             25.839231   \n",
      "..                                   ...   \n",
      "95                             19.733828   \n",
      "96                             19.688999   \n",
      "97                             67.898545   \n",
      "98                             56.340778   \n",
      "99                            259.688008   \n",
      "\n",
      "    Texture_SumVariance_Actin_5_03_Cells  Texture_Variance_Actin_5_00_Cells  \\\n",
      "31                              3.656189                           1.582745   \n",
      "34                             45.359540                          13.941922   \n",
      "35                             72.978311                          23.738059   \n",
      "37                             32.039435                          10.555431   \n",
      "38                             22.139484                           8.114959   \n",
      "..                                   ...                                ...   \n",
      "95                             19.951584                           5.858465   \n",
      "96                             17.025878                           6.279309   \n",
      "97                             62.943763                          27.005487   \n",
      "98                             55.400462                          20.679498   \n",
      "99                            231.276069                          81.002014   \n",
      "\n",
      "    Texture_Variance_Actin_5_01_Cells  Texture_Variance_Actin_5_02_Cells  \\\n",
      "31                           1.646118                           1.620060   \n",
      "34                          13.337562                          13.248320   \n",
      "35                          23.152694                          23.015197   \n",
      "37                          10.777719                          10.355589   \n",
      "38                           8.199559                           8.131017   \n",
      "..                                ...                                ...   \n",
      "95                           5.730038                           5.800298   \n",
      "96                           6.274548                           6.573150   \n",
      "97                          24.842097                          23.069072   \n",
      "98                          21.071680                          20.531028   \n",
      "99                          84.660415                          84.530550   \n",
      "\n",
      "    Texture_Variance_Actin_5_03_Cells  \n",
      "31                           1.545531  \n",
      "34                          13.530815  \n",
      "35                          22.931765  \n",
      "37                           9.827541  \n",
      "38                           8.371184  \n",
      "..                                ...  \n",
      "95                           5.939006  \n",
      "96                           6.190482  \n",
      "97                          22.828745  \n",
      "98                          19.817549  \n",
      "99                          84.299446  \n",
      "\n",
      "[66 rows x 481 columns]\n",
      "    ImageNumber_Nuclei  ObjectNumber_Nuclei  AreaShape_Area_Nuclei  \\\n",
      "31            1.251402             2.405723              -0.779275   \n",
      "34            0.470333             1.280475               0.090152   \n",
      "35            1.707351            -1.166285               0.403310   \n",
      "37           -0.532039            -1.113948               0.300297   \n",
      "38            0.314119             0.809441              -0.544406   \n",
      "..                 ...                  ...                    ...   \n",
      "95           -1.391215            -0.315807              -0.668021   \n",
      "96            0.585541             0.089806               1.318061   \n",
      "97            0.989093             0.377660              -1.075951   \n",
      "98            0.925306             0.639345              -1.632219   \n",
      "99           -0.963255            -0.145711              -1.063589   \n",
      "\n",
      "    AreaShape_Center_X_Nuclei  AreaShape_Center_Y_Nuclei  \\\n",
      "31                   0.250012                   1.084497   \n",
      "34                  -1.840128                   0.982595   \n",
      "35                   0.718881                  -0.968642   \n",
      "37                  -0.941932                  -1.617797   \n",
      "38                   0.009929                   0.854274   \n",
      "..                        ...                        ...   \n",
      "95                   1.583183                  -0.342133   \n",
      "96                  -0.216032                  -0.021330   \n",
      "97                   1.365695                   0.639147   \n",
      "98                  -1.475765                   1.797812   \n",
      "99                  -0.238629                  -0.889385   \n",
      "\n",
      "    AreaShape_Center_Z_Nuclei  AreaShape_Compactness_Nuclei  \\\n",
      "31                        0.0                      0.946002   \n",
      "34                        0.0                     -1.011946   \n",
      "35                        0.0                      0.134731   \n",
      "37                        0.0                     -0.020599   \n",
      "38                        0.0                      0.318915   \n",
      "..                        ...                           ...   \n",
      "95                        0.0                     -0.838794   \n",
      "96                        0.0                     -1.138052   \n",
      "97                        0.0                     -0.968972   \n",
      "98                        0.0                     -0.585499   \n",
      "99                        0.0                      0.729642   \n",
      "\n",
      "    AreaShape_Eccentricity_Nuclei  AreaShape_EulerNumber_Nuclei  \\\n",
      "31                       1.090572                           0.0   \n",
      "34                      -2.009626                           0.0   \n",
      "35                       0.596555                           0.0   \n",
      "37                       0.352409                           0.0   \n",
      "38                       0.755219                           0.0   \n",
      "..                            ...                           ...   \n",
      "95                      -1.232164                           0.0   \n",
      "96                      -2.188769                           0.0   \n",
      "97                      -1.212308                           0.0   \n",
      "98                      -0.222424                           0.0   \n",
      "99                       0.946540                           0.0   \n",
      "\n",
      "    AreaShape_Extent_Nuclei  ...  Texture_SumEntropy_Actin_5_02_Cells  \\\n",
      "31                -0.776156  ...                            -1.749363   \n",
      "34                 0.000230  ...                             0.133627   \n",
      "35                -0.394582  ...                             0.622251   \n",
      "37                -0.051617  ...                            -0.316629   \n",
      "38                -0.629990  ...                            -0.292196   \n",
      "..                      ...  ...                                  ...   \n",
      "95                -0.211335  ...                            -0.513569   \n",
      "96                 1.192566  ...                            -0.526071   \n",
      "97                 0.922755  ...                             0.036822   \n",
      "98                 1.521629  ...                             0.364587   \n",
      "99                -0.637198  ...                             1.721312   \n",
      "\n",
      "    Texture_SumEntropy_Actin_5_03_Cells  Texture_SumVariance_Actin_5_00_Cells  \\\n",
      "31                            -1.872619                             -0.912993   \n",
      "34                             0.197720                             -0.318969   \n",
      "35                             0.687602                              0.080646   \n",
      "37                            -0.326030                             -0.469683   \n",
      "38                            -0.364594                             -0.658310   \n",
      "..                                  ...                                   ...   \n",
      "95                            -0.420676                             -0.699192   \n",
      "96                            -0.549555                             -0.730794   \n",
      "97                             0.058756                              0.195516   \n",
      "98                             0.437169                             -0.105140   \n",
      "99                             1.674648                              2.640907   \n",
      "\n",
      "    Texture_SumVariance_Actin_5_01_Cells  \\\n",
      "31                             -0.870866   \n",
      "34                             -0.301033   \n",
      "35                             -0.098536   \n",
      "37                             -0.408566   \n",
      "38                             -0.573759   \n",
      "..                                   ...   \n",
      "95                             -0.688550   \n",
      "96                             -0.706692   \n",
      "97                              0.113161   \n",
      "98                             -0.175310   \n",
      "99                              2.611199   \n",
      "\n",
      "    Texture_SumVariance_Actin_5_02_Cells  \\\n",
      "31                             -0.925162   \n",
      "34                             -0.370837   \n",
      "35                             -0.028014   \n",
      "37                             -0.486369   \n",
      "38                             -0.641332   \n",
      "..                                   ...   \n",
      "95                             -0.723518   \n",
      "96                             -0.724122   \n",
      "97                             -0.075164   \n",
      "98                             -0.230745   \n",
      "99                              2.506551   \n",
      "\n",
      "    Texture_SumVariance_Actin_5_03_Cells  Texture_Variance_Actin_5_00_Cells  \\\n",
      "31                             -0.933871                          -0.949673   \n",
      "34                             -0.309116                          -0.378113   \n",
      "35                              0.104639                           0.074918   \n",
      "37                             -0.508664                          -0.534724   \n",
      "38                             -0.656974                          -0.647585   \n",
      "..                                   ...                                ...   \n",
      "95                             -0.689751                          -0.751939   \n",
      "96                             -0.733581                          -0.732477   \n",
      "97                             -0.045688                           0.226023   \n",
      "98                             -0.158694                          -0.066528   \n",
      "99                              2.476088                           2.723138   \n",
      "\n",
      "    Texture_Variance_Actin_5_01_Cells  Texture_Variance_Actin_5_02_Cells  \\\n",
      "31                          -0.928153                          -0.940273   \n",
      "34                          -0.397528                          -0.412958   \n",
      "35                           0.047940                           0.029947   \n",
      "37                          -0.513708                          -0.544137   \n",
      "38                          -0.630720                          -0.645016   \n",
      "..                                ...                                ...   \n",
      "95                          -0.742801                          -0.750709   \n",
      "96                          -0.718088                          -0.715662   \n",
      "97                           0.124614                           0.032391   \n",
      "98                          -0.046509                          -0.082704   \n",
      "99                           2.839514                           2.819529   \n",
      "\n",
      "    Texture_Variance_Actin_5_03_Cells  \n",
      "31                          -0.943771  \n",
      "34                          -0.387663  \n",
      "35                           0.048534  \n",
      "37                          -0.559492  \n",
      "38                          -0.627066  \n",
      "..                                ...  \n",
      "95                          -0.739917  \n",
      "96                          -0.728248  \n",
      "97                           0.043754  \n",
      "98                          -0.095963  \n",
      "99                           2.895947  \n",
      "\n",
      "[66 rows x 481 columns]\n"
     ]
    }
   ],
   "source": [
    "mini_batch = generate_data_set(size, perc, data, treatment, control)\n",
    "X, y = data_label_split(mini_batch)\n",
    "y = y[\"compound\"]\n",
    "\n",
    "skf = StratifiedKFold(n_splits = splits)\n",
    "pred_score_control = np.array([])\n",
    "pred_score_treatment = np.array([])\n",
    "mean_accuracy = []\n",
    "\n",
    "\n",
    "for i, (train_index, test_index) in enumerate(skf.split(X, y)):\n",
    "    if verbose != 0:\n",
    "        print(\"Fold %d\" % i, \"TRAIN:\", train_index , \"TEST:\", test_index)\n",
    "    X_train, X_test = X.iloc[train_index],X.iloc[test_index]\n",
    "    y_train, y_test = y.iloc[train_index], y.iloc[test_index]\n",
    "    print(X_train)\n",
    "    print(pd.DataFrame(StandardScaler().fit_transform(X_train), columns = X_train.columns, index = X_train.index))\n",
    "    break\n",
    "\n",
    "    X_train, X_test = data_standardization(X_train), data_standardization(X_test)#pandas.DataFrame(StandardScaler().fit_transform(data), columns = data.columns)\n",
    "    lgs = model.fit(X_train, y_train)\n",
    "    pred_score_control = np.append(pred_score_control, lgs.predict_proba(X_test[y_test==\"DMSO\"])[:,1])\n",
    "    pred_score_treatment = np.append(pred_score_treatment, lgs.predict_proba(X_test[y_test==\"taxol\"])[:,1])\n",
    "    mean_accuracy.append(lgs.score(X_test, y_test))"
   ]
  },
  {
   "cell_type": "code",
   "execution_count": 112,
   "metadata": {},
   "outputs": [
    {
     "data": {
      "text/plain": [
       "Text(0.5, 0, 'percent of taxol')"
      ]
     },
     "execution_count": 112,
     "metadata": {},
     "output_type": "execute_result"
    },
    {
     "data": {
      "image/png": "[encoded data removed]",
      "text/plain": [
       "<Figure size 576x576 with 2 Axes>"
      ]
     },
     "metadata": {
      "needs_background": "light"
     },
     "output_type": "display_data"
    }
   ],
   "source": [
    "fig, ax = plt.subplots(2, sharex=True, sharey=True,figsize=(8, 8))\n",
    "l1 = ax[0].plot([i/100 for i in range(5,96,5)], n_acc, color = 'b', label = \"Logistic Regression\")\n",
    "l2 = ax[0].plot([i/100 for i in range(5,96,5)], n_, color = 'r', label = \"Random Forest\")\n",
    "ax[0].legend()\n",
    "ax[0].title.set_text(\"Taxol accuracy\")\n",
    "ax[0].set_xlabel('percent of taxol')\n",
    "l3 = ax[1].plot([i/100 for i in range(5,96,5)], p_acc, color = 'b',label = \"Logistic Regression\")\n",
    "l4 = ax[1].plot([i/100 for i in range(5,96,5)], p_, color = 'r',label = \"Logistic Regression\")\n",
    "ax[1].legend()\n",
    "ax[1].title.set_text(\"DMSO accuracy\")\n",
    "ax[1].set_xlabel('percent of taxol')"
   ]
  },
  {
   "cell_type": "code",
   "execution_count": 57,
   "metadata": {},
   "outputs": [],
   "source": [
    "acc_gp_7 = plt.imread(\"./results/Accuracy_GaussianProcessClassifier_sample10000_feature7.png\")\n",
    "acc_knn_7 = plt.imread(\"./results/Accuracy_KNeighborsClassifier_sample10000_feature513.png\")"
   ]
  },
  {
   "cell_type": "code",
   "execution_count": 29,
   "metadata": {},
   "outputs": [],
   "source": [
    "import os"
   ]
  },
  {
   "cell_type": "code",
   "execution_count": 59,
   "metadata": {},
   "outputs": [
    {
     "data": {
      "text/plain": [
       "(288, 432, 4)"
      ]
     },
     "execution_count": 59,
     "metadata": {},
     "output_type": "execute_result"
    }
   ],
   "source": [
    "acc_gp_7.shape"
   ]
  },
  {
   "cell_type": "code",
   "execution_count": 63,
   "metadata": {},
   "outputs": [
    {
     "data": {
      "text/plain": [
       "60.949999999999996"
      ]
     },
     "execution_count": 63,
     "metadata": {},
     "output_type": "execute_result"
    }
   ],
   "source": [
    "12.19*5"
   ]
  },
  {
   "cell_type": "code",
   "execution_count": 62,
   "metadata": {},
   "outputs": [
    {
     "name": "stdout",
     "output_type": "stream",
     "text": [
      "(288, 432, 4)\n",
      "(480, 640, 4)\n",
      "(480, 640, 4)\n",
      "(288, 432, 4)\n",
      "(288, 432, 4)\n",
      "(288, 432, 4)\n",
      "(288, 432, 4)\n",
      "(288, 432, 4)\n",
      "(288, 432, 4)\n",
      "(480, 640, 4)\n",
      "(480, 640, 4)\n",
      "(288, 432, 4)\n",
      "(288, 432, 4)\n",
      "(288, 432, 4)\n",
      "(288, 432, 4)\n",
      "(288, 432, 4)\n"
     ]
    }
   ],
   "source": [
    "for i in os.listdir(\"./results\"):\n",
    "    if \".png\" in i:\n",
    "        print(plt.imread(\"./results/\"+i).shape)"
   ]
  },
  {
   "cell_type": "code",
   "execution_count": 58,
   "metadata": {},
   "outputs": [
    {
     "ename": "ValueError",
     "evalue": "all the input array dimensions for the concatenation axis must match exactly, but along dimension 1, the array at index 0 has size 432 and the array at index 1 has size 640",
     "output_type": "error",
     "traceback": [
      "\u001b[0;31m---------------------------------------------------------------------------\u001b[0m",
      "\u001b[0;31mValueError\u001b[0m                                Traceback (most recent call last)",
      "\u001b[0;32m<ipython-input-58-bcdec3a2329a>\u001b[0m in \u001b[0;36m<module>\u001b[0;34m\u001b[0m\n\u001b[0;32m----> 1\u001b[0;31m \u001b[0mnp\u001b[0m\u001b[0;34m.\u001b[0m\u001b[0mvstack\u001b[0m\u001b[0;34m(\u001b[0m\u001b[0;34m(\u001b[0m\u001b[0macc_gp_7\u001b[0m\u001b[0;34m,\u001b[0m\u001b[0macc_knn_7\u001b[0m\u001b[0;34m)\u001b[0m\u001b[0;34m)\u001b[0m\u001b[0;34m.\u001b[0m\u001b[0mshape\u001b[0m\u001b[0;34m\u001b[0m\u001b[0;34m\u001b[0m\u001b[0m\n\u001b[0m",
      "\u001b[0;32m<__array_function__ internals>\u001b[0m in \u001b[0;36mvstack\u001b[0;34m(*args, **kwargs)\u001b[0m\n",
      "\u001b[0;32m~/miniconda3/lib/python3.7/site-packages/numpy/core/shape_base.py\u001b[0m in \u001b[0;36mvstack\u001b[0;34m(tup)\u001b[0m\n\u001b[1;32m    281\u001b[0m     \u001b[0;32mif\u001b[0m \u001b[0;32mnot\u001b[0m \u001b[0misinstance\u001b[0m\u001b[0;34m(\u001b[0m\u001b[0marrs\u001b[0m\u001b[0;34m,\u001b[0m \u001b[0mlist\u001b[0m\u001b[0;34m)\u001b[0m\u001b[0;34m:\u001b[0m\u001b[0;34m\u001b[0m\u001b[0;34m\u001b[0m\u001b[0m\n\u001b[1;32m    282\u001b[0m         \u001b[0marrs\u001b[0m \u001b[0;34m=\u001b[0m \u001b[0;34m[\u001b[0m\u001b[0marrs\u001b[0m\u001b[0;34m]\u001b[0m\u001b[0;34m\u001b[0m\u001b[0;34m\u001b[0m\u001b[0m\n\u001b[0;32m--> 283\u001b[0;31m     \u001b[0;32mreturn\u001b[0m \u001b[0m_nx\u001b[0m\u001b[0;34m.\u001b[0m\u001b[0mconcatenate\u001b[0m\u001b[0;34m(\u001b[0m\u001b[0marrs\u001b[0m\u001b[0;34m,\u001b[0m \u001b[0;36m0\u001b[0m\u001b[0;34m)\u001b[0m\u001b[0;34m\u001b[0m\u001b[0;34m\u001b[0m\u001b[0m\n\u001b[0m\u001b[1;32m    284\u001b[0m \u001b[0;34m\u001b[0m\u001b[0m\n\u001b[1;32m    285\u001b[0m \u001b[0;34m\u001b[0m\u001b[0m\n",
      "\u001b[0;32m<__array_function__ internals>\u001b[0m in \u001b[0;36mconcatenate\u001b[0;34m(*args, **kwargs)\u001b[0m\n",
      "\u001b[0;31mValueError\u001b[0m: all the input array dimensions for the concatenation axis must match exactly, but along dimension 1, the array at index 0 has size 432 and the array at index 1 has size 640"
     ]
    }
   ],
   "source": [
    "np.vstack((acc_gp_7,acc_knn_7)).shape"
   ]
  },
  {
   "cell_type": "code",
   "execution_count": 56,
   "metadata": {},
   "outputs": [
    {
     "data": {
      "text/plain": [
       "(288, 432, 4)"
      ]
     },
     "execution_count": 56,
     "metadata": {},
     "output_type": "execute_result"
    }
   ],
   "source": [
    "acc_gp_7.shape"
   ]
  },
  {
   "cell_type": "code",
   "execution_count": 26,
   "metadata": {},
   "outputs": [
    {
     "data": {
      "text/plain": [
       "0.9723695571728136"
      ]
     },
     "execution_count": 26,
     "metadata": {},
     "output_type": "execute_result"
    }
   ],
   "source": [
    "from sklearn.datasets import load_breast_cancer\n",
    "from sklearn.linear_model import LogisticRegression\n",
    "from sklearn.model_selection import train_test_split\n",
    "from sklearn.preprocessing import StandardScaler\n",
    "from sklearn.preprocessing import normalize\n",
    "from sklearn.preprocessing import *\n",
    "from sklearn import metrics\n",
    "from sklearn.neural_network import MLPClassifier\n",
    "\n",
    "cancer = load_breast_cancer()\n",
    "X = cancer.data[:,0:2] # Only use two of the features\n",
    "# X[:,1] = X[:,1]*10000 # Scaling\n",
    "y = cancer.target\n",
    "X_train, X_test, y_train, y_test = train_test_split(normalize(X,axis=0), y, test_size=0.33, random_state=42)\n",
    "\n",
    "log_reg =MLPClassifier(solver='lbfgs')#LogisticRegression()#RandomForestClassifier()\n",
    "log_reg.fit(X_train, y_train)\n",
    "\n",
    "fpr, tpr, _ = metrics.roc_curve(y_test, log_reg.predict_proba(X_test)[:,1])\n",
    "auc = metrics.auc(fpr, tpr)\n",
    "auc"
   ]
  },
  {
   "cell_type": "code",
   "execution_count": 19,
   "metadata": {},
   "outputs": [
    {
     "data": {
      "text/plain": [
       "array([[0.86616154, 0.49976413],\n",
       "       [0.75673201, 0.65372522],\n",
       "       [0.67966955, 0.73351844],\n",
       "       ...,\n",
       "       [0.50889456, 0.86082886],\n",
       "       [0.57475368, 0.81832647],\n",
       "       [0.30150324, 0.95346515]])"
      ]
     },
     "execution_count": 19,
     "metadata": {},
     "output_type": "execute_result"
    }
   ],
   "source": [
    "normalize(X)"
   ]
  },
  {
   "cell_type": "code",
   "execution_count": 20,
   "metadata": {},
   "outputs": [
    {
     "data": {
      "text/plain": [
       "array([[0.52103744, 0.0226581 ],\n",
       "       [0.64314449, 0.27257355],\n",
       "       [0.60149557, 0.3902604 ],\n",
       "       ...,\n",
       "       [0.45525108, 0.62123774],\n",
       "       [0.64456434, 0.66351031],\n",
       "       [0.03686876, 0.50152181]])"
      ]
     },
     "execution_count": 20,
     "metadata": {},
     "output_type": "execute_result"
    }
   ],
   "source": [
    "MinMaxScaler().fit_transform(X)"
   ]
  },
  {
   "cell_type": "code",
   "execution_count": 18,
   "metadata": {},
   "outputs": [
    {
     "data": {
      "text/plain": [
       "array([[17.99, 10.38],\n",
       "       [20.57, 17.77],\n",
       "       [19.69, 21.25],\n",
       "       ...,\n",
       "       [16.6 , 28.08],\n",
       "       [20.6 , 29.33],\n",
       "       [ 7.76, 24.54]])"
      ]
     },
     "execution_count": 18,
     "metadata": {},
     "output_type": "execute_result"
    }
   ],
   "source": [
    "cancer.data[:,0:2]"
   ]
  },
  {
   "cell_type": "code",
   "execution_count": 57,
   "metadata": {},
   "outputs": [
    {
     "ename": "SyntaxError",
     "evalue": "invalid syntax (<ipython-input-57-48402c6d9903>, line 1)",
     "output_type": "error",
     "traceback": [
      "\u001b[0;36m  File \u001b[0;32m\"<ipython-input-57-48402c6d9903>\"\u001b[0;36m, line \u001b[0;32m1\u001b[0m\n\u001b[0;31m    for i in range(3)\u001b[0m\n\u001b[0m                     ^\u001b[0m\n\u001b[0;31mSyntaxError\u001b[0m\u001b[0;31m:\u001b[0m invalid syntax\n"
     ]
    }
   ],
   "source": [
    "for i in range(3)\n",
    "plt.figure(figsize=(12,12))\n",
    "plt.subplot(int(\"52%d\"%1))\n",
    "plt.imshow(acc_gp_7)\n",
    "plt.subplot(int(\"22%d\"%2))\n",
    "plt.imshow(acc_gp_7)"
   ]
  },
  {
   "cell_type": "code",
   "execution_count": null,
   "metadata": {},
   "outputs": [],
   "source": []
  },
  {
   "cell_type": "code",
   "execution_count": null,
   "metadata": {},
   "outputs": [],
   "source": []
  }
 ],
 "metadata": {
  "kernelspec": {
   "display_name": "Python 3",
   "language": "python",
   "name": "python3"
  },
  "language_info": {
   "codemirror_mode": {
    "name": "ipython",
    "version": 3
   },
   "file_extension": ".py",
   "mimetype": "text/x-python",
   "name": "python",
   "nbconvert_exporter": "python",
   "pygments_lexer": "ipython3",
   "version": "3.7.6"
  }
 },
 "nbformat": 4,
 "nbformat_minor": 4
}
